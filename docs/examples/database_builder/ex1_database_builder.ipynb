{
 "cells": [
  {
   "cell_type": "markdown",
   "id": "294d7e71",
   "metadata": {},
   "source": [
    "# 📘 Example: Database Builder"
   ]
  },
  {
   "cell_type": "markdown",
   "id": "bb431d9a",
   "metadata": {},
   "source": [
    "In this notebook we are going to create a complete **database** for our FloodAdapt model in Charleston, USA. \n",
    "To do so we use the in FloodAdapt integrated **Database builder**, which allows for a quick and easy database creation!\n",
    "We presume that you have already created a functioning [**Delft-FIAT**](https://github.com/Deltares/Delft-FIAT) and [**SFINCS model**](https://github.com/Deltares/SFINCS) and we\"ll go from there. \n",
    "\n",
    "To build a FloodAdapt database we need to set up the **configurations** for the **DatabaseBuilder**. The configuration file consists of:\n",
    "1. **Basic model parameters** to create a simple FloodAdapt database.\n",
    "2. **Advance model parameters** to create a more complex FloodAdapt database.\n",
    "\n",
    "The configuration file can be either created through the FloodAdapt objects or can we parsed as a simple dictionary.\n",
    "We advice you to work with the FloodAdapt classes, unless your database only has a few simple inputs. In this notebook we will demonstrate both options for a simple and an advanced FloodAdapt database."
   ]
  },
  {
   "cell_type": "markdown",
   "id": "97ce53f4",
   "metadata": {},
   "source": [
    "## Import libraries"
   ]
  },
  {
   "cell_type": "code",
   "execution_count": null,
   "id": "92656339",
   "metadata": {},
   "outputs": [],
   "source": [
    "# Import packages\n",
    "import geopandas as gpd\n",
    "import matplotlib.pyplot as plt\n",
    "import os\n",
    "from pathlib import Path\n",
    "from shapely.geometry import Polygon\n",
    "import toml\n",
    "\n",
    "import flood_adapt.adapter.fiat_adapter as fiat\n",
    "import flood_adapt.database_builder.database_builder as db\n",
    "from flood_adapt.objects.forcing.tide_gauge import TideGaugeSource\n",
    "from flood_adapt.objects.forcing.timeseries import Scstype\n",
    "from flood_adapt import unit_system as us\n",
    "%matplotlib inline"
   ]
  },
  {
   "cell_type": "markdown",
   "id": "9349eb11",
   "metadata": {},
   "source": [
    "## 🔍 **Step 1**. Explore the Delft-FIAT model"
   ]
  },
  {
   "cell_type": "markdown",
   "id": "617bf3b3",
   "metadata": {},
   "source": [
    "The study area is in **Charleston, USA**, a coastal city on the East Coast of the United States. \n",
    "So, let's first inspect the exposure data in the **Delft-FIAT model** to get an understanding of our study area.  \n",
    "\n",
    "We initiate the **FiatAdapter** in FloodAdapt with the model root of the Delft-FIAT model and explore the exposure data in the map."
   ]
  },
  {
   "cell_type": "code",
   "execution_count": null,
   "id": "aa7c1830",
   "metadata": {},
   "outputs": [],
   "source": [
    "# Initiate the FiatAdapter class from FloodAdapt and plot the Fiat model. \n",
    "# Set up the settings for the database\n",
    "# Define the static data folder\n",
    "STATIC_DATA_DIR = Path(\"../_data/examples/static-data/1_DBBuilder\").resolve()\n",
    "fn_fiat = Path(STATIC_DATA_DIR  / \"fiat\") \n",
    "fa = fiat.FiatAdapter(\n",
    "    model_root =  fn_fiat\n",
    "    )\n",
    "\n",
    "# Get the geodataframe with exposure data\n",
    "gdf = fa._model.exposure.get_full_gdf(fa._model.exposure.exposure_db)\n",
    "\n",
    "# Plot the region and the secondary_object_types of the exposure data\n",
    "m = gdf.explore(column=\"secondary_object_type\", name=\"Exposure types\")\n",
    "m"
   ]
  },
  {
   "cell_type": "markdown",
   "id": "e2750e9d",
   "metadata": {},
   "source": [
    "## 📄 **Step 2**: Build a **simple** FloodAdapt model"
   ]
  },
  {
   "cell_type": "markdown",
   "id": "19dc1ac9",
   "metadata": {},
   "source": [
    "In this step we will look at the basic model parameters to create a **simple** FloodAdapt model.  \n",
    "You can either create the configuration file manually with a dictionary or use the integrated classes in FloodAdapt for a more streamlined approach. \n",
    "We show you both options below."
   ]
  },
  {
   "cell_type": "markdown",
   "id": "4bc3afd0",
   "metadata": {},
   "source": [
    "### 📚 **Step 2a**: Build the configuration from the **Database Builder classes**"
   ]
  },
  {
   "cell_type": "markdown",
   "id": "fa85c9ac",
   "metadata": {},
   "source": [
    "To create the configuration object we need to initiate the `db.ConfigModel` object.\n",
    "After we define some general attributes we need to set the GUI parameters in the `gui` attribute. The `gui` attributs define how the output is visualized in the GUI. More importantly we need to point to the Delft-FIAT and SFINCS model by providing the path in form of a `str` to the `fiat` and `sfincs_overland` attributes, respectively.\n",
    "\n",
    "**Important!**  <span style=\"color:red;\">double check</span>\n",
    "The water level reference should be set to the reference of your DEM. You can create a reference system manually as shown below or fetch this information from a close-by tide gauge. This will be shown in the more advanced options. "
   ]
  },
  {
   "cell_type": "code",
   "execution_count": null,
   "id": "c220e596",
   "metadata": {},
   "outputs": [],
   "source": [
    "\n",
    "# Initiate the config_model for a simple FloodAdapt Database configuration file \n",
    "config_model = db.ConfigModel(\n",
    "    name=\"charleston_example3\",\n",
    "    database_path= str((STATIC_DATA_DIR /\"output\"/\"Database\").absolute()),\n",
    "    unit_system= db.UnitSystems.imperial,\n",
    "    gui=db.GuiConfigModel(\n",
    "        max_flood_depth=5,\n",
    "        max_aggr_dmg=1e6,\n",
    "        max_footprint_dmg=250000,\n",
    "        max_benefits=5e6,\n",
    "    ),\n",
    "    sfincs_overland=db.FloodModel(\n",
    "        name=str((STATIC_DATA_DIR  / \"sfincs\").absolute()),\n",
    "        reference=\"MSL\",\n",
    "    ),\n",
    "    fiat=str((STATIC_DATA_DIR / \"fiat\").absolute()),\n",
    ")"
   ]
  },
  {
   "cell_type": "markdown",
   "id": "48e32de2",
   "metadata": {},
   "source": [
    "### 📖 **Step 2b**: Create a configuration file from a **dictionary**\n",
    "We can create a simple dictionary with all the attributes and save it to a configuration file."
   ]
  },
  {
   "cell_type": "code",
   "execution_count": null,
   "id": "b905e34c",
   "metadata": {},
   "outputs": [],
   "source": [
    "# Create the configuration file for the database builder for a simple FloodAdapt database. \n",
    "# all paths should be provided with forward slashes (/)\n",
    "config = {\n",
    "\"name\": \"charleston_example1\",\n",
    "\"database_path\": \"Database\",\n",
    "\"sfincs_overland\" : { \n",
    "    \"name\":\"sfincs\",\n",
    "    \"reference\":\"MSL\"\n",
    "    },\n",
    "\"fiat\" : \"fiat\",\n",
    "\"unit_system\" :\"imperial\",\n",
    "\"gui\": {\n",
    "\"max_flood_depth\": 5,\n",
    "\"max_aggr_dmg\" : 10000000,\n",
    "\"max_footprint_dmg\": 250000,\n",
    "\"max_benefits\" : 50000000}\n",
    "}"
   ]
  },
  {
   "cell_type": "markdown",
   "id": "e447683b",
   "metadata": {},
   "source": [
    "When we work with a dictionary, we need to save the configuration file as a .toml-file, so that we can call it later when we run the Database Builder."
   ]
  },
  {
   "cell_type": "code",
   "execution_count": null,
   "id": "365c7fa2",
   "metadata": {},
   "outputs": [],
   "source": [
    "# Save the configuration file\n",
    "with open(STATIC_DATA_DIR /\"db_config.toml\", \"w\") as f:\n",
    "    toml.dump(config, f)"
   ]
  },
  {
   "cell_type": "markdown",
   "id": "c9912620",
   "metadata": {},
   "source": [
    "## 🏃‍♀️ **Step 3**: Run the Database Builder"
   ]
  },
  {
   "cell_type": "markdown",
   "id": "ed6f119f",
   "metadata": {},
   "source": [
    "We are ready to run the Database Builder with the configuration that we just created above. First we are going to run **Option 2a** - in which we generated the configuration using the FloodAdapt classes."
   ]
  },
  {
   "cell_type": "code",
   "execution_count": null,
   "id": "05988d0d",
   "metadata": {},
   "outputs": [],
   "source": [
    "# Run Option 2a -  DB-builder config from FloodAdapt classes\n",
    "db_build = db.DatabaseBuilder(config_model)\n",
    "db_build.build(overwrite= True)"
   ]
  },
  {
   "cell_type": "markdown",
   "id": "29e01db8",
   "metadata": {},
   "source": [
    "Here we are going to run **Option 2b** - in which we manually created a configuration file from a dictionary. "
   ]
  },
  {
   "cell_type": "code",
   "execution_count": null,
   "id": "8c7f8576",
   "metadata": {},
   "outputs": [],
   "source": [
    "# Run Option 2b -  DB-builder config from dictionary\n",
    "config_path = STATIC_DATA_DIR  / \"db_config.toml\"\n",
    "config = db.ConfigModel.read(config_path)\n",
    "dbs = db.DatabaseBuilder(config)\n",
    "dbs.build(overwrite = True)"
   ]
  },
  {
   "cell_type": "markdown",
   "id": "f6b348a2",
   "metadata": {},
   "source": [
    "Now you created two complete FloodAdapt Database. Both databases should be identical as we used the same inputs. You can open the databases in the GUI and explore them further or continue working with the database through the API. "
   ]
  },
  {
   "cell_type": "markdown",
   "id": "9f78f9c2",
   "metadata": {},
   "source": [
    "## 🗂️ **Step 4**. Build an **advanced** FloodAdapt model"
   ]
  },
  {
   "cell_type": "markdown",
   "id": "5684ec6a",
   "metadata": {},
   "source": [
    "In the previous step we created a simple FloodAdapt model. In this ex step we look at the more advanced configurations and will create a comprehensive FloodAdapt model. \n",
    "\n",
    "The configuration file consists of:\n",
    "1. **Basic model parameters** to create a simple FloodAdapt database.\n",
    "2. **Advance model parameters** to create a more complex FloodAdapt database.\n",
    "\n",
    "Additionally, to the basic model parameters (see step 2), you have the option for the following additions to create a more complex model:  \n",
    "- `probabilistic_set`: The file path to a probabilistic dataset\n",
    "- `infographics`: Include infographics in output. Boolean Tue/ False\n",
    "- `return_periods`: A list of return periods. Integers or Floats\n",
    "\n",
    "*Sfincs*\n",
    "\n",
    "- `sfincs_offshore`:  A dictinary of the offshore sfincs model with the entries: file path, reference system (eg. \"MSL\") \n",
    "- `dem`: A dictinary of DEM with the entries: file path, units\n",
    "- `excluded_datums`: A list of datums <span style=\"color:red;\">double check</span>\n",
    "- `scs`: A dictinary of the SCS (Soil Conservation Service) rainfall with the entries: file path, scs type\n",
    "- `tide_gauge`: A dictinary of tide gauges with the entries: source, max_distance(dict: values, units)\n",
    "- `cyclones`: Boolean (True/False)\n",
    "- `cyclone_basin`:  <span style=\"color:red;\">double check</span>\n",
    "- `obs_point`: A list of dictionaries with the entries: name, description, lat, lon\n",
    "\n",
    "*FIAT*\n",
    "\n",
    "- `aggregation_areas`: A list of dictionaries with the entries: name, file path, field_name. Aggregates the exposure into larger spatial groups o summarize impacts on larger scale. \n",
    "- `building_footprints`:  <span style=\"color:red;\">double check</span>\n",
    "- `fiat_buildings_name`: The name of the exposure type for buildings. Default is set to **\"buildings\"**\n",
    "- `fiat_roads_name`:  The name of the exposure type for roads. Default is set to **\"roads\"**\n",
    "- `bfe`: The base flood elevation model. A list of dictionaries with the entries: name, file path, field_name.\n",
    "- `svi`: The social vulnerability index. A dictionary with the entries: file path, field_name, threshold\n",
    "- `road_width`: The width of the road. Integer or Float\n",
    "\n",
    "*NOTE!* These parameers are **additional** to the basic parameters, so don\"t forge to add these to your configuration as well!"
   ]
  },
  {
   "cell_type": "markdown",
   "id": "608a12f7",
   "metadata": {},
   "source": [
    "### **Step 4a**. Create a configuration file from the Database Builder classes"
   ]
  },
  {
   "cell_type": "code",
   "execution_count": null,
   "id": "12cc6401",
   "metadata": {},
   "outputs": [],
   "source": []
  },
  {
   "cell_type": "code",
   "execution_count": null,
   "id": "dfe5832f",
   "metadata": {},
   "outputs": [],
   "source": [
    "config_model = db.ConfigModel(\n",
    "    name=\"charleston_example_advanced1\",\n",
    "    database_path= str((STATIC_DATA_DIR /\"Database\").absolute()),\n",
    "    unit_system= db.UnitSystems.imperial,\n",
    "    gui=db.GuiConfigModel(\n",
    "        max_flood_depth=5,\n",
    "        max_aggr_dmg=1e6,\n",
    "        max_footprint_dmg=250000,\n",
    "        max_benefits=5e6,\n",
    "    ),\n",
    "    infographics=True,\n",
    "    probabilistic_set=str(Path(STATIC_DATA_DIR  / \"test_set\")), #TODO fix final path\n",
    "    return_periods=[1, 2, 5, 10, 25, 50, 100],\n",
    "    sfincs_overland=db.FloodModel(\n",
    "        name=str((STATIC_DATA_DIR  / \"sfincs\").absolute()),\n",
    "        reference=\"MSL\",\n",
    "    ),\n",
    "    sfincs_offshore=db.FloodModel(\n",
    "        name=str(Path(STATIC_DATA_DIR / \"offshore\")),  #TODO fix final path\n",
    "        reference=\"MSL\",\n",
    "        vertical_offset=us.UnitfulLength(\n",
    "            value=0.33, units=us.UnitTypesLength.feet\n",
    "        )),\n",
    "    dem=db.DemModel(\n",
    "        filename=str(Path(STATIC_DATA_DIR / \"charleston_14m.tif\")),  #TODO fix final path\n",
    "        units=us.UnitTypesLength.meters,\n",
    "    ),\n",
    "    excluded_datums=[\"NAVD88\"],\n",
    "    #references=db.WaterlevelReferenceModel(\n",
    "    #    reference=\"MSL\",\n",
    "    #    datums=[\n",
    "    #        db.DatumModel(name=\"MSL\", height=us.UnitfulLength(value=0, units=us.UnitTypesLength.meters)),\n",
    "    #        db.DatumModel(name=\"NAVD88\", height=us.UnitfulLength(value=1, units=us.UnitTypesLength.meters))\n",
    "    #    ]\n",
    "    #),\n",
    "    slr_scenarios=db.SlrScenariosModel(\n",
    "        file=str(Path(STATIC_DATA_DIR  / \"slr.csv\")),\n",
    "        relative_to_year=2020,\n",
    "    ),\n",
    "    scs=db.SCSModel(\n",
    "        file=str(Path(STATIC_DATA_DIR / \"scs_rainfall.csv\")),\n",
    "        type=Scstype.type3,\n",
    "    ),\n",
    "    tide_gauge=db.TideGaugeConfigModel(\n",
    "        source=db.TideGaugeSource.noaa_coops,\n",
    "        max_distance=us.UnitfulLength(\n",
    "            value=100, units=us.UnitTypesLength.miles\n",
    "        ),\n",
    "    ),\n",
    "    cyclones=True,\n",
    "    cyclone_basin=db.Basins.NA,\n",
    "    obs_point=[\n",
    "        db.ObsPointModel(\n",
    "            name=\"ashley_river\",\n",
    "            description=\"Ashley River - James Island Expy\",\n",
    "            lat=32.7765,\n",
    "            lon=-79.9543,\n",
    "        ),\n",
    "        db.ObsPointModel(\n",
    "            name=8665530,\n",
    "            description=\"Charleston Cooper River Entrance\",\n",
    "            ID=8665530,\n",
    "            lat=32.78,\n",
    "            lon=-79.9233,\n",
    "        ),\n",
    "    ],\n",
    "    fiat=str(Path(STATIC_DATA_DIR / \"fiat\").absolute()),\n",
    "    #aggregation_areas=[\n",
    "    #db.SpatialJoinModel(\n",
    "    #    name=\"aggr_lvl_1\",\n",
    "    #    file=str(\n",
    "    #        Path(STATIC_DATA_DIR / aggr_lvl_1.geojson\")\n",
    "    #    ),\n",
    "    #    field_name=\"name\",\n",
    "    #),\n",
    "    #db.SpatialJoinModel(\n",
    "    #    name=\"aggr_lvl_2\",\n",
    "    #    file=str(Path(STATIC_DATA_DIR /aggr_lvl_2.geojson\")\n",
    "    #    ),\n",
    "    #    field_name=\"name\",\n",
    "    #),\n",
    "#],\n",
    "    building_footprints=db.FootprintsOptions.OSM,\n",
    "    fiat_buildings_name=\"buildings\",\n",
    "    fiat_roads_name=\"roads\",\n",
    "    bfe=db.SpatialJoinModel(\n",
    "        file=str(Path(STATIC_DATA_DIR / \"bfe.geojson\")),\n",
    "        name=\"bfe\",\n",
    "        field_name=\"bfe\",\n",
    "    ),\n",
    "    svi=db.SviConfigModel(\n",
    "        file=str(Path(STATIC_DATA_DIR / \"CDC_svi_2020.gpkg\")),\n",
    "        field_name=\"SVI\",\n",
    "        threshold=0.5,\n",
    "    ),\n",
    "    road_width=5,\n",
    "    )"
   ]
  },
  {
   "cell_type": "markdown",
   "id": "f1a860c7",
   "metadata": {},
   "source": [
    "### **Step 4b**. Create a configuration file from a dictionary"
   ]
  },
  {
   "cell_type": "code",
   "execution_count": null,
   "id": "86d1a4b9",
   "metadata": {},
   "outputs": [],
   "source": [
    "# Create the configuration file for the database builder for a simple FloodAdapt database. \n",
    "\n",
    "# all paths should be provided with forward slashes (/)\n",
    "config = {\"name\": \"charleston_example_advanced2\",\n",
    " \"database_path\": Path(STATIC_DATA_DIR / \"Database\"),\n",
    " \"unit_system\": \"imperial\",\n",
    " \"gui\": {\"max_flood_depth\": 5.0,\n",
    "  \"max_aggr_dmg\": 1000000.0,\n",
    "  \"max_footprint_dmg\": 250000.0,\n",
    "  \"max_benefits\": 5000000.0},\n",
    " \"infographics\": True,\n",
    " \"fiat\": Path(STATIC_DATA_DIR / \"fiat\"),\n",
    " #\"aggregation_areas\": [{\"name\": \"aggr_lvl_1\",\n",
    " #  \"file\": Path(STATIC_DATA_DIR / \"aggr_lvl_1.geojson\"),\n",
    " #  \"field_name\": \"name\"},\n",
    " # {\"name\": \"aggr_lvl_2\",\n",
    " #  \"file\": Path(STATIC_DATA_DIR / \"aggr_lvl_2.geojson\"),\n",
    " #  \"field_name\": \"name\"}],\n",
    " \"building_footprints\": \"OSM\",\n",
    " \"fiat_buildings_name\": \"buildings\",\n",
    " \"fiat_roads_name\": \"roads\",\n",
    " \"bfe\": {\"name\": \"bfe\",\n",
    "  \"file\": Path(STATIC_DATA_DIR / \"bfe.geojson\"),\n",
    "  \"field_name\": \"bfe\"},\n",
    " \"svi\": {\"name\": None,\n",
    "  \"file\": Path(STATIC_DATA_DIR / \"CDC_svi_2020.gpkg\"),\n",
    "  \"field_name\": \"SVI\",\n",
    "  \"threshold\": 0.5},\n",
    " \"road_width\": 5.0,\n",
    " \"return_periods\": [1, 2, 5, 10, 25, 50, 100],\n",
    " \"sfincs_overland\": {\"name\": Path(STATIC_DATA_DIR / \"sfincs\"),\n",
    "  \"reference\": \"MSL\",\n",
    "  \"vertical_offset\": None},\n",
    " \"sfincs_offshore\": {\"name\": Path(STATIC_DATA_DIR / \"offshore\"),\n",
    "  \"reference\": \"MSL\",\n",
    "  \"vertical_offset\": {\"value\": 0.33, \"units\":\"feet\"}},\n",
    " \"dem\": {\"filename\": Path(STATIC_DATA_DIR / \"charleston_14m.tif\"),\n",
    "  \"units\": \"meters\"},\n",
    " \"excluded_datums\": [\"NAVD88\"],\n",
    " \"slr_scenarios\": {\"file\": Path(STATIC_DATA_DIR / \"slr.csv\"),\n",
    "  \"relative_to_year\": 2020},\n",
    " \"scs\": {\"file\": Path(STATIC_DATA_DIR / \"scs_rainfall.csv\"),\n",
    "  \"type\": \"type_3\"},\n",
    " \"tide_gauge\": {\"source\":\"noaa_coops\",\n",
    "  \"description\": \"\",\n",
    "  \"max_distance\": {\"value\": 100.0, \"units\": \"miles\"}},\n",
    " \"cyclones\": True,\n",
    " \"cyclone_basin\": \"NA\",\n",
    " \"obs_point\": [{\"name\": \"ashley_river\",\n",
    "   \"description\": \"Ashley River - James Island Expy\",\n",
    "   \"lat\": 32.7765,\n",
    "   \"lon\": -79.9543},\n",
    "  {\"name\": 8665530,\n",
    "   \"description\": \"Charleston Cooper River Entrance\",\n",
    "   \"ID\": 8665530,\n",
    "   \"lat\": 32.78,\n",
    "   \"lon\": -79.9233}],\n",
    " \"probabilistic_set\": Path(STATIC_DATA_DIR / \"test_set\")}\n",
    "\n",
    "# Save the configuration file\n",
    "with open(Path(STATIC_DATA_DIR /\"output\"/\"db_config_advanced.toml\", \"w\")) as f:\n",
    "    toml.dump(config, f)"
   ]
  },
  {
   "cell_type": "markdown",
   "id": "06f7db67",
   "metadata": {},
   "source": [
    "## 🏃‍♀️ **Step 5**. Run the Database Builder"
   ]
  },
  {
   "cell_type": "markdown",
   "id": "102d30e2",
   "metadata": {},
   "source": [
    "We are ready to run the Database Builder with the configuration that we just created above. First we are going to run **Option 3a** - in which we generated the configuration using the FloodAdapt classes. After we are going to run **Option 3b** - in which we manually created a configuration file from a dictionary. "
   ]
  },
  {
   "cell_type": "code",
   "execution_count": null,
   "id": "5b946f2a",
   "metadata": {},
   "outputs": [],
   "source": [
    "# Run Option 2a -  DB-builder config from FloodAdapt classes\n",
    "db_build = db.DatabaseBuilder(config_model)\n",
    "db_build.build(overwrite= True)\n",
    "\n",
    "# Run Option 2b -  DB-builder config from dictionary\n",
    "config_path = Path(STATIC_DATA_DIR / \"output\" / \"db_config_advanced.toml\")\n",
    "config = db.ConfigModel.read(config_path)\n",
    "dbs = db.DatabaseBuilder(config)\n",
    "dbs.build(overwrite = True)"
   ]
  },
  {
   "cell_type": "markdown",
   "id": "c34537b5",
   "metadata": {},
   "source": [
    "Now you created a complete and advanced FloodAdapt Database. You can open the databases in the GUI and explore them further. \n",
    "\n",
    "<div>\n",
    "<img src=\"../_static/images/example_chaleston2.png\" width=\"900\"/>\n",
    "</div>\n",
    "\n",
    "## **Finished!**"
   ]
  }
 ],
 "metadata": {
  "kernelspec": {
   "display_name": "docs",
   "language": "python",
   "name": "python3"
  },
  "language_info": {
   "codemirror_mode": {
    "name": "ipython",
    "version": 3
   },
   "file_extension": ".py",
   "mimetype": "text/x-python",
   "name": "python",
   "nbconvert_exporter": "python",
   "pygments_lexer": "ipython3",
   "version": "3.11.12"
  }
 },
 "nbformat": 4,
 "nbformat_minor": 5
}
