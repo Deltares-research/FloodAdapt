{
 "cells": [
  {
   "cell_type": "markdown",
   "id": "0",
   "metadata": {},
   "source": [
    "# 📘 Example: Measures and Strategies"
   ]
  },
  {
   "cell_type": "markdown",
   "id": "1",
   "metadata": {},
   "source": [
    "In this notebook we will show you all the different options and inputs for creating different measures and how to create a strategy from the different measures. \n",
    "\n",
    "**Measures** in FloodAdapt can be categorized into **two** different categories, which we will cover all in this notebook:\n",
    "\n",
    "**1. Hazard** - Mitigate the hazard directly\n",
    "\n",
    "- Floodwall\n",
    "- Pump\n",
    "- Green Infrastructure\n",
    "\n",
    "**2. Impact**  - Mitiage the impacts of the hazard on the assets\n",
    "\n",
    "- Elevate properties \n",
    "- Buyout Properties\n",
    "- Floodproof Properties\n",
    "\n",
    "**Strategies** consist of multiple measures combined for example: ***StrategyXYZ* = *Floodwall + Elevated Homes + Pumps***\n",
    "\n",
    "If you want to learn in more detail about measures and what a strategy is, please read the sections on [**Measures**](../../4_user_guide/strategy/index.qmd)  in the FloodAdapt GUI documentation."
   ]
  },
  {
   "cell_type": "markdown",
   "id": "2",
   "metadata": {},
   "source": [
    "## Import libraries"
   ]
  },
  {
   "cell_type": "code",
   "execution_count": 1,
   "id": "3",
   "metadata": {},
   "outputs": [],
   "source": [
    "import pandas as pd\n",
    "from pathlib import Path\n",
    "\n",
    "from flood_adapt.flood_adapt import FloodAdapt\n",
    "from flood_adapt.objects.measures.measures import *\n",
    "from flood_adapt import Settings\n",
    "from flood_adapt.objects.strategies.strategies import Strategy\n",
    "from flood_adapt import unit_system as us"
   ]
  },
  {
   "cell_type": "markdown",
   "id": "4",
   "metadata": {},
   "source": [
    "## 🚀 **Step 1**. Reading-in the FloodAdapt database"
   ]
  },
  {
   "cell_type": "markdown",
   "id": "5",
   "metadata": {},
   "source": [
    "Let's start with initiating the database and FloodAdapt class. \n",
    "1. Initiate the database class [`Settings`](../../api_ref/Settings.qmd) by defining the `DATABASE_ROOT` and `DATABASE_NAME`.\n",
    "2. Initiate the [`FloodAdapt`](../../api_ref/FloodAdapt.qmd) class by parsing the `Settings().database_path`."
   ]
  },
  {
   "cell_type": "code",
   "execution_count": 2,
   "id": "6",
   "metadata": {},
   "outputs": [],
   "source": [
    "# Define the static data folder\n",
    "STATIC_DATA_DIR = Path(\"../../_data/examples/static-data/3_Measures\").resolve()\n",
    "\n",
    "# Set up the settings for the database\n",
    "Settings(\n",
    "    DATABASE_ROOT=Path(\"../../_data/examples\").resolve(),\n",
    "    DATABASE_NAME=\"charleston_test\"\n",
    ")\n",
    "\n",
    "# Create the FloodAdapt instance\n",
    "fa = FloodAdapt(Settings().database_path)"
   ]
  },
  {
   "cell_type": "markdown",
   "id": "7",
   "metadata": {},
   "source": [
    "## 🌧️ **Step 2**. Create Hazard Measures\n",
    "We can divide the hazard measures into: \n",
    "1. **Hydraulic** (grey) measures -  structures such as levees, pumps, seawalls that protect infrastructure and residents\n",
    "2. **Green infrastructure** measures - integrate natural elements like parks, green roofs, and permeable pavements into city\n",
    "\n",
    "To create a hazard measure in Floodadapt we need to create a [`Measure`](../../api_ref/Measure.qmd) object. In the attributes we define which type of measure we want to apply using the `type` attribute. Depending on the type of measure different attributes must be parsed. \n",
    "There are **three** types of hazard measures:\n",
    "1. [**Floodwall**](../../api_ref/objects/FloodWall.qmd) \n",
    "2. [**Pump**](../../api_ref/objects/Pump.qmd)\n",
    "3. [**Green Infrastructure**](../../api_ref/objects/GreenInfrastructure.qmd)\n",
    "    The green infrastructure class can be divided into **sub-categories**:  \n",
    "    - Greening \n",
    "    - Total storage\n",
    "    - Water square\n",
    "\n",
    "Below we will create a `Measure` object for each of the three **hazard measure**."
   ]
  },
  {
   "cell_type": "markdown",
   "id": "8",
   "metadata": {},
   "source": [
    "### 🧱🌊 **Floodwall**\n",
    "When we create a [`floodwall`](../../api_ref/objects/FloodWall.qmd) object we need to specify the `elevation` attribute to capture the height of the floodwall. To define the `elevation` we need to parse a [`UnitfulLength`]() object which consists of a `value` of type float and a `unit` which can be one of the [`UnitTypesLength`](../../api_ref/UnitTypesLength.qmd). The `selection_type` describes the spatial type. This should be of `SelectionType.polyline` for a floodwall. "
   ]
  },
  {
   "cell_type": "code",
   "execution_count": 3,
   "id": "9",
   "metadata": {},
   "outputs": [],
   "source": [
    "# Create a measure object for a Floodwall\n",
    "attrs_floodwall = FloodWall(\n",
    "        name= \"Seawall_12ft\",\n",
    "        description = \"12ft Seawall\",\n",
    "        type = MeasureType.floodwall,\n",
    "        selection_type = SelectionType.polyline,\n",
    "        polygon_file = str(STATIC_DATA_DIR / \"seawall.geojson\"),\n",
    "        elevation = us.UnitfulLength(value=12, units=us.UnitTypesLength.feet))"
   ]
  },
  {
   "cell_type": "markdown",
   "id": "10",
   "metadata": {},
   "source": [
    "### ⛽💦 **Pump**\n",
    "When we create a [`pump`](../../api_ref/objects/Pump.qmd) object we need to specify the `discharge` attribute to capture the total river discharge in the model. To define the `discharge` we need to parse a [`UnitfulLength`](../../api_ref/UnitfulLength.qmd) object which consists of a `value` of type float and a `unit` which can be one of the [`UnitTypesLength`](../../api_ref/UnitTypesLength.qmd). The `selection_type` describes the spatial type. This should be of `SelectionType.polygon` for a pump. "
   ]
  },
  {
   "cell_type": "code",
   "execution_count": 4,
   "id": "11",
   "metadata": {},
   "outputs": [],
   "source": [
    "# Create a measure object for a Pump\n",
    "attrs_pump = Pump(\n",
    "        name= \"Pump\",\n",
    "        description = \"Pump\",\n",
    "        type = MeasureType.pump,\n",
    "        selection_type = SelectionType.polygon,\n",
    "        polygon_file = str(STATIC_DATA_DIR / \"pump.geojson\"),\n",
    "        discharge = us.UnitfulDischarge(value=1, units=us.UnitTypesDischarge.cfs))"
   ]
  },
  {
   "cell_type": "markdown",
   "id": "12",
   "metadata": {},
   "source": [
    "### 🌱🖼️ **Green infrastructure**\n",
    "When we create a [`green infrastructure`](../../api_ref/objects/GreenInfrastructure.qmd) object we need to specify the `volume` attribute to capture the total storage of the green infrastructure. o define the `volume` we need to parse a [`UnitfulVolume`]() object which consists of a `value` of type float and a `unit` which can be one of the [`UnitTypesVolume`](../../api_ref/UnitTypesVolume.qmd). The `selection_type` describes the spatial type. This should be of `SelectionType.polygon` or `SelectionType.aggregation_area` for a green infrastructure. Other attributes like `height` and `percentage` are optional.  "
   ]
  },
  {
   "cell_type": "code",
   "execution_count": 5,
   "id": "13",
   "metadata": {},
   "outputs": [],
   "source": [
    "# Create a measure object for Green infrastructure\n",
    "attrs_greening = GreenInfrastructure(\n",
    "        name= \"green_infrastructure_storage\",\n",
    "        description = \"Storage through green infrastructure\",\n",
    "        type = MeasureType.greening,\n",
    "        selection_type = SelectionType.polygon,\n",
    "        polygon_file = str(STATIC_DATA_DIR / \"greening.geojson\"),\n",
    "        volume = us.UnitfulVolume(value = 43975190.31512848, units = us.UnitTypesVolume.cf),\n",
    "        height = us.UnitfulHeight(value = 3, units = us.UnitTypesLength.feet),\n",
    "        percent_area = 100.0)\n",
    "\n",
    "attrs_total_storage = GreenInfrastructure(\n",
    "        name=  \"total_storage_aggregation_area\",\n",
    "        description = \"Total Storage through green infrastructure in aggr area\",\n",
    "        type = MeasureType.total_storage,\n",
    "        selection_type = SelectionType.aggregation_area,\n",
    "        aggregation_area_type = \"aggr_lvl_2\",\n",
    "        aggregation_area_name = \"name5\",\n",
    "        volume = us.UnitfulVolume(value = 100000000.0, units = us.UnitTypesVolume.cf),\n",
    ")\n",
    "\n",
    "attrs_water_square = GreenInfrastructure(\n",
    "        name=  \"water_square\",\n",
    "        description = \"Water Square\",\n",
    "        type = MeasureType.water_square,\n",
    "        selection_type = SelectionType.polygon,\n",
    "        polygon_file = str(STATIC_DATA_DIR / \"water_square.geojson\"),\n",
    "        volume = us.UnitfulVolume(value =  43975190.31512848, units = us.UnitTypesVolume.cf),\n",
    "        height = us.UnitfulHeight(value = 3, units = us.UnitTypesLength.feet))  "
   ]
  },
  {
   "cell_type": "markdown",
   "id": "14",
   "metadata": {},
   "source": [
    "## 💾 **Step 3**. Saving the hazard measures to the database"
   ]
  },
  {
   "cell_type": "code",
   "execution_count": 6,
   "id": "15",
   "metadata": {},
   "outputs": [],
   "source": [
    "# Save the measures to the database\n",
    "fa.save_measure(attrs_floodwall)\n",
    "fa.save_measure(attrs_pump)\n",
    "fa.save_measure(attrs_greening)\n",
    "fa.save_measure(attrs_total_storage)\n",
    "fa.save_measure(attrs_water_square)"
   ]
  },
  {
   "cell_type": "markdown",
   "id": "16",
   "metadata": {},
   "source": [
    "Let's have a look at some of the measures. We can for example explore the floodwall. If yo want to explore another measure, uncomment the code and re-run the cell below."
   ]
  },
  {
   "cell_type": "code",
   "execution_count": 7,
   "id": "17",
   "metadata": {},
   "outputs": [
    {
     "ename": "DataSourceError",
     "evalue": "seawall.geojson: No such file or directory",
     "output_type": "error",
     "traceback": [
      "\u001b[31m---------------------------------------------------------------------------\u001b[39m",
      "\u001b[31mDataSourceError\u001b[39m                           Traceback (most recent call last)",
      "\u001b[36mCell\u001b[39m\u001b[36m \u001b[39m\u001b[32mIn[7]\u001b[39m\u001b[32m, line 1\u001b[39m\n\u001b[32m----> \u001b[39m\u001b[32m1\u001b[39m gdf= \u001b[43mgpd\u001b[49m\u001b[43m.\u001b[49m\u001b[43mread_file\u001b[49m\u001b[43m(\u001b[49m\u001b[43mPath\u001b[49m\u001b[43m(\u001b[49m\u001b[43mattrs_floodwall\u001b[49m\u001b[43m.\u001b[49m\u001b[43mpolygon_file\u001b[49m\u001b[43m)\u001b[49m\u001b[43m)\u001b[49m\n\u001b[32m      2\u001b[39m \u001b[38;5;66;03m#gdf = gpd.read_file(Path(attrs_pump.polygon_file))\u001b[39;00m\n\u001b[32m      3\u001b[39m \u001b[38;5;66;03m#gdf = gpd.read_file(Path(attrs_greening.polygon_file))\u001b[39;00m\n\u001b[32m      4\u001b[39m \u001b[38;5;66;03m#gdf = gpd.read_file(Path(attrs_water_square.polygon_file))\u001b[39;00m\n\u001b[32m      5\u001b[39m gdf.explore()\n",
      "\u001b[36mFile \u001b[39m\u001b[32mc:\\Users\\rautenba\\repos\\FloodAdapt\\.pixi\\envs\\docs\\Lib\\site-packages\\geopandas\\io\\file.py:294\u001b[39m, in \u001b[36m_read_file\u001b[39m\u001b[34m(filename, bbox, mask, columns, rows, engine, **kwargs)\u001b[39m\n\u001b[32m    291\u001b[39m             from_bytes = \u001b[38;5;28;01mTrue\u001b[39;00m\n\u001b[32m    293\u001b[39m \u001b[38;5;28;01mif\u001b[39;00m engine == \u001b[33m\"\u001b[39m\u001b[33mpyogrio\u001b[39m\u001b[33m\"\u001b[39m:\n\u001b[32m--> \u001b[39m\u001b[32m294\u001b[39m     \u001b[38;5;28;01mreturn\u001b[39;00m \u001b[43m_read_file_pyogrio\u001b[49m\u001b[43m(\u001b[49m\n\u001b[32m    295\u001b[39m \u001b[43m        \u001b[49m\u001b[43mfilename\u001b[49m\u001b[43m,\u001b[49m\u001b[43m \u001b[49m\u001b[43mbbox\u001b[49m\u001b[43m=\u001b[49m\u001b[43mbbox\u001b[49m\u001b[43m,\u001b[49m\u001b[43m \u001b[49m\u001b[43mmask\u001b[49m\u001b[43m=\u001b[49m\u001b[43mmask\u001b[49m\u001b[43m,\u001b[49m\u001b[43m \u001b[49m\u001b[43mcolumns\u001b[49m\u001b[43m=\u001b[49m\u001b[43mcolumns\u001b[49m\u001b[43m,\u001b[49m\u001b[43m \u001b[49m\u001b[43mrows\u001b[49m\u001b[43m=\u001b[49m\u001b[43mrows\u001b[49m\u001b[43m,\u001b[49m\u001b[43m \u001b[49m\u001b[43m*\u001b[49m\u001b[43m*\u001b[49m\u001b[43mkwargs\u001b[49m\n\u001b[32m    296\u001b[39m \u001b[43m    \u001b[49m\u001b[43m)\u001b[49m\n\u001b[32m    298\u001b[39m \u001b[38;5;28;01melif\u001b[39;00m engine == \u001b[33m\"\u001b[39m\u001b[33mfiona\u001b[39m\u001b[33m\"\u001b[39m:\n\u001b[32m    299\u001b[39m     \u001b[38;5;28;01mif\u001b[39;00m pd.api.types.is_file_like(filename):\n",
      "\u001b[36mFile \u001b[39m\u001b[32mc:\\Users\\rautenba\\repos\\FloodAdapt\\.pixi\\envs\\docs\\Lib\\site-packages\\geopandas\\io\\file.py:547\u001b[39m, in \u001b[36m_read_file_pyogrio\u001b[39m\u001b[34m(path_or_bytes, bbox, mask, rows, **kwargs)\u001b[39m\n\u001b[32m    538\u001b[39m     warnings.warn(\n\u001b[32m    539\u001b[39m         \u001b[33m\"\u001b[39m\u001b[33mThe \u001b[39m\u001b[33m'\u001b[39m\u001b[33minclude_fields\u001b[39m\u001b[33m'\u001b[39m\u001b[33m and \u001b[39m\u001b[33m'\u001b[39m\u001b[33mignore_fields\u001b[39m\u001b[33m'\u001b[39m\u001b[33m keywords are deprecated, and \u001b[39m\u001b[33m\"\u001b[39m\n\u001b[32m    540\u001b[39m         \u001b[33m\"\u001b[39m\u001b[33mwill be removed in a future release. You can use the \u001b[39m\u001b[33m'\u001b[39m\u001b[33mcolumns\u001b[39m\u001b[33m'\u001b[39m\u001b[33m keyword \u001b[39m\u001b[33m\"\u001b[39m\n\u001b[32m   (...)\u001b[39m\u001b[32m    543\u001b[39m         stacklevel=\u001b[32m3\u001b[39m,\n\u001b[32m    544\u001b[39m     )\n\u001b[32m    545\u001b[39m     kwargs[\u001b[33m\"\u001b[39m\u001b[33mcolumns\u001b[39m\u001b[33m\"\u001b[39m] = kwargs.pop(\u001b[33m\"\u001b[39m\u001b[33minclude_fields\u001b[39m\u001b[33m\"\u001b[39m)\n\u001b[32m--> \u001b[39m\u001b[32m547\u001b[39m \u001b[38;5;28;01mreturn\u001b[39;00m \u001b[43mpyogrio\u001b[49m\u001b[43m.\u001b[49m\u001b[43mread_dataframe\u001b[49m\u001b[43m(\u001b[49m\u001b[43mpath_or_bytes\u001b[49m\u001b[43m,\u001b[49m\u001b[43m \u001b[49m\u001b[43mbbox\u001b[49m\u001b[43m=\u001b[49m\u001b[43mbbox\u001b[49m\u001b[43m,\u001b[49m\u001b[43m \u001b[49m\u001b[43m*\u001b[49m\u001b[43m*\u001b[49m\u001b[43mkwargs\u001b[49m\u001b[43m)\u001b[49m\n",
      "\u001b[36mFile \u001b[39m\u001b[32mc:\\Users\\rautenba\\repos\\FloodAdapt\\.pixi\\envs\\docs\\Lib\\site-packages\\pyogrio\\geopandas.py:265\u001b[39m, in \u001b[36mread_dataframe\u001b[39m\u001b[34m(path_or_buffer, layer, encoding, columns, read_geometry, force_2d, skip_features, max_features, where, bbox, mask, fids, sql, sql_dialect, fid_as_index, use_arrow, on_invalid, arrow_to_pandas_kwargs, **kwargs)\u001b[39m\n\u001b[32m    260\u001b[39m \u001b[38;5;28;01mif\u001b[39;00m \u001b[38;5;129;01mnot\u001b[39;00m use_arrow:\n\u001b[32m    261\u001b[39m     \u001b[38;5;66;03m# For arrow, datetimes are read as is.\u001b[39;00m\n\u001b[32m    262\u001b[39m     \u001b[38;5;66;03m# For numpy IO, datetimes are read as string values to preserve timezone info\u001b[39;00m\n\u001b[32m    263\u001b[39m     \u001b[38;5;66;03m# as numpy does not directly support timezones.\u001b[39;00m\n\u001b[32m    264\u001b[39m     kwargs[\u001b[33m\"\u001b[39m\u001b[33mdatetime_as_string\u001b[39m\u001b[33m\"\u001b[39m] = \u001b[38;5;28;01mTrue\u001b[39;00m\n\u001b[32m--> \u001b[39m\u001b[32m265\u001b[39m result = \u001b[43mread_func\u001b[49m\u001b[43m(\u001b[49m\n\u001b[32m    266\u001b[39m \u001b[43m    \u001b[49m\u001b[43mpath_or_buffer\u001b[49m\u001b[43m,\u001b[49m\n\u001b[32m    267\u001b[39m \u001b[43m    \u001b[49m\u001b[43mlayer\u001b[49m\u001b[43m=\u001b[49m\u001b[43mlayer\u001b[49m\u001b[43m,\u001b[49m\n\u001b[32m    268\u001b[39m \u001b[43m    \u001b[49m\u001b[43mencoding\u001b[49m\u001b[43m=\u001b[49m\u001b[43mencoding\u001b[49m\u001b[43m,\u001b[49m\n\u001b[32m    269\u001b[39m \u001b[43m    \u001b[49m\u001b[43mcolumns\u001b[49m\u001b[43m=\u001b[49m\u001b[43mcolumns\u001b[49m\u001b[43m,\u001b[49m\n\u001b[32m    270\u001b[39m \u001b[43m    \u001b[49m\u001b[43mread_geometry\u001b[49m\u001b[43m=\u001b[49m\u001b[43mread_geometry\u001b[49m\u001b[43m,\u001b[49m\n\u001b[32m    271\u001b[39m \u001b[43m    \u001b[49m\u001b[43mforce_2d\u001b[49m\u001b[43m=\u001b[49m\u001b[43mgdal_force_2d\u001b[49m\u001b[43m,\u001b[49m\n\u001b[32m    272\u001b[39m \u001b[43m    \u001b[49m\u001b[43mskip_features\u001b[49m\u001b[43m=\u001b[49m\u001b[43mskip_features\u001b[49m\u001b[43m,\u001b[49m\n\u001b[32m    273\u001b[39m \u001b[43m    \u001b[49m\u001b[43mmax_features\u001b[49m\u001b[43m=\u001b[49m\u001b[43mmax_features\u001b[49m\u001b[43m,\u001b[49m\n\u001b[32m    274\u001b[39m \u001b[43m    \u001b[49m\u001b[43mwhere\u001b[49m\u001b[43m=\u001b[49m\u001b[43mwhere\u001b[49m\u001b[43m,\u001b[49m\n\u001b[32m    275\u001b[39m \u001b[43m    \u001b[49m\u001b[43mbbox\u001b[49m\u001b[43m=\u001b[49m\u001b[43mbbox\u001b[49m\u001b[43m,\u001b[49m\n\u001b[32m    276\u001b[39m \u001b[43m    \u001b[49m\u001b[43mmask\u001b[49m\u001b[43m=\u001b[49m\u001b[43mmask\u001b[49m\u001b[43m,\u001b[49m\n\u001b[32m    277\u001b[39m \u001b[43m    \u001b[49m\u001b[43mfids\u001b[49m\u001b[43m=\u001b[49m\u001b[43mfids\u001b[49m\u001b[43m,\u001b[49m\n\u001b[32m    278\u001b[39m \u001b[43m    \u001b[49m\u001b[43msql\u001b[49m\u001b[43m=\u001b[49m\u001b[43msql\u001b[49m\u001b[43m,\u001b[49m\n\u001b[32m    279\u001b[39m \u001b[43m    \u001b[49m\u001b[43msql_dialect\u001b[49m\u001b[43m=\u001b[49m\u001b[43msql_dialect\u001b[49m\u001b[43m,\u001b[49m\n\u001b[32m    280\u001b[39m \u001b[43m    \u001b[49m\u001b[43mreturn_fids\u001b[49m\u001b[43m=\u001b[49m\u001b[43mfid_as_index\u001b[49m\u001b[43m,\u001b[49m\n\u001b[32m    281\u001b[39m \u001b[43m    \u001b[49m\u001b[43m*\u001b[49m\u001b[43m*\u001b[49m\u001b[43mkwargs\u001b[49m\u001b[43m,\u001b[49m\n\u001b[32m    282\u001b[39m \u001b[43m\u001b[49m\u001b[43m)\u001b[49m\n\u001b[32m    284\u001b[39m \u001b[38;5;28;01mif\u001b[39;00m use_arrow:\n\u001b[32m    285\u001b[39m     meta, table = result\n",
      "\u001b[36mFile \u001b[39m\u001b[32mc:\\Users\\rautenba\\repos\\FloodAdapt\\.pixi\\envs\\docs\\Lib\\site-packages\\pyogrio\\raw.py:198\u001b[39m, in \u001b[36mread\u001b[39m\u001b[34m(path_or_buffer, layer, encoding, columns, read_geometry, force_2d, skip_features, max_features, where, bbox, mask, fids, sql, sql_dialect, return_fids, datetime_as_string, **kwargs)\u001b[39m\n\u001b[32m     59\u001b[39m \u001b[38;5;250m\u001b[39m\u001b[33;03m\"\"\"Read OGR data source into numpy arrays.\u001b[39;00m\n\u001b[32m     60\u001b[39m \n\u001b[32m     61\u001b[39m \u001b[33;03mIMPORTANT: non-linear geometry types (e.g., MultiSurface) are converted\u001b[39;00m\n\u001b[32m   (...)\u001b[39m\u001b[32m    194\u001b[39m \n\u001b[32m    195\u001b[39m \u001b[33;03m\"\"\"\u001b[39;00m\n\u001b[32m    196\u001b[39m dataset_kwargs = _preprocess_options_key_value(kwargs) \u001b[38;5;28;01mif\u001b[39;00m kwargs \u001b[38;5;28;01melse\u001b[39;00m {}\n\u001b[32m--> \u001b[39m\u001b[32m198\u001b[39m \u001b[38;5;28;01mreturn\u001b[39;00m \u001b[43mogr_read\u001b[49m\u001b[43m(\u001b[49m\n\u001b[32m    199\u001b[39m \u001b[43m    \u001b[49m\u001b[43mget_vsi_path_or_buffer\u001b[49m\u001b[43m(\u001b[49m\u001b[43mpath_or_buffer\u001b[49m\u001b[43m)\u001b[49m\u001b[43m,\u001b[49m\n\u001b[32m    200\u001b[39m \u001b[43m    \u001b[49m\u001b[43mlayer\u001b[49m\u001b[43m=\u001b[49m\u001b[43mlayer\u001b[49m\u001b[43m,\u001b[49m\n\u001b[32m    201\u001b[39m \u001b[43m    \u001b[49m\u001b[43mencoding\u001b[49m\u001b[43m=\u001b[49m\u001b[43mencoding\u001b[49m\u001b[43m,\u001b[49m\n\u001b[32m    202\u001b[39m \u001b[43m    \u001b[49m\u001b[43mcolumns\u001b[49m\u001b[43m=\u001b[49m\u001b[43mcolumns\u001b[49m\u001b[43m,\u001b[49m\n\u001b[32m    203\u001b[39m \u001b[43m    \u001b[49m\u001b[43mread_geometry\u001b[49m\u001b[43m=\u001b[49m\u001b[43mread_geometry\u001b[49m\u001b[43m,\u001b[49m\n\u001b[32m    204\u001b[39m \u001b[43m    \u001b[49m\u001b[43mforce_2d\u001b[49m\u001b[43m=\u001b[49m\u001b[43mforce_2d\u001b[49m\u001b[43m,\u001b[49m\n\u001b[32m    205\u001b[39m \u001b[43m    \u001b[49m\u001b[43mskip_features\u001b[49m\u001b[43m=\u001b[49m\u001b[43mskip_features\u001b[49m\u001b[43m,\u001b[49m\n\u001b[32m    206\u001b[39m \u001b[43m    \u001b[49m\u001b[43mmax_features\u001b[49m\u001b[43m=\u001b[49m\u001b[43mmax_features\u001b[49m\u001b[43m \u001b[49m\u001b[38;5;129;43;01mor\u001b[39;49;00m\u001b[43m \u001b[49m\u001b[32;43m0\u001b[39;49m\u001b[43m,\u001b[49m\n\u001b[32m    207\u001b[39m \u001b[43m    \u001b[49m\u001b[43mwhere\u001b[49m\u001b[43m=\u001b[49m\u001b[43mwhere\u001b[49m\u001b[43m,\u001b[49m\n\u001b[32m    208\u001b[39m \u001b[43m    \u001b[49m\u001b[43mbbox\u001b[49m\u001b[43m=\u001b[49m\u001b[43mbbox\u001b[49m\u001b[43m,\u001b[49m\n\u001b[32m    209\u001b[39m \u001b[43m    \u001b[49m\u001b[43mmask\u001b[49m\u001b[43m=\u001b[49m\u001b[43m_mask_to_wkb\u001b[49m\u001b[43m(\u001b[49m\u001b[43mmask\u001b[49m\u001b[43m)\u001b[49m\u001b[43m,\u001b[49m\n\u001b[32m    210\u001b[39m \u001b[43m    \u001b[49m\u001b[43mfids\u001b[49m\u001b[43m=\u001b[49m\u001b[43mfids\u001b[49m\u001b[43m,\u001b[49m\n\u001b[32m    211\u001b[39m \u001b[43m    \u001b[49m\u001b[43msql\u001b[49m\u001b[43m=\u001b[49m\u001b[43msql\u001b[49m\u001b[43m,\u001b[49m\n\u001b[32m    212\u001b[39m \u001b[43m    \u001b[49m\u001b[43msql_dialect\u001b[49m\u001b[43m=\u001b[49m\u001b[43msql_dialect\u001b[49m\u001b[43m,\u001b[49m\n\u001b[32m    213\u001b[39m \u001b[43m    \u001b[49m\u001b[43mreturn_fids\u001b[49m\u001b[43m=\u001b[49m\u001b[43mreturn_fids\u001b[49m\u001b[43m,\u001b[49m\n\u001b[32m    214\u001b[39m \u001b[43m    \u001b[49m\u001b[43mdataset_kwargs\u001b[49m\u001b[43m=\u001b[49m\u001b[43mdataset_kwargs\u001b[49m\u001b[43m,\u001b[49m\n\u001b[32m    215\u001b[39m \u001b[43m    \u001b[49m\u001b[43mdatetime_as_string\u001b[49m\u001b[43m=\u001b[49m\u001b[43mdatetime_as_string\u001b[49m\u001b[43m,\u001b[49m\n\u001b[32m    216\u001b[39m \u001b[43m\u001b[49m\u001b[43m)\u001b[49m\n",
      "\u001b[36mFile \u001b[39m\u001b[32mpyogrio\\\\_io.pyx:1240\u001b[39m, in \u001b[36mpyogrio._io.ogr_read\u001b[39m\u001b[34m()\u001b[39m\n",
      "\u001b[36mFile \u001b[39m\u001b[32mpyogrio\\\\_io.pyx:220\u001b[39m, in \u001b[36mpyogrio._io.ogr_open\u001b[39m\u001b[34m()\u001b[39m\n",
      "\u001b[31mDataSourceError\u001b[39m: seawall.geojson: No such file or directory"
     ]
    }
   ],
   "source": [
    "gdf= gpd.read_file(Path(attrs_floodwall.polygon_file))\n",
    "#gdf = gpd.read_file(Path(attrs_pump.polygon_file))\n",
    "#gdf = gpd.read_file(Path(attrs_greening.polygon_file))\n",
    "#gdf = gpd.read_file(Path(attrs_water_square.polygon_file))\n",
    "gdf.explore()"
   ]
  },
  {
   "cell_type": "markdown",
   "id": "18",
   "metadata": {},
   "source": [
    "## 🏠 **Step 4:** Create Impact Measures\n",
    "To create a impact measure in Floodadapt we need to create a [`Measure`](../../api_ref/Measure.qmd) object. In the attributes we define which type of measure we want to apply using the `type` attribute. Depending on the type of measure different attributes must be parsed. \n",
    "There are **three** types of impact measures:\n",
    "1. [**Elevate**](../../api_ref/objects/Elevate.qmd)\n",
    "2. [**Buy out**](../../api_ref/objects/BuyOut.qmd)\n",
    "3. [**Floodproof**](../../api_ref/objects/FloodProof.qmd)\n",
    "\n",
    "We can apply measures to a specific building occupancy by defining the occupancy in the `property_type` attribute. For example, if we only want to buyout **residential** homes we can parse the building type of the residential buildings here. Make sure you parse the same string-value as you use in your Delft-FIAT model to describe that type of building. \n",
    "\n",
    "If we want to apply the measure only in a specific aggregation area, we can define this with the `aggregation_area_type`, which describes the  name of the aggregation area category, and the `aggregation_area_name`, which responds to the name of the specific aggregation area within the category.\n",
    "\n",
    "Below we will create an `Measure`-object for each **impact measure**."
   ]
  },
  {
   "cell_type": "markdown",
   "id": "19",
   "metadata": {},
   "source": [
    "### 🏠⬆️ **Elevate**\n",
    "When we create a [`Elevate`](../../api_ref/objects/Elevate.qmd) object we need to specify the `elevation` attribute to capture the height of the elevation. To define the `elevation` we need to parse a [`UnitfulLengthRefValue`]() object which consists of a `value` of type float, a `unit` which can be one of the [`UnitTypesLength`](../../api_ref/UnitTypesLength.qmd) and a vertical reference from which point the elevation should be calculated. This sholud be parsed as [`VerticalReference`]() object."
   ]
  },
  {
   "cell_type": "code",
   "execution_count": null,
   "id": "20",
   "metadata": {},
   "outputs": [],
   "source": [
    "# Create a measure object for elevating buildings\n",
    "attrs_elevate = Elevate(\n",
    "        name= \"elevate_homes_2ft\",\n",
    "        description = \"Elevate all residential buildings in aggregation area 1 by 2ft.\",\n",
    "        type = MeasureType.elevate_properties,\n",
    "        selection_type = SelectionType.polygon,\n",
    "        property_type = \"residential\",\n",
    "        polygon_file = str(STATIC_DATA_DIR / \"raise_property_polygon.geojson\"),\n",
    "        elevation = us.UnitfulLengthRefValue(value=2, units=us.UnitTypesLength.feet, type = us.VerticalReference.floodmap))"
   ]
  },
  {
   "cell_type": "markdown",
   "id": "21",
   "metadata": {},
   "source": [
    "### 👥💰 **Buyout**\n",
    "When we create a [`Buyout`](../../api_ref/objects/BuyOut.qmd) object we need to specify the `property_type` and either provide a spatial file for the area boundaries or define the `aggregation_area_type` and `aggregation_area_name`."
   ]
  },
  {
   "cell_type": "code",
   "execution_count": null,
   "id": "22",
   "metadata": {},
   "outputs": [],
   "source": [
    "# Create a measure object for buying out buildings\n",
    "attrs_buyout = Buyout(\n",
    "        name= \"buyout_all_buildings\",\n",
    "        description = \"Buyout all buildings in a specific area.\",\n",
    "        type = MeasureType.buyout_properties,\n",
    "        selection_type = SelectionType.aggregation_area,\n",
    "        aggregation_area_type = \"aggr_lvl_2\",\n",
    "        aggregation_area_name = \"name5\",\n",
    "        property_type = \"ALL\",\n",
    ")"
   ]
  },
  {
   "cell_type": "markdown",
   "id": "23",
   "metadata": {},
   "source": [
    "### 🏠🌊 **Floodproof**\n",
    "When we create a [`FloodProof`](../../api_ref/objects/FloodProof.qmd) object we need to specify the `elevation` attribute to capture the height of the elevation. To define the `elevation` we need to parse a [`UnitfulLength`]() object which consists of a `value` of type float, a `unit` which can be one of the [`UnitTypesLength`](../../api_ref/UnitTypesLength.qmd)."
   ]
  },
  {
   "cell_type": "code",
   "execution_count": null,
   "id": "24",
   "metadata": {},
   "outputs": [],
   "source": [
    "# Create a measure object for flood proofing buildings\n",
    "attrs_flood_proof = FloodProof(\n",
    "        name= \"floodproof_all_com\",\n",
    "        description = \"Floodproofing all commercial buildings.\",\n",
    "        type = MeasureType.floodproof_properties,\n",
    "        selection_type = SelectionType.all,\n",
    "        property_type = \"commercial\",\n",
    "        elevation = us.UnitfulLength(value=2, units=us.UnitTypesLength.feet))"
   ]
  },
  {
   "cell_type": "markdown",
   "id": "25",
   "metadata": {},
   "source": [
    "## 💾 **Step 5**. Saving the impact measures to the database"
   ]
  },
  {
   "cell_type": "code",
   "execution_count": null,
   "id": "26",
   "metadata": {},
   "outputs": [],
   "source": [
    "# Save the measures to the database\n",
    "fa.save_measure(attrs_elevate)\n",
    "fa.save_measure(attrs_buyout)\n",
    "fa.save_measure(attrs_flood_proof)"
   ]
  },
  {
   "cell_type": "markdown",
   "id": "27",
   "metadata": {},
   "source": [
    "Let's have a look at some of the measures. We can for example explore the area in which all buildings will be elevated."
   ]
  },
  {
   "cell_type": "code",
   "execution_count": null,
   "id": "28",
   "metadata": {},
   "outputs": [],
   "source": [
    "gdf= gpd.read_file(Path(attrs_elevate.polygon_file))\n",
    "gdf.explore()"
   ]
  },
  {
   "cell_type": "markdown",
   "id": "29",
   "metadata": {},
   "source": [
    "Using the `get_measures()` method of the `FloodAdapt` class, we can check that the measures have been saved to the database."
   ]
  },
  {
   "cell_type": "code",
   "execution_count": null,
   "id": "30",
   "metadata": {},
   "outputs": [],
   "source": [
    "# Get a df with all strategies\n",
    "pd.DataFrame(fa.get_measures())"
   ]
  },
  {
   "cell_type": "markdown",
   "id": "31",
   "metadata": {},
   "source": [
    "## ✏️ **Step 6**: Copying and Editing a Measure in the database\n",
    "\n",
    "If we want to edit small parts of a measure, it is easier to copy an existing measure and edit the copy. This way we do not have to create a new measure from scratch.\n",
    "\n",
    "A measure can be copied in the database by using the `copy_measure()` method of the `FloodAdapt` class. This method takes three arguments: the name of the measure to be copied and the name and description of the new measure. Let's copy the measure we just created, having in mind that we want to make a measure for flood-proofing residential buildings."
   ]
  },
  {
   "cell_type": "code",
   "execution_count": null,
   "id": "32",
   "metadata": {},
   "outputs": [],
   "source": [
    "# Copy measure\n",
    "fa.copy_measure(old_name=\"floodproof_all_com\", new_name=\"floodproof_all_res\", new_description=\"Floodproofing all residential buildings.\")"
   ]
  },
  {
   "cell_type": "markdown",
   "id": "33",
   "metadata": {},
   "source": [
    "We can see that now a new measure with name \"floodproof_all_res\" has been created in the database. However, the actual attributes of the measure are still the same as the original measure. "
   ]
  },
  {
   "cell_type": "code",
   "execution_count": null,
   "id": "34",
   "metadata": {},
   "outputs": [],
   "source": [
    "# Inspect Measure\n",
    "floodproof_res = fa.get_measure(\"floodproof_all_res\")\n",
    "floodproof_res"
   ]
  },
  {
   "cell_type": "markdown",
   "id": "35",
   "metadata": {},
   "source": [
    "We can directly edit the relevant attributes of the measure object. In this case, we want to change the type to \"residential\"."
   ]
  },
  {
   "cell_type": "code",
   "execution_count": null,
   "id": "36",
   "metadata": {},
   "outputs": [],
   "source": [
    "# Edit attributes\n",
    "floodproof_res.property_type = \"residential\""
   ]
  },
  {
   "cell_type": "markdown",
   "id": "37",
   "metadata": {},
   "source": [
    "Then using the `edit_measure()` method of the `FloodAdapt` class, we can save the changes to the database. This method takes a single argument which is a `Measure` object. The `name` field of the measure object provided will be used to identify which measure is going to be updated in the database, with the given Measure object attributes."
   ]
  },
  {
   "cell_type": "code",
   "execution_count": null,
   "id": "38",
   "metadata": {},
   "outputs": [],
   "source": [
    "# Save updates\n",
    "fa.save_measure(floodproof_res, overwrite = True)"
   ]
  },
  {
   "cell_type": "markdown",
   "id": "39",
   "metadata": {},
   "source": [
    "Now we can verify that the measure has been updated in the database. The property type is now \"residential\"."
   ]
  },
  {
   "cell_type": "code",
   "execution_count": null,
   "id": "40",
   "metadata": {},
   "outputs": [],
   "source": [
    "# Verify updates\n",
    "floodproof_res = fa.get_measure(\"floodproof_all_res\")\n",
    "floodproof_res.property_type"
   ]
  },
  {
   "cell_type": "markdown",
   "id": "41",
   "metadata": {},
   "source": [
    "## 🧩 **Step 6**. Create a Strategy\n",
    "**Strategies** are combinations **measures**. They allow us to run an test multiple measures in a single model run. \n",
    "\n",
    "To create a strategy we need to create a [`Strategy`](../../api_ref/Strategy.qmd) object. In the `measures` attribute we parse a list of all the names of the measures that we want to apply in that strategy."
   ]
  },
  {
   "cell_type": "code",
   "execution_count": null,
   "id": "42",
   "metadata": {},
   "outputs": [],
   "source": [
    "# Create a strategy object\n",
    "attrs_strategy = Strategy(\n",
    "        name= \"pump_greening_flood_proof\",\n",
    "        description = \"Strategy with pump, greening and floodproofing\",\n",
    "        measures = [attrs_pump.name, attrs_greening.name, attrs_flood_proof.name],\n",
    "        )\n",
    "\n",
    "# Create the strategy\n",
    "fa.create_strategy(attrs_strategy .model_dump(exclude_none=True))\n",
    "\n",
    "# Save the strategy\n",
    "fa.save_strategy(attrs_strategy )"
   ]
  },
  {
   "cell_type": "markdown",
   "id": "43",
   "metadata": {},
   "source": [
    "Using the `get_strategies()` method of the `FloodAdapt` class, we can check that the strategies have been saved to the database."
   ]
  },
  {
   "cell_type": "code",
   "execution_count": null,
   "id": "44",
   "metadata": {},
   "outputs": [],
   "source": [
    "# Get a df with all strategies\n",
    "pd.DataFrame(fa.get_strategies())"
   ]
  },
  {
   "cell_type": "code",
   "execution_count": null,
   "id": "45",
   "metadata": {},
   "outputs": [],
   "source": [
    "# Inspect strategy\n",
    "strategy = fa.get_strategy(\"pump_greening_flood_proof\")\n",
    "strategy"
   ]
  },
  {
   "cell_type": "markdown",
   "id": "46",
   "metadata": {},
   "source": [
    "## ✏️ **Step 7**. Copying and Editing a Strategy in the database\n",
    "\n",
    "If we want to edit small parts of a strategy, it is easier to copy an existing strategy and edit the copy. This way we do not have to create a new strategy from scratch.\n",
    "\n",
    "A strategy can be copied in the database by using the `copy_strategy()` method of the `FloodAdapt` class. This method takes three arguments: the name of the strategy to be copied and the name and description of the new strategy. Let's copy the strategy we just created, having in mind that we want to remove the greening from the strategy and add a floodwall instead."
   ]
  },
  {
   "cell_type": "code",
   "execution_count": null,
   "id": "47",
   "metadata": {},
   "outputs": [],
   "source": [
    "# Copy strategy\n",
    "fa.copy_strategy(old_name=\"pump_greening_flood_proof\", new_name=\"pump_floodwall_flood_proof\", new_description=\"Strategy with pump, flodwall and floodproofing.\")"
   ]
  },
  {
   "cell_type": "markdown",
   "id": "48",
   "metadata": {},
   "source": [
    "We can see that now a new strategy with name \"pump_floodwall_flood_proof\" has been created in the database. However, the actual attributes of the strtaegy are still the same as the original srtategy. "
   ]
  },
  {
   "cell_type": "code",
   "execution_count": null,
   "id": "49",
   "metadata": {},
   "outputs": [],
   "source": [
    "# Inspect strategy2\n",
    "strategy_2 = fa.get_strategy(\"pump_floodwall_flood_proof\")\n",
    "strategy_2"
   ]
  },
  {
   "cell_type": "markdown",
   "id": "50",
   "metadata": {},
   "source": [
    "We can directly edit the relevant attributes of the measure object. In this case, we want to change the type to \"residential\"."
   ]
  },
  {
   "cell_type": "code",
   "execution_count": null,
   "id": "51",
   "metadata": {},
   "outputs": [],
   "source": [
    "# Update attributes\n",
    "strategy_2.measures = strategy_2.measures.pop(attrs_greening.name)\n",
    "strategy_2.measures = strategy_2.measures.append(attrs_floodwall.name)"
   ]
  },
  {
   "cell_type": "markdown",
   "id": "52",
   "metadata": {},
   "source": [
    "Then using the `save_strategy(name, overwrite = True)` method of the `FloodAdapt` class, we can save the changes to the database. This method takes a single argument which is a `Strategy` object. The `name` field of the Strategy object provided will be used to identify which strategy is going to be updated in the database, with the given Strategy object attributes."
   ]
  },
  {
   "cell_type": "code",
   "execution_count": null,
   "id": "53",
   "metadata": {},
   "outputs": [],
   "source": [
    "# Save updates\n",
    "fa.save_strategy(\"pump_floodwall_flood_proof\", overwrtie = True)"
   ]
  },
  {
   "cell_type": "markdown",
   "id": "54",
   "metadata": {},
   "source": [
    "Now we can verify that the strategy has been updated in the database."
   ]
  },
  {
   "cell_type": "code",
   "execution_count": null,
   "id": "55",
   "metadata": {},
   "outputs": [],
   "source": [
    "# Verify updates\n",
    "strategy_2 = fa.get_strategy(\"pump_floodwall_flood_proof\")\n",
    "strategy_2.measures"
   ]
  },
  {
   "cell_type": "markdown",
   "id": "56",
   "metadata": {},
   "source": [
    "## **Finished!** \n",
    "**Congratulations** you created all **measures** possible in FloodAdap and combined some of them into a **strategy**!"
   ]
  }
 ],
 "metadata": {
  "kernelspec": {
   "display_name": "docs",
   "language": "python",
   "name": "python3"
  },
  "language_info": {
   "codemirror_mode": {
    "name": "ipython",
    "version": 3
   },
   "file_extension": ".py",
   "mimetype": "text/x-python",
   "name": "python",
   "nbconvert_exporter": "python",
   "pygments_lexer": "ipython3",
   "version": "3.11.12"
  }
 },
 "nbformat": 4,
 "nbformat_minor": 5
}
