{
 "cells": [
  {
   "cell_type": "markdown",
   "id": "f9b2f8bd",
   "metadata": {},
   "source": [
    "# 📘 Example: Measures and Strategies"
   ]
  },
  {
   "cell_type": "markdown",
   "id": "b7ed48d5",
   "metadata": {},
   "source": [
    "In this notebook we will show you all the different options and inputs for creating different measures and how to create a strategy from the different measures. \n",
    "\n",
    "**Measures** in FloodAdapt can be categorized into **two** different categories, which we will cover all in this notebook:\n",
    "\n",
    "**1. Hazard** - Mitigate the hazard directly\n",
    "\n",
    "- Floodwall\n",
    "- Pump\n",
    "- Green Infrastructure\n",
    "\n",
    "**2. Impact**  - Mitiage the impacts of the hazard on the assets\n",
    "\n",
    "- Elevate properties \n",
    "- Buyout Properties\n",
    "- Floodproof Properties\n",
    "\n",
    "**Strategies** consist of multiple measures combined for example: ***StrategyXYZ* = *Floodwall + Elevated Homes + Pumps***\n",
    "\n",
    "If you want to learn in more detail about measures and what a strategy is, please read the sections on [**Measures**](../../4_user_guide/strategy/index.qmd)  in the FloodAdapt GUI documentation."
   ]
  },
  {
   "cell_type": "markdown",
   "id": "75005512",
   "metadata": {},
   "source": [
    "## Import libraries"
   ]
  },
  {
   "cell_type": "code",
   "execution_count": null,
   "id": "eeb58b39",
   "metadata": {},
   "outputs": [],
   "source": [
    "import pandas as pd\n",
    "from pathlib import Path\n",
    "\n",
    "from flood_adapt.flood_adapt import FloodAdapt\n",
    "from flood_adapt.objects.measures.measures import *\n",
    "from flood_adapt import Settings\n",
    "from flood_adapt.objects.strategies.strategies import Strategy\n",
    "from flood_adapt import unit_system as us"
   ]
  },
  {
   "cell_type": "markdown",
   "id": "a66a120d",
   "metadata": {},
   "source": [
    "## 🚀 **Step 1**. Reading-in the FloodAdapt database"
   ]
  },
  {
   "cell_type": "markdown",
   "id": "d5423ec7",
   "metadata": {},
   "source": [
    "Let's start with initiating the database and FloodAdapt class. \n",
    "1. Initiate the database class [`Settings`](../../api_ref/Settings.qmd) by defining the `DATABASE_ROOT` and `DATABASE_NAME`.\n",
    "2. Initiate the [`FloodAdapt`](../../api_ref/FloodAdapt.qmd) class by parsing the `Settings().database_path`."
   ]
  },
  {
   "cell_type": "code",
   "execution_count": null,
   "id": "5184dd3b",
   "metadata": {},
   "outputs": [],
   "source": [
    "# Define the static data folder\n",
    "STATIC_DATA_DIR = Path(\"../_data/examples/static-data/3_Measures\").resolve()\n",
    "\n",
    "# Set up the settings for the database\n",
    "Settings(\n",
    "    DATABASE_ROOT=Path(\"../_data/examples\").resolve(),\n",
    "    DATABASE_NAME=\"charleston_test\"\n",
    ")\n",
    "\n",
    "# Create the FloodAdapt instance\n",
    "fa = FloodAdapt(Settings().database_path)"
   ]
  },
  {
   "cell_type": "markdown",
   "id": "453e8746",
   "metadata": {},
   "source": [
    "## 🌧️ **Step 2**. Create Hazard Measures\n",
    "We can divide the hazard measures into: \n",
    "1. **Hydraulic** (grey) measures -  structures such as levees, pumps, seawalls that protect infrastructure and residents\n",
    "2. **Green infrastructure** measures - integrate natural elements like parks, green roofs, and permeable pavements into city\n",
    "\n",
    "To create a hazard measure in Floodadapt we need to create a [`Measure`](../../api_ref/Measure.qmd) object. In the attribues we define which type of measure we want to apply using the `type` attribute. Depending on the type of measure different attributes must be parsed. \n",
    "There are **three** types of hazard measures:\n",
    "1. [**Floodwall**](../../api_ref/objects/FloodWall.qmd) \n",
    "2. [**Pump**](../../api_ref/objects/Pump.qmd)\n",
    "3. [**Green Infrastructure**](../../api_ref/objects/GreenInfrastructure.qmd)\n",
    "    The green infrastructure class can be divided into **sub-categories**:  \n",
    "    - Greening \n",
    "    - Total storage\n",
    "    - Water square\n",
    "\n",
    "Below we will create a `Measure` object for each of the three **hazard measure**."
   ]
  },
  {
   "cell_type": "markdown",
   "id": "ff238524",
   "metadata": {},
   "source": [
    "### 🧱🌊 **Floodwall**\n",
    "When we create a [`floodwall`](../../api_ref/objects/FloodWall.qmd) object we need to specify the `elevation` attribute to capture the height of the floodwall. To define the `elevation` we need to parse a [`UnitfulLength`]() object which consists of a `value` of type float and a `unit` which can be one of the [`UnitTypesLength`](../../api_ref/UnitTypesLength.qmd). The `selection_type` describes the spatial type. This should be of `SelectionType.polyline` for a floodwall. "
   ]
  },
  {
   "cell_type": "code",
   "execution_count": null,
   "id": "65b06095",
   "metadata": {},
   "outputs": [],
   "source": [
    "# Create a measure object for a Floodwall\n",
    "attrs_floodwall = FloodWall(\n",
    "        name= \"Seawall_12ft\",\n",
    "        description = \"12ft Seawall\",\n",
    "        type = MeasureType.floodwall,\n",
    "        selection_type = SelectionType.polyline,\n",
    "        polygon_file = str(Path(STATIC_DATA_DIR / \"seawall.geojson\")),\n",
    "        elevation = us.UnitfulLength(value=12, units=us.UnitTypesLength.feet))"
   ]
  },
  {
   "cell_type": "markdown",
   "id": "feac58fb",
   "metadata": {},
   "source": [
    "### ⛽💦 **Pump**\n",
    "When we create a [`pump`](../../api_ref/objects/Pump.qmd) object we need to specify the `discharge` attribute to capture the total river discharge in the model. To define the `discharge` we need to parse a [`UnitfulLength`]() object which consists of a `value` of type float and a `unit` which can be one of the [`UnitTypesLength`](../../api_ref/UnitTypesLength.qmd). The `selection_type` describes the spatial type. This should be of `SelectionType.polygon` for a pump. "
   ]
  },
  {
   "cell_type": "code",
   "execution_count": null,
   "id": "383625be",
   "metadata": {},
   "outputs": [],
   "source": [
    "# Create a measure object for a Pump\n",
    "attrs_pump = Pump(\n",
    "        name= \"Pump\",\n",
    "        description = \"Pump\",\n",
    "        type = MeasureType.pump,\n",
    "        selection_type = SelectionType.polygon,\n",
    "        polygon_file = str(Path(STATIC_DATA_DIR / \"pump.geojson\")),\n",
    "        discharge = us.UnitfulDischarge(value=1, units=us.UnitTypesDischarge.cfs))"
   ]
  },
  {
   "cell_type": "markdown",
   "id": "791c7a7a",
   "metadata": {},
   "source": [
    "### 🌱🖼️ **Green infrastructure**\n",
    "When we create a [`green infrastructure`](../../api_ref/objects/GreenInfrastructure.qmd) object we need to specify the `volume` attribute to capture the total storage of the green infrastructure. o define the `volume` we need to parse a [`UnitfulVolume`]() object which consists of a `value` of type float and a `unit` which can be one of the [`UnitTypesVolume`](../../api_ref/UnitTypesVolume.qmd). The `selection_type` describes the spatial type. This should be of `SelectionType.polygon` or `SelectionType.aggregation_area` for a green infrastructure. Other attributes like `height` and `percentage` are optional.  "
   ]
  },
  {
   "cell_type": "code",
   "execution_count": null,
   "id": "79888d74",
   "metadata": {},
   "outputs": [],
   "source": [
    "# Create a measure object for Green infrastructure\n",
    "attrs_greening = GreenInfrastructure(\n",
    "        name= \"green_infrastructure_storage\",\n",
    "        description = \"Storage through green infrastructure\",\n",
    "        type = MeasureType.greening,\n",
    "        selection_type = SelectionType.polygon,\n",
    "        polygon_file = str(Path(STATIC_DATA_DIR / \"greening.geojson\")),\n",
    "        volume = us.UnitfulVolume(value = 43975190.31512848, units = us.UnitTypesVolume.cf),\n",
    "        height = us.UnitfulHeight(value = 3, units = us.UnitTypesLength.feet),\n",
    "        percent_area = 100.0)\n",
    "\n",
    "attrs_total_storage = GreenInfrastructure(\n",
    "        name=  \"total_storage_aggregation_area\",\n",
    "        description = \"Total Storage through green infrastructure in aggr area\",\n",
    "        type = MeasureType.total_storage,\n",
    "        selection_type = SelectionType.aggregation_area,\n",
    "        aggregation_area_type = \"aggr_lvl_2\",\n",
    "        aggregation_area_name = \"name5\",\n",
    "        volume = us.UnitfulVolume(value = 100000000.0, units = us.UnitTypesVolume.cf),\n",
    ")\n",
    "\n",
    "attrs_water_square = GreenInfrastructure(\n",
    "        name=  \"water_square\",\n",
    "        description = \"Water Square\",\n",
    "        type = MeasureType.water_square,\n",
    "        selection_type = SelectionType.polygon,\n",
    "        polygon_file = str(Path(STATIC_DATA_DIR / \"water_square.geojson\")),\n",
    "        volume = us.UnitfulVolume(value =  43975190.31512848, units = us.UnitTypesVolume.cf),\n",
    "        height = us.UnitfulHeight(value = 3, units = us.UnitTypesLength.feet))  "
   ]
  },
  {
   "cell_type": "markdown",
   "id": "81961e7f",
   "metadata": {},
   "source": [
    "## 💾 **Step 3**. Saving the hazard measures to the database"
   ]
  },
  {
   "cell_type": "code",
   "execution_count": null,
   "id": "e0c3ca55",
   "metadata": {},
   "outputs": [],
   "source": [
    "# Save the measures to the database\n",
    "fa.save_measure(attrs_floodwall)\n",
    "fa.save_measure(attrs_pump)\n",
    "fa.save_measure(attrs_greening)\n",
    "fa.save_measure(attrs_total_storage)\n",
    "fa.save_measure(attrs_water_square)"
   ]
  },
  {
   "cell_type": "markdown",
   "id": "0e7d700d",
   "metadata": {},
   "source": [
    "Let's have a look at some of the measures. We can for example explore the floodwall. If yo want to explore another measure, uncomment the code and re-run the cell below."
   ]
  },
  {
   "cell_type": "code",
   "execution_count": null,
   "id": "eba47839",
   "metadata": {},
   "outputs": [],
   "source": [
    "gdf= gpd.read_file(Path(attrs_floodwall.polygon_file))\n",
    "#gdf = gpd.read_file(Path(attrs_pump.polygon_file))\n",
    "#gdf = gpd.read_file(Path(attrs_greening.polygon_file))\n",
    "#gdf = gpd.read_file(Path(attrs_water_square.polygon_file))\n",
    "gdf.explore()"
   ]
  },
  {
   "cell_type": "markdown",
   "id": "02b643b3",
   "metadata": {},
   "source": [
    "## 🏠 **Step 4:** Create Impact Measures\n",
    "To create a impact measure in Floodadapt we need to create a [`Measure`](../../api_ref/Measure.qmd) object. In the attribues we define which type of measure we want to apply using the `type` attribute. Depending on the type of measure different attributes must be parsed. \n",
    "There are **three** types of impact measures:\n",
    "1. [**Elevate**](../../api_ref/objects/Elevate.qmd)\n",
    "2. [**Buy out**](../../api_ref/objects/BuyOut.qmd)\n",
    "3. [**Floodproof**](../../api_ref/objects/FloodProof.qmd)\n",
    "\n",
    "You can apply measures to a specific building occupancy by defining the occupancy in the `property_type` attribute. For example, if you only want to buyout **residential** homes you can parse the building type of the residential buildings here. Make sure you parse the same string-value as you use in your Delft-FIAT model to describe that type of building. \n",
    "\n",
    "If you want to apply the measure only in a specific aggregation area, you can define this with the `aggregation_area_type`, which describes the  name of the aggregation area category, and the `aggregation_area_name`, which responds to the name of the specific aggregation area within the category.\n",
    "\n",
    "Below we will create an `Measure`-object for each **impact measure**."
   ]
  },
  {
   "cell_type": "markdown",
   "id": "526dbed8",
   "metadata": {},
   "source": [
    "### 🏠⬆️ **Elevate**\n",
    "When we create a [`Elevate`](../../api_ref/objects/Elevate.qmd) object we need to specify the `elevation` attribute to capture the height of the elevation. To define the `elevation` we need to parse a [`UnitfulLengthRefValue`]() object which consists of a `value` of type float, a `unit` which can be one of the [`UnitTypesLength`](../../api_ref/UnitTypesLength.qmd) and a vertical reference from which point the elevation should be calculated. This sholud be parsed as [`VerticalReference`]() object."
   ]
  },
  {
   "cell_type": "code",
   "execution_count": null,
   "id": "22ed4939",
   "metadata": {},
   "outputs": [],
   "source": [
    "# Create a measure object for elevating buildings\n",
    "attrs_elevate = Elevate(\n",
    "        name= \"elevate_homes_2ft\",\n",
    "        description = \"Elevate all residential buildings in aggregation area 1 by 2ft.\",\n",
    "        type = MeasureType.elevate_properties,\n",
    "        selection_type = SelectionType.polygon,\n",
    "        property_type = \"residential\",\n",
    "        polygon_file =str(Path(STATIC_DATA_DIR / \"raise_property_polygon.geojson\")),\n",
    "        elevation = us.UnitfulLengthRefValue(value=2, units=us.UnitTypesLength.feet, type = us.VerticalReference.floodmap))"
   ]
  },
  {
   "cell_type": "markdown",
   "id": "3d96063b",
   "metadata": {},
   "source": [
    "### 👥💰 **Buyout**\n",
    "When we create a [`Buyout`](../../api_ref/objects/BuyOut.qmd) object we need to specify the `property_type` and either provide a spatial file for the area boundaries or define the `aggregation_area_type` and `aggregation_area_name`."
   ]
  },
  {
   "cell_type": "code",
   "execution_count": null,
   "id": "f5dacfad",
   "metadata": {},
   "outputs": [],
   "source": [
    "# Create a measure object for buying out buildings\n",
    "attrs_buyout = Buyout(\n",
    "        name= \"buyout_all_buildings\",\n",
    "        description = \"Buyout all buildings in a specific area.\",\n",
    "        type = MeasureType.buyout_properties,\n",
    "        selection_type = SelectionType.aggregation_area,\n",
    "        aggregation_area_type = \"aggr_lvl_2\",\n",
    "        aggregation_area_name = \"name5\",\n",
    "        property_type = \"ALL\",\n",
    ")"
   ]
  },
  {
   "cell_type": "markdown",
   "id": "8b76d6fa",
   "metadata": {},
   "source": [
    "### 🏠🌊 **Floodproof**\n",
    "When we create a [`FloodProof`](../../api_ref/objects/FloodProof.qmd) object we need to specify the `elevation` attribute to capture the height of the elevation. To define the `elevation` we need to parse a [`UnitfulLength`]() object which consists of a `value` of type float, a `unit` which can be one of the [`UnitTypesLength`](../../api_ref/UnitTypesLength.qmd)."
   ]
  },
  {
   "cell_type": "code",
   "execution_count": null,
   "id": "1f43e89b",
   "metadata": {},
   "outputs": [],
   "source": [
    "# Create a measure object for flood proofing buildings\n",
    "attrs_flood_proof = FloodProof(\n",
    "        name= \"floodproof_all_com\",\n",
    "        description = \"Floodproofing all commercial buildings.\",\n",
    "        type = MeasureType.floodproof_properties,\n",
    "        selection_type = SelectionType.all,\n",
    "        property_type = \"commercial\",\n",
    "        elevation = us.UnitfulLength(value=2, units=us.UnitTypesLength.feet))"
   ]
  },
  {
   "cell_type": "markdown",
   "id": "0dc9b6dd",
   "metadata": {},
   "source": [
    "## 💾 **Step 5**. Saving the impact measures to the database"
   ]
  },
  {
   "cell_type": "code",
   "execution_count": null,
   "id": "39370ec9",
   "metadata": {},
   "outputs": [],
   "source": [
    "# Save the measures to the database\n",
    "fa.save_measure(attrs_elevate)\n",
    "fa.save_measure(attrs_buyout)\n",
    "fa.save_measure(attrs_flood_proof)"
   ]
  },
  {
   "cell_type": "markdown",
   "id": "790784cc",
   "metadata": {},
   "source": [
    "Let's have a look at some of the measures. We can for example explore the area in which all buildings will be elevated."
   ]
  },
  {
   "cell_type": "code",
   "execution_count": 34,
   "id": "ff6fedc6",
   "metadata": {},
   "outputs": [
    {
     "data": {
      "text/html": [
       "<div style=\"width:100%;\"><div style=\"position:relative;width:100%;height:0;padding-bottom:60%;\"><span style=\"color:#565656\">Make this Notebook Trusted to load map: File -> Trust Notebook</span><iframe srcdoc=\"&lt;!DOCTYPE html&gt;\n",
       "&lt;html&gt;\n",
       "&lt;head&gt;\n",
       "    \n",
       "    &lt;meta http-equiv=&quot;content-type&quot; content=&quot;text/html; charset=UTF-8&quot; /&gt;\n",
       "    \n",
       "        &lt;script&gt;\n",
       "            L_NO_TOUCH = false;\n",
       "            L_DISABLE_3D = false;\n",
       "        &lt;/script&gt;\n",
       "    \n",
       "    &lt;style&gt;html, body {width: 100%;height: 100%;margin: 0;padding: 0;}&lt;/style&gt;\n",
       "    &lt;style&gt;#map {position:absolute;top:0;bottom:0;right:0;left:0;}&lt;/style&gt;\n",
       "    &lt;script src=&quot;https://cdn.jsdelivr.net/npm/leaflet@1.9.3/dist/leaflet.js&quot;&gt;&lt;/script&gt;\n",
       "    &lt;script src=&quot;https://code.jquery.com/jquery-3.7.1.min.js&quot;&gt;&lt;/script&gt;\n",
       "    &lt;script src=&quot;https://cdn.jsdelivr.net/npm/bootstrap@5.2.2/dist/js/bootstrap.bundle.min.js&quot;&gt;&lt;/script&gt;\n",
       "    &lt;script src=&quot;https://cdnjs.cloudflare.com/ajax/libs/Leaflet.awesome-markers/2.0.2/leaflet.awesome-markers.js&quot;&gt;&lt;/script&gt;\n",
       "    &lt;link rel=&quot;stylesheet&quot; href=&quot;https://cdn.jsdelivr.net/npm/leaflet@1.9.3/dist/leaflet.css&quot;/&gt;\n",
       "    &lt;link rel=&quot;stylesheet&quot; href=&quot;https://cdn.jsdelivr.net/npm/bootstrap@5.2.2/dist/css/bootstrap.min.css&quot;/&gt;\n",
       "    &lt;link rel=&quot;stylesheet&quot; href=&quot;https://netdna.bootstrapcdn.com/bootstrap/3.0.0/css/bootstrap-glyphicons.css&quot;/&gt;\n",
       "    &lt;link rel=&quot;stylesheet&quot; href=&quot;https://cdn.jsdelivr.net/npm/@fortawesome/fontawesome-free@6.2.0/css/all.min.css&quot;/&gt;\n",
       "    &lt;link rel=&quot;stylesheet&quot; href=&quot;https://cdnjs.cloudflare.com/ajax/libs/Leaflet.awesome-markers/2.0.2/leaflet.awesome-markers.css&quot;/&gt;\n",
       "    &lt;link rel=&quot;stylesheet&quot; href=&quot;https://cdn.jsdelivr.net/gh/python-visualization/folium/folium/templates/leaflet.awesome.rotate.min.css&quot;/&gt;\n",
       "    \n",
       "            &lt;meta name=&quot;viewport&quot; content=&quot;width=device-width,\n",
       "                initial-scale=1.0, maximum-scale=1.0, user-scalable=no&quot; /&gt;\n",
       "            &lt;style&gt;\n",
       "                #map_97443d76c36cbf47c823718858685bdd {\n",
       "                    position: relative;\n",
       "                    width: 100.0%;\n",
       "                    height: 100.0%;\n",
       "                    left: 0.0%;\n",
       "                    top: 0.0%;\n",
       "                }\n",
       "                .leaflet-container { font-size: 1rem; }\n",
       "            &lt;/style&gt;\n",
       "        \n",
       "    \n",
       "                    &lt;style&gt;\n",
       "                        .foliumtooltip {\n",
       "                            \n",
       "                        }\n",
       "                       .foliumtooltip table{\n",
       "                            margin: auto;\n",
       "                        }\n",
       "                        .foliumtooltip tr{\n",
       "                            text-align: left;\n",
       "                        }\n",
       "                        .foliumtooltip th{\n",
       "                            padding: 2px; padding-right: 8px;\n",
       "                        }\n",
       "                    &lt;/style&gt;\n",
       "            \n",
       "&lt;/head&gt;\n",
       "&lt;body&gt;\n",
       "    \n",
       "    \n",
       "            &lt;div class=&quot;folium-map&quot; id=&quot;map_97443d76c36cbf47c823718858685bdd&quot; &gt;&lt;/div&gt;\n",
       "        \n",
       "&lt;/body&gt;\n",
       "&lt;script&gt;\n",
       "    \n",
       "    \n",
       "            var map_97443d76c36cbf47c823718858685bdd = L.map(\n",
       "                &quot;map_97443d76c36cbf47c823718858685bdd&quot;,\n",
       "                {\n",
       "                    center: [32.7720047172163, -79.9392402303062],\n",
       "                    crs: L.CRS.EPSG3857,\n",
       "                    ...{\n",
       "  &quot;zoom&quot;: 10,\n",
       "  &quot;zoomControl&quot;: true,\n",
       "  &quot;preferCanvas&quot;: false,\n",
       "}\n",
       "\n",
       "                }\n",
       "            );\n",
       "            L.control.scale().addTo(map_97443d76c36cbf47c823718858685bdd);\n",
       "\n",
       "            \n",
       "\n",
       "        \n",
       "    \n",
       "            var tile_layer_6637b68dd0e647b6e69f0a10e6133fdf = L.tileLayer(\n",
       "                &quot;https://tile.openstreetmap.org/{z}/{x}/{y}.png&quot;,\n",
       "                {\n",
       "  &quot;minZoom&quot;: 0,\n",
       "  &quot;maxZoom&quot;: 19,\n",
       "  &quot;maxNativeZoom&quot;: 19,\n",
       "  &quot;noWrap&quot;: false,\n",
       "  &quot;attribution&quot;: &quot;\\u0026copy; \\u003ca href=\\&quot;https://www.openstreetmap.org/copyright\\&quot;\\u003eOpenStreetMap\\u003c/a\\u003e contributors&quot;,\n",
       "  &quot;subdomains&quot;: &quot;abc&quot;,\n",
       "  &quot;detectRetina&quot;: false,\n",
       "  &quot;tms&quot;: false,\n",
       "  &quot;opacity&quot;: 1,\n",
       "}\n",
       "\n",
       "            );\n",
       "        \n",
       "    \n",
       "            tile_layer_6637b68dd0e647b6e69f0a10e6133fdf.addTo(map_97443d76c36cbf47c823718858685bdd);\n",
       "        \n",
       "    \n",
       "            map_97443d76c36cbf47c823718858685bdd.fitBounds(\n",
       "                [[32.769891964939895, -79.94275509838587], [32.7741174694927, -79.93572536222652]],\n",
       "                {}\n",
       "            );\n",
       "        \n",
       "    \n",
       "        function geo_json_2fd574817034f564e6ef1deaf52b0c97_styler(feature) {\n",
       "            switch(feature.id) {\n",
       "                default:\n",
       "                    return {&quot;fillOpacity&quot;: 0.5, &quot;weight&quot;: 2};\n",
       "            }\n",
       "        }\n",
       "        function geo_json_2fd574817034f564e6ef1deaf52b0c97_highlighter(feature) {\n",
       "            switch(feature.id) {\n",
       "                default:\n",
       "                    return {&quot;fillOpacity&quot;: 0.75};\n",
       "            }\n",
       "        }\n",
       "        function geo_json_2fd574817034f564e6ef1deaf52b0c97_pointToLayer(feature, latlng) {\n",
       "            var opts = {&quot;bubblingMouseEvents&quot;: true, &quot;color&quot;: &quot;#3388ff&quot;, &quot;dashArray&quot;: null, &quot;dashOffset&quot;: null, &quot;fill&quot;: true, &quot;fillColor&quot;: &quot;#3388ff&quot;, &quot;fillOpacity&quot;: 0.2, &quot;fillRule&quot;: &quot;evenodd&quot;, &quot;lineCap&quot;: &quot;round&quot;, &quot;lineJoin&quot;: &quot;round&quot;, &quot;opacity&quot;: 1.0, &quot;radius&quot;: 2, &quot;stroke&quot;: true, &quot;weight&quot;: 3};\n",
       "            \n",
       "            let style = geo_json_2fd574817034f564e6ef1deaf52b0c97_styler(feature)\n",
       "            Object.assign(opts, style)\n",
       "            \n",
       "            return new L.CircleMarker(latlng, opts)\n",
       "        }\n",
       "\n",
       "        function geo_json_2fd574817034f564e6ef1deaf52b0c97_onEachFeature(feature, layer) {\n",
       "            layer.on({\n",
       "                mouseout: function(e) {\n",
       "                    if(typeof e.target.setStyle === &quot;function&quot;){\n",
       "                            geo_json_2fd574817034f564e6ef1deaf52b0c97.resetStyle(e.target);\n",
       "                    }\n",
       "                },\n",
       "                mouseover: function(e) {\n",
       "                    if(typeof e.target.setStyle === &quot;function&quot;){\n",
       "                        const highlightStyle = geo_json_2fd574817034f564e6ef1deaf52b0c97_highlighter(e.target.feature)\n",
       "                        e.target.setStyle(highlightStyle);\n",
       "                    }\n",
       "                },\n",
       "            });\n",
       "        };\n",
       "        var geo_json_2fd574817034f564e6ef1deaf52b0c97 = L.geoJson(null, {\n",
       "                onEachFeature: geo_json_2fd574817034f564e6ef1deaf52b0c97_onEachFeature,\n",
       "            \n",
       "                style: geo_json_2fd574817034f564e6ef1deaf52b0c97_styler,\n",
       "                pointToLayer: geo_json_2fd574817034f564e6ef1deaf52b0c97_pointToLayer,\n",
       "            ...{\n",
       "}\n",
       "        });\n",
       "\n",
       "        function geo_json_2fd574817034f564e6ef1deaf52b0c97_add (data) {\n",
       "            geo_json_2fd574817034f564e6ef1deaf52b0c97\n",
       "                .addData(data);\n",
       "        }\n",
       "            geo_json_2fd574817034f564e6ef1deaf52b0c97_add({&quot;bbox&quot;: [-79.94275509838587, 32.769891964939895, -79.93572536222652, 32.7741174694927], &quot;features&quot;: [{&quot;bbox&quot;: [-79.94275509838587, 32.769891964939895, -79.93572536222652, 32.7741174694927], &quot;geometry&quot;: {&quot;coordinates&quot;: [[[-79.94275509838587, 32.77306721830996], [-79.93572536222652, 32.7741174694927], [-79.93697444757714, 32.769891964939895], [-79.94275509838587, 32.77306721830996]]], &quot;type&quot;: &quot;Polygon&quot;}, &quot;id&quot;: &quot;0&quot;, &quot;properties&quot;: {&quot;id&quot;: 1}, &quot;type&quot;: &quot;Feature&quot;}], &quot;type&quot;: &quot;FeatureCollection&quot;});\n",
       "\n",
       "        \n",
       "    \n",
       "    geo_json_2fd574817034f564e6ef1deaf52b0c97.bindTooltip(\n",
       "    function(layer){\n",
       "    let div = L.DomUtil.create(&#x27;div&#x27;);\n",
       "    \n",
       "    let handleObject = feature=&gt;typeof(feature)==&#x27;object&#x27; ? JSON.stringify(feature) : feature;\n",
       "    let fields = [&quot;id&quot;];\n",
       "    let aliases = [&quot;id&quot;];\n",
       "    let table = &#x27;&lt;table&gt;&#x27; +\n",
       "        String(\n",
       "        fields.map(\n",
       "        (v,i)=&gt;\n",
       "        `&lt;tr&gt;\n",
       "            &lt;th&gt;${aliases[i]}&lt;/th&gt;\n",
       "            \n",
       "            &lt;td&gt;${handleObject(layer.feature.properties[v])}&lt;/td&gt;\n",
       "        &lt;/tr&gt;`).join(&#x27;&#x27;))\n",
       "    +&#x27;&lt;/table&gt;&#x27;;\n",
       "    div.innerHTML=table;\n",
       "    \n",
       "    return div\n",
       "    }\n",
       "    ,{\n",
       "  &quot;sticky&quot;: true,\n",
       "  &quot;className&quot;: &quot;foliumtooltip&quot;,\n",
       "});\n",
       "                     \n",
       "    \n",
       "            geo_json_2fd574817034f564e6ef1deaf52b0c97.addTo(map_97443d76c36cbf47c823718858685bdd);\n",
       "        \n",
       "&lt;/script&gt;\n",
       "&lt;/html&gt;\" style=\"position:absolute;width:100%;height:100%;left:0;top:0;border:none !important;\" allowfullscreen webkitallowfullscreen mozallowfullscreen></iframe></div></div>"
      ],
      "text/plain": [
       "<folium.folium.Map at 0x1731088a4d0>"
      ]
     },
     "execution_count": 34,
     "metadata": {},
     "output_type": "execute_result"
    }
   ],
   "source": [
    "gdf= gpd.read_file(Path(attrs_elevate.polygon_file))\n",
    "gdf.explore()"
   ]
  },
  {
   "cell_type": "markdown",
   "id": "57f8cc2a",
   "metadata": {},
   "source": [
    "Using the `get_measures()` method of the `FloodAdapt` class, we can check that the measures have been saved to the database."
   ]
  },
  {
   "cell_type": "code",
   "execution_count": null,
   "id": "08c10028",
   "metadata": {},
   "outputs": [],
   "source": [
    "# Get a df with all strategies\n",
    "pd.DataFrame(fa.get_measures())"
   ]
  },
  {
   "cell_type": "markdown",
   "id": "556c541c",
   "metadata": {},
   "source": [
    "## ✏️ **Step 6**: Copying and Editing a Measure in the database\n",
    "\n",
    "If we want to edit small parts of a measure, it is easier to copy an existing measure and edit the copy. This way we do not have to create a new measure from scratch.\n",
    "\n",
    "A measure can be copied in the database by using the `copy_measure()` method of the `FloodAdapt` class. This method takes three arguments: the name of the measure to be copied and the name and description of the new measure. Let's copy the measure we just created, having in mind that we want to make a measure for flood-proofing residential buildings."
   ]
  },
  {
   "cell_type": "code",
   "execution_count": null,
   "id": "af6eae39",
   "metadata": {},
   "outputs": [],
   "source": [
    "# Copy measure\n",
    "fa.copy_measure(old_name=\"floodproof_all_com\", new_name=\"floodproof_all_res\", new_description=\"Floodproofing all residential buildings.\")"
   ]
  },
  {
   "cell_type": "markdown",
   "id": "7a76c690",
   "metadata": {},
   "source": [
    "We can see that now a new measure with name \"floodproof_all_res\" has been created in the database. However, the actual attributes of the measure are still the same as the original measure. "
   ]
  },
  {
   "cell_type": "code",
   "execution_count": null,
   "id": "a26881ae",
   "metadata": {},
   "outputs": [],
   "source": [
    "# Inpsect Measure\n",
    "floodproof_res = fa.get_measure(\"floodproof_all_res\")\n",
    "floodproof_res"
   ]
  },
  {
   "cell_type": "markdown",
   "id": "c4b75936",
   "metadata": {},
   "source": [
    "We can directly edit the relevant attributes of the measure object. In this case, we want to change the type to \"residential\"."
   ]
  },
  {
   "cell_type": "code",
   "execution_count": null,
   "id": "32d6dbcf",
   "metadata": {},
   "outputs": [],
   "source": [
    "# Edit attributes\n",
    "floodproof_res.property_type = \"residential\""
   ]
  },
  {
   "cell_type": "markdown",
   "id": "9b3543ad",
   "metadata": {},
   "source": [
    "Then using the `edit_measure()` method of the `FloodAdapt` class, we can save the changes to the database. This method takes a single argument which is a `Measure` object. The `name` field of the measure object provided will be used to identify which measure is going to be updated in the database, with the given Measure object attributes."
   ]
  },
  {
   "cell_type": "code",
   "execution_count": null,
   "id": "b01aefe5",
   "metadata": {},
   "outputs": [],
   "source": [
    "# Save updates\n",
    "fa.edit_measure(floodproof_res)"
   ]
  },
  {
   "cell_type": "markdown",
   "id": "8e3e79dd",
   "metadata": {},
   "source": [
    "Now we can verify that the measure has been updated in the database. The property type is now \"residential\"."
   ]
  },
  {
   "cell_type": "code",
   "execution_count": null,
   "id": "2cff4a67",
   "metadata": {},
   "outputs": [],
   "source": [
    "# Verify updates\n",
    "floodproof_res = fa.get_measure(\"floodproof_all_res\")\n",
    "floodproof_res.property_type"
   ]
  },
  {
   "cell_type": "markdown",
   "id": "98c43c2f",
   "metadata": {},
   "source": [
    "## 🧩 **Step 6**. Create a Strategy\n",
    "**Strategies** are combinations **measures**. They allow us to run an test multiple measures in a single model run. \n",
    "\n",
    "To create a strategy we need to create a [`Strategy`](../../api_ref/Strategy.qmd) object. In the `measures` attribute we parse a list of all the names of the measures that we want to apply in that strategy."
   ]
  },
  {
   "cell_type": "code",
   "execution_count": null,
   "id": "e3ecfc80",
   "metadata": {},
   "outputs": [],
   "source": [
    "# Create a strategy object\n",
    "attrs_strategy = Strategy(\n",
    "        name= \"pump_greening_flood_proof\",\n",
    "        description = \"Strategy with pump, greening and floodproofing\",\n",
    "        measures = [attrs_pump.name, attrs_greening.name, attrs_flood_proof.name],\n",
    "        )\n",
    "\n",
    "# Create the stategy\n",
    "fa.create_strategy(attrs_strategy .model_dump(exclude_none=True))\n",
    "\n",
    "# Save the stategy\n",
    "fa.save_strategy(attrs_strategy )"
   ]
  },
  {
   "cell_type": "markdown",
   "id": "5a5841e8",
   "metadata": {},
   "source": [
    "Using the `get_strategies()` method of the `FloodAdapt` class, we can check that the strategies have been saved to the database."
   ]
  },
  {
   "cell_type": "code",
   "execution_count": null,
   "id": "54896298",
   "metadata": {},
   "outputs": [],
   "source": [
    "# Get a df with all strategies\n",
    "pd.DataFrame(fa.get_strategies())"
   ]
  },
  {
   "cell_type": "code",
   "execution_count": null,
   "id": "bd5bb1f8",
   "metadata": {},
   "outputs": [],
   "source": [
    "# Inpsect strategy\n",
    "strategy = fa.get_strategy(\"pump_greening_flood_proof\")\n",
    "strategy"
   ]
  },
  {
   "cell_type": "markdown",
   "id": "6e2499c0",
   "metadata": {},
   "source": [
    "## ✏️ **Step 7**. Copying and Editing a Strategy in the database\n",
    "\n",
    "If we want to edit small parts of a strategy, it is easier to copy an existing strategy and edit the copy. This way we do not have to create a new strategy from scratch.\n",
    "\n",
    "A strategy can be copied in the database by using the `copy_strategy()` method of the `FloodAdapt` class. This method takes three arguments: the name of the strategy to be copied and the name and description of the new strategy. Let's copy the strategy we just created, having in mind that we want to remove the greening from the strategy and add a floodwall instead."
   ]
  },
  {
   "cell_type": "code",
   "execution_count": null,
   "id": "0f353ebf",
   "metadata": {},
   "outputs": [],
   "source": [
    "# Copy strategy\n",
    "fa.copy_strategy(old_name=\"pump_greening_flood_proof\", new_name=\"pump_floodwall_flood_proof\", new_description=\"Strategy with pump, flodwall and floodproofing.\")"
   ]
  },
  {
   "cell_type": "markdown",
   "id": "0917b284",
   "metadata": {},
   "source": [
    "We can see that now a new strategy with name \"pump_floodwall_flood_proof\" has been created in the database. However, the actual attributes of the strtaegy are still the same as the original srtategy. "
   ]
  },
  {
   "cell_type": "code",
   "execution_count": null,
   "id": "dd085f38",
   "metadata": {},
   "outputs": [],
   "source": [
    "# Inpsect strategy2\n",
    "strategy_2 = fa.get_strategy(\"pump_floodwall_flood_proof\")\n",
    "strategy_2"
   ]
  },
  {
   "cell_type": "markdown",
   "id": "f9cdbad3",
   "metadata": {},
   "source": [
    "We can directly edit the relevant attributes of the measure object. In this case, we want to change the type to \"residential\"."
   ]
  },
  {
   "cell_type": "code",
   "execution_count": null,
   "id": "1880ff65",
   "metadata": {},
   "outputs": [],
   "source": [
    "# Update attributes\n",
    "strategy_2.measures = strategy_2.measures.pop(attrs_greening.name)\n",
    "strategy_2.measures = strategy_2.measures.append(attrs_floodwall.name)"
   ]
  },
  {
   "cell_type": "markdown",
   "id": "8cc420f3",
   "metadata": {},
   "source": [
    "Then using the `edit_strategy()` method of the `FloodAdapt` class, we can save the changes to the database. This method takes a single argument which is a `Strategy` object. The `name` field of the Strategy object provided will be used to identify which strategy is going to be updated in the database, with the given Strategy object attributes."
   ]
  },
  {
   "cell_type": "code",
   "execution_count": null,
   "id": "87189152",
   "metadata": {},
   "outputs": [],
   "source": [
    "# Save updates\n",
    "fa.edit_strategy(\"pump_floodwall_flood_proof\")"
   ]
  },
  {
   "cell_type": "markdown",
   "id": "94955342",
   "metadata": {},
   "source": [
    "Now we can verify that the strategy has been updated in the database."
   ]
  },
  {
   "cell_type": "code",
   "execution_count": null,
   "id": "8706f2e5",
   "metadata": {},
   "outputs": [],
   "source": [
    "# Verify updates\n",
    "strategy_2 = fa.get_strategy(\"pump_floodwall_flood_proof\")\n",
    "strategy_2.measures"
   ]
  },
  {
   "cell_type": "markdown",
   "id": "20722f11",
   "metadata": {},
   "source": [
    "## 🏁 **Finished!** \n",
    "**Congratulations** you created all **measures** possible in FloodAdap and combined some of them into a **strategy**!"
   ]
  }
 ],
 "metadata": {
  "kernelspec": {
   "display_name": "docs",
   "language": "python",
   "name": "python3"
  },
  "language_info": {
   "codemirror_mode": {
    "name": "ipython",
    "version": 3
   },
   "file_extension": ".py",
   "mimetype": "text/x-python",
   "name": "python",
   "nbconvert_exporter": "python",
   "pygments_lexer": "ipython3",
   "version": "3.11.12"
  }
 },
 "nbformat": 4,
 "nbformat_minor": 5
}
