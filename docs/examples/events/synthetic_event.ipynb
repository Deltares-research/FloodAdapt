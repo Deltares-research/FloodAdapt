{
 "cells": [
  {
   "cell_type": "markdown",
   "id": "0",
   "metadata": {},
   "source": [
    "# 📘 Example: Creating a Synthetic Event in FloodAdapt\n",
    "\n",
    "This notebook demonstrates how to create a synthetic event using FloodAdapt. Synthetic events are valuable for controlled testing, sensitivity analysis, and understanding the behavior of flood models under simplified or hypothetical scenarios. \n",
    "\n",
    "A FloodAdapt Event consists of 2 things:\n",
    "\n",
    "- a [`TimeFrame`](../../api_ref/TimeFrame.qmd) describing the start and end time of the hazard simulation(s)\n",
    "- a collection of forcings to be applied to the hazard model(s)\n",
    "\n",
    "In this example, we construct a full synthetic event with `water level`, `rainfall`, `wind`, and river `discharge` forcings, and then save it to a FloodAdapt database."
   ]
  },
  {
   "cell_type": "markdown",
   "id": "1",
   "metadata": {},
   "source": [
    "## ⏱️ Step 1. Setup and Imports\n",
    "\n",
    "We begin by importing the required classes and modules for constructing synthetic forcings and managing event data within the FloodAdapt framework."
   ]
  },
  {
   "cell_type": "code",
   "execution_count": null,
   "id": "2",
   "metadata": {},
   "outputs": [],
   "source": [
    "import flood_adapt.objects.forcing as f\n",
    "\n",
    "from pathlib import Path\n",
    "from datetime import datetime\n",
    "\n",
    "from flood_adapt.objects import SyntheticEvent, TimeFrame\n",
    "from flood_adapt import unit_system as us\n",
    "from flood_adapt import FloodAdapt, Settings\n",
    "\n",
    "# Setup FloodAdapt\n",
    "STATIC_DATA_DIR = Path(\"../../_data/examples/static-data\").resolve()\n",
    "settings = Settings(\n",
    "    DATABASE_ROOT=Path(\"../../_data/examples\").resolve(),\n",
    "    DATABASE_NAME=\"charleston_test\"\n",
    ")\n",
    "fa = FloodAdapt(database_path=settings.database_path)"
   ]
  },
  {
   "cell_type": "markdown",
   "id": "3",
   "metadata": {},
   "source": [
    "## 🗓️ Step 2. Define the Simulation Time Frame\n",
    "\n",
    "We specify a one-day time frame for the `SyntheticEvent`, from January 1 to January 2, 2025."
   ]
  },
  {
   "cell_type": "code",
   "execution_count": null,
   "id": "4",
   "metadata": {},
   "outputs": [],
   "source": [
    "# Create an time frame for the simulation\n",
    "start_time = datetime(year=2025, month=1, day=1)\n",
    "end_time = datetime(year=2025, month=1, day=2)\n",
    "time_frame = TimeFrame(start_time=start_time, end_time=end_time)"
   ]
  },
  {
   "cell_type": "markdown",
   "id": "5",
   "metadata": {},
   "source": [
    "## 🌊 Step 3. Define Water Level Forcing\n",
    "\n",
    "Synthetic water levels are constructed from a combination of tidal and surge components. All FloodAdapt events require exactly 1 water level forcing, all other forcings are optional."
   ]
  },
  {
   "cell_type": "code",
   "execution_count": null,
   "id": "6",
   "metadata": {},
   "outputs": [],
   "source": [
    "# Synthetic water levels can be computed from a combination of surge and tide.\n",
    "surge = f.SurgeModel(\n",
    "    timeseries=f.GaussianTimeseries(\n",
    "        duration=us.UnitfulTime(value=12, units=us.UnitTypesTime.hours),\n",
    "        # Choose the middle of the time frame for peak time\n",
    "        peak_time=us.UnitfulTime.from_timedelta(time_frame.duration / 2), \n",
    "        peak_value=us.UnitfulLength(value=2, units=us.UnitTypesLength.meters),\n",
    "    )\n",
    ")\n",
    "\n",
    "tide = f.TideModel(\n",
    "    harmonic_amplitude=us.UnitfulLength(value=1, units=us.UnitTypesLength.meters),\n",
    "    # Choose the middle of the time frame for peak time\n",
    "    harmonic_phase=us.UnitfulTime.from_timedelta(time_frame.duration / 2), \n",
    "    harmonic_period=us.UnitfulTime(value=12.4, units=us.UnitTypesTime.hours),\n",
    ")\n",
    "\n",
    "water_levels_synthetic = f.WaterlevelSynthetic(\n",
    "    surge=surge,\n",
    "    tide=tide,\n",
    ")\n",
    "\n",
    "# Inspect\n",
    "gaussian = surge.timeseries.to_dataframe(time_frame=time_frame)\n",
    "gaussian.columns = [\"Surge\"]\n",
    "harmonic = tide.to_dataframe(time_frame=time_frame)\n",
    "harmonic.columns = [\"Tide\"]\n",
    "total = water_levels_synthetic.to_dataframe(time_frame=time_frame)\n",
    "total.columns = [\"Water levels\"]\n",
    "df_combined = gaussian.join(harmonic).join(total)\n",
    "df_combined.plot(\n",
    "    title=\"Synthetic Water Levels (Surge + Tide)\",\n",
    "    xlabel=\"Time\",\n",
    "    ylabel=\"Water Level (m)\",\n",
    "    legend=True,\n",
    "    figsize=(5, 2)\n",
    ")"
   ]
  },
  {
   "cell_type": "markdown",
   "id": "7",
   "metadata": {},
   "source": [
    "## 🧩 Step 4. Create a minimal event and modify it\n",
    "\n",
    "Given a `water level forcing`, and a `TimeFrame`, you can create the simplest possible event in FloodAdapt as shown below.\n",
    "\n",
    "In many cases, it is interesting to to investigate a combination of different forcings. In steps 5 - 9, we will show the creation of various forcings and how to add them to an event."
   ]
  },
  {
   "cell_type": "code",
   "execution_count": null,
   "id": "8",
   "metadata": {},
   "outputs": [],
   "source": [
    "simple_event = SyntheticEvent(\n",
    "    name=\"simple_event\",\n",
    "    time=time_frame,\n",
    "    forcings={\n",
    "        f.ForcingType.WATERLEVEL: [water_levels_synthetic],\n",
    "    }\n",
    ")"
   ]
  },
  {
   "cell_type": "markdown",
   "id": "9",
   "metadata": {},
   "source": [
    "## 🌧️ Step 5. Define Rainfall Forcing\n",
    "\n",
    "The rainfall options for a synthetic event are:\n",
    "\n",
    "- **Constant**: Constant rainfall intensity to the entire domain throughout the entire simulation period.\n",
    "- **Synthetic**: Custom rainfall intensity to the entire domain throughout a given period.\n",
    "- **CSV**: Custom rainfall intensity to the entire domain throughout a given period, read in from a csv file."
   ]
  },
  {
   "cell_type": "code",
   "execution_count": null,
   "id": "10",
   "metadata": {},
   "outputs": [],
   "source": [
    "rainfall_constant = f.RainfallConstant(\n",
    "    intensity=us.UnitfulIntensity(value=10, units=us.UnitTypesIntensity.mm_hr)\n",
    ")\n",
    "\n",
    "rainfall_synthetic = f.RainfallSynthetic(\n",
    "    timeseries=f.GaussianTimeseries(\n",
    "        duration=us.UnitfulTime(value=12, units=us.UnitTypesTime.hours),\n",
    "        # Choose the middle of the time frame for peak time\n",
    "        peak_time=us.UnitfulTime.from_timedelta(time_frame.duration / 2), \n",
    "        peak_value=us.UnitfulIntensity(value=10, units=us.UnitTypesIntensity.mm_hr),\n",
    "    )\n",
    ")\n",
    "\n",
    "rainfall_csv = f.RainfallCSV(path=STATIC_DATA_DIR / \"rainfall.csv\")\n",
    "\n",
    "# Inspect\n",
    "df_constant = rainfall_constant.to_dataframe(time_frame=time_frame)\n",
    "df_constant.columns = [\"Constant\"]\n",
    "df_synthetic = rainfall_synthetic.to_dataframe(time_frame=time_frame)\n",
    "df_synthetic.columns = [\"Synthetic\"]\n",
    "df_csv = rainfall_csv.to_dataframe(time_frame=time_frame)\n",
    "df_csv.columns = [\"CSV\"]\n",
    "\n",
    "df_combined = df_constant.join(df_synthetic).join(df_csv)\n",
    "df_combined.plot(\n",
    "    title=\"Synthetic Rainfall (Constant, Gaussian, CSV)\",\n",
    "    xlabel=\"Time\",\n",
    "    ylabel=\"Rainfall Intensity (mm/hr)\",\n",
    "    legend=True,\n",
    "    figsize=(5, 2)\n",
    ")"
   ]
  },
  {
   "cell_type": "markdown",
   "id": "11",
   "metadata": {},
   "source": [
    "## 🌬️ Step 5. Define Wind Forcing\n",
    "\n",
    "The wind options for a synthetic event are:\n",
    "\n",
    "- **CSV**: Custom wind speed and direction is specified in a csv file and applied to the entire simulation.\n",
    "- **Constant**: Constant wind speed and direction is specified to simulate wind-driven effects on the water surface."
   ]
  },
  {
   "cell_type": "code",
   "execution_count": null,
   "id": "12",
   "metadata": {},
   "outputs": [],
   "source": [
    "wind_constant = f.WindConstant(\n",
    "    speed=us.UnitfulVelocity(value=12, units=us.UnitTypesVelocity.mps), \n",
    "    direction=us.UnitfulDirection(value=2, units=us.UnitTypesDirection.degrees) \n",
    "    # 0 degrees is North, 90 degrees is East, 180 degrees is South, and 270 degrees is West\n",
    ")\n",
    "\n",
    "wind_csv = f.WindCSV(path=STATIC_DATA_DIR / \"wind.csv\")\n",
    "\n",
    "# Inspect\n",
    "df = wind_constant.to_dataframe(time_frame=time_frame)\n",
    "df.columns = [\"speed\", \"direction\"]\n",
    "df_csv = wind_csv.to_dataframe(time_frame=time_frame)\n",
    "df_csv.columns = [\"speed\", \"direction\"]\n",
    "df_combined = df.join(df_csv, lsuffix=\"_constant\", rsuffix=\"_csv\")\n",
    "df_combined.plot(\n",
    "    title=\"Synthetic Wind (Constant, CSV)\",\n",
    "    xlabel=\"Time\",\n",
    "    ylabel=\"Wind Speed (m/s)\",\n",
    "    legend=True,\n",
    "    figsize=(5, 2),\n",
    ")"
   ]
  },
  {
   "cell_type": "markdown",
   "id": "13",
   "metadata": {},
   "source": [
    "## 🏞️ Step 6. Define River Discharge Forcing\n",
    "\n",
    "Discharge is required to be defined for all pre-configured rivers.\n",
    "These rivers are registered in the hazard model configuration beforehand.\n",
    "The timeseries data provided will determine the in-flow of water at the river's location.\n",
    "\n",
    "Discharge options for a `SyntheticEvent` are:\n",
    "\n",
    "- **Constant**: Constant discharge\n",
    "- **CSV**: Custom discharge specified in a csv file. \n",
    "- **Synthetic**: Custom discharge"
   ]
  },
  {
   "cell_type": "code",
   "execution_count": null,
   "id": "14",
   "metadata": {},
   "outputs": [],
   "source": [
    "# The available rivers are defined in the hazard model when creating the database.\n",
    "# You cannot add new rivers to the model in an event, you can only set the discharge of each given river.\n",
    "print(f\"Number of available rivers: {len(fa.database.site.sfincs.river)}\")\n",
    "\n",
    "river = fa.database.site.sfincs.river[0]\n",
    "\n",
    "discharge_constant = f.DischargeConstant(\n",
    "    river=river,\n",
    "    discharge=us.UnitfulDischarge(value=100, units=us.UnitTypesDischarge.cms)\n",
    ")\n",
    "\n",
    "discharge_synthetic = f.DischargeSynthetic(\n",
    "    river=river,\n",
    "    timeseries=f.BlockTimeseries(\n",
    "        duration=us.UnitfulTime(value=12, units=us.UnitTypesTime.hours),\n",
    "        # Choose the middle of the time frame for peak time\n",
    "        peak_time=us.UnitfulTime.from_timedelta(time_frame.duration / 2), \n",
    "        peak_value=us.UnitfulDischarge(value=80, units=us.UnitTypesDischarge.cms),\n",
    "    )\n",
    ")\n",
    "\n",
    "discharge_csv = f.DischargeCSV(\n",
    "    river=river,\n",
    "    path=STATIC_DATA_DIR / \"discharge.csv\"\n",
    ")\n",
    "\n",
    "# Inspect\n",
    "df_constant = discharge_constant.to_dataframe(time_frame=time_frame)\n",
    "df_constant.columns = [\"Constant\"]\n",
    "df_synthetic = discharge_synthetic.to_dataframe(time_frame=time_frame)\n",
    "df_synthetic.columns = [\"Synthetic\"]\n",
    "df_csv = discharge_csv.to_dataframe(time_frame=time_frame)\n",
    "df_csv.columns = [\"CSV\"]\n",
    "df_combined = df_constant.join(df_synthetic).join(df_csv)\n",
    "df_combined.plot(\n",
    "    title=\"Synthetic Discharge (Constant, Gaussian, CSV)\",\n",
    "    xlabel=\"Time\",\n",
    "    ylabel=\"Discharge (cms)\",\n",
    "    legend=True,\n",
    "    figsize=(5, 2)\n",
    ")"
   ]
  },
  {
   "cell_type": "markdown",
   "id": "15",
   "metadata": {},
   "source": [
    "## 🧩 Step 7. Combine Forcings and Create Synthetic Event\n",
    "\n",
    "All defined forcings are collected into a single dictionary, which is used to construct a `SyntheticEvent`.\n",
    "Now construct the forcings dictionary that contains the focings you want to include. \n",
    "\n",
    "> **NOTE**: each event can only have 1 forcing of the types: `water level`, `rainfall` and `wind`. For `discharge` however, each river is required to have a forcing associated with it."
   ]
  },
  {
   "cell_type": "code",
   "execution_count": null,
   "id": "16",
   "metadata": {},
   "outputs": [],
   "source": [
    "# Create a SyntheticEvent with the forcings and time frame\n",
    "full_event = SyntheticEvent(\n",
    "    name=\"example_synthetic_event\",\n",
    "    time=time_frame,\n",
    "    forcings={\n",
    "        f.ForcingType.WATERLEVEL: [water_levels_synthetic],\n",
    "        f.ForcingType.RAINFALL: [rainfall_constant],\n",
    "        f.ForcingType.WIND: [wind_csv],\n",
    "        f.ForcingType.DISCHARGE: [discharge_synthetic], \n",
    "        # The discharge list needs to be exactly as long as the number of rivers in the hazard model\n",
    "    },\n",
    ")"
   ]
  },
  {
   "cell_type": "markdown",
   "id": "17",
   "metadata": {},
   "source": [
    "## 💾 Step 8. Save the Event to a FloodAdapt Database\n",
    "\n",
    "Finally, we save the event to a FloodAdapt database."
   ]
  },
  {
   "cell_type": "code",
   "execution_count": null,
   "id": "18",
   "metadata": {},
   "outputs": [],
   "source": [
    "# Save the event to the database\n",
    "fa.save_event(event=full_event)"
   ]
  }
 ],
 "metadata": {
  "kernelspec": {
   "display_name": "docs",
   "language": "python",
   "name": "python3"
  },
  "language_info": {
   "codemirror_mode": {
    "name": "ipython",
    "version": 3
   },
   "file_extension": ".py",
   "mimetype": "text/x-python",
   "name": "python",
   "nbconvert_exporter": "python",
   "pygments_lexer": "ipython3",
   "version": "3.11.12"
  }
 },
 "nbformat": 4,
 "nbformat_minor": 5
}
