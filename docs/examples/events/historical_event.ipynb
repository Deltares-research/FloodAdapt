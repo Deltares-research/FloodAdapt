{
 "cells": [
  {
   "cell_type": "markdown",
   "id": "0",
   "metadata": {},
   "source": [
    "📘 Example: Creating a Historical Event in FloodAdapt\n",
    "\n",
    "This notebook demonstrates how to create a synthetic event using FloodAdapt. Historical events are valuable for controlled testing, sensitivity analysis, and understanding the behavior of flood models under simplified or hypothetical scenarios. \n",
    "\n",
    "A FloodAdapt Event consists of 2 things:\n",
    "- a TimeFrame describing the start and end time of the hazard simulation(s)\n",
    "- a collection of forcings to be applied to the hazard model(s)\n",
    "\n",
    "In this example, we construct a full historical event with water level, rainfall, wind, and river discharge forcings, and then save it to a FloodAdapt database."
   ]
  },
  {
   "cell_type": "markdown",
   "id": "1",
   "metadata": {},
   "source": [
    "⏱️ 1. Setup and Imports\n",
    "\n",
    "We begin by importing the required classes and modules for constructing synthetic forcings and managing event data within the flood_adapt framework."
   ]
  },
  {
   "cell_type": "code",
   "execution_count": null,
   "id": "2",
   "metadata": {},
   "outputs": [],
   "source": [
    "import flood_adapt.objects.forcing as f\n",
    "\n",
    "from pathlib import Path\n",
    "from datetime import datetime\n",
    "\n",
    "from flood_adapt.objects import HistoricalEvent, TimeFrame\n",
    "from flood_adapt import unit_system as us\n",
    "from flood_adapt import FloodAdapt, Settings\n",
    "from flood_adapt.config.sfincs import RiverModel\n",
    "\n",
    "# Configure database\n",
    "Settings(\n",
    "    DATABASE_ROOT=Path(\"../../_data/examples\").resolve(),\n",
    "    DATABASE_NAME=\"charleston_test\"\n",
    ")"
   ]
  },
  {
   "cell_type": "markdown",
   "id": "3",
   "metadata": {},
   "source": [
    "🗓️ 2. Define the Simulation Time Frame\n",
    "\n",
    "We specify a one-day time frame for the synthetic event, from January 1 to January 2, 2025."
   ]
  },
  {
   "cell_type": "code",
   "execution_count": null,
   "id": "4",
   "metadata": {},
   "outputs": [],
   "source": [
    "# Create an time frame for the simulation\n",
    "start_time = datetime(year=2020, month=1, day=1)\n",
    "end_time = datetime(year=2020, month=1, day=2)\n",
    "time_frame = TimeFrame(start_time=start_time, end_time=end_time)"
   ]
  },
  {
   "cell_type": "markdown",
   "id": "5",
   "metadata": {},
   "source": [
    "🌊 3. Define Water Level Forcing\n",
    "\n",
    "Synthetic water levels are constructed from a combination of tidal and surge components."
   ]
  },
  {
   "cell_type": "code",
   "execution_count": null,
   "id": "6",
   "metadata": {},
   "outputs": [],
   "source": [
    "# Recorded water levels from a CSV file\n",
    "csv_file = Path(\"../../_data/tide.csv\").resolve()\n",
    "water_levels = f.WaterlevelCSV(path=csv_file)\n",
    "wl_df = water_levels.to_dataframe(time_frame=time_frame)\n",
    "\n",
    "# Alternative: Water levels downloaded from a tide gauge\n",
    "tide_gauge = f.TideGauge(\n",
    "    name=8665530,\n",
    "    description=\"Charleston Cooper River Entrance\",\n",
    "    source=\"noaa_coops\",\n",
    "    reference=\"MSL\",\n",
    "    ID=8665530,\n",
    "    lat=32.78,\n",
    "    lon=-79.9233,\n",
    "    units=\"meters\",\n",
    ")\n",
    "df_tide_gauge = tide_gauge.get_waterlevels_in_time_frame(\n",
    "    time=time_frame,\n",
    ")\n",
    "water_levels_gauged = f.WaterlevelGauged()\n",
    "\n",
    "# Alternative: Water levels simulated by an offshore model\n",
    "water_levels_from_offshore = f.WaterlevelModel()\n",
    "\n",
    "# Inspect\n",
    "wl_df.plot(\n",
    "    title=\"Water Level from CSV\",\n",
    "    xlabel=\"Time\",\n",
    "    ylabel=\"Water Level (m)\",\n",
    "    legend=False,\n",
    "    figsize=(5, 2)\n",
    ")\n",
    "\n",
    "df_tide_gauge.plot(\n",
    "    title=\"Water Level from Tide Gauge\",\n",
    "    xlabel=\"Time\",\n",
    "    ylabel=\"Water Level (m)\",\n",
    "    legend=False,\n",
    "    figsize=(5, 2)\n",
    ")"
   ]
  },
  {
   "cell_type": "markdown",
   "id": "7",
   "metadata": {},
   "source": [
    "🌧️ 4. Define Meteo Forcing\n",
    "\n",
    "FloodAdapt provides an easy connection to gfs data, by only requiring the TimeFrame for which to download hindcast data."
   ]
  },
  {
   "cell_type": "code",
   "execution_count": null,
   "id": "8",
   "metadata": {},
   "outputs": [],
   "source": [
    "meteo_dataset = f.MeteoHandler().read(time_frame)\n",
    "print(meteo_dataset) # TODO make sure the meteo files are already downloaded in the database to circumvent flaky noaa coops API calls"
   ]
  },
  {
   "cell_type": "markdown",
   "id": "9",
   "metadata": {},
   "source": [
    "### Visualizing Meteo data\n",
    "\n",
    "It can be difficult to visualize spatially varying timeseries data. So, below is a simple animation generator to do some basic data validation on the downloaded gfs data.\n",
    "\n",
    "Choose any of the available timeseries data variables and generate the animation."
   ]
  },
  {
   "cell_type": "code",
   "execution_count": null,
   "id": "10",
   "metadata": {},
   "outputs": [],
   "source": [
    "import matplotlib.pyplot as plt\n",
    "import matplotlib.animation as animation\n",
    "from IPython.display import HTML\n",
    "\n",
    "to_plot = 'press_msl' # available variables: 'wind10_u' or 'wind10_v' or 'press_msl' or 'precip'\n",
    "\n",
    "var = meteo_dataset[to_plot] \n",
    "fig, ax = plt.subplots()\n",
    "plot = var.isel(time=0).plot(ax=ax, cmap='viridis', add_colorbar=True)\n",
    "\n",
    "def update(frame):\n",
    "    ax.clear()\n",
    "    var.isel(time=frame).plot(ax=ax, cmap='viridis', add_colorbar=False)\n",
    "    ax.set_title(f'Time: {str(var.time[frame].values)}')\n",
    "\n",
    "ani = animation.FuncAnimation(fig, update, frames=len(var.time), interval=200)\n",
    "plt.close(fig)\n",
    "\n",
    "HTML(ani.to_jshtml())"
   ]
  },
  {
   "cell_type": "markdown",
   "id": "11",
   "metadata": {},
   "source": [
    "🌬️ 5. Define Meteo Forcings\n",
    "\n",
    "To use the downloaded gfs hindcast data in FloodAdapt, you need to create Meteo forcings and add them to your event.\n",
    "\n",
    "Under the hood, the meteo forcings use the MeteoHandler to download the data, and then return slices of that dataset."
   ]
  },
  {
   "cell_type": "code",
   "execution_count": null,
   "id": "12",
   "metadata": {},
   "outputs": [],
   "source": [
    "rainfall = f.RainfallMeteo()\n",
    "wind = f.WindMeteo()"
   ]
  },
  {
   "cell_type": "markdown",
   "id": "13",
   "metadata": {},
   "source": [
    "🏞️ 6. Define River Discharge Forcing\n",
    "\n",
    "Discharge is defined for two pre-configured rivers. These rivers must be registered in the hazard model configuration beforehand."
   ]
  },
  {
   "cell_type": "code",
   "execution_count": null,
   "id": "14",
   "metadata": {},
   "outputs": [],
   "source": [
    "# Add discharge\n",
    "# The available rivers are defined in the hazard model when creating the database.\n",
    "# You cannot add new rivers to the model in an event, you can only set the discharge of each given river.\n",
    "river1 = RiverModel(\n",
    "    name=\"River1\",\n",
    "    x_coordinate=1,\n",
    "    y_coordinate=1,\n",
    "    mean_discharge=us.UnitfulDischarge(value=100, units=us.UnitTypesDischarge.cms), \n",
    "    # Mean discharge is used create default discharge values for the river, you can still overwrite it later.\n",
    ")\n",
    "river2 = RiverModel(\n",
    "    name=\"River2\",\n",
    "    x_coordinate=2,\n",
    "    y_coordinate=2,\n",
    "    mean_discharge=us.UnitfulDischarge(value=200, units=us.UnitTypesDischarge.cms),\n",
    "    # Mean discharge is used create default discharge values for the river, you can still overwrite it later.\n",
    ")\n",
    "\n",
    "discharge1 = f.DischargeConstant(\n",
    "    river=river1,\n",
    "    discharge=us.UnitfulDischarge(value=100, units=us.UnitTypesDischarge.cms)\n",
    ")\n",
    "discharge2 = f.DischargeConstant(\n",
    "    river=river2,\n",
    "    discharge=us.UnitfulDischarge(value=200, units=us.UnitTypesDischarge.cms)\n",
    ")\n",
    "\n",
    "# Inspect\n",
    "df1 = discharge1.to_dataframe(time_frame=time_frame)\n",
    "df2 = discharge2.to_dataframe(time_frame=time_frame)\n",
    "df_combined = df1.join(df2)\n",
    "df_combined.plot(title=\"Constant Discharge River\", xlabel=\"Time\", ylabel=\"Discharge (cms)\", legend=True, figsize=(5, 2))"
   ]
  },
  {
   "cell_type": "markdown",
   "id": "15",
   "metadata": {},
   "source": [
    "🧩 7. Combine Forcings and Create Synthetic Event\n",
    "\n",
    "All defined forcings are collected into a single dictionary, which is used to construct a SyntheticEvent."
   ]
  },
  {
   "cell_type": "code",
   "execution_count": null,
   "id": "16",
   "metadata": {},
   "outputs": [],
   "source": [
    "# Create the forcings dictionary\n",
    "# The keys of the dictionary are the forcing types, and the values are lists of the corresponding forcing objects.\n",
    "forcings = {\n",
    "    f.ForcingType.WATERLEVEL: [water_levels], # or one of `water_levels_gauged` or `water_levels_from_offshore`,\n",
    "    f.ForcingType.RAINFALL: [rainfall],\n",
    "    f.ForcingType.WIND: [wind],\n",
    "    f.ForcingType.DISCHARGE: [discharge1, discharge2],\n",
    "}\n",
    "\n",
    "# Create a SyntheticEvent with the forcings and time frame\n",
    "event = HistoricalEvent(\n",
    "    name=\"example_historical_event\",\n",
    "    time=time_frame,\n",
    "    forcings=forcings,\n",
    ")"
   ]
  },
  {
   "cell_type": "markdown",
   "id": "17",
   "metadata": {},
   "source": [
    "💾 8. Save the Event to a FloodAdapt Database\n",
    "\n",
    "Finally, we save the event to a FloodAdapt database."
   ]
  },
  {
   "cell_type": "code",
   "execution_count": null,
   "id": "18",
   "metadata": {},
   "outputs": [],
   "source": [
    "# Save the event to the database\n",
    "# fa = FloodAdapt(database_path=Path(\"path/to/database\")) # TODO\n",
    "# fa.save_event(event=event)"
   ]
  }
 ],
 "metadata": {
  "kernelspec": {
   "display_name": "docs",
   "language": "python",
   "name": "python3"
  },
  "language_info": {
   "codemirror_mode": {
    "name": "ipython",
    "version": 3
   },
   "file_extension": ".py",
   "mimetype": "text/x-python",
   "name": "python",
   "nbconvert_exporter": "python",
   "pygments_lexer": "ipython3",
   "version": "3.11.12"
  }
 },
 "nbformat": 4,
 "nbformat_minor": 5
}
