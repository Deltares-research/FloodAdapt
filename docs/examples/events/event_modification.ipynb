{
 "cells": [
  {
   "cell_type": "markdown",
   "id": "0",
   "metadata": {},
   "source": [
    "# 💾 Event modifications in the database\n",
    "\n",
    "This notebook demonstrates how to manipulate event objects in a FloodAdapt database, including loading, creating, editing, copying, and deleting events.\n",
    "\n",
    "It is assumed that at the start of this notebook, you have a database and the events saved from the other event notebooks."
   ]
  },
  {
   "cell_type": "code",
   "execution_count": null,
   "id": "1",
   "metadata": {},
   "outputs": [],
   "source": [
    "import flood_adapt.objects.forcing as f\n",
    "\n",
    "from pathlib import Path\n",
    "from datetime import datetime\n",
    "\n",
    "from flood_adapt import unit_system as us\n",
    "from flood_adapt import FloodAdapt, Settings\n",
    "from flood_adapt.objects import HistoricalEvent\n",
    "from flood_adapt.objects.forcing.time_frame import TimeFrame\n",
    "\n",
    "# Setup FloodAdapt\n",
    "STATIC_DATA_DIR = Path(\"../../_data/examples/static-data\").resolve()\n",
    "settings = Settings(\n",
    "    DATABASE_ROOT=Path(\"../../_data/examples\").resolve(),\n",
    "    DATABASE_NAME=\"charleston_test\",\n",
    ")\n",
    "fa = FloodAdapt(database_path=settings.database_path)\n"
   ]
  },
  {
   "cell_type": "markdown",
   "id": "2",
   "metadata": {},
   "source": [
    "## Analyze the effect of different rainfall forcings\n",
    "\n",
    "Lets say we want to analyze the effect of rainfall, how would you approach that:\n",
    "\n",
    "1. Retrieve an event from the database\n",
    "2. Create the rainfall forcings you want to analyze\n",
    "3. Update the event's name and rainfall forcings\n",
    "4. Save the updated event to the database\n",
    "5. Create scenarios using these events and run them (see this example) TODO \n",
    "\n",
    "Of course, this approach also works for analyzing the difference between any other forcings. "
   ]
  },
  {
   "cell_type": "code",
   "execution_count": null,
   "id": "3",
   "metadata": {},
   "outputs": [],
   "source": [
    "# 1. Create an event or load it from the database\n",
    "# event = fa.get_event(...)\n",
    "event_name=\"database_manipulation_event\"\n",
    "event = HistoricalEvent(\n",
    "    name=event_name,\n",
    "    description=\"Some event description\",\n",
    "    time=TimeFrame(\n",
    "        start_time=datetime(2020, 1, 1),\n",
    "        end_time=datetime(2020, 1, 2),\n",
    "    ),\n",
    "    forcings={\n",
    "        f.ForcingType.WATERLEVEL: [f.WaterlevelGauged()]\n",
    "    }\n",
    ")\n",
    "fa.save_event(event=event)\n",
    "\n",
    "# 2. Create rainfall forcings\n",
    "rainfall_constant = f.RainfallConstant(\n",
    "    intensity=us.UnitfulIntensity(value=10, units=us.UnitTypesIntensity.mm_hr)\n",
    ")\n",
    "\n",
    "rainfall_synthetic = f.RainfallSynthetic(\n",
    "    timeseries=f.GaussianTimeseries(\n",
    "        duration=us.UnitfulTime(value=12, units=us.UnitTypesTime.hours),\n",
    "        # Choose the middle of the time frame for peak time\n",
    "        peak_time=us.UnitfulTime.from_timedelta(event.time.duration / 2), \n",
    "        peak_value=us.UnitfulIntensity(value=10, units=us.UnitTypesIntensity.mm_hr),\n",
    "    )\n",
    ")\n",
    "\n",
    "rainfall_csv = f.RainfallCSV(path=STATIC_DATA_DIR / \"rainfall.csv\")\n",
    "\n",
    "rainfall_forcings = [\n",
    "    (rainfall_constant, \"constant\"),\n",
    "    (rainfall_synthetic, \"synthetic\"),\n",
    "    (rainfall_csv, \"csv\")\n",
    "]\n",
    "\n",
    "for forcing, fsource in rainfall_forcings:\n",
    "    # 3. Update the event\n",
    "    event.forcings[f.ForcingType.RAINFALL] = [forcing]\n",
    "    event.name = f\"{event_name}_rainfall_{fsource}\"\n",
    "    \n",
    "    # 4. Save the event\n",
    "    fa.save_event(event=event)\n",
    "\n",
    "fa.get_events()[\"name\"]\n",
    "\n",
    "# 5. Now the events can be used as the components for scenario creation. Similar to how the rainfall forcings are used to create various events\n",
    "# For more information on how to create scenarios, see the scenario creation example"
   ]
  },
  {
   "cell_type": "markdown",
   "id": "4",
   "metadata": {},
   "source": [
    "## Delete, Save, Copy, Edit\n",
    "\n",
    "FloodAdapt supports deleting, editing, and copying objects by name, as shown below.\n",
    "\n",
    "It is possible to achieve the exact same goal in multiple ways: \n",
    "\n",
    "1. `event = fa.get_event(event_name)` -> update `event` -> `fa.delete_event(event_name)` -> `fa.save_event(event)` \n",
    "2. `event = fa.get_event(event_name)` -> update `event` -> `fa.edit_event(event)` \n"
   ]
  },
  {
   "cell_type": "code",
   "execution_count": null,
   "id": "5",
   "metadata": {},
   "outputs": [],
   "source": [
    "print(\"Initial:\", fa.get_events()[\"name\"])\n",
    "\n",
    "# Copy all events\n",
    "for name in fa.get_events()[\"name\"]:\n",
    "    new_name = f\"{name}_copy\"\n",
    "    fa.copy_event(old_name=name, new_name=new_name, new_description=f\"Copy of {name}\")\n",
    "print(\"Names after `Copy`:\", fa.get_events()[\"name\"])\n",
    "\n",
    "# Delete all copied events\n",
    "for name in fa.get_events()[\"name\"]:\n",
    "    if \"copy\" in name:\n",
    "        fa.delete_event(name)\n",
    "print(\"Names after `Delete`:\", fa.get_events()[\"name\"])\n",
    "\n",
    "# Edit an existing event\n",
    "unedited_event = fa.get_event(event_name)\n",
    "print(\"Description before `Edit`:\", unedited_event.description)\n",
    "\n",
    "unedited_event.description = f\"Updated description\"\n",
    "fa.save_event(event=unedited_event, overwrite=True)\n",
    "\n",
    "edited_event = fa.get_event(event_name)\n",
    "print(\"Description after `Edit`:\", edited_event.description)"
   ]
  }
 ],
 "metadata": {
  "kernelspec": {
   "display_name": "Python 3",
   "language": "python",
   "name": "python3"
  },
  "language_info": {
   "codemirror_mode": {
    "name": "ipython",
    "version": 3
   },
   "file_extension": ".py",
   "mimetype": "text/x-python",
   "name": "python",
   "nbconvert_exporter": "python",
   "pygments_lexer": "ipython3",
   "version": "3.11.12"
  }
 },
 "nbformat": 4,
 "nbformat_minor": 5
}
