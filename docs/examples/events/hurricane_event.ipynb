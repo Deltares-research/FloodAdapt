{
 "cells": [
  {
   "cell_type": "markdown",
   "id": "0",
   "metadata": {},
   "source": [
    "📘 Example: Creating a Hurricane Event in FloodAdapt\n",
    "\n",
    "This notebook demonstrates how to create a hurricane event using FloodAdapt. Hurricane events are valuable for controlled testing, sensitivity analysis, and understanding the behavior of flood models under simplified or hypothetical scenarios. \n",
    "\n",
    "A FloodAdapt Event consists of 2 things:\n",
    "- a TimeFrame describing the start and end time of the hazard simulation(s)\n",
    "- a collection of forcings to be applied to the hazard model(s)\n",
    "\n",
    "In this example, we construct a full hurricane event with water level, rainfall, wind, and river discharge forcings, and then save it to a FloodAdapt database."
   ]
  },
  {
   "cell_type": "markdown",
   "id": "1",
   "metadata": {},
   "source": [
    "⏱️ 1. Setup and Imports\n",
    "\n",
    "We begin by importing the required classes and modules for constructing hurricane forcings and managing event data within the flood_adapt framework."
   ]
  },
  {
   "cell_type": "code",
   "execution_count": null,
   "id": "2",
   "metadata": {},
   "outputs": [],
   "source": [
    "import flood_adapt.objects.forcing as f\n",
    "\n",
    "from pathlib import Path\n",
    "from datetime import datetime\n",
    "\n",
    "from flood_adapt.objects import HurricaneEvent, TimeFrame\n",
    "from flood_adapt.objects.events.hurricane import TranslationModel\n",
    "from flood_adapt import unit_system as us\n",
    "from flood_adapt import FloodAdapt\n",
    "from flood_adapt.config.sfincs import RiverModel"
   ]
  },
  {
   "cell_type": "markdown",
   "id": "3",
   "metadata": {},
   "source": [
    "🗓️ 2. Define the Simulation Time Frame\n",
    "\n",
    "We specify a one-day time frame for the hurricane event, from January 1 to January 2, 2025."
   ]
  },
  {
   "cell_type": "code",
   "execution_count": null,
   "id": "4",
   "metadata": {},
   "outputs": [],
   "source": [
    "# Create an time frame for the simulation\n",
    "start_time = datetime(year=2025, month=1, day=1)\n",
    "end_time = datetime(year=2025, month=1, day=2)\n",
    "time_frame = TimeFrame(start_time=start_time, end_time=end_time)"
   ]
  },
  {
   "cell_type": "markdown",
   "id": "5",
   "metadata": {},
   "source": [
    "🌊 3. Define Water Level Forcing\n",
    "\n",
    "Water levels for Hurricane Events are computed by taking the Hurricane Track, and generating a pressure and wind field along its track.\n",
    "\n",
    "These fields are then used as forcing inputs to the offshore simulation, which generates the storm surge to be used for the overland simulation."
   ]
  },
  {
   "cell_type": "code",
   "execution_count": null,
   "id": "6",
   "metadata": {},
   "outputs": [],
   "source": [
    "water_levels = f.WaterlevelModel()"
   ]
  },
  {
   "cell_type": "markdown",
   "id": "7",
   "metadata": {},
   "source": [
    "🌧️ 3. Obtain a hurricane track\n",
    "\n",
    "The FloodAdapt database can store a cyclone track database as well. Depending on your setup and configuration, this functionality will be available.\n"
   ]
  },
  {
   "cell_type": "code",
   "execution_count": null,
   "id": "8",
   "metadata": {},
   "outputs": [],
   "source": [
    "# Get the cyclone database\n",
    "fa = FloodAdapt(database_path=Path(\"../../../../Database/charleston_test\")) # TODO\n",
    "cyclone_db = fa.database.static.get_cyclone_track_database()\n",
    "ian_index = cyclone_db.list_names().index(\"IAN\")\n",
    "\n",
    "# Not all cyclone tracks have names, in addition to duplicate names existing, so it is better to use the index\n",
    "track = fa.get_cyclone_track_by_index(index=ian_index) \n",
    "track_file = Path(\"../../_data/IAN.cyc\")\n",
    "track.write_track(filename=track_file, fmt=\"ddb_cyc\")\n",
    "\n",
    "# Translate the cyclone track from what is defined in the file\n",
    "translation = TranslationModel(\n",
    "    eastwest_translation=us.UnitfulLength(value=3000, units=us.UnitTypesLength.meters),\n",
    "    northsouth_translation=us.UnitfulLength(value=5000, units=us.UnitTypesLength.meters),\n",
    ")"
   ]
  },
  {
   "cell_type": "markdown",
   "id": "9",
   "metadata": {},
   "source": [
    "🌧️ 4. Create Track forcings\n",
    "\n",
    "Given a Hurricane track, it is quite easy to create hurricane events."
   ]
  },
  {
   "cell_type": "code",
   "execution_count": null,
   "id": "10",
   "metadata": {},
   "outputs": [],
   "source": [
    "# We want to include the rainfall and wind from the hurricane track\n",
    "rainfall = f.RainfallTrack(path=track_file)\n",
    "wind = f.WindTrack(path=track_file)"
   ]
  },
  {
   "cell_type": "markdown",
   "id": "11",
   "metadata": {},
   "source": [
    "🏞️ 5. Define River Discharge Forcing\n",
    "\n",
    "Discharge is defined for two pre-configured rivers. These rivers must be registered in the hazard model configuration beforehand."
   ]
  },
  {
   "cell_type": "code",
   "execution_count": null,
   "id": "12",
   "metadata": {},
   "outputs": [],
   "source": [
    "# Add discharge\n",
    "# The available rivers are defined in the hazard model when creating the database.\n",
    "# You cannot add new rivers to the model in an event, you can only set the discharge of each given river.\n",
    "river1 = RiverModel(\n",
    "    name=\"River1\",\n",
    "    x_coordinate=1,\n",
    "    y_coordinate=1,\n",
    "    mean_discharge=us.UnitfulDischarge(value=100, units=us.UnitTypesDischarge.cms), \n",
    "    # Mean discharge is used create default discharge values for the river, you can still overwrite it later.\n",
    ")\n",
    "river2 = RiverModel(\n",
    "    name=\"River2\",\n",
    "    x_coordinate=2,\n",
    "    y_coordinate=2,\n",
    "    mean_discharge=us.UnitfulDischarge(value=200, units=us.UnitTypesDischarge.cms),\n",
    "    # Mean discharge is used create default discharge values for the river, you can still overwrite it later.\n",
    ")\n",
    "\n",
    "discharge1 = f.DischargeConstant(\n",
    "    river=river1,\n",
    "    discharge=us.UnitfulDischarge(value=100, units=us.UnitTypesDischarge.cms)\n",
    ")\n",
    "discharge2 = f.DischargeConstant(\n",
    "    river=river2,\n",
    "    discharge=us.UnitfulDischarge(value=200, units=us.UnitTypesDischarge.cms)\n",
    ")\n",
    "\n",
    "# Inspect\n",
    "df1 = discharge1.to_dataframe(time_frame=time_frame)\n",
    "df2 = discharge2.to_dataframe(time_frame=time_frame)\n",
    "df_combined = df1.join(df2)\n",
    "df_combined.plot(title=\"Constant Discharge River\", xlabel=\"Time\", ylabel=\"Discharge (cms)\", legend=True, figsize=(5, 2))"
   ]
  },
  {
   "cell_type": "markdown",
   "id": "13",
   "metadata": {},
   "source": [
    "🧩 6. Combine Forcings and Create hurricane Event\n",
    "\n",
    "All defined forcings are collected into a single dictionary, which is used to construct a hurricaneEvent."
   ]
  },
  {
   "cell_type": "code",
   "execution_count": null,
   "id": "14",
   "metadata": {},
   "outputs": [],
   "source": [
    "# Create the forcings dictionary\n",
    "# The keys of the dictionary are the forcing types, and the values are lists of the corresponding forcing objects.\n",
    "forcings = {\n",
    "    f.ForcingType.WATERLEVEL: [water_levels],\n",
    "    f.ForcingType.RAINFALL: [rainfall],\n",
    "    f.ForcingType.WIND: [wind],\n",
    "    f.ForcingType.DISCHARGE: [discharge1, discharge2],\n",
    "}\n",
    "\n",
    "# Create a hurricaneEvent with the forcings and time frame\n",
    "event = HurricaneEvent(\n",
    "    name=\"example_hurricane_event\",\n",
    "    time=time_frame,\n",
    "    forcings=forcings,\n",
    "    track_name=track.name,\n",
    "    hurricane_translation=translation,\n",
    ")"
   ]
  },
  {
   "cell_type": "markdown",
   "id": "15",
   "metadata": {},
   "source": [
    "💾 7. Save the Event to a FloodAdapt Database\n",
    "\n",
    "Finally, we save the event to a FloodAdapt database."
   ]
  },
  {
   "cell_type": "code",
   "execution_count": null,
   "id": "16",
   "metadata": {},
   "outputs": [],
   "source": [
    "# Save the event to the database\n",
    "# fa = FloodAdapt(database_path=Path(\"path/to/database\")) # TODO\n",
    "# fa.save_event(event=event)"
   ]
  }
 ],
 "metadata": {
  "kernelspec": {
   "display_name": "docs",
   "language": "python",
   "name": "python3"
  },
  "language_info": {
   "codemirror_mode": {
    "name": "ipython",
    "version": 3
   },
   "file_extension": ".py",
   "mimetype": "text/x-python",
   "name": "python",
   "nbconvert_exporter": "python",
   "pygments_lexer": "ipython3",
   "version": "3.11.12"
  }
 },
 "nbformat": 4,
 "nbformat_minor": 5
}
