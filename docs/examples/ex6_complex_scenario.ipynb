{
 "cells": [
  {
   "cell_type": "markdown",
   "id": "f3eeb3b9",
   "metadata": {},
   "source": [
    "# **Advanced Scenario Example - Charleston, USA**"
   ]
  },
  {
   "cell_type": "markdown",
   "id": "b578e99e",
   "metadata": {},
   "source": [
    "In this notebook we demonstrate the **workflow** on how you can build an advanced **FloodAdapt scenario** in Charleston, USA, using the **API**.  \n",
    "\n",
    "We prepared a database, which you can download from [**here**](link.com). If you worked with the [**Database-Builder notebook**](database_builder.ipynb) beforehand, you can use that database.\n"
   ]
  },
  {
   "cell_type": "markdown",
   "id": "fe7ea5e1",
   "metadata": {
    "vscode": {
     "languageId": "plaintext"
    }
   },
   "source": [
    "In this notebook we will cover the following steps:\n",
    "\n",
    "1. Create a synthetic **event** \n",
    "2. Create a **projection** - Sea level rise (SLR)\n",
    "3. Create a **measure** and **strategy** - Seawall\n",
    "4. Create and run a **scenario**\n",
    "6. Investigate the **output**\n"
   ]
  },
  {
   "cell_type": "markdown",
   "id": "1f84cb9c",
   "metadata": {
    "vscode": {
     "languageId": "plaintext"
    }
   },
   "source": [
    "## **Step 0**: 📘Import packages"
   ]
  },
  {
   "cell_type": "code",
   "execution_count": 1,
   "id": "9bc26c43",
   "metadata": {},
   "outputs": [],
   "source": [
    "# Import packages\n",
    "import contextily as cx\n",
    "from datetime import datetime\n",
    "import geopandas as gpd\n",
    "from pathlib import Path\n",
    "import rasterio\n",
    "import rasterio.plot\n",
    "import flood_adapt.objects.forcing as f\n",
    "\n",
    "from flood_adapt.config.sfincs import RiverModel\n",
    "from flood_adapt.dbs_classes.database import Database\n",
    "from flood_adapt.objects.events.synthetic import SyntheticEvent \n",
    "from flood_adapt.objects import HurricaneEvent, TimeFrame\n",
    "from flood_adapt.objects.events.hurricane import TranslationModel\n",
    "from flood_adapt.flood_adapt import FloodAdapt\n",
    "from flood_adapt.objects.forcing.forcing import (\n",
    "    ForcingSource,\n",
    "    ForcingType,)\n",
    "from flood_adapt.objects.measures.measures import (\n",
    "    Elevate,\n",
    "    FloodWall,\n",
    "    Measure,\n",
    "    MeasureType,\n",
    "    SelectionType,\n",
    "    HazardMeasure\n",
    ")\n",
    "from flood_adapt.objects.projections.projections import Projection, PhysicalProjection, SocioEconomicChange\n",
    "from flood_adapt.objects.scenarios.scenarios import Scenario\n",
    "from flood_adapt import Settings\n",
    "from flood_adapt.objects.strategies.strategies import Strategy\n",
    "from flood_adapt import unit_system as us"
   ]
  },
  {
   "cell_type": "markdown",
   "id": "c18aaad0",
   "metadata": {},
   "source": [
    "## **Step 1**: 🚀 Getting started - Initiate the database"
   ]
  },
  {
   "cell_type": "markdown",
   "id": "6e0fbef4",
   "metadata": {},
   "source": [
    "Let's start with initiating the database and `FloodAdapt` class. \n",
    "1. Initiate the database `Settings` class by defining the `database_root` and `database_name`\n",
    "2. Initiate the `FloodAdapt` class by parsing the `Settings().database_path`"
   ]
  },
  {
   "cell_type": "code",
   "execution_count": 2,
   "id": "385634d0",
   "metadata": {},
   "outputs": [],
   "source": [
    "# Set up the settings for the database\n",
    "STATIC_DATA_DIR = Path(\"../_data/examples/static-data\").resolve()\n",
    "Settings(\n",
    "    DATABASE_ROOT=Path(\"../_data/examples\").resolve(),\n",
    "    DATABASE_NAME=\"charleston_test\"\n",
    ")\n",
    "\n",
    "# Create the FloodAdapt instance\n",
    "fa = FloodAdapt(Settings().database_path)"
   ]
  },
  {
   "cell_type": "markdown",
   "id": "eb6d41b3",
   "metadata": {},
   "source": [
    "## **Step 2**: 🌊 Events - Create a synthetic Event"
   ]
  },
  {
   "cell_type": "markdown",
   "id": "d0ff7ec2",
   "metadata": {},
   "source": [
    "Events in FloodAdapt are categorized into different forcings:\n",
    "1. **Wind**\n",
    "2. **Rainfall**\n",
    "3. **Discharge**\n",
    "4. **Water Level**\n",
    "\n",
    "If you want to learn more about the individual forcings in FloodAdapt, please go and read the section on [**Events**](https://deltares-research.github.io/FloodAdapt/4_user_guide/events/) in the FloodAdapt documentation.\n",
    "\n",
    "When creating an event we need to create an `Event` object with the following inputs:  \n",
    "`name`: The name of the event  \n",
    "`description` (optional): The description of the event  \n",
    "`time`: An object that captures the start_time and end_time  \n",
    "`forcings`: A dictionary the collects the objects for each forcing.\n",
    "\n",
    "In this event example we will create an event with the following `forcings`:  \n",
    "        `WindConstant`: Define a value for a constant wind speed (mps) and direction (degrees)  \n",
    "        `RainfallConstant`: Define a value for a constant rainfall (mm/hr)  \n",
    "        `DischargeConstant`: Define the x and y coordinates of the discharge point of the Cooper River and a value for a constant mean discharge (cfs) in the River- and Discharge model (same value)  \n",
    "        `WaterlevelSynthetic SurgeModel`: Define a peak time (h), peak value in (m) and duration (d)  \n",
    "        `WaterlevelSynthetic TideModel`: Define the harmonic amplitude (m), harmonic period (h) and harmonic phase (h)   \n",
    "\n",
    "For a complete guide on all the possible event inputs and options check out the notebook [**eventblablab**](nolink)."
   ]
  },
  {
   "cell_type": "markdown",
   "id": "a8e5d1a5",
   "metadata": {},
   "source": [
    "### **Step 2.1**: Create a Historical Hurricane Event"
   ]
  },
  {
   "cell_type": "markdown",
   "id": "554fd916",
   "metadata": {},
   "source": [
    "In FloodAdapt we can re-create and edit historical hurricanes and explore their impacts with altered parameters to answer community questions e.g. what would have happened if the hurrican made landfall further south/north?\n",
    "To create a hurricane we need to do he followin steps:\n",
    "1. **Set a time frame**\n",
    "2. **Define the waterlevel**\n",
    "3. **Obtain the hurricane track**\n",
    "4. **Add rainfall** \n",
    "5. **Add wind**\n",
    "6. **Add River discharge**\n",
    "\n",
    "For a detailed description on how to create a hurricane event go to the [event notebook]()"
   ]
  },
  {
   "cell_type": "code",
   "execution_count": null,
   "id": "24ff3fbd",
   "metadata": {},
   "outputs": [],
   "source": [
    "# Create an time frame for the simulation\n",
    "start_time = datetime(year=2025, month=1, day=1)\n",
    "end_time = datetime(year=2025, month=1, day=2)\n",
    "time_frame = TimeFrame(start_time=start_time, end_time=end_time)\n",
    "\n",
    "# Define Water Level Forcing\n",
    "water_levels = f.waterlevels.WaterlevelModel()\n",
    "\n",
    "# Obtain a hurricane track\n",
    "## Get the cyclone database\n",
    "cyclone_db = fa.database.static.get_cyclone_track_database()\n",
    "ian_index = cyclone_db.list_names().index(\"IAN\")\n",
    "\n",
    "## Not all cyclone tracks have names, in addition to duplicate names existing, so it is better to use the index\n",
    "track = fa.get_cyclone_track_by_index(index=ian_index) \n",
    "track_file = STATIC_DATA_DIR / \"IAN.cyc\"\n",
    "track.write_track(filename=track_file, fmt=\"ddb_cyc\")\n",
    "\n",
    "## Optionally translate the cyclone track from what is defined in the file\n",
    "translation = TranslationModel(\n",
    "    eastwest_translation=us.UnitfulLength(value=3000, units=us.UnitTypesLength.meters),\n",
    "    northsouth_translation=us.UnitfulLength(value=5000, units=us.UnitTypesLength.meters),\n",
    ")\n",
    "\n",
    "# We want to include the rainfall and wind from the hurricane track\n",
    "rainfall = f.rainfall.RainfallTrack(path=track_file)\n",
    "wind = f.wind.WindTrack(path=track_file)\n",
    "\n",
    "# The available rivers are defined in the hazard model when creating the database.\n",
    "# You cannot add new rivers to the model in an event, you can only set the discharge of each given river.\n",
    "river = fa.database.site.sfincs.river[0]\n",
    "\n",
    "discharge = f.discharge.DischargeConstant(\n",
    "    river=river,\n",
    "    discharge=us.UnitfulDischarge(value=100, units=us.UnitTypesDischarge.cms)\n",
    ")\n",
    "\n",
    "# Inspect\n",
    "df = discharge.to_dataframe(time_frame=time_frame)\n",
    "df.plot(title=\"Constant Discharge River\", xlabel=\"Time\", ylabel=\"Discharge (cms)\", legend=True, figsize=(5, 2))"
   ]
  },
  {
   "cell_type": "code",
   "execution_count": null,
   "id": "51ce936f",
   "metadata": {},
   "outputs": [],
   "source": [
    "# Create a hurricaneEvent with the forcings and time frame\n",
    "event = HurricaneEvent(\n",
    "    name=\"example_hurricane_event\",\n",
    "    time=time_frame,\n",
    "    forcings = {\n",
    "        # The keys of the dictionary are the forcing types, and the values are lists of the corresponding forcing objects.\n",
    "        f.forcing.ForcingType.WATERLEVEL: [water_levels],\n",
    "        f.forcing.ForcingType.RAINFALL: [rainfall],\n",
    "        f.forcing.ForcingType.WIND: [wind],\n",
    "        f.forcing.ForcingType.DISCHARGE: [discharge],\n",
    "    },\n",
    "    track_name=track.name,\n",
    "    hurricane_translation=translation,\n",
    ")"
   ]
  },
  {
   "cell_type": "markdown",
   "id": "efafa7ba",
   "metadata": {},
   "source": [
    "💾 You created your first `Event` object! Let's **save** it in the database. "
   ]
  },
  {
   "cell_type": "code",
   "execution_count": null,
   "id": "957e522d",
   "metadata": {},
   "outputs": [],
   "source": [
    "# Save the event to the database\n",
    "fa.save_event(event=event)"
   ]
  },
  {
   "cell_type": "markdown",
   "id": "d957ab90",
   "metadata": {},
   "source": [
    "## **Step 3**: 📈 Projections - Create a projection"
   ]
  },
  {
   "cell_type": "markdown",
   "id": "2b05001f",
   "metadata": {},
   "source": [
    "**Projections** in FloodAdapt allow us to adjust our model to future conditions such as sea level rise or/and population growth. If you want to learn more about projections in FlooAdapt please go to the section [\"Projections\"](https://deltares-research.github.io/FloodAdapt/4_user_guide/projections/) in the FloodAdapt documentation. \n",
    "\n",
    "In this example we will create a sea level rise (SLR) projection of 2ft.  \n",
    "The projections can be divided into two categories:\n",
    "1. **Physical Projections**: Sea level rise, intensified precipitation, increased storm frequency\n",
    "2. **Socio economic change**: Population growth (existing built area, new development area), economic growth\n",
    "\n",
    "When creating a projection we need to create a `Projection` object with the following inputs:  \n",
    "`name`: The name of the projection  \n",
    "`description` (optional): The description of the projection  \n",
    "`PhysicalProjection`: An object that captures the pysical projection.  \n",
    "`SocioEconomicChange`: An object that captures the socio economic change.  \n",
    "\n",
    "In this example we will make use of **sea level rise scenarios** for a `PhysicalProjection` and explore **population growth** as `SocioEconomicChange`.  "
   ]
  },
  {
   "cell_type": "markdown",
   "id": "bfbbf92e",
   "metadata": {},
   "source": [
    "First, let's get the sea level rise scenarios from the database.  \n",
    "A FloodAdapt database can include sea level rise scenarios, describing a timeline of future sea level rise relative to a reference year. If these scenarios are available in the database the get_slr_scn_names() method will return a list of the available scenarios. To get a deeper understanding on how you can create different Projections read the [**projectionblablab**](nolink) notebook."
   ]
  },
  {
   "cell_type": "code",
   "execution_count": null,
   "id": "69258cb1",
   "metadata": {},
   "outputs": [],
   "source": [
    "# Get the Scenarios\n",
    "fa.get_slr_scn_names()\n",
    "\n",
    "# Interpolate until 2050\n",
    "fa.interp_slr(slr_scenario=\"ssp585\", year=2050)"
   ]
  },
  {
   "cell_type": "markdown",
   "id": "09966123",
   "metadata": {},
   "source": [
    "Use that projection in the Projection Object"
   ]
  },
  {
   "cell_type": "code",
   "execution_count": null,
   "id": "4929ff62",
   "metadata": {},
   "outputs": [],
   "source": [
    "proj_2050 = Projection(name=\"proj_2050\",\n",
    "                    description=\"2050 projection\", \n",
    "                    physical_projection= PhysicalProjection(sea_level_rise=us.UnitfulLength(value=fa.interp_slr(slr_scenario=\"ssp585\", year=2050), units=us.UnitTypesLength.meters)), \n",
    "                    socio_economic_change=SocioEconomicChange()\n",
    "                    )\n",
    "proj_2050"
   ]
  },
  {
   "cell_type": "markdown",
   "id": "5f13cc3a",
   "metadata": {},
   "source": [
    "Now we can create the population growth projection. To capture population growth, we will create a new development area and parse the `population_growth_existing` and `population_growth_new`. You find a detalied explanation of these input parameters in the [FloodAdapt User Guide](../4_user_guide/projections/socioEconomic.qmd). "
   ]
  },
  {
   "cell_type": "markdown",
   "id": "3e9e3b99",
   "metadata": {},
   "source": [
    "We can have a quick look at the new development area."
   ]
  },
  {
   "cell_type": "code",
   "execution_count": null,
   "id": "d4e2e0a9",
   "metadata": {},
   "outputs": [],
   "source": [
    "new_dev = gpd.read_file(\"data/new_dev.geojson\")\n",
    "new_dev.explore()"
   ]
  },
  {
   "cell_type": "markdown",
   "id": "d6d062f5",
   "metadata": {},
   "source": [
    "Now we can create the `SocioEconomicChange`object as part of the `Projection` object we created above. Then we are ready to save the projection."
   ]
  },
  {
   "cell_type": "code",
   "execution_count": null,
   "id": "fa0681d7",
   "metadata": {},
   "outputs": [],
   "source": [
    "# Create new development area\n",
    "proj_2050.socio_economic_change = SocioEconomicChange(population_growth_existing=10,\n",
    "                                                              population_growth_new=5,\n",
    "                                                              new_development_shapefile=\"data/new_dev.geojson\")"
   ]
  },
  {
   "cell_type": "markdown",
   "id": "67d52add",
   "metadata": {},
   "source": [
    "💾 You created your first `Projection` object! Let's **save** it in the database. "
   ]
  },
  {
   "cell_type": "code",
   "execution_count": null,
   "id": "e6006b3a",
   "metadata": {},
   "outputs": [],
   "source": [
    "# Save projection\n",
    "fa.save_projection(proj_2050)"
   ]
  },
  {
   "cell_type": "markdown",
   "id": "b27ba1f7",
   "metadata": {},
   "source": [
    "## **Step 4**: 🧱 Measures - Create a measure"
   ]
  },
  {
   "cell_type": "markdown",
   "id": "7b8aa165",
   "metadata": {},
   "source": [
    "**Measures** in FloodAdapt enable the user to investigate the efficiency of these mitigation measures on the spot. Measures can be hydraulic, green infrastructure or be on the building level. You can read more about measures in the section [\"Measures\"](https://deltares-research.github.io/FloodAdapt/4_user_guide/measures/) in the FloodAdapt documentation. \n",
    "\n",
    "In this example we will create a **hydraulic measure**, a sea wall of 12ft.  \n",
    "  \n",
    "When creating a sea wall as measure we need to create a `Measure` object with the following inputs:\n",
    "\n",
    "`name`: The name of the measure  \n",
    "`description` (optional): The description of the measure  \n",
    "`type`: The type of the measure. In this example a floodwall object.  \n",
    "`selection type`: The type of shape. In this example we define a polyline for the shape of the seawall  \n",
    "`polygon file`: The file path to the spatial file of the seawall  \n",
    "`elevation`: The elevation of the sea wall. Define a value and the unit (ft,m)  \n"
   ]
  },
  {
   "cell_type": "code",
   "execution_count": null,
   "id": "7411c10a",
   "metadata": {},
   "outputs": [],
   "source": [
    "# Create a measure object\n",
    "attrs_measure_phy = FloodWall(\n",
    "        name= \"Seawall_12ft\",\n",
    "        description = \"12ft Seawall\",\n",
    "        type = MeasureType.floodwall,\n",
    "        selection_type = SelectionType.polyline,\n",
    "        polygon_file = str(r\"C:\\Users\\rautenba\\repos\\Database\\charleston_full\\input\\measures\\seawall\\seawall.geojson\"),\n",
    "        elevation = us.UnitfulLength(value=12, units=us.UnitTypesLength.feet))"
   ]
  },
  {
   "cell_type": "markdown",
   "id": "bba33b31",
   "metadata": {},
   "source": [
    "💾 You created your first `Measure` object! Let's **save** it in the database. "
   ]
  },
  {
   "cell_type": "code",
   "execution_count": null,
   "id": "9c7df41d",
   "metadata": {},
   "outputs": [],
   "source": [
    "# Create the measure\n",
    "fa.create_measure(attrs_measure_phy.model_dump(exclude_none=True), type=attrs_measure_phy.type)\n",
    "\n",
    "# Save the measure\n",
    "fa.save_measure(attrs_measure_phy)"
   ]
  },
  {
   "cell_type": "markdown",
   "id": "8c108a00",
   "metadata": {},
   "source": [
    "Let's add another measure on the **building level**. We can elevate buildings in a specific area to mititgate the impact on these assets.\n",
    "\n",
    "When elevating biuldings as measure we need to create a `Measure` object with the following inputs:  \n",
    "`name`: The name of the measure  \n",
    "`description` (optional): The description of the measure  \n",
    "`type`: The type of the measure. In this example an Elevate object.  \n",
    "`selection type`: The type of shape. In this example we define a polygone for selecting the area of affected buildings  \n",
    "`polygon file`: The file path to the spatial file of the to be elevated area  \n",
    "`property type`: The type of building that sholud be elevated. Define the building type (residnetial, commercial...) of your Fiat Model you wish to elevate. In this example we want to elevate all buildings.  \n",
    "`elevation`: The elevation of the buildings. Define a value, the unit (ft,m) and the vertical reference for the elevation (datum, floodmap).  "
   ]
  },
  {
   "cell_type": "code",
   "execution_count": null,
   "id": "4f905d6a",
   "metadata": {},
   "outputs": [],
   "source": [
    "# Create a measure object\n",
    "attrs_measure_elev = Elevate(\n",
    "        name= \"Elevated_homes\",\n",
    "        description = \"Elevate residential buildings\",\n",
    "        type = MeasureType.elevate_properties,\n",
    "        selection_type = SelectionType.polygon,\n",
    "        polygon_file = str(r\"C:\\Users\\rautenba\\repos\\Database\\charleston_full\\input\\measures\\raise_property_polygon\\raise_property_polygon.geojson\"),\n",
    "        property_type = \"ALL\",\n",
    "        elevation = us.UnitfulLengthRefValue(value=1, units=us.UnitTypesLength.feet, type = us.VerticalReference.floodmap))\n",
    "\n",
    "# Create the measure\n",
    "fa.create_measure(attrs_measure_elev.model_dump(exclude_none=True), type=attrs_measure_elev.type)\n",
    "\n",
    "# Save the measure\n",
    "fa.save_measure(attrs_measure_elev)"
   ]
  },
  {
   "cell_type": "markdown",
   "id": "bf3065e2",
   "metadata": {},
   "source": [
    "## **Step 5**: 🧩 Strategies - Create a strategy"
   ]
  },
  {
   "cell_type": "markdown",
   "id": "070e7fc4",
   "metadata": {},
   "source": [
    "**Strategies** in FloodAdapt are a combination of measures. When we compile multiple measures in a strategy, we first have to create all te measures we would like to use. Find out more about strategies in the section [\"Strategies\"](https://deltares-research.github.io/FloodAdapt/4_user_guide/strategy/) in the FloodAdapt documentation. \n",
    "\n",
    "In this example we will create a strategy with the measures we created above, a **sea wall** of 12ft and **elevating homes** 1ft above the floodmap reference in a specific area.\n",
    "  \n",
    "When creating a strategy we need to create a `Strategy` object with the following inputs:  \n",
    "`name`: The name of the strategy  \n",
    "`description` (optional): The description of the strategy  \n",
    "`measures`: A list of all the measure object names, you would like to use in that strategy  "
   ]
  },
  {
   "cell_type": "code",
   "execution_count": null,
   "id": "d5610082",
   "metadata": {},
   "outputs": [],
   "source": [
    "# Create a strategy object\n",
    "attrs_strategy = Strategy(\n",
    "        name= \"seawall_and_elev_build\",\n",
    "        description = \"Strategy with a seawall and elevation of buildings\",\n",
    "        measures = [attrs_measure_phy.name, attrs_measure_elev.name],\n",
    "        )"
   ]
  },
  {
   "cell_type": "markdown",
   "id": "9c0252b6",
   "metadata": {},
   "source": [
    "💾 You created your first `Strategy` object! Let's **save** it in the database. "
   ]
  },
  {
   "cell_type": "code",
   "execution_count": null,
   "id": "ca770396",
   "metadata": {},
   "outputs": [],
   "source": [
    "# Save the stategy\n",
    "fa.save_strategy(attrs_strategy )"
   ]
  },
  {
   "cell_type": "markdown",
   "id": "5d60e313",
   "metadata": {},
   "source": [
    "## **Step 6**:🗺️ Create a scenario"
   ]
  },
  {
   "cell_type": "markdown",
   "id": "beeb7271",
   "metadata": {},
   "source": [
    "We reached the final step where we can put all the building blocks together to create a complete scenario!  \n",
    "A scenario is composed of:\n",
    "\n",
    "**1. Event**  \n",
    "**2. Projection**  \n",
    "**3. Strategy (Measures)**\n",
    "\n",
    "If you want to read more about the composition of scenarios, go read the [**Scenario**](https://deltares-research.github.io/FloodAdapt/4_user_guide/scenarios/)-section of the FloodAdapt documentation. \n",
    "\n",
    "In this example we will create a scenario with the event, projection and strategy we created above. \n",
    "When creating a scenario we need to create a `Scenario` object with the following inputs:  \n",
    "`name`: The name of the strategy  \n",
    "`description` (optional): The description of the scenario  \n",
    "`event`: The name of the event object  \n",
    "`projection`: The name of the projection object   \n",
    "`strategy`: The name of the strategy object  "
   ]
  },
  {
   "cell_type": "code",
   "execution_count": null,
   "id": "95185c51",
   "metadata": {},
   "outputs": [],
   "source": [
    "# Create a scenario object\n",
    "scenario = Scenario(\n",
    "    name = \"slr_nearshore_seawall_elev_build\",\n",
    "    description = \"Nearshore event with SLR projection and seawall + elevated buildings strategy\",\n",
    "    event =  attrs_event.name,\n",
    "    projection =  attrs_projection.name,\n",
    "    strategy = attrs_strategy.name,\n",
    ")"
   ]
  },
  {
   "cell_type": "markdown",
   "id": "246a04f1",
   "metadata": {},
   "source": [
    "💾 You created your first `Scenario` object! Let's **save** it in the database. "
   ]
  },
  {
   "cell_type": "code",
   "execution_count": null,
   "id": "87bd548b",
   "metadata": {},
   "outputs": [],
   "source": [
    "# Save the scenario\n",
    "fa.save_scenario(scenario)"
   ]
  },
  {
   "cell_type": "markdown",
   "id": "42855768",
   "metadata": {},
   "source": [
    "## **Final step**: 🏃‍♀️ Run a scenario\n",
    "\n",
    "We are ready to **run** the scenario! Simply use the **API** to run the scenario."
   ]
  },
  {
   "cell_type": "code",
   "execution_count": null,
   "id": "bb161703",
   "metadata": {},
   "outputs": [],
   "source": [
    "# Run the scenario\n",
    "fa.run_scenario(scenario.name)"
   ]
  },
  {
   "cell_type": "markdown",
   "id": "58e07e77",
   "metadata": {},
   "source": [
    "### **Finished!** \n",
    "**Congratulations** you created and ran your first FloodAdapt scenario!"
   ]
  },
  {
   "cell_type": "markdown",
   "id": "68089740",
   "metadata": {},
   "source": [
    "## **Output**: 🕵️‍♀️ Let's inspect the output"
   ]
  },
  {
   "cell_type": "markdown",
   "id": "0d4797ef",
   "metadata": {},
   "source": [
    "#### **1. Output files**\n",
    "In your scenario output folder you should see the following files:\n",
    "- **Flooding**: Folder\n",
    "- **Impacts**: Folder\n",
    "- **finished.txt**: text file\n",
    "- **Infometrics_\"*scenario_name*\".csv**: csv file of the overall infometrics\n",
    "- **Infometrics_\"*scenario_name*\"_\"*aggregation_layer*\".csv**: csv file  of the aggregated areas. You have one file per aggregation level. In this example we have two files. \n",
    "- **logfile_\"*scenario_name*\".log**: The log of the scenario run\n",
    "- **\"*scenario_name*\"_metrics.html**: A metric file of your scenario output\n",
    "\n",
    "The figure below presents a visual overview of all the output files that should be in your database after running the scenario\n",
    "<div>\n",
    "<img src=\"../_static/images/output_folder_event.png\" width=\"500\"/>\n",
    "</div>"
   ]
  },
  {
   "cell_type": "markdown",
   "id": "7a5c8fb6",
   "metadata": {},
   "source": [
    "#### **2. Floodmap** - Inspect the floodmap\n",
    "\n",
    "We can open and inspect the floodmap geotiff."
   ]
  },
  {
   "cell_type": "code",
   "execution_count": null,
   "id": "e80f229e",
   "metadata": {},
   "outputs": [],
   "source": [
    "root = Path(\"../_data/examples/charleston_test\").resolve()\n",
    "\n",
    "# Open floodmap geotiff\n",
    "data_name = root / \"output\"/ \"scenarios\" / \"slr_nearshore_seawall_elev_build\" / \"Flooding\" / \"FloodMap_slr_nearshore_seawall_elev_build.tif\"\n",
    "tiff = rasterio.open(data_name)\n",
    "\n",
    "# Plot floodmap\n",
    "rasterio.plot.show(tiff, title = \"Floodmap nearshore scenario with 2ft SLR, seawall & elevated buildings\", cmap=\"Blues\")"
   ]
  },
  {
   "cell_type": "markdown",
   "id": "f2af65c5",
   "metadata": {},
   "source": [
    "#### **3. Economic Impacts** - Inspect the economic impacts on the building level and aggregated\n",
    "\n",
    "We can plot the economic impacts on the building level and on the aggregated level."
   ]
  },
  {
   "cell_type": "code",
   "execution_count": null,
   "id": "bdee59e4",
   "metadata": {},
   "outputs": [],
   "source": [
    "## Building Impacts\n",
    "# Open building impacts\n",
    "gdf_impacts_buildings = gpd.read_file(root / \"output\" / \"scenarios\" / \"slr_nearshore_seawall_elev_build\" / \"Impacts\" / \"Impacts_building_footprints_slr_nearshore_seawall_elev_build.gpkg\")\n",
    "\n",
    "# Reproject buildings crs to Web Mercator\n",
    "gdf_impacts_buildings =gdf_impacts_buildings.to_crs(epsg=3857)\n",
    "\n",
    "# Plot building impacts\n",
    "ax = gdf_impacts_buildings.plot(figsize=(10, 10),column = \"Total Damage\",cmap=\"Reds\", legend = True, vmin= 0, vmax= 60000, legend_kwds={\"label\": \"Total Damages ($) Buildings\",\"orientation\": \"horizontal\"})\n",
    "cx.add_basemap(ax)\n",
    "ax.plot()\n",
    "\n",
    "## Aggregated Impacts\n",
    "# Open aggregated impacts\n",
    "gdf_impacts_aggr = gpd.read_file(root / \"output\" / \"scenarios\" / \"slr_nearshore_seawall_elev_build\" / \"Impacts\" / \"Impacts_aggregated_slr_nearshore_seawall_elev_build_aggr_lvl_2.gpkg\")\n",
    "\n",
    "# Reproject buildings crs to Web Mercator\n",
    "gdf_impacts_aggr = gdf_impacts_aggr.to_crs(epsg=3857)\n",
    "# Plot aggregated impacts\n",
    "ax = gdf_impacts_aggr.plot(figsize=(10, 10),column = \"TotalDamageEvent\",cmap=\"Reds\", legend = True, vmin= 0, vmax= 10000000, edgecolor=\"k\", legend_kwds={\"label\": \"Total Damages ($) per aggregatetion area\", \"orientation\": \"horizontal\"})\n",
    "cx.add_basemap(ax)\n",
    "ax.plot()"
   ]
  },
  {
   "cell_type": "markdown",
   "id": "97486347",
   "metadata": {},
   "source": [
    "#### **4. Infometrics & Infographics**\n",
    "Which **infometrics** and **infographics** to generate can be defined in the infometrics andd infographics and configuration file in your database */Database/charleston_full/static/templates/infometrics/\"\"*, */Database/charleston_full/static/templates/infographics/\"\".toml*, respectively.\n",
    "\n",
    "The figure below shows the infographics of the scenario we created above. \n",
    "<div>\n",
    "<img src=\"../_static/images/example_chaleston3.png\" width=\"600\"/>\n",
    "</div>"
   ]
  }
 ],
 "metadata": {
  "kernelspec": {
   "display_name": "docs",
   "language": "python",
   "name": "python3"
  },
  "language_info": {
   "codemirror_mode": {
    "name": "ipython",
    "version": 3
   },
   "file_extension": ".py",
   "mimetype": "text/x-python",
   "name": "python",
   "nbconvert_exporter": "python",
   "pygments_lexer": "ipython3",
   "version": "3.11.12"
  }
 },
 "nbformat": 4,
 "nbformat_minor": 5
}
