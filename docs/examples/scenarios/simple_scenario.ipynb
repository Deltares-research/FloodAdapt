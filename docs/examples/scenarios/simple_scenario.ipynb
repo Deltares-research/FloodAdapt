{
 "cells": [
  {
   "cell_type": "markdown",
   "id": "0",
   "metadata": {},
   "source": [
    "# 📘 Example: Simple Scenario"
   ]
  },
  {
   "cell_type": "markdown",
   "id": "1",
   "metadata": {},
   "source": [
    "In this notebook we demonstrate the **workflow** on how you can build a simple **FloodAdapt scenario** in Charleston, USA, using the **API**.  "
   ]
  },
  {
   "cell_type": "markdown",
   "id": "2",
   "metadata": {
    "vscode": {
     "languageId": "plaintext"
    }
   },
   "source": [
    "In this notebook we will cover the following steps:\n",
    "\n",
    "1. Create a synthetic **event** \n",
    "2. Create a **projection** - Sea level rise (SLR)\n",
    "3. Create a **measure** and **strategy** - Seawall\n",
    "4. Create and run a **scenario**\n",
    "6. Investigate the **output**\n"
   ]
  },
  {
   "cell_type": "markdown",
   "id": "3",
   "metadata": {
    "vscode": {
     "languageId": "plaintext"
    }
   },
   "source": [
    "## Import libraries"
   ]
  },
  {
   "cell_type": "code",
   "execution_count": null,
   "id": "4",
   "metadata": {},
   "outputs": [],
   "source": [
    "import geopandas as gpd\n",
    "import rasterio\n",
    "import rasterio.plot\n",
    "import contextily as cx\n",
    "\n",
    "from datetime import datetime\n",
    "from pathlib import Path\n",
    "from IPython.display import HTML\n",
    "\n",
    "from flood_adapt.objects.forcing import (\n",
    "    ForcingType,\n",
    "    WindConstant,\n",
    "    RainfallConstant,\n",
    "    WaterlevelSynthetic,\n",
    "    DischargeConstant,\n",
    "    TimeseriesFactory,\n",
    "    ShapeType,\n",
    "    SurgeModel,\n",
    "    TideModel,\n",
    ")\n",
    "from flood_adapt.objects import (\n",
    "    Elevate,\n",
    "    FloodWall, \n",
    "    TimeFrame, \n",
    "    Projection, \n",
    "    PhysicalProjection, \n",
    "    SocioEconomicChange, \n",
    "    Scenario, \n",
    "    Strategy,\n",
    "    SyntheticEvent,\n",
    "    SelectionType\n",
    ")\n",
    "from flood_adapt.config.sfincs import RiverModel\n",
    "from flood_adapt import FloodAdapt, Settings\n",
    "from flood_adapt import unit_system as us"
   ]
  },
  {
   "cell_type": "markdown",
   "id": "5",
   "metadata": {},
   "source": [
    "## 🚀 **Step 1**. Reading-in the FloodAdapt database"
   ]
  },
  {
   "cell_type": "markdown",
   "id": "6",
   "metadata": {},
   "source": [
    "Let's start with initiating the database and FloodAdapt class. \n",
    "1. Initiate the database class [`Settings`](../../api_ref/Settings.qmd) by defining the `DATABASE_ROOT` and `DATABASE_NAME`.\n",
    "2. Initiate the [`FloodAdapt`](../../api_ref/FloodAdapt.qmd) class by parsing the `Settings().database_path`."
   ]
  },
  {
   "cell_type": "code",
   "execution_count": null,
   "id": "7",
   "metadata": {},
   "outputs": [],
   "source": [
    "# Define paths\n",
    "STATIC_DATA_DIR = Path(\"../../_data/examples/static-data/3_Measures\").resolve()\n",
    "SFINCS_BIN_PATH = Path(\"../../_data/system/win-64/sfincs/sfincs.exe\").resolve()\n",
    "FIAT_BIN_PATH = Path(\"../../_data/system/win-64/fiat/fiat.exe\").resolve()\n",
    "\n",
    "# Configure the settings\n",
    "settings = Settings(\n",
    "    DATABASE_ROOT=Path(\"../../_data/examples\").resolve(),\n",
    "    DATABASE_NAME=\"charleston_test\",\n",
    "    VALIDATE_BINARIES=True,\n",
    "    FIAT_BIN_PATH=FIAT_BIN_PATH,\n",
    "    SFINCS_BIN_PATH=SFINCS_BIN_PATH,\n",
    ")\n",
    "\n",
    "# Create the FloodAdapt instance\n",
    "fa = FloodAdapt(settings.database_path)"
   ]
  },
  {
   "cell_type": "markdown",
   "id": "8",
   "metadata": {},
   "source": [
    "## 🌊 **Step 2**. Events - Create a synthetic Event"
   ]
  },
  {
   "cell_type": "markdown",
   "id": "9",
   "metadata": {},
   "source": [
    "Events in FloodAdapt are categorized into different forcings:\n",
    "1. **Wind**\n",
    "2. **Rainfall**\n",
    "3. **Discharge**\n",
    "4. **Water Level**\n",
    "\n",
    "If you want to learn more about the individual forcings in FloodAdapt, please go and read the section on [**Events**](../../4_user_guide/events/index.qmd) in the FloodAdapt documentation.\n",
    "\n",
    "When creating an event, we need to create an [`Event`](../../api_ref/Event.qmd) object. Depending on which type of event we create, we select a different class. In this example we create a **synthetic event**, therefore we use the [`SyntheticEvent`](../../api_ref/objects/SyntheticEvent.qmd) class. \n",
    "\n",
    "To create the `SyntheticEvent` object we use the `time` attribute to define the event duration. This should be parsed as a [`TimeFrame`](../../api_ref/TimeFrame.qmd) object. In the [`forcings`](../../api_ref/IForcing.qmd) attribute we aggregated the different forcing objects in a dictionary.  \n",
    "\n",
    "In this event example we will create an event with the following `forcings`:  \n",
    "🌬️ `WindConstant`: Define a value for a constant wind speed (mps) and direction (degrees)  \n",
    "🌧️ `RainfallConstant`: Define a value for a constant rainfall (mm/hr)  \n",
    "💦 `DischargeConstant`: Define the x and y coordinates of the discharge point of the Cooper River and a value for a constant mean discharge (cfs) in the River- and Discharge model (same value)  \n",
    "🌊 `WaterlevelSynthetic SurgeModel`: Define a peak time (h), peak value in (m) and duration (d)  \n",
    "↔️ `WaterlevelSynthetic TideModel`: Define the harmonic amplitude (m), harmonic period (h) and harmonic phase (h)  \n",
    "\n",
    "For a complete guide on all the possible event options and inputs check out the [**notebook**](../events/index.qmd) specifically on **events**.  "
   ]
  },
  {
   "cell_type": "code",
   "execution_count": null,
   "id": "10",
   "metadata": {},
   "outputs": [],
   "source": [
    "# Create a synthetic event object\n",
    "event = SyntheticEvent(\n",
    "    name=\"synthetic_nearshore\",\n",
    "    description = \"This is a synthetic nearshore event\",\n",
    "    time=TimeFrame(\n",
    "        start_time=datetime(2020, 1, 1),\n",
    "        end_time=datetime(2020, 1, 2),\n",
    "    ),\n",
    "    forcings={\n",
    "        ForcingType.WIND: [\n",
    "            WindConstant(\n",
    "                speed=us.UnitfulVelocity(value=5, units=us.UnitTypesVelocity.mps),\n",
    "                direction=us.UnitfulDirection(\n",
    "                    value=60, units=us.UnitTypesDirection.degrees\n",
    "                ),\n",
    "            )\n",
    "        ],\n",
    "        ForcingType.RAINFALL: [\n",
    "            RainfallConstant(\n",
    "                intensity=us.UnitfulIntensity(\n",
    "                    value=20, units=us.UnitTypesIntensity.mm_hr\n",
    "                )\n",
    "            )\n",
    "        ],\n",
    "        ForcingType.DISCHARGE: [\n",
    "            DischargeConstant(\n",
    "                river=RiverModel(\n",
    "                    name=\"cooper\",\n",
    "                    description=\"Cooper River\",\n",
    "                    x_coordinate=595546.3,\n",
    "                    y_coordinate=3675590.6,\n",
    "                    mean_discharge=us.UnitfulDischarge(\n",
    "                        value=5000, units=us.UnitTypesDischarge.cfs\n",
    "                    ),\n",
    "                ),\n",
    "                discharge=us.UnitfulDischarge(\n",
    "                    value=5000, units=us.UnitTypesDischarge.cfs\n",
    "                ),\n",
    "            )\n",
    "        ],\n",
    "        ForcingType.WATERLEVEL: [\n",
    "            WaterlevelSynthetic(\n",
    "                surge=SurgeModel(\n",
    "                    timeseries=TimeseriesFactory.from_args(\n",
    "                        shape_type=ShapeType.triangle,\n",
    "                        duration=us.UnitfulTime(\n",
    "                            value=1, units=us.UnitTypesTime.days\n",
    "                        ),\n",
    "                        peak_time=us.UnitfulTime(\n",
    "                            value=8, units=us.UnitTypesTime.hours\n",
    "                        ),\n",
    "                        peak_value=us.UnitfulLength(\n",
    "                            value=1, units=us.UnitTypesLength.meters\n",
    "                        ),\n",
    "                    )\n",
    "                ),\n",
    "                tide=TideModel(\n",
    "                    harmonic_amplitude=us.UnitfulLength(\n",
    "                        value=1, units=us.UnitTypesLength.meters\n",
    "                    ),\n",
    "                    harmonic_period=us.UnitfulTime(\n",
    "                        value=12.4, units=us.UnitTypesTime.hours\n",
    "                    ),\n",
    "                    harmonic_phase=us.UnitfulTime(\n",
    "                        value=0, units=us.UnitTypesTime.hours\n",
    "                    ),\n",
    "                ),\n",
    "            )\n",
    "        ],\n",
    "    },\n",
    ")"
   ]
  },
  {
   "cell_type": "markdown",
   "id": "11",
   "metadata": {},
   "source": [
    "### 💾 **Step 2.1**. Saving the event to the database"
   ]
  },
  {
   "cell_type": "code",
   "execution_count": null,
   "id": "12",
   "metadata": {},
   "outputs": [],
   "source": [
    "# Save the event to the database\n",
    "fa.save_event(event)"
   ]
  },
  {
   "cell_type": "markdown",
   "id": "13",
   "metadata": {},
   "source": [
    "## 📈 **Step 3**. Projections - Create a projection"
   ]
  },
  {
   "cell_type": "markdown",
   "id": "14",
   "metadata": {},
   "source": [
    "**Projections** in FloodAdapt allow us to adjust our model to future conditions such as sea level rise or/and population growth. If you want to learn more about projections in FlooAdapt, please go to the section [Projections](../../4_user_guide/projections/index.qmd) in the FloodAdapt documentation. \n",
    "  \n",
    "The projections can be divided into two categories:\n",
    "1. 🌊 **Physical Projections**: Sea level rise, intensified precipitation, increased storm frequency\n",
    "2. 💰 **Socio economic change**: Population growth (existing built area, new development area), economic growth\n",
    "\n",
    "When creating a projection we need to create a [`Projection`](../../api_ref/Projection.qmd) object. The `PhysicalProjection` attribute is parsed as a [`PhysicalProjection`](../../api_ref/PhysicalProjection.qmd) object which captures the physical projection such as sea lvel rise. The `SocioEconomicChange` attribute is parsed as a [`SocioEconomicChange`](../../api_ref/SocioEconomicChange.qmd) object which captures the socioeconomic projection such as population growth. It's not mandatory to parse both projections. If we only want to use one of the two types of projections we can leave the other one blank (). \n",
    "\n",
    "The attributes of the `PhysicalProjection` or `SocioEconomicChange` object define the projection. In this case we parse the attribute `sea_level_rise` to the `PhysicalProjection` object and define the value in [`UnitfulLength`](../../api_ref/UnitfulLength.qmd) and the unit in [`UnitTypesLength`](../../api_ref/UnitTypesLength.qmd).\n",
    "\n",
    "To get a deeper understanding for all the possible projections and their inputs go to the [**notebook**](../projections/index.qmd) specifically about **projections**.\n"
   ]
  },
  {
   "cell_type": "code",
   "execution_count": null,
   "id": "15",
   "metadata": {},
   "outputs": [],
   "source": [
    "# Create a projection object\n",
    "projection = Projection(\n",
    "    name=\"SLR_2ft\",\n",
    "    description = \"This is a 2ft SLR projection\",\n",
    "    physical_projection=PhysicalProjection(\n",
    "        sea_level_rise=us.UnitfulLength(value=2, units=us.UnitTypesLength.feet),\n",
    "    ),\n",
    "    socio_economic_change=SocioEconomicChange(),\n",
    ")"
   ]
  },
  {
   "cell_type": "markdown",
   "id": "16",
   "metadata": {},
   "source": [
    "### 💾 **Step 3.1**. Saving the projection to the database"
   ]
  },
  {
   "cell_type": "code",
   "execution_count": null,
   "id": "17",
   "metadata": {},
   "outputs": [],
   "source": [
    "# Save the projection\n",
    "fa.save_projection(projection)"
   ]
  },
  {
   "cell_type": "markdown",
   "id": "18",
   "metadata": {},
   "source": [
    "## 🧱 **Step 4**. Measures - Create a measure"
   ]
  },
  {
   "cell_type": "markdown",
   "id": "19",
   "metadata": {},
   "source": [
    "**Measures** in FloodAdapt enable the user to mititgate the event impacts and investigate their efficiency on the fly.\n",
    "\n",
    "Measures can be:\n",
    "1. 💦 **Hydraulic** measures on the hazard level\n",
    "2. 🌱 **Green infrastructure** measures on the hazard level\n",
    "3. 🏠 **Impact** measures on the building level.\n",
    "\n",
    "You can read more about measures in the section [Measures](../../4_user_guide/measures/index.qmd) in the FloodAdapt documentation. \n",
    "\n",
    "💦 In this example we will create a **hydraulic measure**, a sea wall of 12ft. To create a measure we need to create a [`Measure`](../../api_ref/Measure.qmd) object. \n",
    "In the attributes we define the measure `type` object, in this example a [`FloodWall`](../../api_ref/objectS/FloodWall.qmd) object. Additionally to the other attributes, we need to parse the `elevation` value as [`UnitfulLength`](../../api_ref/UnitfulLength.qmd) and the unit as [`UnitTypesLength`](../../api_ref/UnitTypesLength.qmd) of the sea wall."
   ]
  },
  {
   "cell_type": "code",
   "execution_count": null,
   "id": "20",
   "metadata": {},
   "outputs": [],
   "source": [
    "# Create a measure object\n",
    "floodwall = FloodWall(\n",
    "    name=\"Seawall_16ft\",\n",
    "    description=\"16ft Seawall\",\n",
    "    selection_type=SelectionType.polyline,\n",
    "    polygon_file=str(Path(STATIC_DATA_DIR / \"seawall.geojson\")),\n",
    "    elevation=us.UnitfulLength(value=16, units=us.UnitTypesLength.feet)\n",
    ")"
   ]
  },
  {
   "cell_type": "markdown",
   "id": "21",
   "metadata": {},
   "source": [
    "🏠 Let's add another measure on the **impact level**. We can elevate buildings in a specific area to mititgate the impact on these assets.\n",
    "\n",
    "When elevating buildings as measure we need to create a [`Elevate`](../../api_ref/objectS/Elevate.qmd) object. we can also specify which building types we wan the measure to be applied to by defining the `property type` attribute. e can parse the building type (residential, commercial...) that is used in our Delft-FIAT Model. In this example we want to elevate all buildings so we parse `ALL`.  \n",
    "\n",
    "To define the `elevation` we need to parse a [`UnitfulLengthRefValue`]() object which consists of a `value` of type float, a `unit` which can be one of the [`UnitTypesLength`](../../api_ref/UnitTypesLength.qmd) and a vertical reference from which point the elevation should be calculated. This sholud be parsed as [`VerticalReference`]() object."
   ]
  },
  {
   "cell_type": "code",
   "execution_count": null,
   "id": "22",
   "metadata": {},
   "outputs": [],
   "source": [
    "# Create a measure object\n",
    "elevate = Elevate(\n",
    "    name=\"Elevated_homes\",\n",
    "    description=\"Elevate residential buildings\",\n",
    "    selection_type=SelectionType.polygon,\n",
    "    polygon_file=str(Path(STATIC_DATA_DIR / \"raise_property_polygon.geojson\")),\n",
    "    property_type=\"ALL\",\n",
    "    elevation=us.UnitfulLengthRefValue(value=1, units=us.UnitTypesLength.feet, type=us.VerticalReference.floodmap)\n",
    ")"
   ]
  },
  {
   "cell_type": "markdown",
   "id": "23",
   "metadata": {},
   "source": [
    "### 💾 **Step 4.1**. Saving the measure to the database"
   ]
  },
  {
   "cell_type": "code",
   "execution_count": null,
   "id": "24",
   "metadata": {},
   "outputs": [],
   "source": [
    "# Save the measure\n",
    "fa.save_measure(floodwall)\n",
    "fa.save_measure(elevate)"
   ]
  },
  {
   "cell_type": "markdown",
   "id": "25",
   "metadata": {},
   "source": [
    "## 🧩 **Step 5**. Strategies - Create a strategy"
   ]
  },
  {
   "cell_type": "markdown",
   "id": "26",
   "metadata": {},
   "source": [
    "**Strategies** are combinations **measures**. They allow us to run an test multiple measures in a single model run. \n",
    "\n",
    "To create a strategy we need to create a [`Strategy`](../../api_ref/Strategy.qmd) object. In the `measures` attribute we parse a list of all the names of the measures that we want to apply in that strategy."
   ]
  },
  {
   "cell_type": "code",
   "execution_count": null,
   "id": "27",
   "metadata": {},
   "outputs": [],
   "source": [
    "# Create a strategy object\n",
    "strategy = Strategy(\n",
    "    name=\"seawall_and_elev_build\",\n",
    "    description=\"Strategy with a seawall and elevation of buildings\",\n",
    "    measures=[floodwall.name, elevate.name],\n",
    ")"
   ]
  },
  {
   "cell_type": "markdown",
   "id": "28",
   "metadata": {},
   "source": [
    "### 💾 **Step 5.1**. Saving the strategy to the database"
   ]
  },
  {
   "cell_type": "code",
   "execution_count": null,
   "id": "29",
   "metadata": {},
   "outputs": [],
   "source": [
    "# Save the strategy\n",
    "fa.save_strategy(strategy)"
   ]
  },
  {
   "cell_type": "markdown",
   "id": "30",
   "metadata": {},
   "source": [
    "## 🗺️ **Step 6**. Create a scenario"
   ]
  },
  {
   "cell_type": "markdown",
   "id": "31",
   "metadata": {},
   "source": [
    "We reached the final step where we can put all the building blocks together to create a complete scenario!  \n",
    "A scenario is composed of:\n",
    "\n",
    "**1. Event**  \n",
    "**2. Projection**  \n",
    "**3. Strategy (Measures)**\n",
    "\n",
    "If you want to read more about the composition of scenarios, go read the [**Scenario**](https://deltares-research.github.io/FloodAdapt/4_user_guide/scenarios/)-section of the FloodAdapt documentation. \n",
    "\n",
    "When creating a scenario we need to create a [`Scenario`](../../api_ref/Scenario.qmd) object in which we parse the name of the `event`, `projection` and `strategy` as attributes."
   ]
  },
  {
   "cell_type": "code",
   "execution_count": null,
   "id": "32",
   "metadata": {},
   "outputs": [],
   "source": [
    "# Create a scenario object\n",
    "scenario = Scenario(\n",
    "    name=\"slr_nearshore_seawall_elev_build\",\n",
    "    description=\"Nearshore event with SLR projection and seawall + elevated buildings strategy\",\n",
    "    event=event.name,\n",
    "    projection=projection.name,\n",
    "    strategy=strategy.name,\n",
    ")"
   ]
  },
  {
   "cell_type": "markdown",
   "id": "33",
   "metadata": {},
   "source": [
    "### 💾 **Step 6.1**. Saving the scenario to the database"
   ]
  },
  {
   "cell_type": "code",
   "execution_count": null,
   "id": "34",
   "metadata": {},
   "outputs": [],
   "source": [
    "# Save the scenario\n",
    "fa.save_scenario(scenario)"
   ]
  },
  {
   "cell_type": "markdown",
   "id": "35",
   "metadata": {},
   "source": [
    "## 🏃‍♀️ **Final step**: Run a scenario\n",
    "\n",
    "We are ready to **run** the scenario! Simply parse the `scenario.name` into the function `run_scenario`."
   ]
  },
  {
   "cell_type": "code",
   "execution_count": null,
   "id": "36",
   "metadata": {},
   "outputs": [],
   "source": [
    "# Run the scenario\n",
    "fa.run_scenario(scenario.name)"
   ]
  },
  {
   "cell_type": "markdown",
   "id": "37",
   "metadata": {},
   "source": [
    "## **Finished!** \n",
    "**Congratulations** you created and ran your first FloodAdapt scenario!"
   ]
  },
  {
   "cell_type": "markdown",
   "id": "38",
   "metadata": {},
   "source": [
    "## **Output**: 🕵️‍♀️ Let's inspect the output"
   ]
  },
  {
   "cell_type": "markdown",
   "id": "39",
   "metadata": {},
   "source": [
    "#### **1. Output files**\n",
    "In your scenario output folder you should see the following files:\n",
    "- **Flooding**: Folder\n",
    "- **Impacts**: Folder\n",
    "- **finished.txt**: text file\n",
    "- **Infometrics_\"*scenario_name*\".csv**: csv file of the overall infometrics\n",
    "- **Infometrics_\"*scenario_name*\"_\"*aggregation_layer*\".csv**: csv file  of the aggregated areas. You have one file per aggregation level. In this example we have two files. \n",
    "- **logfile_\"*scenario_name*\".log**: The log of the scenario run\n",
    "- **\"*scenario_name*\"_metrics.html**: A metric file of your scenario output\n",
    "\n",
    "The figure below presents a visual overview of all the output files that should be in your database after running the scenario\n",
    "<div>\n",
    "<img src=\"../_static/images/output_folder_event.png\" width=\"500\"/>\n",
    "</div>"
   ]
  },
  {
   "cell_type": "markdown",
   "id": "40",
   "metadata": {},
   "source": [
    "#### **2. Floodmap** - Inspect the floodmap\n",
    "\n",
    "We can open and inspect the floodmap"
   ]
  },
  {
   "cell_type": "code",
   "execution_count": null,
   "id": "41",
   "metadata": {},
   "outputs": [],
   "source": [
    "# Plot Floodmap netcdf\n",
    "netcdf = fa.get_max_water_level_map(scenario.name)\n",
    "rasterio.plot.show(netcdf, title=\"Maximum water level map\", cmap=\"Blues\")\n",
    "\n",
    "# Plot Floodmap geotiff\n",
    "geotiff_map = fa.get_flood_map_geotiff(scenario.name)\n",
    "geotiff = rasterio.open(geotiff_map)\n",
    "rasterio.plot.show(geotiff, title=\"Floodmap GeoTiff\", cmap=\"Blues\")"
   ]
  },
  {
   "cell_type": "markdown",
   "id": "42",
   "metadata": {},
   "source": [
    "#### **3. Economic Impacts** - Inspect the economic impacts on the building level and aggregated\n",
    "\n",
    "We can plot the economic impacts on the building level and on the aggregated level."
   ]
  },
  {
   "cell_type": "code",
   "execution_count": null,
   "id": "43",
   "metadata": {},
   "outputs": [],
   "source": [
    "gdf_building_impacts = fa.get_building_footprint_impacts(scenario.name)\n",
    "\n",
    "# Plot building impacts\n",
    "ax = gdf_building_impacts.plot(\n",
    "    figsize=(10, 10),\n",
    "    column=\"Total Damage\", \n",
    "    cmap=\"Reds\", \n",
    "    legend=True, \n",
    "    vmin=0, \n",
    "    vmax=60000,\n",
    "    legend_kwds={\"label\": \"Total Damages ($) Buildings\", \"orientation\": \"horizontal\"}\n",
    ")\n",
    "cx.add_basemap(ax)\n",
    "ax.plot()\n",
    "\n",
    "## Aggregated Impacts\n",
    "gdf_impacts_aggr = fa.get_aggregated_impacts(scenario.name)\n",
    "gdf_aggr_lvl1 = gdf_impacts_aggr[\"aggr_lvl_1\"]\n",
    "\n",
    "# # Reproject buildings crs to Web Mercator\n",
    "gdf_aggr_lvl1 = gdf_aggr_lvl1.to_crs(epsg=3857)\n",
    "\n",
    "# Plot aggregated impacts\n",
    "ax = gdf_aggr_lvl1.plot(\n",
    "    figsize=(10, 10),\n",
    "    column=\"TotalDamageEvent\",\n",
    "    cmap=\"Reds\",\n",
    "    legend=True,\n",
    "    vmin=0,\n",
    "    vmax=10000000,\n",
    "    edgecolor=\"k\",\n",
    "    legend_kwds={\"label\": \"Total Damages ($) per aggregatetion area\", \"orientation\": \"horizontal\"}\n",
    ")\n",
    "cx.add_basemap(ax)\n",
    "ax.plot()"
   ]
  },
  {
   "cell_type": "markdown",
   "id": "44",
   "metadata": {},
   "source": [
    "#### **4. Infometrics & Infographics**\n",
    "Which **infometrics** and **infographics** to generate can be defined in the infometrics and infographics and configuration file in your database */Database/charleston_full/static/templates/infometrics/\"\"*, */Database/charleston_full/static/templates/infographics/\"\".toml*, respectively."
   ]
  },
  {
   "cell_type": "code",
   "execution_count": null,
   "id": "45",
   "metadata": {},
   "outputs": [],
   "source": [
    "# Display HTML infographics\n",
    "file = fa.get_infographic(scenario.name)\n",
    "\n",
    "HTML(filename=file)"
   ]
  }
 ],
 "metadata": {
  "kernelspec": {
   "display_name": "docs",
   "language": "python",
   "name": "python3"
  },
  "language_info": {
   "codemirror_mode": {
    "name": "ipython",
    "version": 3
   },
   "file_extension": ".py",
   "mimetype": "text/x-python",
   "name": "python",
   "nbconvert_exporter": "python",
   "pygments_lexer": "ipython3",
   "version": "3.11.13"
  }
 },
 "nbformat": 4,
 "nbformat_minor": 5
}
