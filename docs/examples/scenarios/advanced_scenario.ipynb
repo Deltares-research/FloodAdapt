{
 "cells": [
  {
   "cell_type": "markdown",
   "id": "f3eeb3b9",
   "metadata": {},
   "source": [
    "# 📘 Example: Advanced Scenario"
   ]
  },
  {
   "cell_type": "markdown",
   "id": "b578e99e",
   "metadata": {},
   "source": [
    "In this notebook we demonstrate the **workflow** on how you can build an advanced **FloodAdapt scenario** in Charleston, USA, using the **API**.  "
   ]
  },
  {
   "cell_type": "markdown",
   "id": "fe7ea5e1",
   "metadata": {
    "vscode": {
     "languageId": "plaintext"
    }
   },
   "source": [
    "In this notebook we will cover the following steps:\n",
    "\n",
    "1. Create a synthetic **event** \n",
    "2. Create a **projection** - Sea level rise (SLR)\n",
    "3. Create a **measure** and **strategy** - Seawall\n",
    "4. Create and run a **scenario**\n",
    "6. Investigate the **output**\n"
   ]
  },
  {
   "cell_type": "markdown",
   "id": "1f84cb9c",
   "metadata": {
    "vscode": {
     "languageId": "plaintext"
    }
   },
   "source": [
    "## Import libraries"
   ]
  },
  {
   "cell_type": "code",
   "execution_count": 1,
   "id": "9bc26c43",
   "metadata": {},
   "outputs": [],
   "source": [
    "# Import packages\n",
    "#import contextily as cx\n",
    "from datetime import datetime\n",
    "import geopandas as gpd\n",
    "from pathlib import Path\n",
    "import rasterio\n",
    "import rasterio.plot\n",
    "import flood_adapt.objects.forcing as f\n",
    "\n",
    "from flood_adapt.config.sfincs import RiverModel\n",
    "from flood_adapt.dbs_classes.database import Database\n",
    "from flood_adapt.objects.events.synthetic import SyntheticEvent \n",
    "from flood_adapt.objects import HurricaneEvent, TimeFrame\n",
    "from flood_adapt.objects.events.hurricane import TranslationModel\n",
    "from flood_adapt.flood_adapt import FloodAdapt\n",
    "from flood_adapt.objects.forcing.forcing import (\n",
    "    ForcingSource,\n",
    "    ForcingType,)\n",
    "from flood_adapt.objects.measures.measures import *\n",
    "from flood_adapt.objects.projections.projections import Projection, PhysicalProjection, SocioEconomicChange\n",
    "from flood_adapt.objects.scenarios.scenarios import Scenario\n",
    "from flood_adapt import Settings\n",
    "from flood_adapt.objects.strategies.strategies import Strategy\n",
    "from flood_adapt import unit_system as us"
   ]
  },
  {
   "cell_type": "markdown",
   "id": "c18aaad0",
   "metadata": {},
   "source": [
    "## 🚀 **Step 1**. Reading-in the FloodAdapt database"
   ]
  },
  {
   "cell_type": "markdown",
   "id": "6e0fbef4",
   "metadata": {},
   "source": [
    "Let's start with initiating the database and FloodAdapt class. \n",
    "1. Initiate the database class [`Settings`](../../api_ref/Settings.qmd) by defining the `DATABASE_ROOT` and `DATABASE_NAME`.\n",
    "2. Initiate the [`FloodAdapt`](../../api_ref/FloodAdapt.qmd) class by parsing the `Settings().database_path`."
   ]
  },
  {
   "cell_type": "code",
   "execution_count": 2,
   "id": "385634d0",
   "metadata": {},
   "outputs": [],
   "source": [
    "# Define the static data folder\n",
    "STATIC_DATA_DIR = Path(\"../../_data/examples/static-data/5_Advanced_Scenario\").resolve()\n",
    "\n",
    "# Set up the settings for the database\n",
    "Settings(\n",
    "    DATABASE_ROOT=Path(\"../../_data/examples\").resolve(),\n",
    "    DATABASE_NAME=\"charleston_test\"\n",
    ")\n",
    "\n",
    "# Create the FloodAdapt instance\n",
    "fa = FloodAdapt(Settings().database_path)"
   ]
  },
  {
   "cell_type": "markdown",
   "id": "eb6d41b3",
   "metadata": {},
   "source": [
    "## 🌊 **Step 2**. Events - Create a synthetic Event"
   ]
  },
  {
   "cell_type": "markdown",
   "id": "d0ff7ec2",
   "metadata": {},
   "source": [
    "Events in FloodAdapt are categorized into different forcings:\n",
    "1. **Wind**\n",
    "2. **Rainfall**\n",
    "3. **Discharge**\n",
    "4. **Water Level**\n",
    "\n",
    "If you want to learn more about the individual forcings in FloodAdapt, please go and read the section on [**Events**](../../4_user_guide/events/index.qmd) in the FloodAdapt documentation.\n",
    "\n",
    "When creating an event, we need to create an [`Event`](../../api_ref/Event.qmd) object. Depending on which type of event we create, we select a different class. In this example we create a **synthetic event**, therefore we use the [`SyntheticEvent`](../../api_ref/objects/SyntheticEvent.qmd) class. \n",
    "\n",
    "To create the `SyntheticEvent` object we use the `time` attribute to define the event duration. This should be parsed as a [`TimeFrame`](../../api_ref/TimeFrame.qmd) object. In the [`forcings`](../../api_ref/IForcing.qmd) attribute we aggregated the different forcing objects in a dictionary.  \n",
    "\n",
    "In this event example we will create an event with the following `forcings`:  \n",
    "🌬️ `WindConstant`: Define a value for a constant wind speed (mps) and direction (degrees)  \n",
    "🌧️ `RainfallConstant`: Define a value for a constant rainfall (mm/hr)  \n",
    "💦 `DischargeConstant`: Define the x and y coordinates of the discharge point of the Cooper River and a value for a constant mean discharge (cfs) in the River- and Discharge model (same value)  \n",
    "🌊 `WaterlevelSynthetic SurgeModel`: Define a peak time (h), peak value in (m) and duration (d)  \n",
    "↔️ `WaterlevelSynthetic TideModel`: Define the harmonic amplitude (m), harmonic period (h) and harmonic phase (h)  \n",
    "\n",
    "For a complete guide on all the possible event options and inputs check out the [**notebook**](../events/index.qmd) specifically on **events**.  "
   ]
  },
  {
   "cell_type": "markdown",
   "id": "90e8b069",
   "metadata": {},
   "source": [
    "### **Step 2.1**: Create a Historical Hurricane Event\n",
    "In FloodAdapt we can re-create and edit historical hurricanes and explore their impacts with altered parameters to answer community questions e.g. what would have happened if the hurrican made landfall further south/north?\n",
    "To create a hurricane we need to do he followin steps:\n",
    "1. **Set a time frame**\n",
    "2. **Define the waterlevel**\n",
    "3. **Obtain the hurricane track**\n",
    "4. **Add rainfall** \n",
    "5. **Add wind**\n",
    "6. **Add River discharge**\n",
    "\n",
    "For a detailed description on how to create a hurricane event go to the [event notebook](../events/index.qmd)."
   ]
  },
  {
   "cell_type": "code",
   "execution_count": 3,
   "id": "24ff3fbd",
   "metadata": {},
   "outputs": [
    {
     "data": {
      "text/plain": [
       "<Axes: title={'center': 'Constant Discharge River'}, xlabel='Time', ylabel='Discharge (cms)'>"
      ]
     },
     "execution_count": 3,
     "metadata": {},
     "output_type": "execute_result"
    },
    {
     "data": {
      "image/png": "[encoded data removed]",
      "text/plain": [
       "<Figure size 500x200 with 1 Axes>"
      ]
     },
     "metadata": {},
     "output_type": "display_data"
    }
   ],
   "source": [
    "# Create an time frame for the simulation\n",
    "start_time = datetime(year=2025, month=1, day=1) \n",
    "end_time = datetime(year=2025, month=1, day=2)\n",
    "time_frame = TimeFrame(start_time=start_time, end_time=end_time)\n",
    "\n",
    "# Define Water Level Forcing\n",
    "water_levels = f.waterlevels.WaterlevelModel()\n",
    "\n",
    "# Obtain a hurricane track\n",
    "## Get the cyclone database\n",
    "cyclone_db = fa.database.static.get_cyclone_track_database()\n",
    "ian_index = cyclone_db.list_names().index(\"IAN\")\n",
    "\n",
    "## Not all cyclone tracks have names, in addition to duplicate names existing, so it is better to use the index\n",
    "track = fa.get_cyclone_track_by_index(index=ian_index) \n",
    "track_file = STATIC_DATA_DIR / \"IAN.cyc\"\n",
    "track.write_track(filename=track_file, fmt=\"ddb_cyc\")\n",
    "\n",
    "## Optionally translate the cyclone track from what is defined in the file\n",
    "translation = TranslationModel(\n",
    "    eastwest_translation=us.UnitfulLength(value=3000, units=us.UnitTypesLength.meters),\n",
    "    northsouth_translation=us.UnitfulLength(value=5000, units=us.UnitTypesLength.meters),\n",
    ")\n",
    "\n",
    "# We want to include the rainfall and wind from the hurricane track\n",
    "rainfall = f.rainfall.RainfallTrack(path=track_file)\n",
    "wind = f.wind.WindTrack(path=track_file)\n",
    "\n",
    "# The available rivers are defined in the hazard model when creating the database.\n",
    "# You cannot add new rivers to the model in an event, you can only set the discharge of each given river.\n",
    "river = fa.database.site.sfincs.river[0]\n",
    "\n",
    "discharge = f.discharge.DischargeConstant(\n",
    "    river=river,\n",
    "    discharge=us.UnitfulDischarge(value=100, units=us.UnitTypesDischarge.cms)\n",
    ")\n",
    "\n",
    "# Inspect\n",
    "df = discharge.to_dataframe(time_frame=time_frame)\n",
    "df.plot(title=\"Constant Discharge River\", xlabel=\"Time\", ylabel=\"Discharge (cms)\", legend=True, figsize=(5, 2))"
   ]
  },
  {
   "cell_type": "markdown",
   "id": "99ccd33a",
   "metadata": {},
   "source": [
    "🌪️🌀  Let's put the forcings together and create the [`HurricaneEvent`](../../api_ref/HurricaneEvent.qmd) object."
   ]
  },
  {
   "cell_type": "code",
   "execution_count": 4,
   "id": "36af6c62",
   "metadata": {},
   "outputs": [],
   "source": [
    "# Create a hurricaneEvent with the forcings and time frame\n",
    "attrs_event = HurricaneEvent(\n",
    "    name=\"example_hurricane_event\",\n",
    "    time=time_frame,\n",
    "    forcings = {\n",
    "        # The keys of the dictionary are the forcing types, and the values are lists of the corresponding forcing objects.\n",
    "        f.forcing.ForcingType.WATERLEVEL: [water_levels],\n",
    "        f.forcing.ForcingType.RAINFALL: [rainfall],\n",
    "        f.forcing.ForcingType.WIND: [wind],\n",
    "        f.forcing.ForcingType.DISCHARGE: [discharge],\n",
    "    },\n",
    "    track_name=track.name,\n",
    "    hurricane_translation=translation,\n",
    ")"
   ]
  },
  {
   "cell_type": "markdown",
   "id": "efafa7ba",
   "metadata": {},
   "source": [
    "### 💾 **Step 2.1**. Saving the event to the database"
   ]
  },
  {
   "cell_type": "code",
   "execution_count": 5,
   "id": "1c3cf036",
   "metadata": {},
   "outputs": [],
   "source": [
    "# Save the event to the database\n",
    "fa.save_event(attrs_event)"
   ]
  },
  {
   "cell_type": "markdown",
   "id": "d957ab90",
   "metadata": {},
   "source": [
    "## 📈 **Step 3**. Projections - Create a projection"
   ]
  },
  {
   "cell_type": "markdown",
   "id": "2b05001f",
   "metadata": {},
   "source": [
    "**Projections** in FloodAdapt allow us to adjust our model to future conditions such as sea level rise or/and population growth. If you want to learn more about projections in FlooAdapt, please go to the section [Projections](../../4_user_guide/projections/index.qmd) in the FloodAdapt documentation. \n",
    "  \n",
    "The projections can be divided into two categories:\n",
    "1. 🌊 **Physical Projections**: Sea level rise, intensified precipitation, increased storm frequency\n",
    "2. 💰 **Socio economic change**: Population growth (existing built area, new development area), economic growth\n",
    "\n",
    "When creating a projection we need to create a [`Projection`](../../api_ref/Projection.qmd) object. The `PhysicalProjection` attribute is parsed as a [`PhysicalProjection`](../../api_ref/PhysicalProjection.qmd) object which captures the pysical projection such as sea lvel rise. The `SocioEconomicChange` attribute is parsed as a [`SocioEconomicChange`](../../api_ref/SocioEconomicChange.qmd) object which captures the socioeconomic projection such as population growth. It's not mandatory to parse both projections. If we only want to use one of the two types of projections we can leave the other one blank (). \n",
    "\n",
    "The attributes of the `PhysicalProjection` or `SocioEconomicChange` object define the projection. In this case we parse the attribute `sea_level_rise` to the `PhysicalProjection` object and define the value in [`UnitfulLength`](../../api_ref/UnitfulLength.qmd) and the unit in [`UnitTypesLength`](../../api_ref/UnitTypesLength.qmd).\n",
    "\n",
    "To get a deeper understanding for all the possible projections and their inputs go to the [**notebook**](../projections/index.qmd) specifically about **projections**.\n"
   ]
  },
  {
   "cell_type": "markdown",
   "id": "470833f5",
   "metadata": {},
   "source": [
    "In this example we will make use of **sea level rise scenarios** for a `PhysicalProjection` and explore **population growth** as `SocioEconomicChange`. \n",
    "\n",
    "First, let's get the sea level rise scenarios from the database.  \n",
    "A FloodAdapt database can include sea level rise scenarios, describing a timeline of future sea level rise relative to a reference year. If these scenarios are available in the database the get_slr_scn_names() method will return a list of the available scenarios. To get a deeper understanding on how you can create different Projections read the [**projectionblablab**](nolink) notebook."
   ]
  },
  {
   "cell_type": "code",
   "execution_count": 6,
   "id": "69258cb1",
   "metadata": {},
   "outputs": [
    {
     "data": {
      "text/plain": [
       "0.6"
      ]
     },
     "execution_count": 6,
     "metadata": {},
     "output_type": "execute_result"
    }
   ],
   "source": [
    "# Get the Scenarios\n",
    "fa.get_slr_scn_names()\n",
    "\n",
    "# Interpolate until 2050\n",
    "fa.interp_slr(slr_scenario=\"ssp585\", year=2050)"
   ]
  },
  {
   "cell_type": "markdown",
   "id": "67d52add",
   "metadata": {},
   "source": [
    "Use that projection to create the [`Projection`](../../api_ref/Projection.qmd) object."
   ]
  },
  {
   "cell_type": "code",
   "execution_count": 7,
   "id": "d1ebc6a8",
   "metadata": {},
   "outputs": [
    {
     "data": {
      "text/plain": [
       "Projection(name='proj_2050', description='2050 projection', physical_projection=PhysicalProjection(sea_level_rise=UnitfulLength(value=0.6, units=UnitTypesLength.meters), subsidence=UnitfulLength(value=0.0, units=UnitTypesLength.meters), rainfall_multiplier=1.0, storm_frequency_increase=0.0), socio_economic_change=SocioEconomicChange(population_growth_existing=0.0, economic_growth=0.0, population_growth_new=0.0, new_development_elevation=None, new_development_shapefile=None))"
      ]
     },
     "execution_count": 7,
     "metadata": {},
     "output_type": "execute_result"
    }
   ],
   "source": [
    "attrs_proj_2050 = Projection(name=\"proj_2050\",\n",
    "                    description=\"2050 projection\", \n",
    "                    physical_projection= PhysicalProjection(sea_level_rise=us.UnitfulLength(value=fa.interp_slr(slr_scenario=\"ssp585\", year=2050), units=us.UnitTypesLength.meters)), \n",
    "                    socio_economic_change=SocioEconomicChange()\n",
    "                    )\n",
    "attrs_proj_2050"
   ]
  },
  {
   "cell_type": "markdown",
   "id": "9248a22c",
   "metadata": {},
   "source": [
    "Now we can create the population growth projection. To capture population growth, we will create a new development area and pass the `population_growth_existing` and `population_growth_new`. You find a detalied explanation of these input attributes in the [FloodAdapt User Guide](../4_user_guide/projections/socioEconomic.qmd). "
   ]
  },
  {
   "cell_type": "markdown",
   "id": "6556d9e1",
   "metadata": {},
   "source": [
    "We can have a quick look at the new development area."
   ]
  },
  {
   "cell_type": "code",
   "execution_count": 8,
   "id": "99c69554",
   "metadata": {},
   "outputs": [
    {
     "ename": "ImportError",
     "evalue": "The 'folium', 'matplotlib' and 'mapclassify' packages are required for 'explore()'. You can install them using 'conda install -c conda-forge folium matplotlib mapclassify' or 'pip install folium matplotlib mapclassify'.",
     "output_type": "error",
     "traceback": [
      "\u001b[31m---------------------------------------------------------------------------\u001b[39m",
      "\u001b[31mModuleNotFoundError\u001b[39m                       Traceback (most recent call last)",
      "\u001b[36mFile \u001b[39m\u001b[32mc:\\Users\\rautenba\\repos\\FloodAdapt\\.pixi\\envs\\docs\\Lib\\site-packages\\geopandas\\explore.py:285\u001b[39m, in \u001b[36m_explore\u001b[39m\u001b[34m(df, column, cmap, color, m, tiles, attr, tooltip, popup, highlight, categorical, legend, scheme, k, vmin, vmax, width, height, categories, classification_kwds, control_scale, marker_type, marker_kwds, style_kwds, highlight_kwds, missing_kwds, tooltip_kwds, popup_kwds, legend_kwds, map_kwds, **kwargs)\u001b[39m\n\u001b[32m    283\u001b[39m \u001b[38;5;28;01mimport\u001b[39;00m\u001b[38;5;250m \u001b[39m\u001b[34;01mre\u001b[39;00m\n\u001b[32m--> \u001b[39m\u001b[32m285\u001b[39m \u001b[38;5;28;01mimport\u001b[39;00m\u001b[38;5;250m \u001b[39m\u001b[34;01mbranca\u001b[39;00m\u001b[38;5;250m \u001b[39m\u001b[38;5;28;01mas\u001b[39;00m\u001b[38;5;250m \u001b[39m\u001b[34;01mbc\u001b[39;00m\n\u001b[32m    286\u001b[39m \u001b[38;5;28;01mimport\u001b[39;00m\u001b[38;5;250m \u001b[39m\u001b[34;01mfolium\u001b[39;00m\n",
      "\u001b[31mModuleNotFoundError\u001b[39m: No module named 'branca'",
      "\nDuring handling of the above exception, another exception occurred:\n",
      "\u001b[31mImportError\u001b[39m                               Traceback (most recent call last)",
      "\u001b[36mCell\u001b[39m\u001b[36m \u001b[39m\u001b[32mIn[8]\u001b[39m\u001b[32m, line 2\u001b[39m\n\u001b[32m      1\u001b[39m new_dev = gpd.read_file(STATIC_DATA_DIR /\u001b[33m\"\u001b[39m\u001b[33mnew_dev.gpkg\u001b[39m\u001b[33m\"\u001b[39m)\n\u001b[32m----> \u001b[39m\u001b[32m2\u001b[39m \u001b[43mnew_dev\u001b[49m\u001b[43m.\u001b[49m\u001b[43mexplore\u001b[49m\u001b[43m(\u001b[49m\u001b[43m)\u001b[49m\n",
      "\u001b[36mFile \u001b[39m\u001b[32mc:\\Users\\rautenba\\repos\\FloodAdapt\\.pixi\\envs\\docs\\Lib\\site-packages\\geopandas\\geodataframe.py:2305\u001b[39m, in \u001b[36mGeoDataFrame.explore\u001b[39m\u001b[34m(self, *args, **kwargs)\u001b[39m\n\u001b[32m   2303\u001b[39m \u001b[38;5;129m@doc\u001b[39m(_explore)\n\u001b[32m   2304\u001b[39m \u001b[38;5;28;01mdef\u001b[39;00m\u001b[38;5;250m \u001b[39m\u001b[34mexplore\u001b[39m(\u001b[38;5;28mself\u001b[39m, *args, **kwargs):\n\u001b[32m-> \u001b[39m\u001b[32m2305\u001b[39m     \u001b[38;5;28;01mreturn\u001b[39;00m \u001b[43m_explore\u001b[49m\u001b[43m(\u001b[49m\u001b[38;5;28;43mself\u001b[39;49m\u001b[43m,\u001b[49m\u001b[43m \u001b[49m\u001b[43m*\u001b[49m\u001b[43margs\u001b[49m\u001b[43m,\u001b[49m\u001b[43m \u001b[49m\u001b[43m*\u001b[49m\u001b[43m*\u001b[49m\u001b[43mkwargs\u001b[49m\u001b[43m)\u001b[49m\n",
      "\u001b[36mFile \u001b[39m\u001b[32mc:\\Users\\rautenba\\repos\\FloodAdapt\\.pixi\\envs\\docs\\Lib\\site-packages\\geopandas\\explore.py:300\u001b[39m, in \u001b[36m_explore\u001b[39m\u001b[34m(df, column, cmap, color, m, tiles, attr, tooltip, popup, highlight, categorical, legend, scheme, k, vmin, vmax, width, height, categories, classification_kwds, control_scale, marker_type, marker_kwds, style_kwds, highlight_kwds, missing_kwds, tooltip_kwds, popup_kwds, legend_kwds, map_kwds, **kwargs)\u001b[39m\n\u001b[32m    297\u001b[39m         \u001b[38;5;28;01mfrom\u001b[39;00m\u001b[38;5;250m \u001b[39m\u001b[34;01mmatplotlib\u001b[39;00m\u001b[38;5;250m \u001b[39m\u001b[38;5;28;01mimport\u001b[39;00m cm\n\u001b[32m    299\u001b[39m \u001b[38;5;28;01mexcept\u001b[39;00m (\u001b[38;5;167;01mImportError\u001b[39;00m, \u001b[38;5;167;01mModuleNotFoundError\u001b[39;00m):\n\u001b[32m--> \u001b[39m\u001b[32m300\u001b[39m     \u001b[38;5;28;01mraise\u001b[39;00m \u001b[38;5;167;01mImportError\u001b[39;00m(\n\u001b[32m    301\u001b[39m         \u001b[33m\"\u001b[39m\u001b[33mThe \u001b[39m\u001b[33m'\u001b[39m\u001b[33mfolium\u001b[39m\u001b[33m'\u001b[39m\u001b[33m, \u001b[39m\u001b[33m'\u001b[39m\u001b[33mmatplotlib\u001b[39m\u001b[33m'\u001b[39m\u001b[33m and \u001b[39m\u001b[33m'\u001b[39m\u001b[33mmapclassify\u001b[39m\u001b[33m'\u001b[39m\u001b[33m packages are required for \u001b[39m\u001b[33m\"\u001b[39m\n\u001b[32m    302\u001b[39m         \u001b[33m\"\u001b[39m\u001b[33m'\u001b[39m\u001b[33mexplore()\u001b[39m\u001b[33m'\u001b[39m\u001b[33m. You can install them using \u001b[39m\u001b[33m\"\u001b[39m\n\u001b[32m    303\u001b[39m         \u001b[33m\"\u001b[39m\u001b[33m'\u001b[39m\u001b[33mconda install -c conda-forge folium matplotlib mapclassify\u001b[39m\u001b[33m'\u001b[39m\u001b[33m \u001b[39m\u001b[33m\"\u001b[39m\n\u001b[32m    304\u001b[39m         \u001b[33m\"\u001b[39m\u001b[33mor \u001b[39m\u001b[33m'\u001b[39m\u001b[33mpip install folium matplotlib mapclassify\u001b[39m\u001b[33m'\u001b[39m\u001b[33m.\u001b[39m\u001b[33m\"\u001b[39m\n\u001b[32m    305\u001b[39m     )\n\u001b[32m    307\u001b[39m \u001b[38;5;66;03m# xyservices is an optional dependency\u001b[39;00m\n\u001b[32m    308\u001b[39m \u001b[38;5;28;01mtry\u001b[39;00m:\n",
      "\u001b[31mImportError\u001b[39m: The 'folium', 'matplotlib' and 'mapclassify' packages are required for 'explore()'. You can install them using 'conda install -c conda-forge folium matplotlib mapclassify' or 'pip install folium matplotlib mapclassify'."
     ]
    }
   ],
   "source": [
    "new_dev = gpd.read_file(STATIC_DATA_DIR /\"new_dev.gpkg\")\n",
    "new_dev.explore()"
   ]
  },
  {
   "cell_type": "markdown",
   "id": "0b282a8d",
   "metadata": {},
   "source": [
    "Now we can create the [`SocioEconomicChange`](../../api_ref/SocioEconomicChange.qmd) object as part of the [`Projection`](../../api_ref/Projection.qmd) object we created above. Then we are ready to save the projection."
   ]
  },
  {
   "cell_type": "code",
   "execution_count": 26,
   "id": "f98442e4",
   "metadata": {},
   "outputs": [],
   "source": [
    "# Create new development area\n",
    "attrs_proj_2050.socio_economic_change = SocioEconomicChange(population_growth_existing=10,\n",
    "                                        economic_growth=0,\n",
    "                                        population_growth_new=5,\n",
    "                                        new_development_shapefile=str(STATIC_DATA_DIR / \"new_dev.gpkg\"),\n",
    "                                        new_development_elevation=us.UnitfulLengthRefValue(value=0.5,\n",
    "                                                                                units=us.UnitTypesLength.meters,\n",
    "                                                                                type=us.VerticalReference.datum))"
   ]
  },
  {
   "cell_type": "markdown",
   "id": "8cf6449e",
   "metadata": {},
   "source": [
    "### 💾 **Step 3.1**. Saving the projection to the database"
   ]
  },
  {
   "cell_type": "code",
   "execution_count": 27,
   "id": "807ad8fa",
   "metadata": {},
   "outputs": [],
   "source": [
    "# Save projection\n",
    "fa.save_projection(attrs_proj_2050)"
   ]
  },
  {
   "cell_type": "markdown",
   "id": "b27ba1f7",
   "metadata": {},
   "source": [
    "## 🧱 **Step 4**. Measures - Create a measure"
   ]
  },
  {
   "cell_type": "markdown",
   "id": "7b8aa165",
   "metadata": {},
   "source": [
    "**Measures** in FloodAdapt enable the user to mititgate the event impacts and investigate their efficiency on the fly.\n",
    "\n",
    "Measures can be:\n",
    "1. 💦 **Hydraulic** measures on the hazard level\n",
    "2. 🌱 **Green infrastructure** measures on the hazard level\n",
    "3. 🏠 **Impact** measures on the building level.\n",
    "\n",
    "You can read more about measures in the section [Measures](../../4_user_guide/measures/index.qmd) in the FloodAdapt documentation. "
   ]
  },
  {
   "cell_type": "markdown",
   "id": "c7057b27",
   "metadata": {},
   "source": [
    "💦 **Hydraulic measures**  \n",
    "In this example we will create two **hydraulic measures**, a sea wall of 12ft and a water square.\n",
    "\n",
    "🧱 To create a measure we need to create a [`Measure`](../../api_ref/Measure.qmd) object. \n",
    "In the attributes we define the measure `type` object, in the first example a [`FloodWall`](../../api_ref/objectS/FloodWall.qmd) object. Additionally to the other attributes, we need to add the `elevation` value as [`UnitfulLength`](../../api_ref/UnitfulLength.qmd) and the unit as [`UnitTypesLength`](../../api_ref/UnitTypesLength.qmd) of the sea wall."
   ]
  },
  {
   "cell_type": "code",
   "execution_count": 11,
   "id": "7411c10a",
   "metadata": {},
   "outputs": [],
   "source": [
    "# Create a measure object for a seawall\n",
    "attrs_seawall = FloodWall(\n",
    "        name= \"Seawall_12ft\",\n",
    "        description = \"12ft Seawall\",\n",
    "        type = MeasureType.floodwall,\n",
    "        selection_type = SelectionType.polyline,\n",
    "        polygon_file = str(STATIC_DATA_DIR / \"seawall.geojson\"),\n",
    "        elevation = us.UnitfulLength(value=12, units=us.UnitTypesLength.feet))"
   ]
  },
  {
   "cell_type": "markdown",
   "id": "9a35f3b0",
   "metadata": {},
   "source": [
    "🟦 Next, we create the [`GreenInfrastructure`](../../api_ref/GreenInfrastructure.qmd) water square object. Instead of the `elevation` attribute we need to define the `volume` of the total storage capacity of the water square. We use the [`UnitfulVolume`](../../api_ref/UnitfulVolume.qmd) object to define the value and [`unit`](../../api_ref/UnitTypesLength.qmd) of the storage capacity. Optionally we can add the `height` of the water square to validate the total storage volume. "
   ]
  },
  {
   "cell_type": "code",
   "execution_count": 12,
   "id": "641089f1",
   "metadata": {},
   "outputs": [],
   "source": [
    "# Create a measure object for a water square\n",
    "attrs_water_square = GreenInfrastructure(\n",
    "        name=  \"water_square\",\n",
    "        description = \"Water Square\",\n",
    "        type = MeasureType.water_square,\n",
    "        selection_type = SelectionType.polygon,\n",
    "        polygon_file = str(STATIC_DATA_DIR / \"water_square.geojson\"),\n",
    "        volume = us.UnitfulVolume(value =  43975190.31512848, units = us.UnitTypesVolume.cf),\n",
    "        height = us.UnitfulHeight(value = 3, units = us.UnitTypesLength.feet))"
   ]
  },
  {
   "cell_type": "markdown",
   "id": "8c108a00",
   "metadata": {},
   "source": [
    "🏠 **Impact Measure**  \n",
    "Let's add two more measures on the **impact level**. We can for example flood proof and elevate buildings in a specific area to mititgate the impact on these assets."
   ]
  },
  {
   "cell_type": "markdown",
   "id": "6a3ae19e",
   "metadata": {},
   "source": [
    "⬆️ When elevating buildings we need to create a [`Elevate`](../../api_ref/objectS/Elevate.qmd) object. To specify which buildings should be elevated we choose a `selection_type` and then either provide a spatial file with the boundaries of the area or select a whole aggregation area frmo our model. We can also specify which building types we want the measure to be applied on by defining the `property type` attribute.  we need to use the porperty type (e.g. residential, commercial, ALL...) that is used in our Delft-FIAT Model.  \n",
    "To capture the magnitude of elevation of the buildings we define the `elevation` attribute. Here we provide the value, unit of type [`UnitTypesLength`](../../api_ref/UnitTypesLength.qmd), and vertical reference of type [`VerticalReference`](../../api_ref/VerticalReference.qmd) as part of the [`UnitfulLengthRefValue`]() object."
   ]
  },
  {
   "cell_type": "code",
   "execution_count": 13,
   "id": "1aa789d0",
   "metadata": {},
   "outputs": [],
   "source": [
    "# Create a measure object for elevating buildings\n",
    "attrs_measure_elev = Elevate(\n",
    "        name= \"Elevated_homes\",\n",
    "        description = \"Elevate residential buildings\",\n",
    "        type = MeasureType.elevate_properties,\n",
    "        selection_type = SelectionType.polygon,\n",
    "        polygon_file = str(STATIC_DATA_DIR / \"raise_property_polygon.geojson\"),\n",
    "        property_type = \"ALL\",\n",
    "        elevation = us.UnitfulLengthRefValue(value=1, units=us.UnitTypesLength.feet, type = us.VerticalReference.floodmap))"
   ]
  },
  {
   "cell_type": "markdown",
   "id": "b127060b",
   "metadata": {},
   "source": [
    "🦺 When we flood proof buildings we follow similar steps as when we elevate buildings. We create a [`FloodProof`](../../api_ref/FloodProof.qmd) object where we define the same attributes as in the `Elevate` object. The only difference is here is, that we do not need to provide a `vertical_reference` for the `elevation` attribute. "
   ]
  },
  {
   "cell_type": "code",
   "execution_count": 14,
   "id": "73d28e3a",
   "metadata": {},
   "outputs": [],
   "source": [
    "# Create a measure object for flood proofing commercial buildings\n",
    "attrs_flood_proof = FloodProof(\n",
    "        name= \"floodproof_all_com\",\n",
    "        description = \"Floodproofing all commercial buildings.\",\n",
    "        type = MeasureType.floodproof_properties,\n",
    "        selection_type = SelectionType.all,\n",
    "        property_type = \"commercial\",\n",
    "        elevation = us.UnitfulLength(value=2, units=us.UnitTypesLength.feet))"
   ]
  },
  {
   "cell_type": "markdown",
   "id": "a6e0cfd5",
   "metadata": {},
   "source": [
    "### 💾 **Step 4.1**. Saving the measure to the database"
   ]
  },
  {
   "cell_type": "code",
   "execution_count": 15,
   "id": "b23bc0b3",
   "metadata": {},
   "outputs": [],
   "source": [
    "# Save the measure\n",
    "fa.save_measure(attrs_seawall)\n",
    "fa.save_measure(attrs_water_square)\n",
    "fa.save_measure(attrs_measure_elev)\n",
    "fa.save_measure(attrs_flood_proof)"
   ]
  },
  {
   "cell_type": "markdown",
   "id": "bf3065e2",
   "metadata": {},
   "source": [
    "## 🧩 **Step 5**. Strategies - Create a strategy"
   ]
  },
  {
   "cell_type": "markdown",
   "id": "070e7fc4",
   "metadata": {},
   "source": [
    "**Strategies** are combinations **measures**. They allow us to run an test multiple measures in a single model run. \n",
    "\n",
    "To create a strategy we need to create a [`Strategy`](../../api_ref/Strategy.qmd) object. In the `measures` attribute we parse a list of all the names of the measures that we want to apply in that strategy.\n",
    "\n",
    "In this example we will create a strategy with the measures we created above, a **sea wall** of 12ft, a **water square**, **elevating buildings** 2ft above the floodmap reference in a specific area and **flood proofing commercial buildings** up to 1 ft."
   ]
  },
  {
   "cell_type": "code",
   "execution_count": 16,
   "id": "d5610082",
   "metadata": {},
   "outputs": [],
   "source": [
    "# Create a strategy object\n",
    "attrs_strategy = Strategy(\n",
    "        name= \"seawall_greening_elev_build_floodproof_com\",\n",
    "        description = \"Strategy with a seawall, water square, elevation of buildings and floodp proofing commercial buildings\",\n",
    "        measures = [attrs_seawall.name, attrs_water_square.name, attrs_measure_elev.name, attrs_flood_proof.name],\n",
    "        )"
   ]
  },
  {
   "cell_type": "markdown",
   "id": "9c0252b6",
   "metadata": {},
   "source": [
    "### 💾 **Step 5.1**. Saving the strategy to the database"
   ]
  },
  {
   "cell_type": "code",
   "execution_count": 17,
   "id": "ca770396",
   "metadata": {},
   "outputs": [],
   "source": [
    "# Save the stategy\n",
    "fa.save_strategy(attrs_strategy )"
   ]
  },
  {
   "cell_type": "markdown",
   "id": "5d60e313",
   "metadata": {},
   "source": [
    "## 🗺️ **Step 6**. Create a scenario"
   ]
  },
  {
   "cell_type": "markdown",
   "id": "beeb7271",
   "metadata": {},
   "source": [
    "We reached the final step where we can put all the building blocks together to create a complete scenario!  \n",
    "A scenario is composed of:\n",
    "\n",
    "**1. Event**  \n",
    "**2. Projection**  \n",
    "**3. Strategy (Measures)**\n",
    "\n",
    "If you want to read more about the composition of scenarios, go read the [**Scenario**](https://deltares-research.github.io/FloodAdapt/4_user_guide/scenarios/)-section of the FloodAdapt documentation. \n",
    "\n",
    "When creating a scenario we need to create a [`Scenario`](../../api_ref/Scenario.qmd) object in which we parse the name of the `event`, `projection` and `strategy` as attributes."
   ]
  },
  {
   "cell_type": "code",
   "execution_count": 28,
   "id": "95185c51",
   "metadata": {},
   "outputs": [],
   "source": [
    "# Create a scenario object\n",
    "scenario = Scenario(\n",
    "    name = \"slr_pop_growth_seawall_water_square_elev_floodproof_build\",\n",
    "    description = \"Nearshore event with SLR and population growth projection. Strategy with a seawall, water square, elevation of buildings and floodp proofing commercial buildings.\",\n",
    "    event =  attrs_event.name,\n",
    "    projection =  attrs_proj_2050.name,\n",
    "    strategy = attrs_strategy.name,\n",
    ")"
   ]
  },
  {
   "cell_type": "markdown",
   "id": "246a04f1",
   "metadata": {},
   "source": [
    "### 💾 **Step 6.1**. Saving the scenario to the database"
   ]
  },
  {
   "cell_type": "code",
   "execution_count": 19,
   "id": "87bd548b",
   "metadata": {},
   "outputs": [
    {
     "data": {
      "text/plain": [
       "(True, '')"
      ]
     },
     "execution_count": 19,
     "metadata": {},
     "output_type": "execute_result"
    }
   ],
   "source": [
    "# Save the scenario\n",
    "fa.save_scenario(scenario)"
   ]
  },
  {
   "cell_type": "markdown",
   "id": "42855768",
   "metadata": {},
   "source": [
    "## 🏃‍♀️ **Final step**: Run a scenario\n",
    "\n",
    "We are ready to **run** the scenario! Simply parse the `scenario.name` into the function `run_scenario`."
   ]
  },
  {
   "cell_type": "code",
   "execution_count": 29,
   "id": "bb161703",
   "metadata": {},
   "outputs": [],
   "source": [
    "# Run the scenario\n",
    "fa.run_scenario(scenario.name)"
   ]
  },
  {
   "cell_type": "markdown",
   "id": "58e07e77",
   "metadata": {},
   "source": [
    "## **Finished!** \n",
    "**Congratulations** you created and ran your first FloodAdapt scenario!"
   ]
  },
  {
   "cell_type": "markdown",
   "id": "68089740",
   "metadata": {},
   "source": [
    "## **Output**: 🕵️‍♀️ Let's inspect the output"
   ]
  },
  {
   "cell_type": "markdown",
   "id": "0d4797ef",
   "metadata": {},
   "source": [
    "#### **1. Output files**\n",
    "In your scenario output folder you should see the following files:\n",
    "- **Flooding**: Folder\n",
    "- **Impacts**: Folder\n",
    "- **finished.txt**: text file\n",
    "- **Infometrics_\"*scenario_name*\".csv**: csv file of the overall infometrics\n",
    "- **Infometrics_\"*scenario_name*\"_\"*aggregation_layer*\".csv**: csv file  of the aggregated areas. You have one file per aggregation level. In this example we have two files. \n",
    "- **logfile_\"*scenario_name*\".log**: The log of the scenario run\n",
    "- **\"*scenario_name*\"_metrics.html**: A metric file of your scenario output\n",
    "\n",
    "The figure below presents a visual overview of all the output files that should be in your database after running the scenario\n",
    "<div>\n",
    "<img src=\"../_static/images/output_folder_event.png\" width=\"500\"/>\n",
    "</div>"
   ]
  },
  {
   "cell_type": "markdown",
   "id": "7a5c8fb6",
   "metadata": {},
   "source": [
    "#### **2. Floodmap** - Inspect the floodmap\n",
    "\n",
    "We can open and inspect the floodmap geotiff."
   ]
  },
  {
   "cell_type": "code",
   "execution_count": null,
   "id": "e80f229e",
   "metadata": {},
   "outputs": [],
   "source": [
    "root = Path(\"../../_data/examples/charleston_test\").resolve()\n",
    "\n",
    "# Open floodmap geotiff\n",
    "data_name = root / \"output\"/ \"scenarios\" / \"slr_pop_growth_seawall_water_square_elev_floodproof_build\" / \"Flooding\" / \"FloodMap_slr_pop_growth_seawall_water_square_elev_floodproof_build.tif\"\n",
    "tiff = rasterio.open(data_name)\n",
    "\n",
    "# Plot floodmap\n",
    "rasterio.plot.show(tiff, title = \"Floodmap nearshore scenario with 2ft SLR and seawall\", cmap=\"Blues\")"
   ]
  },
  {
   "cell_type": "markdown",
   "id": "f2af65c5",
   "metadata": {},
   "source": [
    "#### **3. Economic Impacts** - Inspect the economic impacts on the building level and aggregated\n",
    "\n",
    "We can plot the economic impacts on the building level and on the aggregated level."
   ]
  },
  {
   "cell_type": "code",
   "execution_count": null,
   "id": "bdee59e4",
   "metadata": {},
   "outputs": [],
   "source": [
    "## Building Impacts\n",
    "# Open building impacts\n",
    "gdf_impacts_buildings = gpd.read_file(root / \"output\" / \"scenarios\" / \"slr_pop_growth_seawall_water_square_elev_floodproof_build\" / \"Impacts\" / \"Impacts_building_footprints_slr_pop_growth_seawall_water_square_elev_floodproof_build.gpkg\")\n",
    "\n",
    "# Reproject buildings crs to Web Mercator\n",
    "gdf_impacts_buildings =gdf_impacts_buildings.to_crs(epsg=3857)\n",
    "\n",
    "# Plot building impacts\n",
    "ax = gdf_impacts_buildings.plot(figsize=(10, 10),column = \"Total Damage\",cmap=\"Reds\", legend = True, vmin= 0, vmax= 60000, legend_kwds={\"label\": \"Total Damages ($) Buildings\",\"orientation\": \"horizontal\"})\n",
    "cx.add_basemap(ax)\n",
    "ax.plot()\n",
    "\n",
    "## Aggregated Impacts\n",
    "# Open aggregated impacts\n",
    "gdf_impacts_aggr = gpd.read_file(root / \"output\" / \"scenarios\" / \"slr_pop_growth_seawall_water_square_elev_floodproof_build\" / \"Impacts\" / \"Impacts_aggregated_slr_pop_growth_seawall_water_square_elev_floodproof_build_aggr_lvl_2.gpkg\")\n",
    "\n",
    "# Reproject buildings crs to Web Mercator\n",
    "gdf_impacts_aggr = gdf_impacts_aggr.to_crs(epsg=3857)\n",
    "# Plot aggregated impacts\n",
    "ax = gdf_impacts_aggr.plot(figsize=(10, 10),column = \"TotalDamageEvent\",cmap=\"Reds\", legend = True, vmin= 0, vmax= 10000000, edgecolor=\"k\", legend_kwds={\"label\": \"Total Damages ($) per aggregatetion area\", \"orientation\": \"horizontal\"})\n",
    "cx.add_basemap(ax)\n",
    "ax.plot()"
   ]
  },
  {
   "cell_type": "markdown",
   "id": "97486347",
   "metadata": {},
   "source": [
    "#### **4. Infometrics & Infographics**\n",
    "Which **infometrics** and **infographics** to generate can be defined in the infometrics andd infographics and configuration file in your database */Database/charleston_full/static/templates/infometrics/\"\"*, */Database/charleston_full/static/templates/infographics/\"\".toml*, respectively.\n",
    "\n",
    "The figure below shows the infographics of the scenario we created above. \n",
    "<div>\n",
    "<img src=\"example_chaleston3.png\" width=\"600\"/>\n",
    "</div>"
   ]
  }
 ],
 "metadata": {
  "kernelspec": {
   "display_name": "docs",
   "language": "python",
   "name": "python3"
  },
  "language_info": {
   "codemirror_mode": {
    "name": "ipython",
    "version": 3
   },
   "file_extension": ".py",
   "mimetype": "text/x-python",
   "name": "python",
   "nbconvert_exporter": "python",
   "pygments_lexer": "ipython3",
   "version": "3.11.12"
  }
 },
 "nbformat": 4,
 "nbformat_minor": 5
}
