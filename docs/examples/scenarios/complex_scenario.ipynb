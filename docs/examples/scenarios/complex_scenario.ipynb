{
 "cells": [
  {
   "cell_type": "markdown",
   "id": "0",
   "metadata": {},
   "source": [
    "# **Event set creation for Risk Analysis**\n",
    "This notebook explains how to create the input files for a risk analysis in the correct format and place them in the correct folder structure. For an explanation on how to derive the (compound) events and their (joint) probabilities, the reader is referred to the FloodAdapt Setup Guide [Event Set](../../3_setup_guide/risk_analysis.qmd).\n"
   ]
  },
  {
   "cell_type": "markdown",
   "id": "1",
   "metadata": {},
   "source": [
    "## ⏱️ Step 1. Setup and Imports"
   ]
  },
  {
   "cell_type": "code",
   "execution_count": null,
   "id": "2",
   "metadata": {},
   "outputs": [],
   "source": [
    "from datetime import datetime\n",
    "from pathlib import Path\n",
    "\n",
    "from flood_adapt import Settings, FloodAdapt\n",
    "from flood_adapt import unit_system as us\n",
    "from flood_adapt.config.sfincs import RiverModel\n",
    "from flood_adapt.objects import (\n",
    "    EventSet,\n",
    "    SubEventModel,\n",
    "    SyntheticEvent,\n",
    ")\n",
    "from flood_adapt.objects.forcing import (\n",
    "    DischargeConstant,\n",
    "    ForcingType,\n",
    "    TimeFrame,\n",
    "    ShapeType,\n",
    "    TimeseriesFactory,\n",
    "    RainfallSynthetic,\n",
    "    SurgeModel,\n",
    "    TideModel,\n",
    "    WaterlevelSynthetic,\n",
    "    WindConstant,\n",
    ")\n",
    "\n",
    "# Configure FloodAdapt\n",
    "settings = Settings(\n",
    "    DATABASE_ROOT=Path(\"../../_data/examples\").resolve(),\n",
    "    DATABASE_NAME=\"charleston_test\"\n",
    ")\n",
    "\n",
    "fa = FloodAdapt(database_path=settings.database_path)"
   ]
  }
 ],
 "metadata": {
  "kernelspec": {
   "display_name": "docs",
   "language": "python",
   "name": "python3"
  },
  "language_info": {
   "codemirror_mode": {
    "name": "ipython",
    "version": 3
   },
   "file_extension": ".py",
   "mimetype": "text/x-python",
   "name": "python",
   "nbconvert_exporter": "python",
   "pygments_lexer": "ipython3",
   "version": "3.11.13"
  }
 },
 "nbformat": 4,
 "nbformat_minor": 5
}
