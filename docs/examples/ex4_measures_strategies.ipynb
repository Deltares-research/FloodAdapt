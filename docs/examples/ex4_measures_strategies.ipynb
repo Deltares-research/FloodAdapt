{
 "cells": [
  {
   "cell_type": "markdown",
   "id": "f9b2f8bd",
   "metadata": {},
   "source": [
    "# **Example 4** - Measures and Strategies"
   ]
  },
  {
   "cell_type": "markdown",
   "id": "b7ed48d5",
   "metadata": {},
   "source": [
    "In this notebook we will show you all the different options and inputs for creating different measures and how to create a strategy from the different measures. \n",
    "\n",
    "**Measures** in FloodAdapt can be categorized into **two** different categories, which we will cover all in this notebook:\n",
    "\n",
    "**1. Hazard** - Mitigate the hazard directly\n",
    "\n",
    "- Floodwall\n",
    "- Pump\n",
    "- Green Infrastructure\n",
    "\n",
    "**2. Impact**  - Mitiage the impacts of the hazard on the assets\n",
    "\n",
    "- Elevate properties \n",
    "- Buyout Properties\n",
    "- Floodproof Properties\n",
    "\n",
    "**Strategies** consist of multiple measures combined for example: ***StrategyXYZ* = *Floodwall + Elevated Homes + Pumps***\n",
    "\n",
    "If you want to learn in more detail about measures and what a strategy is, please read the sections on [**Measures**](https://deltares-research.github.io/FloodAdapt/4_user_guide/measures/) and [**Strategies**](https://deltares-research.github.io/FloodAdapt/4_user_guide/strategy/)  in the FloodAdapt GUI documentation."
   ]
  },
  {
   "cell_type": "markdown",
   "id": "75005512",
   "metadata": {},
   "source": [
    "## **Step 0**: Import packages"
   ]
  },
  {
   "cell_type": "code",
   "execution_count": 1,
   "id": "eeb58b39",
   "metadata": {},
   "outputs": [],
   "source": [
    "import pandas as pd\n",
    "from pathlib import Path\n",
    "\n",
    "from flood_adapt.flood_adapt import FloodAdapt\n",
    "from flood_adapt.objects.measures.measures import *\n",
    "from flood_adapt import Settings\n",
    "from flood_adapt.objects.strategies.strategies import Strategy\n",
    "from flood_adapt import unit_system as us"
   ]
  },
  {
   "cell_type": "markdown",
   "id": "a66a120d",
   "metadata": {},
   "source": [
    "## **Step 1**: Getting started - Initiate the database"
   ]
  },
  {
   "cell_type": "markdown",
   "id": "d5423ec7",
   "metadata": {},
   "source": [
    "Let's start with initiating the database and FloodAdapt class. \n",
    "1. Initiate the database class `Settings` by defining the `DATABASE_ROOT` and `DATABASE_NAME`.\n",
    "2. Initiate the class `FloodAdapt` by parsing the `Settings().database_path`."
   ]
  },
  {
   "cell_type": "code",
   "execution_count": 3,
   "id": "5184dd3b",
   "metadata": {},
   "outputs": [],
   "source": [
    "# Set up the settings for the database\n",
    "Settings(\n",
    "    DATABASE_ROOT=Path(\"../_data/examples\").resolve(),\n",
    "    DATABASE_NAME=\"charleston_test\"\n",
    ")\n",
    "\n",
    "# Create the FloodAdapt instance\n",
    "fa = FloodAdapt(Settings().database_path)"
   ]
  },
  {
   "cell_type": "markdown",
   "id": "453e8746",
   "metadata": {},
   "source": [
    "## **Step 2:** Create Hazard Measures\n",
    "We can divide the hazard measures into: \n",
    "1. **Hydraulic** (grey) measures -  structures such as levees, pumps, seawalls that protect infrastructure and residents\n",
    "2. **Green infrastructure** measures - integrate natural elements like parks, green roofs, and permeable pavements into city\n",
    "\n",
    "To create a hazard measure in Floodadapt we need to create a `Measure` object with the FloodAdapt classes. Each object has the following parameters:\n",
    "\n",
    "**Basic inputs**   \n",
    "Basic inputs for <u>all</u> types of hazard measures are:\n",
    "- `name`: The name of the measure\n",
    "- `description` (optionl): A description of the measure\n",
    "- `type`: The type of measure\n",
    "- `selection type`: The type of spatial shape of the measure*\n",
    "- `polygon file`: The file path to the spatial file of the measure\n",
    "\n",
    "****selection_type***  \n",
    "The selection type describes in what type of spatial shape the measure is parsed. There are four options:\n",
    "- `polyline`: This could be a floodwall or levee \n",
    "- `polygon`: This could be a reservoir, or a selection of assets within that polygon\n",
    "- `aggregation_area`: Apply a measure to a whole neighourhood e.g. - elevate buildings\n",
    "- `ALL`: Apply a measure to all the assets e.g. floodproof all buildings. \n",
    "\n",
    "**Measure specific inputs**  \n",
    "For each hazard measure there are additional inputs that only apply to that measure in particular.   \n",
    "\n",
    "- **Floodwall** specific inputs are:\n",
    "    - `elevation`: The elevation value and unit (m,ft) of the floodwall\n",
    "- **Pump** specific inputs are:\n",
    "    - `discharge`: The discharge value and unit (cfs, cms)\n",
    "- **Green Infrastructure** specific inputs are:\n",
    "    - `volume`: The storage volume value and unit (cf, m3)\n",
    "    - `height` (optional): The height of the greening or water square. In the greening measure, the height is used to validate the calculated total storage volume. \n",
    "    - `aggregation_area_type` (optional): The name of the aggregation area category.\n",
    "    - `aggregation_area_name` (optional): The name of the specific aggregation area within the category.\n",
    "    - `percent_area` (optional): The percentage of how much of a given area (polygon, aggregaton area) will be greened.\n",
    "\n",
    "    The green infrastructure class can be divided into **sub-categories**:\n",
    "    - `greening`: Greening a certain area e.g. aggregation area and define the percentage of how much of that area will be greened.\n",
    "    - `total_storage`: Define a total storage volume.\n",
    "    - `water_square`: Define the depth of the water square and the total storage volume will be calculated based on the polygon area and depth\n",
    "\n",
    "Below we will create an `Measure`-object for each **hazard measure**."
   ]
  },
  {
   "cell_type": "code",
   "execution_count": 4,
   "id": "65b06095",
   "metadata": {},
   "outputs": [],
   "source": [
    "# Create a measure object for a Floodwall\n",
    "attrs_floodwall = FloodWall(\n",
    "        name= \"Seawall_12ft\",\n",
    "        description = \"12ft Seawall\",\n",
    "        type = MeasureType.floodwall,\n",
    "        selection_type = SelectionType.polyline,\n",
    "        polygon_file = str(r\"C:\\Users\\rautenba\\repos\\Database\\charleston_full\\input\\measures\\seawall\\seawall.geojson\"),\n",
    "        elevation = us.UnitfulLength(value=12, units=us.UnitTypesLength.feet))\n",
    "\n",
    "# Create a measure object for a Pump\n",
    "attrs_pump = Pump(\n",
    "        name= \"Pump\",\n",
    "        description = \"Pump\",\n",
    "        type = MeasureType.pump,\n",
    "        selection_type = SelectionType.polygon,\n",
    "        polygon_file = str(r\"C:\\Users\\rautenba\\repos\\Database\\charleston_test\\input\\measures\\pump\\pump.geojson\"),\n",
    "        discharge = us.UnitfulDischarge(value=1, units=us.UnitTypesDischarge.cfs))\n",
    "\n",
    "# Create a measure object for Green infrastructure\n",
    "attrs_greening = GreenInfrastructure(\n",
    "        name= \"green_infrastructure_storage\",\n",
    "        description = \"Storage through green infrastructure\",\n",
    "        type = MeasureType.greening,\n",
    "        selection_type = SelectionType.polygon,\n",
    "        polygon_file = str(r\"C:\\Users\\rautenba\\repos\\Database\\charleston_test\\input\\measures\\water_square\\water_square.geojson\"),\n",
    "        volume = us.UnitfulVolume(value = 43975190.31512848, units = us.UnitTypesVolume.cf),\n",
    "        height = us.UnitfulHeight(value = 3, units = us.UnitTypesLength.feet),\n",
    "        percent_area = 100.0)\n",
    "\n",
    "attrs_total_storage = GreenInfrastructure(\n",
    "        name=  \"total_storage_aggregation_area\",\n",
    "        description = \"Total Storage through green infrastructure in aggr area\",\n",
    "        type = MeasureType.total_storage,\n",
    "        selection_type = SelectionType.aggregation_area,\n",
    "        aggregation_area_type = \"aggr_lvl_2\",\n",
    "        aggregation_area_name = \"name5\",\n",
    "        volume = us.UnitfulVolume(value = 100000000.0, units = us.UnitTypesVolume.cf),\n",
    ")\n",
    "\n",
    "attrs_water_square = GreenInfrastructure(\n",
    "        name=  \"water_square\",\n",
    "        description = \"Water Square\",\n",
    "        type = MeasureType.water_square,\n",
    "        selection_type = SelectionType.polygon,\n",
    "        polygon_file = str(r\"C:\\Users\\rautenba\\repos\\Database\\charleston_test\\input\\measures\\water_square\\water_square.geojson\"),\n",
    "        volume = us.UnitfulVolume(value =  43975190.31512848, units = us.UnitTypesVolume.cf),\n",
    "        height = us.UnitfulHeight(value = 3, units = us.UnitTypesLength.feet))  \n",
    "\n",
    "## Create and save measures\n",
    "# Create the neasures\n",
    "fa.create_measure(attrs_floodwall.model_dump(exclude_none=True), type=attrs_floodwall.type)\n",
    "fa.create_measure(attrs_pump.model_dump(exclude_none=True), type=attrs_pump.type)\n",
    "fa.create_measure(attrs_greening.model_dump(exclude_none=True), type=attrs_greening.type)\n",
    "fa.create_measure(attrs_total_storage.model_dump(exclude_none=True), type=attrs_total_storage.type)\n",
    "fa.create_measure(attrs_water_square.model_dump(exclude_none=True), type=attrs_water_square.type)\n",
    "\n",
    "# Save the measures to the database\n",
    "fa.save_measure(attrs_floodwall)\n",
    "fa.save_measure(attrs_pump)\n",
    "fa.save_measure(attrs_greening)\n",
    "fa.save_measure(attrs_total_storage)\n",
    "fa.save_measure(attrs_water_square)"
   ]
  },
  {
   "cell_type": "markdown",
   "id": "02b643b3",
   "metadata": {},
   "source": [
    "## **Step 3:** Create Impact Measures\n",
    "To create a measure in Floodadapt we need to create a **Measure Object** with the FloodAdapt classes. Each object has the following parameters:\n",
    "\n",
    "**Basic inputs**   \n",
    "Basic inputs for <u>all</u> types of impact measures are:\n",
    "- `name`: The name of the measure\n",
    "- `description` (optionl): A description of the measure\n",
    "- `type`: The type of measure\n",
    "- `selection type`: The type of spatial shape of the measure\n",
    "- `polygon file`: The file path to the spatial file of the measure\n",
    "- `property_type`: The building type, e.g. residential, commercial, depends on you Delft-FIAT model classification*\n",
    "- `aggregation_area_type` (optional): The name of the aggregation area category.\n",
    "- `aggregation_area_name` (optional): The name of the specific aggregation area within the category.\n",
    "\n",
    "****property_type***: You can apply the measure to a specific building occupancy. If e.g. you only want to buyout residential homes you can parse the building type of the residential buildings here. Make sure you parse the same string-value as you use in your Delft-FIAT model to describe that type of building. In this example notebook that would be \"residential\".\n",
    "\n",
    "**Measure specific inputs**  \n",
    "For each measure there are additional inputs that only apply to that measure in particular.   \n",
    "\n",
    "1. **Elevate** specific inputs are:\n",
    "    - `elevation`: The elevation value and unit (m,ft) of the assets and the vertical reference type (floodmap, datum).\n",
    "2. **Buy out** specific inputs are:\n",
    "    - *None*\n",
    "3. **Floodproof** specific inputs are:\n",
    "    - `elevation`: The elevation value and unit (m,ft) of the measure\n",
    "\n",
    "Below we will create an `Measure`-object for each **impact measure**."
   ]
  },
  {
   "cell_type": "code",
   "execution_count": null,
   "id": "22ed4939",
   "metadata": {},
   "outputs": [],
   "source": [
    "# Create a measure object for Elevating Buildings\n",
    "attrs_elevate = Elevate(\n",
    "        name= \"elevate_homes_2ft\",\n",
    "        description = \"Elevate all residential buildings in aggregation area 1 by 2ft.\",\n",
    "        type = MeasureType.elevate_properties,\n",
    "        selection_type = SelectionType.polygon,\n",
    "        property_type = \"residential\",\n",
    "        polygon_file =str(r\"C:\\Users\\rautenba\\repos\\Database\\charleston_full\\input\\measures\\raise_property_polygon\\raise_property_polygon.geojson\"),\n",
    "        elevation = us.UnitfulLengthRefValue(value=2, units=us.UnitTypesLength.feet, type = us.VerticalReference.floodmap))\n",
    "\n",
    "# Create a measure object for Buying out Buildings\n",
    "attrs_buyout = Buyout(\n",
    "        name= \"buyout_all_buildings\",\n",
    "        description = \"Buyout all buildings in a specific area.\",\n",
    "        type = MeasureType.buyout_properties,\n",
    "        selection_type = SelectionType.aggregation_area,\n",
    "        aggregation_area_type = \"aggr_lvl_2\",\n",
    "        aggregation_area_name = \"name5\",\n",
    "        property_type = \"ALL\",\n",
    ")\n",
    "\n",
    "# Create a measure object for Floodproofing Buildings\n",
    "attrs_flood_proof = FloodProof(\n",
    "        name= \"floodproof_all_com\",\n",
    "        description = \"Floodproofing all commercial buildings.\",\n",
    "        type = MeasureType.floodproof_properties,\n",
    "        selection_type = SelectionType.all,\n",
    "        property_type = \"commercial\",\n",
    "        elevation = us.UnitfulLength(value=2, units=us.UnitTypesLength.feet))\n",
    "\n",
    "## Create and save measures\n",
    "# Create measures\n",
    "fa.create_measure(attrs_elevate.model_dump(exclude_none=True), type=attrs_elevate.type)\n",
    "fa.create_measure(attrs_buyout.model_dump(exclude_none=True), type=attrs_buyout.type)\n",
    "fa.create_measure(attrs_flood_proof.model_dump(exclude_none=True), type=attrs_flood_proof.type)\n",
    "\n",
    "# Save the measures to the database\n",
    "fa.save_measure(attrs_elevate)\n",
    "fa.save_measure(attrs_buyout)#\n",
    "fa.save_measure(attrs_flood_proof)"
   ]
  },
  {
   "cell_type": "markdown",
   "id": "9125f99f",
   "metadata": {},
   "source": [
    "Using the `get_measures()` method of the `FloodAdapt` class, we can check that the measures have been saved to the database."
   ]
  },
  {
   "cell_type": "code",
   "execution_count": 6,
   "id": "08c10028",
   "metadata": {},
   "outputs": [
    {
     "data": {
      "text/html": [
       "<div>\n",
       "<style scoped>\n",
       "    .dataframe tbody tr th:only-of-type {\n",
       "        vertical-align: middle;\n",
       "    }\n",
       "\n",
       "    .dataframe tbody tr th {\n",
       "        vertical-align: top;\n",
       "    }\n",
       "\n",
       "    .dataframe thead th {\n",
       "        text-align: right;\n",
       "    }\n",
       "</style>\n",
       "<table border=\"1\" class=\"dataframe\">\n",
       "  <thead>\n",
       "    <tr style=\"text-align: right;\">\n",
       "      <th></th>\n",
       "      <th>name</th>\n",
       "      <th>path</th>\n",
       "      <th>last_modification_date</th>\n",
       "      <th>description</th>\n",
       "      <th>objects</th>\n",
       "      <th>geometry</th>\n",
       "    </tr>\n",
       "  </thead>\n",
       "  <tbody>\n",
       "    <tr>\n",
       "      <th>0</th>\n",
       "      <td>buyout</td>\n",
       "      <td>C:\\Users\\rautenba\\repos\\FloodAdapt\\docs\\_data\\...</td>\n",
       "      <td>2025-05-14 16:39:50.105548</td>\n",
       "      <td></td>\n",
       "      <td>name='buyout' description='' type=&lt;MeasureType...</td>\n",
       "      <td>id   name                                  ...</td>\n",
       "    </tr>\n",
       "    <tr>\n",
       "      <th>1</th>\n",
       "      <td>buyout_all_buildings</td>\n",
       "      <td>C:\\Users\\rautenba\\repos\\FloodAdapt\\docs\\_data\\...</td>\n",
       "      <td>2025-05-14 17:02:36.818332</td>\n",
       "      <td>Buyout all buildings in a specific area.</td>\n",
       "      <td>name='buyout_all_buildings' description='Buyou...</td>\n",
       "      <td>id   name                                  ...</td>\n",
       "    </tr>\n",
       "    <tr>\n",
       "      <th>2</th>\n",
       "      <td>elevate_homes_2ft</td>\n",
       "      <td>C:\\Users\\rautenba\\repos\\FloodAdapt\\docs\\_data\\...</td>\n",
       "      <td>2025-05-14 17:02:36.800811</td>\n",
       "      <td>Elevate all residential buildings in aggregati...</td>\n",
       "      <td>name='elevate_homes_2ft' description='Elevate ...</td>\n",
       "      <td>id                                         ...</td>\n",
       "    </tr>\n",
       "    <tr>\n",
       "      <th>3</th>\n",
       "      <td>green_infrastructure_storage</td>\n",
       "      <td>C:\\Users\\rautenba\\repos\\FloodAdapt\\docs\\_data\\...</td>\n",
       "      <td>2025-05-14 17:02:31.841672</td>\n",
       "      <td>Storage through green infrastructure</td>\n",
       "      <td>name='green_infrastructure_storage' descriptio...</td>\n",
       "      <td>ge...</td>\n",
       "    </tr>\n",
       "    <tr>\n",
       "      <th>4</th>\n",
       "      <td>Pump</td>\n",
       "      <td>C:\\Users\\rautenba\\repos\\FloodAdapt\\docs\\_data\\...</td>\n",
       "      <td>2025-05-14 17:02:31.829148</td>\n",
       "      <td>Pump</td>\n",
       "      <td>name='Pump' description='Pump' type=&lt;MeasureTy...</td>\n",
       "      <td>ge...</td>\n",
       "    </tr>\n",
       "    <tr>\n",
       "      <th>5</th>\n",
       "      <td>Seawall_12ft</td>\n",
       "      <td>C:\\Users\\rautenba\\repos\\FloodAdapt\\docs\\_data\\...</td>\n",
       "      <td>2025-05-14 17:02:31.819101</td>\n",
       "      <td>12ft Seawall</td>\n",
       "      <td>name='Seawall_12ft' description='12ft Seawall'...</td>\n",
       "      <td>id                                         ...</td>\n",
       "    </tr>\n",
       "    <tr>\n",
       "      <th>6</th>\n",
       "      <td>total_storage_aggregation_area</td>\n",
       "      <td>C:\\Users\\rautenba\\repos\\FloodAdapt\\docs\\_data\\...</td>\n",
       "      <td>2025-05-14 17:02:31.851228</td>\n",
       "      <td>Total Storage through green infrastructure in ...</td>\n",
       "      <td>name='total_storage_aggregation_area' descript...</td>\n",
       "      <td>id   name                                  ...</td>\n",
       "    </tr>\n",
       "    <tr>\n",
       "      <th>7</th>\n",
       "      <td>water_square</td>\n",
       "      <td>C:\\Users\\rautenba\\repos\\FloodAdapt\\docs\\_data\\...</td>\n",
       "      <td>2025-05-14 17:02:31.866750</td>\n",
       "      <td>Water Square</td>\n",
       "      <td>name='water_square' description='Water Square'...</td>\n",
       "      <td>ge...</td>\n",
       "    </tr>\n",
       "  </tbody>\n",
       "</table>\n",
       "</div>"
      ],
      "text/plain": [
       "                             name  \\\n",
       "0                          buyout   \n",
       "1            buyout_all_buildings   \n",
       "2               elevate_homes_2ft   \n",
       "3    green_infrastructure_storage   \n",
       "4                            Pump   \n",
       "5                    Seawall_12ft   \n",
       "6  total_storage_aggregation_area   \n",
       "7                    water_square   \n",
       "\n",
       "                                                path  \\\n",
       "0  C:\\Users\\rautenba\\repos\\FloodAdapt\\docs\\_data\\...   \n",
       "1  C:\\Users\\rautenba\\repos\\FloodAdapt\\docs\\_data\\...   \n",
       "2  C:\\Users\\rautenba\\repos\\FloodAdapt\\docs\\_data\\...   \n",
       "3  C:\\Users\\rautenba\\repos\\FloodAdapt\\docs\\_data\\...   \n",
       "4  C:\\Users\\rautenba\\repos\\FloodAdapt\\docs\\_data\\...   \n",
       "5  C:\\Users\\rautenba\\repos\\FloodAdapt\\docs\\_data\\...   \n",
       "6  C:\\Users\\rautenba\\repos\\FloodAdapt\\docs\\_data\\...   \n",
       "7  C:\\Users\\rautenba\\repos\\FloodAdapt\\docs\\_data\\...   \n",
       "\n",
       "      last_modification_date  \\\n",
       "0 2025-05-14 16:39:50.105548   \n",
       "1 2025-05-14 17:02:36.818332   \n",
       "2 2025-05-14 17:02:36.800811   \n",
       "3 2025-05-14 17:02:31.841672   \n",
       "4 2025-05-14 17:02:31.829148   \n",
       "5 2025-05-14 17:02:31.819101   \n",
       "6 2025-05-14 17:02:31.851228   \n",
       "7 2025-05-14 17:02:31.866750   \n",
       "\n",
       "                                         description  \\\n",
       "0                                                      \n",
       "1           Buyout all buildings in a specific area.   \n",
       "2  Elevate all residential buildings in aggregati...   \n",
       "3               Storage through green infrastructure   \n",
       "4                                               Pump   \n",
       "5                                       12ft Seawall   \n",
       "6  Total Storage through green infrastructure in ...   \n",
       "7                                       Water Square   \n",
       "\n",
       "                                             objects  \\\n",
       "0  name='buyout' description='' type=<MeasureType...   \n",
       "1  name='buyout_all_buildings' description='Buyou...   \n",
       "2  name='elevate_homes_2ft' description='Elevate ...   \n",
       "3  name='green_infrastructure_storage' descriptio...   \n",
       "4  name='Pump' description='Pump' type=<MeasureTy...   \n",
       "5  name='Seawall_12ft' description='12ft Seawall'...   \n",
       "6  name='total_storage_aggregation_area' descript...   \n",
       "7  name='water_square' description='Water Square'...   \n",
       "\n",
       "                                            geometry  \n",
       "0     id   name                                  ...  \n",
       "1     id   name                                  ...  \n",
       "2     id                                         ...  \n",
       "3                                              ge...  \n",
       "4                                              ge...  \n",
       "5     id                                         ...  \n",
       "6     id   name                                  ...  \n",
       "7                                              ge...  "
      ]
     },
     "execution_count": 6,
     "metadata": {},
     "output_type": "execute_result"
    }
   ],
   "source": [
    "pd.DataFrame(fa.get_measures())"
   ]
  },
  {
   "cell_type": "markdown",
   "id": "556c541c",
   "metadata": {},
   "source": [
    "# 5. Copying and Editing a Measure in the database\n",
    "\n",
    "If we want to edit small parts of a measure, it is easier to copy an existing measure and edit the copy. This way we do not have to create a new measure from scratch.\n",
    "\n",
    "A measure can be copied in the database by using the `copy_measure()` method of the `FloodAdapt` class. This method takes three arguments: the name of the measure to be copied and the name and description of the new measure. Let's copy the measure we just created, having in mind that we want to make a measure for flood-proofing residential buildings."
   ]
  },
  {
   "cell_type": "code",
   "execution_count": 9,
   "id": "af6eae39",
   "metadata": {},
   "outputs": [],
   "source": [
    "# Copy measure\n",
    "fa.copy_measure(old_name=\"floodproof_all_com\", new_name=\"floodproof_all_res\", new_description=\"Floodproofing all residential buildings.\")"
   ]
  },
  {
   "cell_type": "markdown",
   "id": "7a76c690",
   "metadata": {},
   "source": [
    "We can see that now a new measure with name \"floodproof_all_res\" has been created in the database. However, the actual attributes of the measure are still the same as the original measure. "
   ]
  },
  {
   "cell_type": "code",
   "execution_count": 10,
   "id": "a26881ae",
   "metadata": {},
   "outputs": [
    {
     "data": {
      "text/plain": [
       "FloodProof(name='floodproof_all_res', description='Floodproofing all residential buildings.', type=<MeasureType.floodproof_properties: 'floodproof_properties'>, selection_type=<SelectionType.all: 'all'>, aggregation_area_type=None, aggregation_area_name=None, polygon_file=None, property_type='commercial', elevation=UnitfulLength(value=2.0, units=UnitTypesLength.feet))"
      ]
     },
     "execution_count": 10,
     "metadata": {},
     "output_type": "execute_result"
    }
   ],
   "source": [
    "floodproof_res = fa.get_measure(\"floodproof_all_res\")\n",
    "floodproof_res"
   ]
  },
  {
   "cell_type": "markdown",
   "id": "c4b75936",
   "metadata": {},
   "source": [
    "We can directly edit the relevant attributes of the measure object. In this case, we want to change the type to \"residential\"."
   ]
  },
  {
   "cell_type": "code",
   "execution_count": 12,
   "id": "32d6dbcf",
   "metadata": {},
   "outputs": [],
   "source": [
    "floodproof_res.property_type = \"residential\""
   ]
  },
  {
   "cell_type": "markdown",
   "id": "9b3543ad",
   "metadata": {},
   "source": [
    "Then using the `edit_measure()` method of the `FloodAdapt` class, we can save the changes to the database. This method takes a single argument which is a `Measure` object. The `name` field of the measure object provided will be used to identify which measure is going to be updated in the database, with the given Measure object attributes."
   ]
  },
  {
   "cell_type": "code",
   "execution_count": 13,
   "id": "b01aefe5",
   "metadata": {},
   "outputs": [],
   "source": [
    "fa.edit_measure(floodproof_res)"
   ]
  },
  {
   "cell_type": "markdown",
   "id": "8e3e79dd",
   "metadata": {},
   "source": [
    "Now we can verify that the measure has been updated in the database. The property type is now \"residential\"."
   ]
  },
  {
   "cell_type": "code",
   "execution_count": 15,
   "id": "2cff4a67",
   "metadata": {},
   "outputs": [
    {
     "data": {
      "text/plain": [
       "'residential'"
      ]
     },
     "execution_count": 15,
     "metadata": {},
     "output_type": "execute_result"
    }
   ],
   "source": [
    "floodproof_res = fa.get_measure(\"floodproof_all_res\")\n",
    "floodproof_res.property_type"
   ]
  },
  {
   "cell_type": "markdown",
   "id": "98c43c2f",
   "metadata": {},
   "source": [
    "## **Step 4:** Create a Strategy\n",
    "**Strategies** are combinations **measures**. They allow us to run an test multiple measures in a single model run. \n",
    "\n",
    "When creating a strategy we need to create a **Strategy object** with the following inputs:\n",
    "1. `name`: The name of the strategy\n",
    "2. `description` (optional): The description of the strategy\n",
    "3. `measures`: A list of all the measure object names, you would like to use in that strategy. "
   ]
  },
  {
   "cell_type": "code",
   "execution_count": 16,
   "id": "e3ecfc80",
   "metadata": {},
   "outputs": [],
   "source": [
    "# Create a strategy object\n",
    "attrs_strategy = Strategy(\n",
    "        name= \"pump_greening_flood_proof\",\n",
    "        description = \"Strategy with pump, greening and floodproofing\",\n",
    "        measures = [attrs_pump.name, attrs_greening.name, attrs_flood_proof.name],\n",
    "        )\n",
    "\n",
    "# Create the stategy\n",
    "fa.create_strategy(attrs_strategy .model_dump(exclude_none=True))\n",
    "\n",
    "# Save the stategy\n",
    "fa.save_strategy(attrs_strategy )"
   ]
  },
  {
   "cell_type": "markdown",
   "id": "5a5841e8",
   "metadata": {},
   "source": [
    "Using the `get_strategies()` method of the `FloodAdapt` class, we can check that the strategies have been saved to the database."
   ]
  },
  {
   "cell_type": "code",
   "execution_count": 19,
   "id": "54896298",
   "metadata": {},
   "outputs": [
    {
     "data": {
      "text/html": [
       "<div>\n",
       "<style scoped>\n",
       "    .dataframe tbody tr th:only-of-type {\n",
       "        vertical-align: middle;\n",
       "    }\n",
       "\n",
       "    .dataframe tbody tr th {\n",
       "        vertical-align: top;\n",
       "    }\n",
       "\n",
       "    .dataframe thead th {\n",
       "        text-align: right;\n",
       "    }\n",
       "</style>\n",
       "<table border=\"1\" class=\"dataframe\">\n",
       "  <thead>\n",
       "    <tr style=\"text-align: right;\">\n",
       "      <th></th>\n",
       "      <th>name</th>\n",
       "      <th>path</th>\n",
       "      <th>last_modification_date</th>\n",
       "      <th>description</th>\n",
       "      <th>objects</th>\n",
       "    </tr>\n",
       "  </thead>\n",
       "  <tbody>\n",
       "    <tr>\n",
       "      <th>0</th>\n",
       "      <td>no_measures</td>\n",
       "      <td>C:\\Users\\rautenba\\repos\\FloodAdapt\\docs\\_data\\...</td>\n",
       "      <td>2025-05-14 16:39:50.348489</td>\n",
       "      <td></td>\n",
       "      <td>name='no_measures' description='' measures=[]</td>\n",
       "    </tr>\n",
       "    <tr>\n",
       "      <th>1</th>\n",
       "      <td>pump_greening_flood_proof</td>\n",
       "      <td>C:\\Users\\rautenba\\repos\\FloodAdapt\\docs\\_data\\...</td>\n",
       "      <td>2025-05-14 17:06:39.858401</td>\n",
       "      <td>Strategy with pump, greening and floodproofing</td>\n",
       "      <td>name='pump_greening_flood_proof' description='...</td>\n",
       "    </tr>\n",
       "  </tbody>\n",
       "</table>\n",
       "</div>"
      ],
      "text/plain": [
       "                        name  \\\n",
       "0                no_measures   \n",
       "1  pump_greening_flood_proof   \n",
       "\n",
       "                                                path  \\\n",
       "0  C:\\Users\\rautenba\\repos\\FloodAdapt\\docs\\_data\\...   \n",
       "1  C:\\Users\\rautenba\\repos\\FloodAdapt\\docs\\_data\\...   \n",
       "\n",
       "      last_modification_date                                     description  \\\n",
       "0 2025-05-14 16:39:50.348489                                                   \n",
       "1 2025-05-14 17:06:39.858401  Strategy with pump, greening and floodproofing   \n",
       "\n",
       "                                             objects  \n",
       "0      name='no_measures' description='' measures=[]  \n",
       "1  name='pump_greening_flood_proof' description='...  "
      ]
     },
     "execution_count": 19,
     "metadata": {},
     "output_type": "execute_result"
    }
   ],
   "source": [
    "pd.DataFrame(fa.get_strategies())"
   ]
  },
  {
   "cell_type": "code",
   "execution_count": 18,
   "id": "bd5bb1f8",
   "metadata": {},
   "outputs": [
    {
     "data": {
      "text/plain": [
       "Strategy(name='pump_greening_flood_proof', description='Strategy with pump, greening and floodproofing', measures=['Pump', 'green_infrastructure_storage', 'floodproof_all_com'])"
      ]
     },
     "execution_count": 18,
     "metadata": {},
     "output_type": "execute_result"
    }
   ],
   "source": [
    "strategy = fa.get_strategy(\"pump_greening_flood_proof\")\n",
    "strategy"
   ]
  },
  {
   "cell_type": "markdown",
   "id": "6e2499c0",
   "metadata": {},
   "source": [
    "# 5. Copying and Editing a Strategy in the database\n",
    "\n",
    "If we want to edit small parts of a strategy, it is easier to copy an existing strategy and edit the copy. This way we do not have to create a new strategy from scratch.\n",
    "\n",
    "A strategy can be copied in the database by using the `copy_strategy()` method of the `FloodAdapt` class. This method takes three arguments: the name of the strategy to be copied and the name and description of the new strategy. Let's copy the strategy we just created, having in mind that we want to remove the greening from the strategy and add a floodwall instead."
   ]
  },
  {
   "cell_type": "code",
   "execution_count": null,
   "id": "0f353ebf",
   "metadata": {},
   "outputs": [],
   "source": [
    "# Copy strategy\n",
    "fa.copy_strategy(old_name=\"pump_greening_flood_proof\", new_name=\"pump_floodwall_flood_proof\", new_description=\"Strategy with pump, flodwall and floodproofing.\")"
   ]
  },
  {
   "cell_type": "markdown",
   "id": "0917b284",
   "metadata": {},
   "source": [
    "We can see that now a new strategy with name \"pump_floodwall_flood_proof\" has been created in the database. However, the actual attributes of the strtaegy are still the same as the original srtategy. "
   ]
  },
  {
   "cell_type": "code",
   "execution_count": null,
   "id": "dd085f38",
   "metadata": {},
   "outputs": [],
   "source": [
    "strategy_2 = fa.get_strategy(\"pump_floodwall_flood_proof\")\n",
    "strategy_2"
   ]
  },
  {
   "cell_type": "markdown",
   "id": "f9cdbad3",
   "metadata": {},
   "source": [
    "We can directly edit the relevant attributes of the measure object. In this case, we want to change the type to \"residential\"."
   ]
  },
  {
   "cell_type": "code",
   "execution_count": null,
   "id": "1880ff65",
   "metadata": {},
   "outputs": [],
   "source": [
    "strategy_2.measures = strategy_2.measures.pop(attrs_greening.name)\n",
    "strategy_2.measures = strategy_2.measures.append(attrs_floodwall.name)"
   ]
  },
  {
   "cell_type": "markdown",
   "id": "8cc420f3",
   "metadata": {},
   "source": [
    "Then using the `edit_strategy()` method of the `FloodAdapt` class, we can save the changes to the database. This method takes a single argument which is a `Strategy` object. The `name` field of the Strategy object provided will be used to identify which strategy is going to be updated in the database, with the given Strategy object attributes."
   ]
  },
  {
   "cell_type": "code",
   "execution_count": null,
   "id": "87189152",
   "metadata": {},
   "outputs": [],
   "source": [
    "fa.edit_strategy(\"pump_floodwall_flood_proof\")"
   ]
  },
  {
   "cell_type": "markdown",
   "id": "94955342",
   "metadata": {},
   "source": [
    "Now we can verify that the strategy has been updated in the database."
   ]
  },
  {
   "cell_type": "code",
   "execution_count": null,
   "id": "8706f2e5",
   "metadata": {},
   "outputs": [],
   "source": [
    "strategy_2 = fa.get_strategy(\"pump_floodwall_flood_proof\")\n",
    "strategy_2.measures"
   ]
  },
  {
   "cell_type": "markdown",
   "id": "20722f11",
   "metadata": {},
   "source": [
    "### **DONE!** \n",
    "**Congratulations** you created all **measures** possible in FloodAdap and combined some of them into a **strategy**!"
   ]
  }
 ],
 "metadata": {
  "kernelspec": {
   "display_name": "docs",
   "language": "python",
   "name": "python3"
  },
  "language_info": {
   "codemirror_mode": {
    "name": "ipython",
    "version": 3
   },
   "file_extension": ".py",
   "mimetype": "text/x-python",
   "name": "python",
   "nbconvert_exporter": "python",
   "pygments_lexer": "ipython3",
   "version": "3.11.12"
  }
 },
 "nbformat": 4,
 "nbformat_minor": 5
}
