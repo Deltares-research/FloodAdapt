{
 "cells": [
  {
   "cell_type": "markdown",
   "id": "f9b2f8bd",
   "metadata": {},
   "source": [
    "# **Example 4** - Measures and Strategies"
   ]
  },
  {
   "cell_type": "markdown",
   "id": "b7ed48d5",
   "metadata": {},
   "source": [
    "In this notebook we will show you all the different options and inputs for creating different measures and how to create a strategy from the different measures. \n",
    "\n",
    "**Measures** in FloodAdapt can be categorized into **two** different categories, which we will cover all in this notebook:\n",
    "\n",
    "**1. Hazard** - Mitigate the hazard directly\n",
    "\n",
    "- Floodwall\n",
    "- Pump\n",
    "- Green Infrastructure\n",
    "\n",
    "**2. Impact**  - Mitiage the impacts of the hazard on the assets\n",
    "\n",
    "- Elevate properties \n",
    "- Buyout Properties\n",
    "- Floodproof Properties\n",
    "\n",
    "**Strategies** consist of multiple measures combined for example: ***StrategyXYZ* = *Floodwall + Elevated Homes + Pumps***\n",
    "\n",
    "If you want to learn in more detail about measures and what a strategy is please read the sections on [**Measures**](https://deltares-research.github.io/FloodAdapt/4_user_guide/measures/) and [**Strategies**](https://deltares-research.github.io/FloodAdapt/4_user_guide/strategy/)  in the FloodAdapt documentation."
   ]
  },
  {
   "cell_type": "markdown",
   "id": "75005512",
   "metadata": {},
   "source": [
    "## **Step 0**: Import packages"
   ]
  },
  {
   "cell_type": "code",
   "execution_count": null,
   "id": "eeb58b39",
   "metadata": {},
   "outputs": [],
   "source": [
    "from pathlib import Path\n",
    "\n",
    "from flood_adapt.objects.measures.measures import *\n",
    "from flood_adapt import unit_system as us"
   ]
  },
  {
   "cell_type": "markdown",
   "id": "453e8746",
   "metadata": {},
   "source": [
    "## **Step 1:** Create Hazard Measures\n",
    "We can divide the hazard measures into: \n",
    "1. **Hydraulic** (grey) measures -  structures such as levees, pumps, seawalls that protect infrastructure and residents\n",
    "2. **Green infrastructure** measures - integrate natural elements like parks, green roofs, and permeable pavements into city\n",
    "\n",
    "To create a measure in Floodadapt we need to create a **Measure Object** with the FloodAdapt classes. Each object has the following parameters:\n",
    "\n",
    "**Basic** inputs for <u>all</u> types of hazard measures are:\n",
    "- ***name***: The name of the measure\n",
    "- ***description*** (optionl): A description of the measure\n",
    "- ***type***: The type of measure\n",
    "- ***selection type***: The type of spatial shape of the measure\n",
    "- ***polygon file***: The file path to the spatial file of the measure\n",
    "\n",
    "**Floodwall** specific inputs are:\n",
    "- ***elevation***:\n",
    "\n",
    "**Pump** specific inputs are:\n",
    "- ***discharge***: \n",
    "\n",
    "**Greening** specific inputs are:\n",
    "- ***volume***: \n",
    "- ***height*** (optional): \n",
    "- ***aggregation_area_type*** (optional): \n",
    "- ***aggregation_area_name*** (optional): \n",
    "- ***percent_area*** (optional):\n",
    "\n",
    "Below we will create an object for each hazard measure."
   ]
  },
  {
   "cell_type": "code",
   "execution_count": null,
   "id": "65b06095",
   "metadata": {},
   "outputs": [],
   "source": [
    "# Create a measure object for a Floodwall\n",
    "attrs_floodwall = FloodWall(\n",
    "        name= \"Seawall_12ft\",\n",
    "        description = \"12ft Seawall\",\n",
    "        type = MeasureType.floodwall,\n",
    "        selection_type = SelectionType.polyline,\n",
    "        polygon_file = str(r\"C:\\Users\\rautenba\\repos\\Database\\charleston_full\\input\\measures\\seawall\\seawall.geojson\"),\n",
    "        elevation = us.UnitfulLength(value=12, units=us.UnitTypesLength.feet))\n",
    "\n",
    "# Create a measure object for a Pump\n",
    "attrs_pump = Pump(\n",
    "        name= \"Pump\",\n",
    "        description = \"Pump\",\n",
    "        type = MeasureType.pump,\n",
    "        selection_type = SelectionType.polygon,\n",
    "        polygon_file = str(r\"\"),\n",
    "        discharge = us.UnitfulDischarge(value=1, units=us.UnitTypesDischarge.cfs))\n",
    "\n",
    "# Create a measure object for Green infrastructure\n",
    "attrs_green_infra = GreenInfrastructure(\n",
    "        name= \"green_infrastructure_storage\",\n",
    "        description = \"Storage through green infrastructure\",\n",
    "        type = MeasureType.greening,\n",
    "        selection_type = SelectionType.polygon,\n",
    "        polygon_file = str(r\"\")\n",
    "        volume = us.UnitfulVolume(value = 3, units = us.UnitTypesVolume.cf),\n",
    "        height = us.UnitfulHeight(value = 3, units = us.UnitTypesLength.feet),\n",
    "        aggregation_area_type: \"\", #TODO\n",
    "        aggregation_area_name: \"\", #TODO\n",
    "        percent_area: Optional[float] = #TODO\n",
    "        )"
   ]
  },
  {
   "cell_type": "markdown",
   "id": "02b643b3",
   "metadata": {},
   "source": [
    "## **Step 2:** Create Impact Measures\n",
    "To create a measure in Floodadapt we need to create a **Measure Object** with the FloodAdapt classes. Each object has the following parameters:\n",
    "\n",
    "**Basic** inputs for <u>all</u> types of impact measures are:\n",
    "- ***name***: The name of the measure\n",
    "- ***description*** (optionl): A description of the measure\n",
    "- ***type***: The type of measure\n",
    "- ***selection type***: The type of spatial shape of the measure\n",
    "- ***polygon file***: The file path to the spatial file of the measure\n",
    "- ***property_type***: The building type, e.g. residential, commercial, depends on you Delft-FIAT model classification\n",
    "- ***aggregation_area_type*** (optional):\n",
    "- ***aggregation_area_name*** (optional):\n",
    "\n",
    "**Elevate** specific inputs are:\n",
    "- ***elevation***:\n",
    "\n",
    "**Buy out** specific inputs are:\n",
    "- ***None***\n",
    "\n",
    "**Floodproof** specific inputs are:\n",
    "- ***elevation***:\n",
    "\n",
    "Below we will create an object for each impact measure."
   ]
  },
  {
   "cell_type": "code",
   "execution_count": null,
   "id": "22ed4939",
   "metadata": {},
   "outputs": [],
   "source": [
    "# Create a measure object for Elevating Buildings\n",
    "attrs_floodwall = Elevate(\n",
    "        name= \"elevate_homes_2ft\",\n",
    "        description = \"Elevate all residential buildings in aggregation area 1 by 2ft.\",\n",
    "        type = MeasureType.elevate_properties,\n",
    "        selection_type = SelectionType.aggregation_area,\n",
    "        property_type = \"residential\",\n",
    "        polygon_file =str(r\"C:\\Users\\rautenba\\repos\\Database\\charleston_full\\input\\measures\\raise_property_polygon\\raise_property_polygon.geojson\"),\n",
    "        elevation = us.UnitfulLength(value=2, units=us.UnitTypesLength.feet))\n",
    "\n",
    "# Create a measure object for Buying out Buildings\n",
    "attrs_pump = Buyout(\n",
    "        name= \"buyout_all_buildings\",\n",
    "        description = \"Buyout all buildings in a specific area.\",\n",
    "        type = MeasureType.pump,\n",
    "        selection_type = SelectionType.polygon,\n",
    "        property_type = \"ALL\",\n",
    "        polygon_file = str(r\"\"),\n",
    "\n",
    "# Create a measure object for Floodproofing Buildings\n",
    "attrs_green_infra = FloodProof(\n",
    "        name= \"floodproof_all_com\",\n",
    "        description = \"Floodproofing all commercial buildings.\",\n",
    "        type = MeasureType.greening,\n",
    "        selection_type = SelectionType.all,\n",
    "        polygon_file = str(r\"\"),\n",
    "        property_type = \"commercial\",\n",
    "        elevation = us.UnitfulLength(value=2, units=us.UnitTypesLength.feet))\n",
    "        )"
   ]
  },
  {
   "cell_type": "markdown",
   "id": "8d73767d",
   "metadata": {},
   "source": [
    "#### Selection Types and property type\n",
    "describe all the options\n"
   ]
  },
  {
   "cell_type": "markdown",
   "id": "8b046e25",
   "metadata": {},
   "source": [
    "### **2. Green Infrastructure Measures**"
   ]
  },
  {
   "cell_type": "code",
   "execution_count": null,
   "id": "27904ecc",
   "metadata": {},
   "outputs": [],
   "source": []
  },
  {
   "cell_type": "markdown",
   "id": "8c6a510d",
   "metadata": {},
   "source": [
    "### **3. Building Level Measures**"
   ]
  },
  {
   "cell_type": "code",
   "execution_count": null,
   "id": "aca3af0a",
   "metadata": {},
   "outputs": [],
   "source": []
  }
 ],
 "metadata": {
  "language_info": {
   "name": "python"
  }
 },
 "nbformat": 4,
 "nbformat_minor": 5
}
