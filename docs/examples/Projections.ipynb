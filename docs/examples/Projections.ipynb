{
 "cells": [
  {
   "cell_type": "markdown",
   "id": "0",
   "metadata": {},
   "source": [
    "# Projections in FloodAdapt\n",
    "\n",
    "In FloodAdapt,  a [Projection](../api_ref/objects/Projection.qmd) object is used to describe future climate and socio-economic conditions. \n",
    "\n",
    "Like all FloodAdapt objects, the Projection has a unique `name` and an optional `description` field. \n",
    "\n",
    "The physical part of the Projection is described by the `physical_projection` field which should be a [PhysicalProjection](../api_ref/objects/PhysicalProjection.qmd) object. A PhysicalProjection has the `sea_level_rise` and `subsidence` fields, which are relevant for all types of events, and the `rainfall_multiplier` and `storm_frequency_increase` fields which are applicable only for events sets (risk scenarios).\n",
    "\n",
    "The socio-economic part of the Projection is described by the `socio_economic_change` field which should be a [SocioEconomicChange](../api_ref/objects/SocioEconomicChange.qmd) object. A SocioEconomicChange has the `population_growth_existing`, `economic_growth`, and `population_growth_new` fields. \n",
    "If the `population_growth_new` field is not zero, then the `new_development_elevation` and `new_development_shapefile` should be provided to describe the area that the new development will take place.\n",
    "\n",
    "If you want to learn more about Projections, you can check the [Projections](../4_user_guide/projections) section of the FloodAdapt GUI documentation.\n"
   ]
  },
  {
   "cell_type": "markdown",
   "id": "1",
   "metadata": {},
   "source": [
    "In this notebook, we will look into all the available FloodAdapt methods to create and manipulate Projections."
   ]
  },
  {
   "cell_type": "markdown",
   "id": "2",
   "metadata": {},
   "source": [
    "## Import libraries\n",
    "\n",
    "First the required python libraries for this notebook are imported. "
   ]
  },
  {
   "cell_type": "code",
   "execution_count": null,
   "id": "3",
   "metadata": {},
   "outputs": [],
   "source": [
    "from flood_adapt import FloodAdapt\n",
    "from pathlib import Path\n",
    "from flood_adapt.config.config import Settings\n",
    "import pandas as pd\n",
    "import geopandas as gpd"
   ]
  },
  {
   "cell_type": "markdown",
   "id": "4",
   "metadata": {},
   "source": [
    "## **Step 1:** Reading-in the FloodAdapt database\n",
    "\n",
    "Then, we need to create a `FloodAdapt` object, with the example database of Charleston. This object has all the required methods for adding, copying, editing or deleting projections from the database. "
   ]
  },
  {
   "cell_type": "code",
   "execution_count": null,
   "id": "5",
   "metadata": {},
   "outputs": [],
   "source": [
    "settings = Settings(DATABASE_ROOT=Path(r\"c:\\Users\\athanasi\\Github\\Database_test\"), \n",
    "                    DATABASE_NAME=\"charleston_test\", \n",
    "                    SYSTEM_FOLDER=Path(r\"c:\\Users\\athanasi\\Github\\FloodAdapt\\flood_adapt\\system\")\n",
    "                    )\n",
    "dbs_path = Path(r\"c:\\Users\\athanasi\\Github\\Database_test\\charleston_test\")\n",
    "fa = FloodAdapt(database_path=dbs_path)"
   ]
  },
  {
   "cell_type": "markdown",
   "id": "6",
   "metadata": {},
   "source": [
    "## **Step 2:** Getting available projections from the database"
   ]
  },
  {
   "cell_type": "markdown",
   "id": "7",
   "metadata": {},
   "source": [
    "Using the `get_projections()` method of the `FloodAdapt` class, we can get a dictionary of all the projections in the database. The keys of the dictionary are the names, descriptions, paths and last modification dates of the projections. We can use this method to check which projections are available in the database."
   ]
  },
  {
   "cell_type": "code",
   "execution_count": null,
   "id": "8",
   "metadata": {},
   "outputs": [],
   "source": [
    "pd.DataFrame(fa.get_projections()) # here we turn the dictionary to a Pandas DataFrame for better visualization"
   ]
  },
  {
   "cell_type": "markdown",
   "id": "9",
   "metadata": {},
   "source": [
    "As can be seen above, right now, there is only one projection available in the database named \"**current**\". This is a default projection created when the database is created, to describe the current conditions without any future changes.\n",
    "\n",
    "We can get the [Projection](https://deltares-research.github.io/FloodAdapt/api_ref/objects/Projection.html#flood_adapt.objects.Projection) object of a projection by using the `get_projection()` method of the `FloodAdapt` class. This method takes only the name of the projection as an argument."
   ]
  },
  {
   "cell_type": "code",
   "execution_count": null,
   "id": "10",
   "metadata": {},
   "outputs": [],
   "source": [
    "fa.get_projection(\"current\")"
   ]
  },
  {
   "cell_type": "markdown",
   "id": "11",
   "metadata": {},
   "source": [
    "As can be seen the Projection object h"
   ]
  },
  {
   "cell_type": "markdown",
   "id": "12",
   "metadata": {},
   "source": [
    "## **Step 3:** Creating a Projection object\n"
   ]
  },
  {
   "cell_type": "markdown",
   "id": "13",
   "metadata": {},
   "source": [
    "A `Projection` object can be created by using the individual FloodAdapt classes. This can ensure correct type hinting and avoid errors. \n",
    "\n",
    "\n",
    "First, let's create simple projection that describes a future conditions with 0.5 meters of sea level rise. In FloodAdapt to define a value with a unit, a [UnitfulLength](../api_ref/UnitfulLength.qmd) object can be used which has a `value` and a `unit` field. The `value` field is a float and the `unit` field can be one of the [UnitTypesLength](../api_ref/UnitTypesLength.qmd)."
   ]
  },
  {
   "cell_type": "code",
   "execution_count": null,
   "id": "14",
   "metadata": {},
   "outputs": [],
   "source": [
    "# TODO why is physical_projection and socio_economic_change mandatory? Maybe we can have default values?\n",
    "# first we need to import the classes we want to use\n",
    "from flood_adapt.objects.forcing.unit_system import UnitTypesLength, UnitfulLength\n",
    "from flood_adapt.objects.projections.projections import PhysicalProjection, Projection, SocioEconomicChange\n",
    "\n",
    "# the we create the projection object\n",
    "slr_50cm = Projection(name=\"slr_50cm\", \n",
    "                    description=\"0.5 m sea level rise\", \n",
    "                    physical_projection= PhysicalProjection(sea_level_rise=UnitfulLength(value=0.5, units=UnitTypesLength.meters)), \n",
    "                    socio_economic_change=SocioEconomicChange() # we leave this empty for now, since we only do sea level rise\n",
    "                    )\n",
    "slr_50cm"
   ]
  },
  {
   "cell_type": "markdown",
   "id": "15",
   "metadata": {},
   "source": [
    "We can see that since we did not provide a socio-economic projection, the socio-economic projection fields are set to the default values."
   ]
  },
  {
   "cell_type": "markdown",
   "id": "16",
   "metadata": {},
   "source": [
    "Alternatively,  a new projection can be created by using the `create_projection()` method of the `FloodAdapt` class. This method takes a single argument which is a dictionary containing the required projection parameters. Let's create the exact same projection as before with the 0.5 meters of sea level rise."
   ]
  },
  {
   "cell_type": "code",
   "execution_count": null,
   "id": "17",
   "metadata": {},
   "outputs": [],
   "source": [
    "# Create dictionary\n",
    "slr_50cm_dict = {\n",
    "    \"name\": \"slr_50cm\",\n",
    "    \"description\": \"0.5 m sea level rise\",\n",
    "    \"physical_projection\": {\"sea_level_rise\": {\"value\": 0.5, \"units\": \"meters\"}},\n",
    "    \"socio_economic_change\": {}\n",
    "}\n",
    "# Create Projection object from dictionary\n",
    "slr_50cm_from_dict = fa.create_projection(slr_50cm_dict)\n",
    "\n",
    "# Check if the two objects are equal\n",
    "slr_50cm_from_dict == slr_50cm"
   ]
  },
  {
   "cell_type": "markdown",
   "id": "18",
   "metadata": {},
   "source": [
    "As you can see the two projections are identical. "
   ]
  },
  {
   "cell_type": "markdown",
   "id": "19",
   "metadata": {},
   "source": [
    "# 4. Saving a new Projection to the database\n",
    "\n",
    "In the previous step we have created a `Projection` object, but we have not yet saved it in our database. The `save_projection()` method of the `FloodAdapt` class can be used to save a new projection to the database. This method takes a single argument which is a `Projection` object. If a projection with the same name already exists in the database, an error will be raised. Let's save the projection we just created to the database."
   ]
  },
  {
   "cell_type": "code",
   "execution_count": null,
   "id": "20",
   "metadata": {},
   "outputs": [],
   "source": [
    "fa.save_projection(slr_50cm)"
   ]
  },
  {
   "cell_type": "markdown",
   "id": "21",
   "metadata": {},
   "source": [
    "Using the `get_projections()` method of the `FloodAdapt` class, we can check that the projection has been saved to the database."
   ]
  },
  {
   "cell_type": "code",
   "execution_count": null,
   "id": "22",
   "metadata": {},
   "outputs": [],
   "source": [
    "pd.DataFrame(fa.get_projections())"
   ]
  },
  {
   "cell_type": "markdown",
   "id": "23",
   "metadata": {},
   "source": [
    "# 5. Copying and Editing a Projection in the database\n",
    "\n",
    "If we want to edit small parts of a projection, it is easier to copy an existing projection and edit the copy. This way we do not have to create a new projection from scratch.\n",
    "\n",
    "A projection can be copied in the database by using the `copy_projection()` method of the `FloodAdapt` class. This method takes three arguments: the name of the projection to be copied and the name and description of the new projection. Let's copy the projection we just created, having in mind that we want to make a projection for 1 meter of sea level rise. "
   ]
  },
  {
   "cell_type": "code",
   "execution_count": null,
   "id": "24",
   "metadata": {},
   "outputs": [],
   "source": [
    "# TODO why is it called old_name? we are not replacing the name. This should change to name\n",
    "fa.copy_projection(old_name=\"slr_50cm\", new_name=\"slr_1m\", new_description=\"1 m sea level rise\")"
   ]
  },
  {
   "cell_type": "markdown",
   "id": "25",
   "metadata": {},
   "source": [
    "We can see that now a new projection with name \"slr_1m\" has been created in the database. However, the actual attributes of the projection are still the same as the original projection. "
   ]
  },
  {
   "cell_type": "code",
   "execution_count": null,
   "id": "26",
   "metadata": {},
   "outputs": [],
   "source": [
    "slr_1m = fa.get_projection(\"slr_1m\")\n",
    "slr_1m.physical_projection.sea_level_rise"
   ]
  },
  {
   "cell_type": "markdown",
   "id": "27",
   "metadata": {},
   "source": [
    "We can directly edit the relevant attributes of the projection object. In this case, we want to change the sea level rise to 1 meter."
   ]
  },
  {
   "cell_type": "code",
   "execution_count": null,
   "id": "28",
   "metadata": {},
   "outputs": [],
   "source": [
    "slr_1m.physical_projection.sea_level_rise.value = 1.0"
   ]
  },
  {
   "cell_type": "markdown",
   "id": "29",
   "metadata": {},
   "source": [
    "Then using the `edit_projection()` method of the `FloodAdapt` class, we can save the changes to the database. This method takes a single argument which is a `Projection` object. The `name` field of the projection object provided will be used to identify which projection is going to be updated in the database, with the given Projection object attributes."
   ]
  },
  {
   "cell_type": "code",
   "execution_count": null,
   "id": "30",
   "metadata": {},
   "outputs": [],
   "source": [
    "# TODO do we need an edit?\n",
    "fa.edit_projection(slr_1m)"
   ]
  },
  {
   "cell_type": "markdown",
   "id": "31",
   "metadata": {},
   "source": [
    "Now we can verify that the projection has been updated in the database. The sea level rise is now 1 meter."
   ]
  },
  {
   "cell_type": "code",
   "execution_count": null,
   "id": "32",
   "metadata": {},
   "outputs": [],
   "source": [
    "slr_1m = fa.get_projection(\"slr_1m\")\n",
    "slr_1m.physical_projection.sea_level_rise"
   ]
  },
  {
   "cell_type": "markdown",
   "id": "33",
   "metadata": {},
   "source": [
    "# 6. Deleting a Projection from the database\n",
    "\n",
    "We now have 3 projections in the database."
   ]
  },
  {
   "cell_type": "code",
   "execution_count": null,
   "id": "34",
   "metadata": {},
   "outputs": [],
   "source": [
    "pd.DataFrame(fa.get_projections())"
   ]
  },
  {
   "cell_type": "markdown",
   "id": "35",
   "metadata": {},
   "source": [
    "\n",
    "If we want to delete a projection from the database, we can use the `delete_projection()` method of the `FloodAdapt` class. This method takes a single argument which is the name of the projection to be deleted. Let's delete the projection we just created."
   ]
  },
  {
   "cell_type": "code",
   "execution_count": null,
   "id": "36",
   "metadata": {},
   "outputs": [],
   "source": [
    "fa.delete_projection(\"slr_1m\")"
   ]
  },
  {
   "cell_type": "markdown",
   "id": "37",
   "metadata": {},
   "source": [
    "We can check that the projection has been indeed deleted from the database by using the `get_projections()` method of the `FloodAdapt` class. The projection with name \"slr_1m\" is no longer in the database."
   ]
  },
  {
   "cell_type": "code",
   "execution_count": null,
   "id": "38",
   "metadata": {},
   "outputs": [],
   "source": [
    "pd.DataFrame(fa.get_projections())"
   ]
  },
  {
   "cell_type": "markdown",
   "id": "39",
   "metadata": {},
   "source": [
    "# 7. Use of Sea Level Rise Scenarios\n",
    "\n",
    "# TODO explain how to add scenarios!\n",
    "A FloodAdapt database can include sea level rise scenarios, describing a timeline of future sea level rise relative to a reference year. If these scenarios are available in the database the `get_slr_scn_names()` method  will return a list of the available scenarios."
   ]
  },
  {
   "cell_type": "code",
   "execution_count": null,
   "id": "40",
   "metadata": {},
   "outputs": [],
   "source": [
    "fa.get_slr_scn_names()"
   ]
  },
  {
   "cell_type": "code",
   "execution_count": null,
   "id": "41",
   "metadata": {},
   "outputs": [],
   "source": [
    "# TODO the display is not working in the notebook. We need to check why this is the case.\n",
    "from IPython.display import IFrame, display\n",
    "from pathlib import Path\n",
    "\n",
    "# Ensure the path is correct and accessible\n",
    "html_path = fa.plot_slr_scenarios()\n",
    "\n",
    "display(IFrame(src=html_path, width='500px', height='200px'))"
   ]
  },
  {
   "cell_type": "markdown",
   "id": "42",
   "metadata": {},
   "source": [
    "Then the `interp_slr()` method can be used to interpolate the sea level rise for a given year. This method takes two arguments: the name of the scenario and the year for which we want to interpolate the sea level rise. The method returns a float value representing the interpolated sea level rise in length units of the database."
   ]
  },
  {
   "cell_type": "code",
   "execution_count": null,
   "id": "43",
   "metadata": {},
   "outputs": [],
   "source": [
    "# TODO why this is unitless?\n",
    "fa.interp_slr(slr_scenario=\"ssp585\", year=2050)"
   ]
  },
  {
   "cell_type": "markdown",
   "id": "44",
   "metadata": {},
   "source": [
    "# 8. Population Growth in New Developments Areas\n",
    "\n",
    "If the `population_growth_new` field of a projection is not zero, then the `new_development_elevation` and `new_development_shapefile` should be provided to describe the area that the new development will take place. The `new_development_elevation` field is a [UnitfulLength](https://deltares-research.github.io/FloodAdapt/api_ref/UnitfulLength.html) object which describes the elevation of the new development area. The `new_development_shapefile` field is a [Shapefile](https://deltares-research.github.io/FloodAdapt/api_ref/objects/Shapefile.html#flood_adapt.objects.Shapefile) object which describes the shapefile of the new development area."
   ]
  },
  {
   "cell_type": "code",
   "execution_count": null,
   "id": "45",
   "metadata": {},
   "outputs": [],
   "source": [
    "# TODO why call it population_growth_existing? No need to\n",
    "# TODO add documentation for units\n",
    "# TODO if population_growth_new is given, shapefile should be mandatory \n",
    "proj_2050 = Projection(name=\"proj_2050\",\n",
    "                    description=\"2050 projection\", \n",
    "                    physical_projection= PhysicalProjection(sea_level_rise=UnitfulLength(value=fa.interp_slr(slr_scenario=\"ssp585\", year=2050), units=UnitTypesLength.meters)), \n",
    "                    socio_economic_change=SocioEconomicChange(population_growth_existing=10,\n",
    "                                                              economic_growth=5)\n",
    "                    )\n",
    "proj_2050"
   ]
  },
  {
   "cell_type": "markdown",
   "id": "46",
   "metadata": {},
   "source": [
    "Using the `get_building_geometries()` method of the `FloodAdapt` class, we can get a geopandas GeoDataFrame of the centroids of the buildings in the database, along with their attributes."
   ]
  },
  {
   "cell_type": "code",
   "execution_count": null,
   "id": "47",
   "metadata": {},
   "outputs": [],
   "source": [
    "fa.get_building_geometries().explore() # we use the explore method to make the interactive map"
   ]
  },
  {
   "cell_type": "markdown",
   "id": "48",
   "metadata": {},
   "source": [
    "Then we can use a polygon shapefile to define the location of the new development areas. "
   ]
  },
  {
   "cell_type": "code",
   "execution_count": null,
   "id": "49",
   "metadata": {},
   "outputs": [],
   "source": [
    "\n",
    "new_dev = gpd.read_file(\"data/new_dev.geojson\")\n",
    "new_dev.explore()"
   ]
  },
  {
   "cell_type": "code",
   "execution_count": null,
   "id": "50",
   "metadata": {},
   "outputs": [],
   "source": [
    "proj_2050.socio_economic_change = SocioEconomicChange(population_growth_existing=10,\n",
    "                                                              economic_growth=5,\n",
    "                                                              population_growth_new=5,\n",
    "                                                              new_development_shapefile=\"data/new_dev.geojson\")"
   ]
  },
  {
   "cell_type": "code",
   "execution_count": null,
   "id": "51",
   "metadata": {},
   "outputs": [],
   "source": [
    "fa.save_projection(proj_2050)"
   ]
  },
  {
   "cell_type": "code",
   "execution_count": null,
   "id": "52",
   "metadata": {},
   "outputs": [],
   "source": [
    "fa.get_projection(\"proj_2050\")"
   ]
  }
 ],
 "metadata": {
  "kernelspec": {
   "display_name": "fa_dev",
   "language": "python",
   "name": "python3"
  },
  "language_info": {
   "codemirror_mode": {
    "name": "ipython",
    "version": 3
   },
   "file_extension": ".py",
   "mimetype": "text/x-python",
   "name": "python",
   "nbconvert_exporter": "python",
   "pygments_lexer": "ipython3",
   "version": "3.11.12"
  }
 },
 "nbformat": 4,
 "nbformat_minor": 5
}
