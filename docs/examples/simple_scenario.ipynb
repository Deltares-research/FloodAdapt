{
 "cells": [
  {
   "cell_type": "markdown",
   "id": "f3eeb3b9",
   "metadata": {},
   "source": [
    "# **Simple Scenario Example - Charleston, USA**"
   ]
  },
  {
   "cell_type": "markdown",
   "id": "b578e99e",
   "metadata": {},
   "source": [
    "In this notebook we demonstrate the **workflow** on how you can build a simple **FloodAdapt scenario** in Charleston, USA, using the **API**.  \n",
    "\n",
    "We prepared a database, which you can download from [**here**](link.com). If you worked with the [**Database-Builder notebook**](database_builder.ipynb) beforehand, you can use that database.\n"
   ]
  },
  {
   "cell_type": "markdown",
   "id": "fe7ea5e1",
   "metadata": {
    "vscode": {
     "languageId": "plaintext"
    }
   },
   "source": [
    "In this notebook we will cover the following steps:\n",
    "\n",
    "1. Create a synthetic **event** \n",
    "2. Create a **projection** - Sea level rise (SLR)\n",
    "3. Create a **measure** and **strategy** - Seawall\n",
    "4. Create and run a **scenario**\n",
    "6. Investigate the **output**\n"
   ]
  },
  {
   "cell_type": "markdown",
   "id": "1f84cb9c",
   "metadata": {
    "vscode": {
     "languageId": "plaintext"
    }
   },
   "source": [
    "## **Step 0**: Import packages"
   ]
  },
  {
   "cell_type": "code",
   "execution_count": null,
   "id": "9bc26c43",
   "metadata": {},
   "outputs": [],
   "source": [
    "# Import packages\n",
    "from datetime import datetime\n",
    "from pathlib import Path\n",
    "\n",
    "from flood_adapt.config.sfincs import RiverModel\n",
    "from flood_adapt.dbs_classes.database import Database\n",
    "from flood_adapt.objects.events.synthetic import SyntheticEvent \n",
    "from flood_adapt.objects.forcing.discharge import DischargeConstant\n",
    "from flood_adapt.objects.forcing.forcing import ForcingType\n",
    "from flood_adapt.flood_adapt import FloodAdapt\n",
    "from flood_adapt.objects.forcing.forcing import (\n",
    "    ForcingSource,\n",
    "    ForcingType,)\n",
    "from flood_adapt.objects.forcing.rainfall import RainfallConstant\n",
    "from flood_adapt.objects.forcing.time_frame import (\n",
    "    TimeFrame,\n",
    ")\n",
    "from flood_adapt.objects.forcing.timeseries import (\n",
    "    ShapeType,\n",
    "    TimeseriesFactory,\n",
    ")\n",
    "from flood_adapt.objects.forcing.waterlevels import (\n",
    "    SurgeModel,\n",
    "    TideModel,\n",
    "    WaterlevelSynthetic,\n",
    ")\n",
    "from flood_adapt.objects.forcing.wind import WindConstant\n",
    "from flood_adapt.objects.measures.measures import (\n",
    "    Elevate,\n",
    "    FloodWall,\n",
    "    Measure,\n",
    "    MeasureType,\n",
    "    SelectionType,\n",
    "    HazardMeasure\n",
    ")\n",
    "from flood_adapt.objects.projections.projections import Projection, PhysicalProjection, SocioEconomicChange\n",
    "from flood_adapt.objects.scenarios.scenarios import Scenario\n",
    "from flood_adapt import Settings\n",
    "from flood_adapt.objects.strategies.strategies import Strategy\n",
    "from flood_adapt import unit_system as us"
   ]
  },
  {
   "cell_type": "markdown",
   "id": "c18aaad0",
   "metadata": {},
   "source": [
    "## **Step 1**: Getting started - Initiate the database"
   ]
  },
  {
   "cell_type": "markdown",
   "id": "6e0fbef4",
   "metadata": {},
   "source": [
    "Let's start with initiating the database and FloodAdapt class. \n",
    "1. Define the **path** to your database\n",
    "2. Initiate the database **\"Settings\"-class** by defining the **database root** and **name**\n",
    "3. Initiate the **FloodAdapt instance** by parsing the Settings().database_path"
   ]
  },
  {
   "cell_type": "code",
   "execution_count": null,
   "id": "385634d0",
   "metadata": {},
   "outputs": [],
   "source": [
    "# Define the full path to your database file\n",
    "full_path = Path(r\"C:\\Users\\rautenba\\Local_FA_Databases\\Database\\charleston_full\")\n",
    "\n",
    "# Set up the settings for the database\n",
    "Settings(DATABASE_ROOT=full_path.parent, DATABASE_NAME=full_path.name)\n",
    "\n",
    "# Create the FloodAdapt instance\n",
    "fa = FloodAdapt(Settings().database_path)"
   ]
  },
  {
   "cell_type": "markdown",
   "id": "eb6d41b3",
   "metadata": {},
   "source": [
    "## **Step 2**: Events - Create a synthetic Event"
   ]
  },
  {
   "cell_type": "markdown",
   "id": "d0ff7ec2",
   "metadata": {},
   "source": [
    "Events in FloodAdapt are categorized into different forcings:\n",
    "1. Wind\n",
    "2. Rainfall\n",
    "3. Discharge\n",
    "4. Water Level \n",
    "\n",
    "If you want to learn more about the individual forcings in FloodAdapt, please go and read the section on [**Events**](https://deltares-research.github.io/FloodAdapt/4_user_guide/events/) in the FloodAdapt documentation.\n",
    "\n",
    "When creating an event we need to create an **Event object** with the following inputs:\n",
    "1. ***name***: The name of the event\n",
    "2. ***description*** (optional): The description of the event\n",
    "3. ***time***: An object that captures the start_time and end_time\n",
    "4. ***forcings***: A dictionary the collects the objects for each forcing.\n",
    " \n",
    "    In this event example we will create an event with the following forcings:\n",
    "    - **constant** wind: Define a value for a constant wind speed (mps) and direction (degrees)\n",
    "    - **constant** rainfall: Define a value for a constant rainfall (mm/hr)\n",
    "    - **constant** discharge: Define the x and y coordinates of the discharge point of the Cooper River and a value for a constant mean discharge (cfs) in the River- and Discharge model (same value)\n",
    "    - **synthetic water level (surge)**: Define a peak time (h), peak value in (m) and duration (d)\n",
    "    - **synthetic water level (harmonic tide)**: Define the harmonic amplitude (m), harmonic period (h) and harmonic phase (h) \n",
    "\n",
    "For a complete guide on all the possible event inputs and options check out the notebook [**eventblablab**](nolink)."
   ]
  },
  {
   "cell_type": "code",
   "execution_count": null,
   "id": "24ff3fbd",
   "metadata": {},
   "outputs": [],
   "source": [
    "# Create a synthetic event object\n",
    "attrs_event = SyntheticEvent(\n",
    "        name=\"synthetic_nearshore\",\n",
    "        description = \"This is a synthetic nearshore event\",\n",
    "        time=TimeFrame(\n",
    "            start_time=datetime(2020, 1, 1),\n",
    "            end_time=datetime(2020, 1, 2),\n",
    "        ),\n",
    "        forcings={\n",
    "            ForcingType.WIND: [\n",
    "                WindConstant(\n",
    "                    speed=us.UnitfulVelocity(value=5, units=us.UnitTypesVelocity.mps),\n",
    "                    direction=us.UnitfulDirection(\n",
    "                        value=60, units=us.UnitTypesDirection.degrees\n",
    "                    ),\n",
    "                )\n",
    "            ],\n",
    "            ForcingType.RAINFALL: [\n",
    "                RainfallConstant(\n",
    "                    intensity=us.UnitfulIntensity(\n",
    "                        value=20, units=us.UnitTypesIntensity.mm_hr\n",
    "                    )\n",
    "                )\n",
    "            ],\n",
    "            ForcingType.DISCHARGE: [\n",
    "                DischargeConstant(\n",
    "                    river=RiverModel(\n",
    "                        name=\"cooper\",\n",
    "                        description=\"Cooper River\",\n",
    "                        x_coordinate=595546.3,\n",
    "                        y_coordinate=3675590.6,\n",
    "                        mean_discharge=us.UnitfulDischarge(\n",
    "                            value=5000, units=us.UnitTypesDischarge.cfs\n",
    "                        ),\n",
    "                    ),\n",
    "                    discharge=us.UnitfulDischarge(\n",
    "                        value=5000, units=us.UnitTypesDischarge.cfs\n",
    "                    ),\n",
    "                )\n",
    "            ],\n",
    "            ForcingType.WATERLEVEL: [\n",
    "                WaterlevelSynthetic(\n",
    "                    surge=SurgeModel(\n",
    "                        timeseries=TimeseriesFactory.from_args(\n",
    "                            shape_type=ShapeType.triangle,\n",
    "                            duration=us.UnitfulTime(\n",
    "                                value=1, units=us.UnitTypesTime.days\n",
    "                            ),\n",
    "                            peak_time=us.UnitfulTime(\n",
    "                                value=8, units=us.UnitTypesTime.hours\n",
    "                            ),\n",
    "                            peak_value=us.UnitfulLength(\n",
    "                                value=1, units=us.UnitTypesLength.meters\n",
    "                            ),\n",
    "                        )\n",
    "                    ),\n",
    "                    tide=TideModel(\n",
    "                        harmonic_amplitude=us.UnitfulLength(\n",
    "                            value=1, units=us.UnitTypesLength.meters\n",
    "                        ),\n",
    "                        harmonic_period=us.UnitfulTime(\n",
    "                            value=12.4, units=us.UnitTypesTime.hours\n",
    "                        ),\n",
    "                        harmonic_phase=us.UnitfulTime(\n",
    "                            value=0, units=us.UnitTypesTime.hours\n",
    "                        ),\n",
    "                    ),\n",
    "                )\n",
    "            ],\n",
    "        },\n",
    "    )"
   ]
  },
  {
   "cell_type": "markdown",
   "id": "efafa7ba",
   "metadata": {},
   "source": [
    "#### You created your first event object!\n",
    "After creating the **event object**, we can use the API to **create** and **save** the event in the database. \n",
    "\n",
    "*Note! An event can only be created <u>once</u> under a specific name and won't be overwritten, if you try to save another event under the same name.* "
   ]
  },
  {
   "cell_type": "code",
   "execution_count": null,
   "id": "1c3cf036",
   "metadata": {},
   "outputs": [],
   "source": [
    "# Create the event\n",
    "fa.create_event(attrs_event.model_dump(exclude_none=True))\n",
    "\n",
    "# Save the event to the database\n",
    "fa.save_event(attrs_event)"
   ]
  },
  {
   "cell_type": "markdown",
   "id": "d957ab90",
   "metadata": {},
   "source": [
    "## **Step 3**: Projections - Create a projection"
   ]
  },
  {
   "cell_type": "markdown",
   "id": "2b05001f",
   "metadata": {},
   "source": [
    "**Projections** in FloodAdapt allow us to adjust our model to future conditions such as sea level rise or/and population growth. If you want to learn more about projections in FlooAdapt please go to the section [\"Projections\"](https://deltares-research.github.io/FloodAdapt/4_user_guide/projections/) in the FloodAdapt documentation. \n",
    "\n",
    "In this example we will create a sea level rise (SLR) projection of 2ft.  \n",
    "The projections can be divided into two categories:\n",
    "1. **Physical Projections**: Sea level rise, intensified precipitation, increased storm frequency\n",
    "2. **Socio economic change**: Population growth (existing built area, new development area), economic growth\n",
    "\n",
    "When creating a projection we need to create a **Projection object** with the following inputs:\n",
    "1. ***name***: The name of the projection\n",
    "2. ***description*** (optional): The description of the projection\n",
    "3. ***physical projection***: An object that captures the pysical projection.\n",
    "    In this example we will create the following physical projections:\n",
    "    - Sea level rise: Define the value of the sea level rise and the unit (m, ft)\n",
    "    - Subsidence: Define the value of the subsidence and the unit (m,ft)\n",
    "4. ***socio economic change***: An object that captures the socio economic change.\n",
    "    In this example we will create the following socio economic projections:\n",
    "    - None: Leave the object empty\n",
    "\n",
    "To get a deeper understanding for all the possible projections and their inputs go to the notebook [**projectionblablab**](nolink).\n"
   ]
  },
  {
   "cell_type": "code",
   "execution_count": null,
   "id": "69258cb1",
   "metadata": {},
   "outputs": [],
   "source": [
    "# Create a projection object\n",
    "attrs_projection = Projection(\n",
    "    name=\"SLR_2ft\",\n",
    "    description = \"This is a 2ft SLR projection\",\n",
    "    physical_projection=PhysicalProjection(\n",
    "        sea_level_rise=us.UnitfulLength(value=2, units=us.UnitTypesLength.feet),\n",
    "        subsidence=us.UnitfulLength(value=1, units=us.UnitTypesLength.feet),\n",
    "    ),\n",
    "    socio_economic_change=SocioEconomicChange(),\n",
    ")"
   ]
  },
  {
   "cell_type": "markdown",
   "id": "67d52add",
   "metadata": {},
   "source": [
    "#### You created your first projection object!\n",
    "After creating the **projection object**, we can use the API to **create** and **save** the projection in the database. \n",
    "\n",
    "*Note! A projection can only be created <u>once</u> under a specific name and won't be overwritten, if you try to save another projection under the same name.* "
   ]
  },
  {
   "cell_type": "code",
   "execution_count": null,
   "id": "d1ebc6a8",
   "metadata": {},
   "outputs": [],
   "source": [
    "# Create the projection\n",
    "fa.create_projection(attrs_projection.model_dump(exclude_none=True))\n",
    "\n",
    "# Save the projection\n",
    "fa.save_projection(attrs_projection)"
   ]
  },
  {
   "cell_type": "markdown",
   "id": "b27ba1f7",
   "metadata": {},
   "source": [
    "## **Step 4**: Measures - Create a measure"
   ]
  },
  {
   "cell_type": "markdown",
   "id": "7b8aa165",
   "metadata": {},
   "source": [
    "**Measures** in FloodAdapt enable the user to investigate the efficiency of these mitigation measures on the spot. Measures can be hydraulic, green infrastructure or be on the building level. You can read more about measures in the section [\"Measures\"](https://deltares-research.github.io/FloodAdapt/4_user_guide/measures/) in the FloodAdapt documentation. \n",
    "\n",
    "In this example we will create a **hydraulic measure**, a sea wall of 12ft.  \n",
    "When creating a sea wall as measure we need to create a **Measure object** with the following inputs:\n",
    "1. ***name***: The name of the measure\n",
    "2. ***description*** (optional): The description of the measure\n",
    "3. ***type***: The type of the measure. In this example a floodwall object. \n",
    "4. ***selection type***: The type of shape. In this example we define a polyline for the shape of the seawall \n",
    "5. ***polygon file***: The file path to the spatial file of the seawall\n",
    "6. ***elevation***: The elevation of the sea wall. Define a value and the unit (ft,m)\n"
   ]
  },
  {
   "cell_type": "code",
   "execution_count": null,
   "id": "7411c10a",
   "metadata": {},
   "outputs": [],
   "source": [
    "# Create a measure object\n",
    "attrs_measure_phy = FloodWall(\n",
    "        name= \"Seawall_12ft\",\n",
    "        description = \"12ft Seawall\",\n",
    "        type = MeasureType.floodwall,\n",
    "        selection_type = SelectionType.polyline,\n",
    "        polygon_file = str(r\"C:\\Users\\rautenba\\repos\\Database\\charleston_full\\input\\measures\\seawall\\seawall.geojson\"),\n",
    "        elevation = us.UnitfulLength(value=12, units=us.UnitTypesLength.feet))"
   ]
  },
  {
   "cell_type": "markdown",
   "id": "bba33b31",
   "metadata": {},
   "source": [
    "#### You created your first measure object!\n",
    "After creating the **measure object**, we can use the API to **create** and **save** the measure in the database. \n",
    "\n",
    "*Note! A measure can only be created <u>once</u> under a specific name and won't be overwritten, if you try to save another measure under the same name.* "
   ]
  },
  {
   "cell_type": "code",
   "execution_count": null,
   "id": "9c7df41d",
   "metadata": {},
   "outputs": [],
   "source": [
    "# Create the measure\n",
    "fa.create_measure(attrs_measure_phy.model_dump(exclude_none=True), type=attrs_measure_phy.type)\n",
    "\n",
    "# Save the measure\n",
    "fa.save_measure(attrs_measure_phy)"
   ]
  },
  {
   "cell_type": "markdown",
   "id": "8c108a00",
   "metadata": {},
   "source": [
    "Let's add another measure on the **building level**. We can elevate buildings in a specific area to mititgate the impact on these assets.\n",
    "\n",
    "When elevating biuldings as measure we need to create a **Measure object** with the following inputs:\n",
    "1. ***name***: The name of the measure\n",
    "2. ***description*** (optional): The description of the measure\n",
    "3. ***type***: The type of the measure. In this example an Elevate object. \n",
    "4. ***selection type***: The type of shape. In this example we define a polygone for selecting the area of affected buildings \n",
    "5. ***polygon file***: The file path to the spatial file of the to be elevated area\n",
    "6. ***property type***: The type of building that sholud be elevated. Define the building type (residnetial, commercial...) of your Fiat Model you wish to elevate. In this example we want to elevate all buildings.\n",
    "7. ***elevation***: The elevation of the buildings. Define a value, the unit (ft,m) and the vertical reference for the elevation (datum, floodmap). "
   ]
  },
  {
   "cell_type": "code",
   "execution_count": null,
   "id": "4f905d6a",
   "metadata": {},
   "outputs": [],
   "source": [
    "# Create a measure object\n",
    "attrs_measure_elev = Elevate(\n",
    "        name= \"Elevated_homes\",\n",
    "        description = \"Elevate residential buildings\",\n",
    "        type = MeasureType.elevate_properties,\n",
    "        selection_type = SelectionType.polygon,\n",
    "        polygon_file = str(r\"C:\\Users\\rautenba\\repos\\Database\\charleston_full\\input\\measures\\raise_property_polygon\\raise_property_polygon.geojson\"),\n",
    "        property_type = \"ALL\",\n",
    "        elevation = us.UnitfulLengthRefValue(value=1, units=us.UnitTypesLength.feet, type = us.VerticalReference.floodmap))\n",
    "\n",
    "# Create the measure\n",
    "fa.create_measure(attrs_measure_elev.model_dump(exclude_none=True), type=attrs_measure_elev.type)\n",
    "\n",
    "# Save the measure\n",
    "fa.save_measure(attrs_measure_elev)"
   ]
  },
  {
   "cell_type": "markdown",
   "id": "bf3065e2",
   "metadata": {},
   "source": [
    "## **Step 5**: Strategies - Create a strategy"
   ]
  },
  {
   "cell_type": "markdown",
   "id": "070e7fc4",
   "metadata": {},
   "source": [
    "**Strategies** in FloodAdapt are a combination of multiple measures. Find out more about strategies in the section [\"Strategies\"](https://deltares-research.github.io/FloodAdapt/4_user_guide/strategy/) in the FloodAdapt documentation. \n",
    "\n",
    "In this example we will create a strategy with the measures we created above, a **sea wall** of 12ft and **elevating homes** 1ft above the floodmap reference in a specific area.  \n",
    "When we compile multiple measures in a strategies, we first have to create all te measures we would like to use. \n",
    "\n",
    "When creating a strategy we need to create a **Strategy object** with the following inputs:\n",
    "1. ***name***: The name of the strategie"
   ]
  },
  {
   "cell_type": "code",
   "execution_count": null,
   "id": "d5610082",
   "metadata": {},
   "outputs": [],
   "source": [
    "# Create a strategy object\n",
    "attrs_strategy = Strategy(\n",
    "        name= \"seawall_and_new_develpoment_area\",\n",
    "        description = \"Strategy with a seawall and a new development area\",\n",
    "        measures = [attrs_measure_phy.name, attrs_measure_elev.name],\n",
    "        )"
   ]
  },
  {
   "cell_type": "markdown",
   "id": "9c0252b6",
   "metadata": {},
   "source": [
    "#### You created your first strategy object!\n",
    "After creating the **strategy object**, we can use the API to **create** and **save** the strategy in the database. \n",
    "\n",
    "*Note! A strategy can only be created <u>once</u> under a specific name and won't be overwritten, if you try to save another strategy under the same name.* "
   ]
  },
  {
   "cell_type": "code",
   "execution_count": null,
   "id": "ca770396",
   "metadata": {},
   "outputs": [],
   "source": [
    "# Create the stategy\n",
    "fa.create_strategy(attrs_strategy .model_dump(exclude_none=True))\n",
    "\n",
    "# Save the stategy\n",
    "fa.save_strategy(attrs_strategy )"
   ]
  },
  {
   "cell_type": "markdown",
   "id": "5d60e313",
   "metadata": {},
   "source": [
    "## **Step 6**: Create and run a scenario"
   ]
  },
  {
   "cell_type": "code",
   "execution_count": null,
   "id": "95185c51",
   "metadata": {},
   "outputs": [],
   "source": [
    "event_name = attrs_event.name\n",
    "projection_name = attrs_projection.name\n",
    "strategy_name = attrs_strategy .name\n",
    "\n",
    "scenario = Scenario(\n",
    "    name = \"current_nearshore_no_measures_slr1\",\n",
    "    description = \"current_nearshore_no_measures_slr\",\n",
    "    event =  event_name,\n",
    "    projection =  projection_name,\n",
    "    strategy = strategy_name,\n",
    ")\n",
    "fa.create_scenario(scenario.model_dump())\n",
    "fa.save_scenario(scenario)\n",
    "\n",
    "fa.run_scenario(scenario.name)"
   ]
  }
 ],
 "metadata": {
  "kernelspec": {
   "display_name": "docs",
   "language": "python",
   "name": "python3"
  },
  "language_info": {
   "codemirror_mode": {
    "name": "ipython",
    "version": 3
   },
   "file_extension": ".py",
   "mimetype": "text/x-python",
   "name": "python",
   "nbconvert_exporter": "python",
   "pygments_lexer": "ipython3",
   "version": "3.11.12"
  }
 },
 "nbformat": 4,
 "nbformat_minor": 5
}
