{
 "cells": [
  {
   "cell_type": "markdown",
   "id": "f3eeb3b9",
   "metadata": {},
   "source": [
    "# **Simple Scenario Example - Charleston, USA**"
   ]
  },
  {
   "cell_type": "markdown",
   "id": "b578e99e",
   "metadata": {},
   "source": [
    "In this notebook we demonstrate the **workflow** on how you can build a simple **FloodAdapt scenario** in Charleston, USA, using the **API**.  \n",
    "\n",
    "We prepared a database, which you can download from [**here**](link.com). If you worked with the [**Database-Builder notebook**](database_builder.ipynb) beforehand, you can use that database.\n"
   ]
  },
  {
   "cell_type": "markdown",
   "id": "fe7ea5e1",
   "metadata": {
    "vscode": {
     "languageId": "plaintext"
    }
   },
   "source": [
    "In this notebook we will cover the following steps:\n",
    "\n",
    "1. Create a synthetic **event** - Rainfall\n",
    "2. Create a **projection** - Sea level rise (SLR)\n",
    "3. Create a **measure** and **strategy** - Seawall\n",
    "4. Create and run a **scenario**\n",
    "6. Investigate the **output**\n"
   ]
  },
  {
   "cell_type": "markdown",
   "id": "1f84cb9c",
   "metadata": {
    "vscode": {
     "languageId": "plaintext"
    }
   },
   "source": [
    "## **Step 0**: Import packages"
   ]
  },
  {
   "cell_type": "code",
   "execution_count": 8,
   "id": "9bc26c43",
   "metadata": {},
   "outputs": [],
   "source": [
    "# Import packages\n",
    "from datetime import datetime\n",
    "from pathlib import Path\n",
    "from flood_adapt import Settings\n",
    "from flood_adapt.dbs_classes.database import Database\n",
    "from flood_adapt import unit_system as us\n",
    "from flood_adapt.flood_adapt import FloodAdapt\n",
    "from flood_adapt.objects.events.synthetic import SyntheticEvent \n",
    "from flood_adapt.objects.measures.measures import (\n",
    "    FloodWall,\n",
    "    MeasureType,\n",
    "    SelectionType,\n",
    "    HazardMeasure\n",
    ")\n",
    "from flood_adapt.objects.forcing.forcing import (\n",
    "    ForcingSource,\n",
    "    ForcingType,\n",
    ")\n",
    "from flood_adapt.objects.measures.measures import Measure\n",
    "from flood_adapt.objects.projections.projections import Projection, PhysicalProjection, SocioEconomicChange\n",
    "from flood_adapt.objects.forcing.time_frame import (\n",
    "    TimeFrame,\n",
    ")\n",
    "from flood_adapt.objects.forcing.timeseries import (\n",
    "    ShapeType,\n",
    "    TimeseriesFactory,\n",
    ")\n",
    "from flood_adapt.objects.strategies.strategies import Strategy\n",
    "from flood_adapt.objects.scenarios.scenarios import Scenario\n",
    "from flood_adapt.config.sfincs import RiverModel\n",
    "from flood_adapt.objects.forcing.discharge import DischargeConstant\n",
    "from flood_adapt.objects.forcing.forcing import ForcingType\n",
    "from flood_adapt.objects.forcing.rainfall import RainfallConstant\n",
    "from flood_adapt.objects.forcing.waterlevels import (\n",
    "    SurgeModel,\n",
    "    TideModel,\n",
    "    WaterlevelSynthetic,\n",
    ")\n",
    "from flood_adapt.objects.forcing.wind import WindConstant"
   ]
  },
  {
   "cell_type": "markdown",
   "id": "c18aaad0",
   "metadata": {},
   "source": [
    "## **Step 1**: Getting started - Initiate the database"
   ]
  },
  {
   "cell_type": "markdown",
   "id": "6e0fbef4",
   "metadata": {},
   "source": [
    "Let's start with initiating the database."
   ]
  },
  {
   "cell_type": "code",
   "execution_count": null,
   "id": "385634d0",
   "metadata": {},
   "outputs": [],
   "source": [
    "# Define the full path to your database file\n",
    "full_path = Path(r\"C:\\Users\\rautenba\\Local_FA_Databases\\Database\\charleston_full\")\n",
    "\n",
    "# Set up the settings for the database\n",
    "Settings(DATABASE_ROOT=full_path.parent, DATABASE_NAME=full_path.name)\n",
    "\n",
    "# Create the FloodAdapt instance\n",
    "fa = FloodAdapt(Settings().database_path)"
   ]
  },
  {
   "cell_type": "markdown",
   "id": "eb6d41b3",
   "metadata": {},
   "source": [
    "## **Step 2**: Events - Create a synthetic Event"
   ]
  },
  {
   "cell_type": "code",
   "execution_count": null,
   "id": "24ff3fbd",
   "metadata": {},
   "outputs": [],
   "source": [
    "# Create a synthetic event object\n",
    "attrs = SyntheticEvent(\n",
    "        name=\"test_synthetic_nearshore\",\n",
    "        time=TimeFrame(\n",
    "            start_time=datetime(2020, 1, 1),\n",
    "            end_time=datetime(2020, 1, 2),\n",
    "        ),\n",
    "        forcings={\n",
    "            ForcingType.WIND: [\n",
    "                WindConstant(\n",
    "                    speed=us.UnitfulVelocity(value=5, units=us.UnitTypesVelocity.mps),\n",
    "                    direction=us.UnitfulDirection(\n",
    "                        value=60, units=us.UnitTypesDirection.degrees\n",
    "                    ),\n",
    "                )\n",
    "            ],\n",
    "            ForcingType.RAINFALL: [\n",
    "                RainfallConstant(\n",
    "                    intensity=us.UnitfulIntensity(\n",
    "                        value=20, units=us.UnitTypesIntensity.mm_hr\n",
    "                    )\n",
    "                )\n",
    "            ],\n",
    "            ForcingType.DISCHARGE: [\n",
    "                DischargeConstant(\n",
    "                    river=RiverModel(\n",
    "                        name=\"cooper\",\n",
    "                        description=\"Cooper River\",\n",
    "                        x_coordinate=595546.3,\n",
    "                        y_coordinate=3675590.6,\n",
    "                        mean_discharge=us.UnitfulDischarge(\n",
    "                            value=5000, units=us.UnitTypesDischarge.cfs\n",
    "                        ),\n",
    "                    ),\n",
    "                    discharge=us.UnitfulDischarge(\n",
    "                        value=5000, units=us.UnitTypesDischarge.cfs\n",
    "                    ),\n",
    "                )\n",
    "            ],\n",
    "            ForcingType.WATERLEVEL: [\n",
    "                WaterlevelSynthetic(\n",
    "                    surge=SurgeModel(\n",
    "                        timeseries=TimeseriesFactory.from_args(\n",
    "                            shape_type=ShapeType.triangle,\n",
    "                            duration=us.UnitfulTime(\n",
    "                                value=1, units=us.UnitTypesTime.days\n",
    "                            ),\n",
    "                            peak_time=us.UnitfulTime(\n",
    "                                value=8, units=us.UnitTypesTime.hours\n",
    "                            ),\n",
    "                            peak_value=us.UnitfulLength(\n",
    "                                value=1, units=us.UnitTypesLength.meters\n",
    "                            ),\n",
    "                        )\n",
    "                    ),\n",
    "                    tide=TideModel(\n",
    "                        harmonic_amplitude=us.UnitfulLength(\n",
    "                            value=1, units=us.UnitTypesLength.meters\n",
    "                        ),\n",
    "                        harmonic_period=us.UnitfulTime(\n",
    "                            value=12.4, units=us.UnitTypesTime.hours\n",
    "                        ),\n",
    "                        harmonic_phase=us.UnitfulTime(\n",
    "                            value=0, units=us.UnitTypesTime.hours\n",
    "                        ),\n",
    "                    ),\n",
    "                )\n",
    "            ],\n",
    "        },\n",
    "    )\n",
    "\n",
    "# Create the event\n",
    "synthetic = fa.create_event(attrs.model_dump(exclude_none=True))\n",
    "\n",
    "# Save the event to the database\n",
    "fa.save_event(synthetic) "
   ]
  },
  {
   "cell_type": "markdown",
   "id": "d957ab90",
   "metadata": {},
   "source": [
    "## **Step 3**: Projections - Create a projection"
   ]
  },
  {
   "cell_type": "code",
   "execution_count": null,
   "id": "69258cb1",
   "metadata": {},
   "outputs": [],
   "source": [
    "SLR_2FT = Projection(\n",
    "    name=\"SLR_2ft\",\n",
    "    physical_projection=PhysicalProjection(\n",
    "        sea_level_rise=us.UnitfulLength(value=2, units=us.UnitTypesLength.feet),\n",
    "        subsidence=us.UnitfulLength(value=1, units=us.UnitTypesLength.feet),\n",
    "    ),\n",
    "    socio_economic_change=SocioEconomicChange(),\n",
    ")\n",
    "\n",
    "fa.create_projection(SLR_2FT.model_dump(exclude_none=True))\n",
    "fa.save_projection(SLR_2FT)"
   ]
  },
  {
   "cell_type": "markdown",
   "id": "b27ba1f7",
   "metadata": {},
   "source": [
    "## **Step 4**: Measures & Strategies"
   ]
  },
  {
   "cell_type": "markdown",
   "id": "c0aa1cca",
   "metadata": {},
   "source": [
    "### **Step 4a**: Measures - Create a measure"
   ]
  },
  {
   "cell_type": "code",
   "execution_count": null,
   "id": "7411c10a",
   "metadata": {},
   "outputs": [],
   "source": [
    "attrs_measure = FloodWall(\n",
    "        name= \"test_seawall\",\n",
    "        description = \"seawall\",\n",
    "        type = MeasureType.floodwall,\n",
    "        selection_type = SelectionType.polygon,\n",
    "        polygon_file = str(r\"C:\\Users\\rautenba\\repos\\Database\\charleston_full\\input\\measures\\seawall\\seawall.geojson\"),\n",
    "        elevation = us.UnitfulLength(value=12, units=us.UnitTypesLength.feet))\n",
    "\n",
    "floodwall = fa.create_measure(attrs_measure.model_dump(exclude_none=True), type=attrs_measure.type)\n",
    "fa.save_measure(floodwall)"
   ]
  },
  {
   "cell_type": "markdown",
   "id": "bf3065e2",
   "metadata": {},
   "source": [
    "### **Step 4b**: Strategies - Create a strategy"
   ]
  },
  {
   "cell_type": "code",
   "execution_count": null,
   "id": "d5610082",
   "metadata": {},
   "outputs": [],
   "source": [
    "attrs = Strategy(\n",
    "        name= \"test_strategy\",\n",
    "        description = \"seawall\",\n",
    "        measures = [attrs_measure.name],\n",
    "        )\n",
    "\n",
    "strategy = fa.create_strategy(attrs.model_dump(exclude_none=True))\n",
    "fa.save_strategy(strategy)"
   ]
  },
  {
   "cell_type": "markdown",
   "id": "5d60e313",
   "metadata": {},
   "source": [
    "## **Step X**: Create and run a scenario"
   ]
  },
  {
   "cell_type": "code",
   "execution_count": 9,
   "id": "95185c51",
   "metadata": {},
   "outputs": [
    {
     "name": "stderr",
     "output_type": "stream",
     "text": [
      "2025-05-07 01:40:39 PM - FloodAdapt.SfincsAdapter - WARNING - Failed to add event rainfall multiplier, no rainfall forcing found in the model.\n",
      "2025-05-07 01:40:40 PM - FloodAdapt.SfincsAdapter - WARNING - Could not use height data from file due to missing `z` column or missing values therein. Using uniform height of 12.0 feet instead.\n"
     ]
    }
   ],
   "source": [
    "event_name = synthetic.name\n",
    "projection_name = SLR_2FT.name\n",
    "strategy_name = strategy.name\n",
    "\n",
    "scenario = Scenario(\n",
    "    name = \"current_nearshore_no_measures_slr2\",\n",
    "    description = \"current_nearshore_no_measures_slr\",\n",
    "    event =  event_name,\n",
    "    projection =  projection_name,\n",
    "    strategy = strategy_name,\n",
    ")\n",
    "scenario = fa.create_scenario(scenario.model_dump())\n",
    "fa.save_scenario(scenario)\n",
    "\n",
    "fa.run_scenario(scenario.name)"
   ]
  }
 ],
 "metadata": {
  "kernelspec": {
   "display_name": "docs",
   "language": "python",
   "name": "python3"
  },
  "language_info": {
   "codemirror_mode": {
    "name": "ipython",
    "version": 3
   },
   "file_extension": ".py",
   "mimetype": "text/x-python",
   "name": "python",
   "nbconvert_exporter": "python",
   "pygments_lexer": "ipython3",
   "version": "3.11.12"
  }
 },
 "nbformat": 4,
 "nbformat_minor": 5
}
