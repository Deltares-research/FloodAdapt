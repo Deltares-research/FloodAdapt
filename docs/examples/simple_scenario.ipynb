{
 "cells": [
  {
   "cell_type": "markdown",
   "id": "f3eeb3b9",
   "metadata": {},
   "source": [
    "# **Simple Scenario Example - Charleston, USA**"
   ]
  },
  {
   "cell_type": "markdown",
   "id": "b578e99e",
   "metadata": {},
   "source": [
    "In this notebook we demonstrate the **workflow** on how you can build a simple **FloodAdapt scenario** in Charleston, USA, using the **API**.  \n",
    "\n",
    "We prepared a database, which you can download from [**here**](link.com). If you worked with the [**Database-Builder notebook**](database_builder.ipynb) beforehand, you can use that database.\n"
   ]
  },
  {
   "cell_type": "markdown",
   "id": "fe7ea5e1",
   "metadata": {
    "vscode": {
     "languageId": "plaintext"
    }
   },
   "source": [
    "In this notebook we will cover the following steps:\n",
    "\n",
    "1. Create a synthetic **event** - Rainfall\n",
    "2. Create a **projection** - Sea level rise (SLR)\n",
    "3. Create a **measure** and **strategy** - Seawall\n",
    "4. Create and run a **scenario**\n",
    "6. Investigate the **output**\n"
   ]
  },
  {
   "cell_type": "markdown",
   "id": "1f84cb9c",
   "metadata": {
    "vscode": {
     "languageId": "plaintext"
    }
   },
   "source": [
    "## **Step 0**: Import packages"
   ]
  },
  {
   "cell_type": "code",
   "execution_count": 1,
   "id": "9bc26c43",
   "metadata": {},
   "outputs": [],
   "source": [
    "# Import packages\n",
    "from datetime import datetime\n",
    "from pathlib import Path\n",
    "from flood_adapt import Settings\n",
    "from flood_adapt.dbs_classes.database import Database\n",
    "from flood_adapt import unit_system as us\n",
    "from flood_adapt.flood_adapt import FloodAdapt\n",
    "from flood_adapt.objects.events.synthetic import SyntheticEvent\n",
    "\n",
    "from flood_adapt.objects.forcing.forcing import (\n",
    "    ForcingSource,\n",
    "    ForcingType,\n",
    ")\n",
    "from flood_adapt.objects.forcing.time_frame import (\n",
    "    TimeFrame,\n",
    ")\n",
    "from flood_adapt.objects.forcing.timeseries import (\n",
    "    ShapeType,\n",
    "    TimeseriesFactory,\n",
    ")\n",
    "from flood_adapt.config.sfincs import RiverModel\n",
    "from flood_adapt.objects.forcing.discharge import DischargeConstant\n",
    "from flood_adapt.objects.forcing.forcing import ForcingType\n",
    "from flood_adapt.objects.forcing.rainfall import RainfallConstant\n",
    "from flood_adapt.objects.forcing.waterlevels import (\n",
    "    SurgeModel,\n",
    "    TideModel,\n",
    "    WaterlevelSynthetic,\n",
    ")\n",
    "from flood_adapt.objects.forcing.wind import WindConstant"
   ]
  },
  {
   "cell_type": "markdown",
   "id": "c18aaad0",
   "metadata": {},
   "source": [
    "## **Step 1**: Getting started - Initiate the database"
   ]
  },
  {
   "cell_type": "markdown",
   "id": "6e0fbef4",
   "metadata": {},
   "source": [
    "Let's start with initiating the database."
   ]
  },
  {
   "cell_type": "code",
   "execution_count": 2,
   "id": "385634d0",
   "metadata": {},
   "outputs": [],
   "source": [
    "# Define the full path to your database file\n",
    "full_path = Path(r\"C:\\Users\\rautenba\\Local_FA_Databases\\Database\\charleston_full\")\n",
    "\n",
    "# Set up the settings for the database\n",
    "Settings(DATABASE_ROOT=full_path.parent, DATABASE_NAME=full_path.name)\n",
    "\n",
    "# Create the FloodAdapt instance\n",
    "fa = FloodAdapt(Settings().database_path)"
   ]
  },
  {
   "cell_type": "markdown",
   "id": "eb6d41b3",
   "metadata": {},
   "source": [
    "## **Step 2**: Events - Create a synthetic Event"
   ]
  },
  {
   "cell_type": "code",
   "execution_count": null,
   "id": "24ff3fbd",
   "metadata": {},
   "outputs": [],
   "source": [
    "attrs = SyntheticEvent(\n",
    "        name=\"test_synthetic_nearshore\",\n",
    "        time=TimeFrame(\n",
    "            start_time=datetime(2020, 1, 1),\n",
    "            end_time=datetime(2020, 1, 2),\n",
    "        ),\n",
    "        forcings={\n",
    "            ForcingType.WIND: [\n",
    "                WindConstant(\n",
    "                    speed=us.UnitfulVelocity(value=5, units=us.UnitTypesVelocity.mps),\n",
    "                    direction=us.UnitfulDirection(\n",
    "                        value=60, units=us.UnitTypesDirection.degrees\n",
    "                    ),\n",
    "                )\n",
    "            ],\n",
    "            ForcingType.RAINFALL: [\n",
    "                RainfallConstant(\n",
    "                    intensity=us.UnitfulIntensity(\n",
    "                        value=20, units=us.UnitTypesIntensity.mm_hr\n",
    "                    )\n",
    "                )\n",
    "            ],\n",
    "            ForcingType.DISCHARGE: [\n",
    "                DischargeConstant(\n",
    "                    river=RiverModel(\n",
    "                        name=\"cooper\",\n",
    "                        description=\"Cooper River\",\n",
    "                        x_coordinate=595546.3,\n",
    "                        y_coordinate=3675590.6,\n",
    "                        mean_discharge=us.UnitfulDischarge(\n",
    "                            value=5000, units=us.UnitTypesDischarge.cfs\n",
    "                        ),\n",
    "                    ),\n",
    "                    discharge=us.UnitfulDischarge(\n",
    "                        value=5000, units=us.UnitTypesDischarge.cfs\n",
    "                    ),\n",
    "                )\n",
    "            ],\n",
    "            ForcingType.WATERLEVEL: [\n",
    "                WaterlevelSynthetic(\n",
    "                    surge=SurgeModel(\n",
    "                        timeseries=TimeseriesFactory.from_args(\n",
    "                            shape_type=ShapeType.triangle,\n",
    "                            duration=us.UnitfulTime(\n",
    "                                value=1, units=us.UnitTypesTime.days\n",
    "                            ),\n",
    "                            peak_time=us.UnitfulTime(\n",
    "                                value=8, units=us.UnitTypesTime.hours\n",
    "                            ),\n",
    "                            peak_value=us.UnitfulLength(\n",
    "                                value=1, units=us.UnitTypesLength.meters\n",
    "                            ),\n",
    "                        )\n",
    "                    ),\n",
    "                    tide=TideModel(\n",
    "                        harmonic_amplitude=us.UnitfulLength(\n",
    "                            value=1, units=us.UnitTypesLength.meters\n",
    "                        ),\n",
    "                        harmonic_period=us.UnitfulTime(\n",
    "                            value=12.4, units=us.UnitTypesTime.hours\n",
    "                        ),\n",
    "                        harmonic_phase=us.UnitfulTime(\n",
    "                            value=0, units=us.UnitTypesTime.hours\n",
    "                        ),\n",
    "                    ),\n",
    "                )\n",
    "            ],\n",
    "        },\n",
    "    )\n",
    "\n",
    "synthetic = fa.create_event(attrs.dict())\n",
    "fa.save_event(synthetic) #not sure if hat is necessary"
   ]
  },
  {
   "cell_type": "markdown",
   "id": "d957ab90",
   "metadata": {},
   "source": [
    "## **Step 3**: Projections - Create a projection"
   ]
  },
  {
   "cell_type": "markdown",
   "id": "5d60e313",
   "metadata": {},
   "source": [
    "## **Step X**: Create and run a scenario"
   ]
  },
  {
   "cell_type": "code",
   "execution_count": 8,
   "id": "95185c51",
   "metadata": {},
   "outputs": [
    {
     "name": "stderr",
     "output_type": "stream",
     "text": [
      "2025-05-07 10:51:28 AM - FloodAdapt.SfincsAdapter - WARNING - Failed to add event rainfall multiplier, no rainfall forcing found in the model.\n"
     ]
    }
   ],
   "source": [
    "event_name = synthetic.name\n",
    "scenario_dict = {\n",
    "    \"name\": \"current_nearshore_no_measures\",\n",
    "    \"description\": \"current_nearshore_no_measures\",\n",
    "    \"event\": event_name,\n",
    "    \"projection\": \"current\",\n",
    "    \"strategy\": \"no_measures\",\n",
    "}\n",
    "scenario = fa.create_scenario(scenario_dict)\n",
    "fa.save_scenario(scenario)\n",
    "\n",
    "fa.run_scenario(scenario.name)"
   ]
  }
 ],
 "metadata": {
  "kernelspec": {
   "display_name": "docs",
   "language": "python",
   "name": "python3"
  },
  "language_info": {
   "codemirror_mode": {
    "name": "ipython",
    "version": 3
   },
   "file_extension": ".py",
   "mimetype": "text/x-python",
   "name": "python",
   "nbconvert_exporter": "python",
   "pygments_lexer": "ipython3",
   "version": "3.11.12"
  }
 },
 "nbformat": 4,
 "nbformat_minor": 5
}
