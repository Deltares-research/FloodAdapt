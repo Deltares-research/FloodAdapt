{
 "cells": [
  {
   "cell_type": "markdown",
   "id": "0",
   "metadata": {},
   "source": [
    "📘 Example: Creating a Synthetic Event in FloodAdapt\n",
    "\n",
    "This notebook demonstrates how to create a synthetic event using FloodAdapt. Synthetic events are valuable for controlled testing, sensitivity analysis, and understanding the behavior of flood models under simplified or hypothetical scenarios. Here, we construct a full synthetic event with water level, rainfall, wind, and river discharge forcings, and then save it to a FloodAdapt database."
   ]
  },
  {
   "cell_type": "markdown",
   "id": "1",
   "metadata": {},
   "source": [
    "⏱️ 1. Setup and Imports\n",
    "\n",
    "We begin by importing the required classes and modules for constructing synthetic forcings and managing event data within the flood_adapt framework."
   ]
  },
  {
   "cell_type": "code",
   "execution_count": null,
   "id": "2",
   "metadata": {},
   "outputs": [],
   "source": [
    "import flood_adapt.objects.forcing as f\n",
    "\n",
    "from pathlib import Path\n",
    "from datetime import datetime\n",
    "\n",
    "from flood_adapt.objects import SyntheticEvent, TimeFrame\n",
    "from flood_adapt import unit_system as us\n",
    "from flood_adapt import FloodAdapt\n",
    "from flood_adapt.config.sfincs import RiverModel"
   ]
  },
  {
   "cell_type": "markdown",
   "id": "3",
   "metadata": {},
   "source": [
    "🗓️ 2. Define the Simulation Time Frame\n",
    "\n",
    "We specify a one-day time frame for the synthetic event, from January 1 to January 2, 2025."
   ]
  },
  {
   "cell_type": "code",
   "execution_count": null,
   "id": "4",
   "metadata": {},
   "outputs": [],
   "source": [
    "# Create an time frame for the simulation\n",
    "start_time = datetime(year=2025, month=1, day=1)\n",
    "end_time = datetime(year=2025, month=1, day=2)\n",
    "time_frame = TimeFrame(start_time=start_time, end_time=end_time)"
   ]
  },
  {
   "cell_type": "markdown",
   "id": "5",
   "metadata": {},
   "source": [
    "🌊 3. Define Water Level Forcing\n",
    "\n",
    "Synthetic water levels are constructed from a combination of tidal and surge components."
   ]
  },
  {
   "cell_type": "code",
   "execution_count": null,
   "id": "6",
   "metadata": {},
   "outputs": [],
   "source": [
    "# Synthetic water levels are computed from a combination of surge and tide.\n",
    "surge = f.SurgeModel(\n",
    "    timeseries=f.SyntheticTimeseries(\n",
    "        shape_type=f.ShapeType.gaussian,\n",
    "        duration=us.UnitfulTime(value=12, units=us.UnitTypesTime.hours),\n",
    "        peak_time=us.UnitfulTime.from_timedelta(time_frame.duration / 2), # Choose the middle of the time frame for peak time\n",
    "        peak_value=us.UnitfulLength(value=2, units=us.UnitTypesLength.meters),\n",
    "    )\n",
    ")\n",
    "\n",
    "tide = f.TideModel(\n",
    "    harmonic_amplitude=us.UnitfulLength(value=1, units=us.UnitTypesLength.meters),\n",
    "    harmonic_phase=us.UnitfulTime.from_timedelta(time_frame.duration / 2), # Choose the middle of the time frame for peak time\n",
    "    harmonic_period=us.UnitfulTime(value=12.4, units=us.UnitTypesTime.hours),\n",
    ")\n",
    "\n",
    "water_levels = f.WaterlevelSynthetic(\n",
    "    surge=surge,\n",
    "    tide=tide,\n",
    ")\n",
    "\n",
    "# Inspect\n",
    "df = water_levels.to_dataframe(time_frame=time_frame)\n",
    "df.plot(title=\"Synthetic Water Levels\", xlabel=\"Time\", ylabel=\"Water Level (m)\", legend=True, figsize=(5, 2))"
   ]
  },
  {
   "cell_type": "markdown",
   "id": "7",
   "metadata": {},
   "source": [
    "🌧️ 4. Define Rainfall Forcing\n",
    "\n",
    "We apply a constant rainfall intensity throughout the simulation period."
   ]
  },
  {
   "cell_type": "code",
   "execution_count": null,
   "id": "8",
   "metadata": {},
   "outputs": [],
   "source": [
    "# Choose constant rainfall\n",
    "rainfall = f.RainfallConstant(\n",
    "    intensity=us.UnitfulIntensity(value=10, units=us.UnitTypesIntensity.mm_hr)\n",
    ")\n",
    "\n",
    "# Inspect\n",
    "df = rainfall.to_dataframe(time_frame=time_frame)\n",
    "df.plot(title=\"Constant Rainfall\", xlabel=\"Time\", ylabel=\"Rainfall Intensity (mm/hr)\", legend=True, figsize=(5, 2))"
   ]
  },
  {
   "cell_type": "markdown",
   "id": "9",
   "metadata": {},
   "source": [
    "🌬️ 5. Define Wind Forcing\n",
    "\n",
    "A constant wind speed and direction is specified to simulate wind-driven effects on the water surface."
   ]
  },
  {
   "cell_type": "code",
   "execution_count": null,
   "id": "10",
   "metadata": {},
   "outputs": [],
   "source": [
    "wind = f.WindConstant(\n",
    "    speed=us.UnitfulVelocity(value=10, units=us.UnitTypesVelocity.mps), \n",
    "    direction=us.UnitfulDirection(value=0, units=us.UnitTypesDirection.degrees) # 0 degrees is North, 90 degrees is East, 180 degrees is South, and 270 degrees is West\n",
    ")\n",
    "\n",
    "# Inspect\n",
    "df = wind.to_dataframe(time_frame=time_frame)\n",
    "ax = df.plot(y='mag', ylabel='Wind Speed (m/s)', title='Constant Wind', legend=True, figsize=(5, 2))\n",
    "df.plot(y='dir', secondary_y=True, ax=ax, ylabel='Wind Direction (degrees)', legend=True)"
   ]
  },
  {
   "cell_type": "markdown",
   "id": "11",
   "metadata": {},
   "source": [
    "🏞️ 6. Define River Discharge Forcing\n",
    "\n",
    "Discharge is defined for two pre-configured rivers. These rivers must be registered in the hazard model configuration beforehand."
   ]
  },
  {
   "cell_type": "code",
   "execution_count": null,
   "id": "12",
   "metadata": {},
   "outputs": [],
   "source": [
    "# Add discharge\n",
    "# The available rivers are defined in the sfincs model when creating the database.\n",
    "# You cannot add new rivers to the model in an event, you can only set the discharge of each given river.\n",
    "river1 = RiverModel(\n",
    "    name=\"River1\",\n",
    "    x_coordinate=1,\n",
    "    y_coordinate=1,\n",
    "    mean_discharge=us.UnitfulDischarge(value=100, units=us.UnitTypesDischarge.cms), \n",
    "    # Mean discharge is used create default discharge values for the river, you can still overwrite it later.\n",
    ")\n",
    "river2 = RiverModel(\n",
    "    name=\"River2\",\n",
    "    x_coordinate=2,\n",
    "    y_coordinate=2,\n",
    "    mean_discharge=us.UnitfulDischarge(value=200, units=us.UnitTypesDischarge.cms),\n",
    "    # Mean discharge is used create default discharge values for the river, you can still overwrite it later.\n",
    ")\n",
    "\n",
    "discharge1 = f.DischargeConstant(\n",
    "    river=river1,\n",
    "    discharge=us.UnitfulDischarge(value=100, units=us.UnitTypesDischarge.cms)\n",
    ")\n",
    "discharge2 = f.DischargeConstant(\n",
    "    river=river2,\n",
    "    discharge=us.UnitfulDischarge(value=200, units=us.UnitTypesDischarge.cms)\n",
    ")\n",
    "\n",
    "# Inspect\n",
    "df1 = discharge1.to_dataframe(time_frame=time_frame)\n",
    "df2 = discharge2.to_dataframe(time_frame=time_frame)\n",
    "\n",
    "df1.plot(title=\"Constant Discharge River 1\", xlabel=\"Time\", ylabel=\"Discharge (cms)\", legend=True, figsize=(5, 2))\n",
    "df2.plot(title=\"Constant Discharge River 2\", xlabel=\"Time\", ylabel=\"Discharge (cms)\", legend=True, figsize=(5, 2))\n"
   ]
  },
  {
   "cell_type": "markdown",
   "id": "13",
   "metadata": {},
   "source": [
    "🧩 7. Combine Forcings and Create Synthetic Event\n",
    "\n",
    "All defined forcings are collected into a single dictionary, which is used to construct a SyntheticEvent."
   ]
  },
  {
   "cell_type": "code",
   "execution_count": null,
   "id": "14",
   "metadata": {},
   "outputs": [],
   "source": [
    "# Create the forcings dictionary\n",
    "# The keys of the dictionary are the forcing types, and the values are lists of the corresponding forcing objects.\n",
    "forcings = {\n",
    "    f.ForcingType.WATERLEVEL: [water_levels],\n",
    "    f.ForcingType.RAINFALL: [rainfall],\n",
    "    f.ForcingType.WIND: [wind],\n",
    "    f.ForcingType.DISCHARGE: [discharge1, discharge2],\n",
    "}\n",
    "\n",
    "# Create a SyntheticEvent with the forcings and time frame\n",
    "event = SyntheticEvent(\n",
    "    name=\"example_synthetic_event\",\n",
    "    time=time_frame,\n",
    "    forcings=forcings,\n",
    ")"
   ]
  },
  {
   "cell_type": "markdown",
   "id": "15",
   "metadata": {},
   "source": [
    "💾 8. Save the Event to a FloodAdapt Database\n",
    "\n",
    "Finally, we save the event to a FloodAdapt database."
   ]
  },
  {
   "cell_type": "code",
   "execution_count": null,
   "id": "16",
   "metadata": {},
   "outputs": [],
   "source": [
    "# Save the event to the database\n",
    "fa = FloodAdapt(database_path=Path(\"path/to/database\")) # TODO\n",
    "fa.save_event(event=event)"
   ]
  }
 ],
 "metadata": {
  "kernelspec": {
   "display_name": "docs",
   "language": "python",
   "name": "python3"
  },
  "language_info": {
   "codemirror_mode": {
    "name": "ipython",
    "version": 3
   },
   "file_extension": ".py",
   "mimetype": "text/x-python",
   "name": "python",
   "nbconvert_exporter": "python",
   "pygments_lexer": "ipython3",
   "version": "3.11.12"
  }
 },
 "nbformat": 4,
 "nbformat_minor": 5
}
