{
 "cells": [
  {
   "cell_type": "markdown",
   "id": "1",
   "metadata": {},
   "source": [
    "# **Event set creation for Risk Analysis**\n",
    "This notebook explains how to create the input files for a risk analysis in the correct format and place them in the correct folder structure. For an explanation on how to derive the (compound) events and their (joint) probabilities, the reader is referred to the FloodAdapt Setup Guide [Event Set](../3_setup_guide/risk_analysis.qmd).\n"
   ]
  },
  {
   "cell_type": "markdown",
   "id": "a964d94c",
   "metadata": {},
   "source": [
    "## Import Packages"
   ]
  },
  {
   "cell_type": "code",
   "execution_count": null,
   "id": "930e429d",
   "metadata": {},
   "outputs": [],
   "source": [
    "import os\n",
    "import tomli_w\n",
    "import tomli\n",
    "from datetime import datetime\n",
    "from pathlib import Path\n",
    "from tempfile import gettempdir\n",
    "\n",
    "from flood_adapt.config.config import Settings\n",
    "from flood_adapt.config.sfincs import RiverModel\n",
    "from flood_adapt.dbs_classes.interface.database import IDatabase\n",
    "from flood_adapt.objects.events.event_set import (\n",
    "    EventSet,\n",
    "    SubEventModel,\n",
    ")\n",
    "from flood_adapt.objects.events.historical import HistoricalEvent\n",
    "from flood_adapt.objects.events.synthetic import (\n",
    "    SyntheticEvent,\n",
    ")\n",
    "from flood_adapt.objects.forcing import unit_system as us\n",
    "from flood_adapt.objects.forcing.discharge import DischargeConstant\n",
    "from flood_adapt.objects.forcing.forcing import (\n",
    "    ForcingType,\n",
    ")\n",
    "from flood_adapt.objects.forcing.rainfall import RainfallSynthetic\n",
    "from flood_adapt.objects.forcing.time_frame import (\n",
    "    TimeFrame,\n",
    ")\n",
    "from flood_adapt.objects.forcing.timeseries import (\n",
    "    ShapeType,\n",
    "    TimeseriesFactory,\n",
    ")\n",
    "from flood_adapt.objects.forcing.waterlevels import (\n",
    "    SurgeModel,\n",
    "    TideModel,\n",
    "    WaterlevelSynthetic,\n",
    ")\n",
    "from flood_adapt.objects.forcing.wind import WindConstant\n",
    "\n",
    "# Configure database\n",
    "Settings(\n",
    "    DATABASE_ROOT=Path(\"../_data/examples\").resolve(),\n",
    "    DATABASE_NAME=\"charleston_test\"\n",
    ")"
   ]
  },
  {
   "cell_type": "markdown",
   "id": "95184186",
   "metadata": {},
   "source": [
    "## **Step 1**: Set name, frequencies and parameters to build subevents\n",
    "Set the name of the event set and the parameters for the input events and their frequencies. In this example, we are using three synthetic events with different storm surge heights and peak rainfall intensities. Alternatively, historic gauged and ungauged events or  hurricanes are possible as well, see [Events](events.ipynb) for examples on how to set up different subevents.\n",
    "\n",
    "#TODO update link to event examples"
   ]
  },
  {
   "cell_type": "code",
   "execution_count": null,
   "id": "7bc78c30",
   "metadata": {},
   "outputs": [
    {
     "name": "stdout",
     "output_type": "stream",
     "text": [
      "[SyntheticEvent(name='subevent_1', description='', time=TimeFrame(start_time=datetime.datetime(2020, 1, 1, 0, 0), end_time=datetime.datetime(2020, 1, 3, 0, 0)), template=<Template.Synthetic: 'Synthetic'>, mode=<Mode.single_event: 'single_event'>, forcings={<ForcingType.WIND: 'WIND'>: [WindConstant(type=<ForcingType.WIND: 'WIND'>, source=<ForcingSource.CONSTANT: 'CONSTANT'>, speed=UnitfulVelocity(value=10.0, units=UnitTypesVelocity.mps), direction=UnitfulDirection(value=90.0, units=UnitTypesDirection.degrees))], <ForcingType.RAINFALL: 'RAINFALL'>: [RainfallSynthetic(type=<ForcingType.RAINFALL: 'RAINFALL'>, source=<ForcingSource.SYNTHETIC: 'SYNTHETIC'>, timeseries=BlockTimeseries(shape_type=<ShapeType.block: 'block'>, duration=UnitfulTime(value=6.0, units=UnitTypesTime.hours), peak_time=UnitfulTime(value=21.0, units=UnitTypesTime.hours), peak_value=UnitfulIntensity(value=10.0, units=UnitTypesIntensity.mm_hr), cumulative=None, fill_value=0.0))], <ForcingType.DISCHARGE: 'DISCHARGE'>: [DischargeConstant(type=<ForcingType.DISCHARGE: 'DISCHARGE'>, source=<ForcingSource.CONSTANT: 'CONSTANT'>, river=RiverModel(name='cooper', description='Cooper River', mean_discharge=UnitfulDischarge(value=5000.0, units=UnitTypesDischarge.cfs), x_coordinate=595546.3, y_coordinate=3675590.6), discharge=UnitfulDischarge(value=5000.0, units=UnitTypesDischarge.cfs))], <ForcingType.WATERLEVEL: 'WATERLEVEL'>: [WaterlevelSynthetic(type=<ForcingType.WATERLEVEL: 'WATERLEVEL'>, source=<ForcingSource.SYNTHETIC: 'SYNTHETIC'>, surge=SurgeModel(timeseries=GaussianTimeseries(shape_type=<ShapeType.gaussian: 'gaussian'>, duration=UnitfulTime(value=10.0, units=UnitTypesTime.hours), peak_time=UnitfulTime(value=24.0, units=UnitTypesTime.hours), peak_value=UnitfulLength(value=2.5, units=UnitTypesLength.meters), cumulative=None, fill_value=0.0)), tide=TideModel(harmonic_amplitude=UnitfulLength(value=1.0, units=UnitTypesLength.meters), harmonic_phase=UnitfulTime(value=0.0, units=UnitTypesTime.hours), harmonic_period=UnitfulTime(value=12.4, units=UnitTypesTime.hours)))]}, rainfall_multiplier=1.0), SyntheticEvent(name='subevent_2', description='', time=TimeFrame(start_time=datetime.datetime(2020, 1, 1, 0, 0), end_time=datetime.datetime(2020, 1, 3, 0, 0)), template=<Template.Synthetic: 'Synthetic'>, mode=<Mode.single_event: 'single_event'>, forcings={<ForcingType.WIND: 'WIND'>: [WindConstant(type=<ForcingType.WIND: 'WIND'>, source=<ForcingSource.CONSTANT: 'CONSTANT'>, speed=UnitfulVelocity(value=10.0, units=UnitTypesVelocity.mps), direction=UnitfulDirection(value=90.0, units=UnitTypesDirection.degrees))], <ForcingType.RAINFALL: 'RAINFALL'>: [RainfallSynthetic(type=<ForcingType.RAINFALL: 'RAINFALL'>, source=<ForcingSource.SYNTHETIC: 'SYNTHETIC'>, timeseries=BlockTimeseries(shape_type=<ShapeType.block: 'block'>, duration=UnitfulTime(value=6.0, units=UnitTypesTime.hours), peak_time=UnitfulTime(value=21.0, units=UnitTypesTime.hours), peak_value=UnitfulIntensity(value=15.0, units=UnitTypesIntensity.mm_hr), cumulative=None, fill_value=0.0))], <ForcingType.DISCHARGE: 'DISCHARGE'>: [DischargeConstant(type=<ForcingType.DISCHARGE: 'DISCHARGE'>, source=<ForcingSource.CONSTANT: 'CONSTANT'>, river=RiverModel(name='cooper', description='Cooper River', mean_discharge=UnitfulDischarge(value=5000.0, units=UnitTypesDischarge.cfs), x_coordinate=595546.3, y_coordinate=3675590.6), discharge=UnitfulDischarge(value=5000.0, units=UnitTypesDischarge.cfs))], <ForcingType.WATERLEVEL: 'WATERLEVEL'>: [WaterlevelSynthetic(type=<ForcingType.WATERLEVEL: 'WATERLEVEL'>, source=<ForcingSource.SYNTHETIC: 'SYNTHETIC'>, surge=SurgeModel(timeseries=GaussianTimeseries(shape_type=<ShapeType.gaussian: 'gaussian'>, duration=UnitfulTime(value=10.0, units=UnitTypesTime.hours), peak_time=UnitfulTime(value=24.0, units=UnitTypesTime.hours), peak_value=UnitfulLength(value=1.0, units=UnitTypesLength.meters), cumulative=None, fill_value=0.0)), tide=TideModel(harmonic_amplitude=UnitfulLength(value=1.0, units=UnitTypesLength.meters), harmonic_phase=UnitfulTime(value=0.0, units=UnitTypesTime.hours), harmonic_period=UnitfulTime(value=12.4, units=UnitTypesTime.hours)))]}, rainfall_multiplier=1.0), SyntheticEvent(name='subevent_3', description='', time=TimeFrame(start_time=datetime.datetime(2020, 1, 1, 0, 0), end_time=datetime.datetime(2020, 1, 3, 0, 0)), template=<Template.Synthetic: 'Synthetic'>, mode=<Mode.single_event: 'single_event'>, forcings={<ForcingType.WIND: 'WIND'>: [WindConstant(type=<ForcingType.WIND: 'WIND'>, source=<ForcingSource.CONSTANT: 'CONSTANT'>, speed=UnitfulVelocity(value=10.0, units=UnitTypesVelocity.mps), direction=UnitfulDirection(value=90.0, units=UnitTypesDirection.degrees))], <ForcingType.RAINFALL: 'RAINFALL'>: [RainfallSynthetic(type=<ForcingType.RAINFALL: 'RAINFALL'>, source=<ForcingSource.SYNTHETIC: 'SYNTHETIC'>, timeseries=BlockTimeseries(shape_type=<ShapeType.block: 'block'>, duration=UnitfulTime(value=6.0, units=UnitTypesTime.hours), peak_time=UnitfulTime(value=21.0, units=UnitTypesTime.hours), peak_value=UnitfulIntensity(value=5.0, units=UnitTypesIntensity.mm_hr), cumulative=None, fill_value=0.0))], <ForcingType.DISCHARGE: 'DISCHARGE'>: [DischargeConstant(type=<ForcingType.DISCHARGE: 'DISCHARGE'>, source=<ForcingSource.CONSTANT: 'CONSTANT'>, river=RiverModel(name='cooper', description='Cooper River', mean_discharge=UnitfulDischarge(value=5000.0, units=UnitTypesDischarge.cfs), x_coordinate=595546.3, y_coordinate=3675590.6), discharge=UnitfulDischarge(value=5000.0, units=UnitTypesDischarge.cfs))], <ForcingType.WATERLEVEL: 'WATERLEVEL'>: [WaterlevelSynthetic(type=<ForcingType.WATERLEVEL: 'WATERLEVEL'>, source=<ForcingSource.SYNTHETIC: 'SYNTHETIC'>, surge=SurgeModel(timeseries=GaussianTimeseries(shape_type=<ShapeType.gaussian: 'gaussian'>, duration=UnitfulTime(value=10.0, units=UnitTypesTime.hours), peak_time=UnitfulTime(value=24.0, units=UnitTypesTime.hours), peak_value=UnitfulLength(value=3.0, units=UnitTypesLength.meters), cumulative=None, fill_value=0.0)), tide=TideModel(harmonic_amplitude=UnitfulLength(value=1.0, units=UnitTypesLength.meters), harmonic_phase=UnitfulTime(value=0.0, units=UnitTypesTime.hours), harmonic_period=UnitfulTime(value=12.4, units=UnitTypesTime.hours)))]}, rainfall_multiplier=1.0)]\n"
     ]
    }
   ],
   "source": [
    "name = \"event_set\"\n",
    "\n",
    "# Peak surge values in the subevents. Surge is timed to always peak at 24.8 hours after the event start, coinciding with high tide at a tidal phase of 0 and lasting for 10 hours.\n",
    "surge_values = [2.5, 1, 3] # in meters\n",
    "\n",
    "# Peak rainfall intensities in the three subevents. Rainfall is applied as a 6 hour \"block\" shape preceding the peak of the storm surge.\n",
    "rainfall_values = [10,15,5] # in mm/hr\n",
    "\n",
    "# Occurrence frequencies of the three events\n",
    "freq = [0.1,2,0.05]\n"
   ]
  },
  {
   "cell_type": "markdown",
   "id": "dcc92a46",
   "metadata": {},
   "source": [
    "## **Step 2**: Create subevents\n",
    "Create the subevents from the parameters defined in Step 1."
   ]
  },
  {
   "cell_type": "code",
   "execution_count": null,
   "id": "c434986a",
   "metadata": {},
   "outputs": [],
   "source": [
    "\n",
    "events = []\n",
    "number = 0\n",
    "for surge,rainfall in zip(surge_values,rainfall_values):\n",
    "    number += 1\n",
    "    events.append(\n",
    "        SyntheticEvent(\n",
    "            name = f\"subevent_{number}\",\n",
    "            time=TimeFrame(start_time=datetime(2020,1,1,0,0,0),end_time=datetime(2020,1,3,0,0,0)),\n",
    "            forcings={\n",
    "                ForcingType.WIND: [         # constant wind speed 10 m/, direction 90 degrees (from the East)\n",
    "                    WindConstant(\n",
    "                        speed=us.UnitfulVelocity(value=10, units=us.UnitTypesVelocity.mps), \n",
    "                        direction=us.UnitfulDirection(\n",
    "                            value=90, units=us.UnitTypesDirection.degrees                  \n",
    "                        ),\n",
    "                    )\n",
    "                ],\n",
    "                ForcingType.RAINFALL: [         # block rainfall starting 18h after event start, duration 6h, intensity 10 mm/hr \n",
    "                    RainfallSynthetic(\n",
    "                        timeseries = TimeseriesFactory.from_args(             \n",
    "                                shape_type=ShapeType.block,\n",
    "                                duration=us.UnitfulTime(\n",
    "                                    value=6, units=us.UnitTypesTime.hours\n",
    "                                ),\n",
    "                                peak_time=us.UnitfulTime(\n",
    "                                    value=21, units=us.UnitTypesTime.hours\n",
    "                                ),\n",
    "                                peak_value=us.UnitfulIntensity(\n",
    "                                    value=rainfall, units=us.UnitTypesIntensity.mm_hr\n",
    "                                ),\n",
    "                            )\n",
    "                        \n",
    "                    )\n",
    "                ],\n",
    "                ForcingType.DISCHARGE: [         # constant discharge in Cooper River of 5000 cubic feet per second\n",
    "                    DischargeConstant(\n",
    "                        river=RiverModel(\n",
    "                            name=\"cooper\",\n",
    "                            description=\"Cooper River\",\n",
    "                            x_coordinate=595546.3,\n",
    "                            y_coordinate=3675590.6,\n",
    "                            mean_discharge=us.UnitfulDischarge(\n",
    "                                value=5000, units=us.UnitTypesDischarge.cfs\n",
    "                            ),\n",
    "                        ),\n",
    "                        discharge=us.UnitfulDischarge(\n",
    "                            value=5000, units=us.UnitTypesDischarge.cfs \n",
    "                        ),\n",
    "                    )\n",
    "                ],\n",
    "                ForcingType.WATERLEVEL: [       \n",
    "                    WaterlevelSynthetic(\n",
    "                        surge=SurgeModel(       # storm surge with gaussian shape, duration 10 hours, peak at 24h after event start_time, peak height 3m\n",
    "                            timeseries=TimeseriesFactory.from_args(             \n",
    "                                shape_type=ShapeType.gaussian,\n",
    "                                duration=us.UnitfulTime(\n",
    "                                    value=10, units=us.UnitTypesTime.hours\n",
    "                                ),\n",
    "                                peak_time=us.UnitfulTime(\n",
    "                                    value=24, units=us.UnitTypesTime.hours\n",
    "                                ),\n",
    "                                peak_value=us.UnitfulLength(\n",
    "                                    value=surge, units=us.UnitTypesLength.meters\n",
    "                                ),\n",
    "                            )\n",
    "                        ),\n",
    "                        tide=TideModel(     # tide with 1m amplitude and 12.4h duration\n",
    "                            harmonic_amplitude=us.UnitfulLength(\n",
    "                                value=1, units=us.UnitTypesLength.meters\n",
    "                            ),\n",
    "                            harmonic_period=us.UnitfulTime(\n",
    "                                value=12.4, units=us.UnitTypesTime.hours\n",
    "                            ),\n",
    "                            harmonic_phase=us.UnitfulTime(\n",
    "                                value=0, units=us.UnitTypesTime.hours\n",
    "                            ),\n",
    "                        ),\n",
    "                    )\n",
    "                ],\n",
    "            },\n",
    "        )\n",
    "    )\n",
    "\n",
    "print(events)"
   ]
  },
  {
   "cell_type": "markdown",
   "id": "caaa9a20",
   "metadata": {},
   "source": [
    "## **Step 3**: Compile and save event set\n",
    "In this step, we create an event set from the subevents created in Step 2 and write the files to the input folder. This event set can then be used like any other event in a Scenario. Click [here](scenario.ipynb) to see examples on how to build a scenario. \n",
    "\n",
    "#TODO update link to scenario examples"
   ]
  },
  {
   "cell_type": "code",
   "execution_count": 20,
   "id": "a80ef796",
   "metadata": {},
   "outputs": [
    {
     "name": "stdout",
     "output_type": "stream",
     "text": [
      "name='event_set' description='' mode=<Mode.risk: 'risk'> sub_events=[SubEventModel(name='subevent_1', frequency=0.1), SubEventModel(name='subevent_2', frequency=2.0), SubEventModel(name='subevent_3', frequency=0.05)]\n"
     ]
    }
   ],
   "source": [
    "from flood_adapt.objects.events.event_set import EventSet\n",
    "\n",
    "subevents = []\n",
    "for event, frequency in zip(events,freq):\n",
    "    subevents.append(SubEventModel(name=event.name,frequency=frequency))\n",
    "\n",
    "event_set = EventSet(\n",
    "    name = name,\n",
    "    sub_events=subevents    \n",
    ")\n",
    "\n",
    "print(event_set)"
   ]
  }
 ],
 "metadata": {
  "kernelspec": {
   "display_name": "docs",
   "language": "python",
   "name": "python3"
  },
  "language_info": {
   "codemirror_mode": {
    "name": "ipython",
    "version": 3
   },
   "file_extension": ".py",
   "mimetype": "text/x-python",
   "name": "python",
   "nbconvert_exporter": "python",
   "pygments_lexer": "ipython3",
   "version": "3.11.12"
  }
 },
 "nbformat": 4,
 "nbformat_minor": 5
}
