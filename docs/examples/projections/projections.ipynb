{
 "cells": [
  {
   "cell_type": "markdown",
   "id": "0",
   "metadata": {},
   "source": [
    "# 📘 Example: Projections in FloodAdapt\n",
    "\n",
    "In FloodAdapt,  a [Projection](../../api_ref/objects/Projection.qmd) object is used to describe future climate and socio-economic conditions. \n",
    "These are  defined by the two main components of a Projection object:\n",
    "- `physical_projection`: a [PhysicalProjection](../../api_ref/objects/PhysicalProjection.qmd) object that describes the physical changes in the environment, such as sea level rise.\n",
    "- `socio_economic_change`: a [SocioEconomicChange](../../api_ref/objects/SocioEconomicChange.qmd) object that describes the socio-economic changes, such as population and economic growth.\n",
    "\n",
    "If you want to learn more about Projections, you can check the [Projections](../../4_user_guide/projections) section of the FloodAdapt GUI documentation.\n"
   ]
  },
  {
   "cell_type": "markdown",
   "id": "1",
   "metadata": {},
   "source": [
    "In this notebook, we will look into all the available FloodAdapt methods to create, save, edit and delete Projections."
   ]
  },
  {
   "cell_type": "markdown",
   "id": "2",
   "metadata": {},
   "source": [
    "## Import libraries\n",
    "\n",
    "First the required python libraries for this notebook are imported. "
   ]
  },
  {
   "cell_type": "code",
   "execution_count": null,
   "id": "3",
   "metadata": {},
   "outputs": [],
   "source": [
    "from flood_adapt import FloodAdapt\n",
    "from flood_adapt.objects.projections.projections import PhysicalProjection, SocioEconomicChange, Projection\n",
    "from flood_adapt.objects.forcing.unit_system import UnitTypesLength, UnitfulLength, UnitfulLengthRefValue, VerticalReference\n",
    "from flood_adapt.config.config import Settings\n",
    "from pathlib import Path\n",
    "import pandas as pd\n",
    "import geopandas as gpd\n",
    "from IPython.display import HTML"
   ]
  },
  {
   "cell_type": "markdown",
   "id": "4",
   "metadata": {},
   "source": [
    "## 🚀 **Step 1:** Reading-in the FloodAdapt database\n",
    "\n",
    "Then, we need to create a `FloodAdapt` object, with the example database of Charleston. This object has all the required methods for adding, copying, editing or deleting projections from the database. "
   ]
  },
  {
   "cell_type": "code",
   "execution_count": null,
   "id": "5",
   "metadata": {},
   "outputs": [],
   "source": [
    "# Setup FloodAdapt\n",
    "STATIC_DATA_DIR = Path(\"../../_data/examples/static-data/4_Projections\").resolve() # for later use\n",
    "settings = Settings(\n",
    "    DATABASE_ROOT=Path(\"../../_data/examples\").resolve(),\n",
    "    DATABASE_NAME=\"charleston_test\"\n",
    ")\n",
    "fa = FloodAdapt(database_path=settings.database_path)"
   ]
  },
  {
   "cell_type": "markdown",
   "id": "6",
   "metadata": {},
   "source": [
    "## 🔎 **Step 2:** Getting available projections from the database"
   ]
  },
  {
   "cell_type": "markdown",
   "id": "7",
   "metadata": {},
   "source": [
    "Using the `get_projections()` method of the [FloodAdapt](../../api_ref/FloodAdapt.qmd) class, we can get a dictionary of all the projections in the database. The keys of the returned dictionary are the names, descriptions, paths and last modification dates of the projections. We can use this method to check which projections are currently available in the database."
   ]
  },
  {
   "cell_type": "code",
   "execution_count": null,
   "id": "8",
   "metadata": {},
   "outputs": [],
   "source": [
    "pd.DataFrame(fa.get_projections()) # here we turn the dictionary to a Pandas DataFrame for better visualization"
   ]
  },
  {
   "cell_type": "markdown",
   "id": "9",
   "metadata": {},
   "source": [
    "As can be seen above, right now, there is only one projection available in the database named \"**current**\". This is a default projection created when the database is created, to describe the current conditions without any future changes.\n",
    "\n",
    "We can get the [Projection](../../api_ref/objects/Projection.qmd) object of a projection by using the `get_projection()` method of the `FloodAdapt` class. This method takes only the name of the projection as an argument."
   ]
  },
  {
   "cell_type": "code",
   "execution_count": null,
   "id": "10",
   "metadata": {},
   "outputs": [],
   "source": [
    "fa.get_projection(\"current\")"
   ]
  },
  {
   "cell_type": "markdown",
   "id": "11",
   "metadata": {},
   "source": [
    "As can be seen the \"**current**\" projection has default values for the attributes of the `physical_projection` and `socio_economic_change`, which essentially means that this projection describes the current conditions without any change."
   ]
  },
  {
   "cell_type": "markdown",
   "id": "12",
   "metadata": {},
   "source": [
    "## 📈 **Step 3:** Creating a new Projection object\n"
   ]
  },
  {
   "cell_type": "markdown",
   "id": "13",
   "metadata": {},
   "source": [
    "A `Projection` object can be created by using the individual FloodAdapt object classes. This can ensure correct type hinting and avoid errors. \n",
    "\n",
    "### 🌊🌧️ Physical Projection\n",
    "First, let's a create a [PhysicalProjection](../api_ref/objects/PhysicalProjection.qmd) that describes future conditions with 0.5 meters of sea level rise. To do this we can use the `sea_level_rise` attribute which has a value with a unit, which in FloodAdapt can be defined using a [UnitfulLength](../api_ref/UnitfulLength.qmd) object with the `value` and `unit` fields. The `value` field is a float and the `unit` field can be one of the [UnitTypesLength](../api_ref/UnitTypesLength.qmd). "
   ]
  },
  {
   "cell_type": "code",
   "execution_count": null,
   "id": "14",
   "metadata": {},
   "outputs": [],
   "source": [
    "phys_proj = PhysicalProjection(sea_level_rise=UnitfulLength(value=0.5, units=UnitTypesLength.meters))\n",
    "phys_proj"
   ]
  },
  {
   "cell_type": "markdown",
   "id": "15",
   "metadata": {},
   "source": [
    "### 👥💰 Socio-Economic Change\n",
    "Then we create a [SocioEconomicChange](../api_ref/objects/SocioEconomicChange.qmd) object that describes future conditions with a population growth of 10% and an economic growth of 5% for the existing areas. To do this we can use the `population_growth` and `economic_growth` attributes which are both floats given in percentages."
   ]
  },
  {
   "cell_type": "code",
   "execution_count": null,
   "id": "16",
   "metadata": {},
   "outputs": [],
   "source": [
    "se_change = SocioEconomicChange(population_growth_existing=10,\n",
    "                          economic_growth=5)\n",
    "se_change"
   ]
  },
  {
   "cell_type": "markdown",
   "id": "17",
   "metadata": {},
   "source": [
    "Now, we can create a `Projection` object, giving it a unique `name` (which cannot contain any spaces or special characters), and the previously created `PhysicalProjection` and `SocioEconomicChange` objects. The `description` field is optional, and can be used to provide a more extensive description of the projection."
   ]
  },
  {
   "cell_type": "code",
   "execution_count": null,
   "id": "18",
   "metadata": {},
   "outputs": [],
   "source": [
    "future_1 = Projection(name=\"future_1\", \n",
    "                      description=\"0.5 m sea level rise, 10% population growth, 5% economic growth\", \n",
    "                      physical_projection=phys_proj, \n",
    "                      socio_economic_change=se_change\n",
    "                      )\n",
    "future_1"
   ]
  },
  {
   "cell_type": "markdown",
   "id": "19",
   "metadata": {},
   "source": [
    "Alternatively,  a new projection can be created by using the `create_projection()` method of the `FloodAdapt` class. This method takes a single argument which is a dictionary containing the required projection parameters. Let's create the exact same projection as before, but now using this method."
   ]
  },
  {
   "cell_type": "code",
   "execution_count": null,
   "id": "20",
   "metadata": {},
   "outputs": [],
   "source": [
    "# Create dictionary\n",
    "future_1_dict = {\n",
    "    \"name\": \"slr_50cm\",\n",
    "    \"description\": \"0.5 m sea level rise\",\n",
    "    \"physical_projection\": {\"sea_level_rise\": {\"value\": 0.5, \"units\": \"meters\"}},\n",
    "    \"socio_economic_change\": {\"population_growth_existing\": 10, \"economic_growth\": 5}\n",
    "}\n",
    "# Create Projection object from dictionary\n",
    "future_1_from_dict = fa.create_projection(future_1_dict)"
   ]
  },
  {
   "cell_type": "markdown",
   "id": "21",
   "metadata": {},
   "source": [
    "We can now verify that the two projection objects are identical:"
   ]
  },
  {
   "cell_type": "code",
   "execution_count": null,
   "id": "22",
   "metadata": {},
   "outputs": [],
   "source": [
    "# Check if the two objects are equal\n",
    "future_1_from_dict == future_1"
   ]
  },
  {
   "cell_type": "markdown",
   "id": "23",
   "metadata": {},
   "source": [
    "## 💾 **Step 4:** Saving a new Projection to the database\n",
    "\n",
    "In the previous step we have created a `Projection` object, but we have not yet saved it in our database. The `save_projection()` method of the `FloodAdapt` class can be used to achieve that. This method takes a single argument which is a `Projection` object. If a projection with the same name already exists in the database, an error will be raised. Let's save the projection we just created to the database."
   ]
  },
  {
   "cell_type": "code",
   "execution_count": null,
   "id": "24",
   "metadata": {},
   "outputs": [],
   "source": [
    "fa.save_projection(future_1)"
   ]
  },
  {
   "cell_type": "markdown",
   "id": "25",
   "metadata": {},
   "source": [
    "Using the `get_projections()` method of the `FloodAdapt` class, we can check that the projection has been saved to the database."
   ]
  },
  {
   "cell_type": "code",
   "execution_count": null,
   "id": "26",
   "metadata": {},
   "outputs": [],
   "source": [
    "pd.DataFrame(fa.get_projections())"
   ]
  },
  {
   "cell_type": "markdown",
   "id": "27",
   "metadata": {},
   "source": [
    "## ✏️ **Step 5:** Copying and Editing a Projection in the database\n",
    "\n",
    "If we want to edit small parts of a projection, it is easier to copy an existing projection and edit the copy. This way we do not have to create a new projection from scratch.\n",
    "\n",
    "A projection can be copied in the database by using the `copy_projection()` method of the `FloodAdapt` class. This method takes three arguments: the name of the projection to be copied and the name and description of the new projection. Let's copy the projection we just created, which we would like to adjust, to represent 1 meter of sea level rise. "
   ]
  },
  {
   "cell_type": "code",
   "execution_count": null,
   "id": "28",
   "metadata": {},
   "outputs": [],
   "source": [
    "fa.copy_projection(old_name=\"future_1\", new_name=\"future_2\", new_description=\"1 m sea level rise, 10% population growth, 5% economic growth\")"
   ]
  },
  {
   "cell_type": "markdown",
   "id": "29",
   "metadata": {},
   "source": [
    "We can see that now a new projection with name \"future_2\" has been created in the database. However, the actual attributes of the projection are still the same as the original projection. "
   ]
  },
  {
   "cell_type": "code",
   "execution_count": null,
   "id": "30",
   "metadata": {},
   "outputs": [],
   "source": [
    "future_2 = fa.get_projection(\"future_2\")\n",
    "future_2.physical_projection.sea_level_rise"
   ]
  },
  {
   "cell_type": "markdown",
   "id": "31",
   "metadata": {},
   "source": [
    "We can directly edit the relevant attributes of the projection object. In this case, we want to change the sea level rise to 1 meter."
   ]
  },
  {
   "cell_type": "code",
   "execution_count": null,
   "id": "32",
   "metadata": {},
   "outputs": [],
   "source": [
    "future_2.physical_projection.sea_level_rise.value = 1.0"
   ]
  },
  {
   "cell_type": "markdown",
   "id": "33",
   "metadata": {},
   "source": [
    "While we have now edited the projection object, we have not yet saved the changes to the database. We can do this by using the `save_projection()` method with the argument `overwrite=True`, since we want to edit an existing projection."
   ]
  },
  {
   "cell_type": "code",
   "execution_count": null,
   "id": "34",
   "metadata": {},
   "outputs": [],
   "source": [
    "fa.save_projection(future_2, overwrite=True)"
   ]
  },
  {
   "cell_type": "markdown",
   "id": "35",
   "metadata": {},
   "source": [
    "Now we can verify that the projection has been updated in the database. The sea level rise is now 1 meter."
   ]
  },
  {
   "cell_type": "code",
   "execution_count": null,
   "id": "36",
   "metadata": {},
   "outputs": [],
   "source": [
    "future_2 = fa.get_projection(\"future_2\")\n",
    "future_2.physical_projection.sea_level_rise"
   ]
  },
  {
   "cell_type": "markdown",
   "id": "37",
   "metadata": {},
   "source": [
    "## ❌ **Step 6:** Deleting a Projection from the database\n",
    "\n",
    "We now have 3 projections in the database."
   ]
  },
  {
   "cell_type": "code",
   "execution_count": null,
   "id": "38",
   "metadata": {},
   "outputs": [],
   "source": [
    "pd.DataFrame(fa.get_projections())"
   ]
  },
  {
   "cell_type": "markdown",
   "id": "39",
   "metadata": {},
   "source": [
    "\n",
    "If we want to delete a projection from the database, we can use the `delete_projection()` method of the `FloodAdapt` class. This method takes a single argument which is the name of the projection to be deleted. Let's delete the projection we just created."
   ]
  },
  {
   "cell_type": "code",
   "execution_count": null,
   "id": "40",
   "metadata": {},
   "outputs": [],
   "source": [
    "fa.delete_projection(\"future_2\")"
   ]
  },
  {
   "cell_type": "markdown",
   "id": "41",
   "metadata": {},
   "source": [
    "We can check that the projection has been indeed deleted from the database by using the `get_projections()` method of the `FloodAdapt` class. The projection with name \"future_2\" is no longer in the database."
   ]
  },
  {
   "cell_type": "code",
   "execution_count": null,
   "id": "42",
   "metadata": {},
   "outputs": [],
   "source": [
    "pd.DataFrame(fa.get_projections())"
   ]
  },
  {
   "cell_type": "markdown",
   "id": "43",
   "metadata": {},
   "source": [
    "## 🌐 **Step 7:** Use of Sea Level Rise Scenarios\n",
    "\n",
    "A FloodAdapt database can include sea level rise scenarios, describing a timeline of future sea level rise relative to a reference year. If these scenarios are available in the database the `get_slr_scn_names()` method  will return a list of the available scenarios names.\n",
    "\n",
    "<div class=\"alert alert-light\">\n",
    "  <b>ℹ️ Adding sea level rise scenarios to your database</b><br>\n",
    "  If you want to learn more about how to add sea level rise scenarios to your FloodAdapt database during system setup, you can check the \n",
    "  <a href=\"../../3_setup_guide/database.qmd#sea-level-rise-slr-scenarios\">Sea level rise (SLR) scenarios</a> section of the FloodAdapt Setup Guide.\n",
    "</div>"
   ]
  },
  {
   "cell_type": "code",
   "execution_count": null,
   "id": "44",
   "metadata": {},
   "outputs": [],
   "source": [
    "fa.get_slr_scn_names()"
   ]
  },
  {
   "cell_type": "markdown",
   "id": "45",
   "metadata": {},
   "source": [
    "The `plot_slr_scenarios` will create a temporary plot in html format, and will return the path of the html file. This allows to visualize the different scenarios in time."
   ]
  },
  {
   "cell_type": "code",
   "execution_count": null,
   "id": "46",
   "metadata": {},
   "outputs": [],
   "source": [
    "# Get the path of the html\n",
    "html_path = fa.plot_slr_scenarios()\n",
    "# Show the \n",
    "HTML(filename=html_path)  # Adjust width and height as needed"
   ]
  },
  {
   "cell_type": "markdown",
   "id": "47",
   "metadata": {},
   "source": [
    "Then the `interp_slr()` method can be used to interpolate the sea level rise for a given year. This method takes two arguments: the name of the scenario and the year for which we want to interpolate the sea level rise. The method returns a float value representing the interpolated sea level rise in the default length units of the database."
   ]
  },
  {
   "cell_type": "code",
   "execution_count": null,
   "id": "48",
   "metadata": {},
   "outputs": [],
   "source": [
    "fa.interp_slr(slr_scenario=\"ssp585\", year=2050)"
   ]
  },
  {
   "cell_type": "markdown",
   "id": "49",
   "metadata": {},
   "source": [
    "# 🏗️ **Step 7:** Population Growth in New Developments Areas\n",
    "\n",
    "In [Step 3](#-step-3-creating-a-new-projection-object) we created a Projection with a population growth of 10% to the existing exposure area. This area is essentially describing the buildings in the static impact model.\n",
    "\n",
    "Using the `get_building_geometries()` method of the `FloodAdapt` class, we can get a geopandas GeoDataFrame of the centroids of the buildings in the database, along with their attributes."
   ]
  },
  {
   "cell_type": "code",
   "execution_count": null,
   "id": "50",
   "metadata": {},
   "outputs": [],
   "source": [
    "fa.get_building_geometries().explore() # we use the explore method to make the interactive map"
   ]
  },
  {
   "cell_type": "markdown",
   "id": "51",
   "metadata": {},
   "source": [
    "In addition to the population growth in the existing exposure area, we can also add new development areas to a projection. This is done by using the `population_growth_new` attribute of the [SocioEconomicChange](../../api_ref/objects/SocioEconomicChange.qmd) object. This attribute describes the % of the current population that will be distributed in these new areas.\n",
    "\n",
    "When a `population_growth_new` is defined (i.e., the value is not zero), then the `new_development_shapefile` should be provided, which should be a path to a geospatial file that describes the area(s) where the new development will take place. \n",
    "\n",
    "The `new_development_elevation` field is a [UnitfulLengthRefValue](../../api_ref/UnitfulLengthRefValue.qmd) object which describes the elevation of the new development area, relative to a reference. \n",
    "\n",
    "<div class=\"alert alert-light\">\n",
    "  <b>ℹ️ Population growth in new development areas</b><br>\n",
    "  If you want to learn more about how the population growth in new development areas works in FloodAdapt, you can check the \n",
    "  <a href=\"../../4_user_guide/projections/socioEconomic.qmd#population-growth---new-development-areas\">Population growth - new development areas</a> section of the FloodAdapt User Guide.\n",
    "</div>"
   ]
  },
  {
   "cell_type": "markdown",
   "id": "52",
   "metadata": {},
   "source": [
    "The areas can be defined by any geospatial file format supported by geopandas, such as shapefiles, geojson, etc., and should include **Polygon** geometries. For example, here we will use a shapefile with 3 Polygon areas defined randomly just for this example."
   ]
  },
  {
   "cell_type": "code",
   "execution_count": null,
   "id": "53",
   "metadata": {},
   "outputs": [],
   "source": [
    "new_dev_path = str(STATIC_DATA_DIR / \"new_dev_areas.geojson\")\n",
    "new_dev = gpd.read_file(new_dev_path)\n",
    "new_dev.explore()"
   ]
  },
  {
   "cell_type": "markdown",
   "id": "54",
   "metadata": {},
   "source": [
    "Let's make a new SocioEconomicChange object with a population growth of 10% in the existing exposure area and 5% in the new development areas. The new development area will be a shapefile with a path to the file, and the elevation of the new development area will be 1 meter above datum. \n",
    "\n",
    "Then we can create the SocioEconomicChange object accordingly.\n",
    "\n",
    "<div class=\"alert alert-light\">\n",
    "  <b>ℹ️ New Development Elevation Reference</b><br>\n",
    "  When specifying the elevation of the new development area, a reference needs to be provided. This can either be relative to \"datum\" which describes the local Datum, or relative to \"floodmap\" which describes the base flood elevation (BFE).\n",
    "</div>"
   ]
  },
  {
   "cell_type": "code",
   "execution_count": null,
   "id": "55",
   "metadata": {},
   "outputs": [],
   "source": [
    "se_change = SocioEconomicChange(population_growth_existing=10,\n",
    "                                economic_growth=5,\n",
    "                                population_growth_new=5,\n",
    "                                new_development_shapefile=new_dev_path,\n",
    "                                new_development_elevation=UnitfulLengthRefValue(value=0.5,\n",
    "                                                                                units=UnitTypesLength.meters,\n",
    "                                                                                type=VerticalReference.datum)\n",
    "                                )\n",
    "se_change"
   ]
  },
  {
   "cell_type": "markdown",
   "id": "56",
   "metadata": {},
   "source": [
    "We can create a new Projection object with the new SocioEconomicChange and adding a Physical Projections with a sea level rise for the SSP585 scenario of 2050."
   ]
  },
  {
   "cell_type": "code",
   "execution_count": null,
   "id": "57",
   "metadata": {},
   "outputs": [],
   "source": [
    "proj_2050 = Projection(name=\"proj_2050\",\n",
    "                    description=\"2050 projection\", \n",
    "                    physical_projection= PhysicalProjection(sea_level_rise=UnitfulLength(value=fa.interp_slr(slr_scenario=\"ssp585\", year=2050), \n",
    "                                                                                         units=UnitTypesLength.meters)), \n",
    "                    socio_economic_change=se_change\n",
    "                    )\n",
    "proj_2050"
   ]
  },
  {
   "cell_type": "markdown",
   "id": "58",
   "metadata": {},
   "source": [
    "And now we can save the projection to the database."
   ]
  },
  {
   "cell_type": "code",
   "execution_count": null,
   "id": "59",
   "metadata": {},
   "outputs": [],
   "source": [
    "fa.save_projection(proj_2050)"
   ]
  },
  {
   "cell_type": "markdown",
   "id": "60",
   "metadata": {},
   "source": [
    "When we get the new projection from the database, we can see that the new development shapefile has been added as part of the projection."
   ]
  },
  {
   "cell_type": "code",
   "execution_count": null,
   "id": "61",
   "metadata": {},
   "outputs": [],
   "source": [
    "fa.get_projection(\"proj_2050\").socio_economic_change.new_development_shapefile"
   ]
  }
 ],
 "metadata": {
  "kernelspec": {
   "display_name": "fa_dev",
   "language": "python",
   "name": "python3"
  },
  "language_info": {
   "codemirror_mode": {
    "name": "ipython",
    "version": 3
   },
   "file_extension": ".py",
   "mimetype": "text/x-python",
   "name": "python",
   "nbconvert_exporter": "python",
   "pygments_lexer": "ipython3",
   "version": "3.11.13"
  }
 },
 "nbformat": 4,
 "nbformat_minor": 5
}
