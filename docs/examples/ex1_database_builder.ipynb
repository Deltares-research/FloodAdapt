{
 "cells": [
  {
   "cell_type": "markdown",
   "id": "294d7e71",
   "metadata": {},
   "source": [
    "# **Database Builder Example - Charleston, USA**"
   ]
  },
  {
   "cell_type": "markdown",
   "id": "bb431d9a",
   "metadata": {},
   "source": [
    "In this notebook we are going to create a complete **database** for our FloodAdapt model in Charleston, USA. \n",
    "To do so we use the in FloodAdapt integrated **Database builder**, which allows for a quick and easy database creation!\n",
    "We presume that you have already created a functioning [**Delft-FIAT**](https://github.com/Deltares/Delft-FIAT) and [**SFINCS model**](https://github.com/Deltares/SFINCS) and we\"ll go from there. \n"
   ]
  },
  {
   "cell_type": "markdown",
   "id": "97ce53f4",
   "metadata": {},
   "source": [
    "## **Step 0**: Import packages"
   ]
  },
  {
   "cell_type": "code",
   "execution_count": null,
   "id": "92656339",
   "metadata": {},
   "outputs": [],
   "source": [
    "# Import packages\n",
    "import geopandas as gpd\n",
    "import matplotlib.pyplot as plt\n",
    "import os\n",
    "from pathlib import Path\n",
    "from shapely.geometry import Polygon\n",
    "import toml\n",
    "\n",
    "import flood_adapt.adapter.fiat_adapter as fiat\n",
    "import flood_adapt.database_builder.database_builder as db\n",
    "from flood_adapt.objects.forcing.tide_gauge import TideGaugeSource\n",
    "from flood_adapt.objects.forcing.timeseries import Scstype\n",
    "from flood_adapt import unit_system as us\n",
    "%matplotlib inline"
   ]
  },
  {
   "cell_type": "markdown",
   "id": "9349eb11",
   "metadata": {},
   "source": [
    "## **Step 1**: Explore the Delft-FIAT model"
   ]
  },
  {
   "cell_type": "markdown",
   "id": "617bf3b3",
   "metadata": {},
   "source": [
    "The study area is in **Charleston, USA**, a coastal city on the East Coast of the United States. \n",
    "So, let\"s first inspect the exposure data in the **Delft-FIAT model** to get an understanding of our study area.  \n",
    "\n",
    "We initiate the **FiatAdapter** in FloodAdapt with the model root of the Delft-FIAT model and explore the exposure data in the map."
   ]
  },
  {
   "cell_type": "code",
   "execution_count": null,
   "id": "aa7c1830",
   "metadata": {},
   "outputs": [],
   "source": [
    "# Initiate the FiatAdapter class from FloodAdapt and plot the Fiat model. \n",
    "# Set up the settings for the database\n",
    "root = Path(\"../../_data/examples\").resolve()\n",
    "fn_fiat = Path(root / \"fiat\") \n",
    "fa = fiat.FiatAdapter(\n",
    "    model_root =  fn_fiat\n",
    "    )\n",
    "\n",
    "# Get the geodataframe with exposure data\n",
    "gdf = fa._model.exposure.get_full_gdf(fa._model.exposure.exposure_db)\n",
    "\n",
    "# Plot the region and the secondary_object_types of the exposure data\n",
    "m = gdf.explore(column=\"secondary_object_type\", name=\"Exposure types\")\n",
    "m"
   ]
  },
  {
   "cell_type": "markdown",
   "id": "e2750e9d",
   "metadata": {},
   "source": [
    "## **Step 2**: Database Builder Configuration - Build a **simple** FloodAdapt model"
   ]
  },
  {
   "cell_type": "markdown",
   "id": "19dc1ac9",
   "metadata": {},
   "source": [
    "The database builder needs simply a **configuration file** as **input** to create the database. The configuration file is a simple text file and can be created manually. In the next steps we will show you how you can create this configuration file. \n",
    "So, now that we got an understanding of our study area and our exposure data we are ready to build our base **configuration file** for the **DatabaseBuilder**!\n",
    "\n",
    "The configuration file consists of:\n",
    "1. **Basic model parameters** to create a simple FloodAdapt database.\n",
    "2. **Advance model parameters** to create a more complex FloodAdapt database.\n",
    "\n",
    "In this step we will look at the basic model parameters.  \n",
    "- `name`: The name of the database to be created\n",
    "- `database_path`: The path where to save the database (if not provided, a database folder will be created at the location of this condig file)\n",
    "- `sfincs_overland`: A dictinary of the overland sfincs model with the entries: file path, reference system (eg. \"MSL\") \n",
    "- `fiat`: The  path to the FIAT model\n",
    "- `unit_system`: metric or imperial  \n",
    "* *[gui]* The values below define the GUI variables. They are used as the maximum values to scale the mapbox layers. Same units as in the models should be used. You can adjust the values, so that they are sensible with respect to your data.\n",
    "- `max_flood_depth`= The maximum flood depth value (m,ft)\n",
    "- `max_aggr_dmg` = The maximum aggregation damage\n",
    "- `max_footprint_dmg`= The maximum footprint damage\n",
    "- `max_benefits` = The maximum benefits\n",
    "\n",
    "You can either create the configuration file manually with a dictionary or use the integrated classes in FloodAdapt for a more streamlined approach. \n",
    "We show you both options below."
   ]
  },
  {
   "cell_type": "markdown",
   "id": "4bc3afd0",
   "metadata": {},
   "source": [
    "### **Step 2a**: Create a configuration file from the Database Builder classes"
   ]
  },
  {
   "cell_type": "markdown",
   "id": "fa85c9ac",
   "metadata": {},
   "source": [
    "**Important!**  \n",
    "The water level reference should be set to the reference of your DEM. You can create a reference system manually as shown below or fetch this information from a close-by tide gauge. This will be shown in the more advanced options. "
   ]
  },
  {
   "cell_type": "code",
   "execution_count": null,
   "id": "c220e596",
   "metadata": {},
   "outputs": [],
   "source": [
    "config_model = db.ConfigModel(\n",
    "    name=\"charleston_example3\",\n",
    "    database_path= str((root /\"output\"/\"Database\").absolute()),\n",
    "    unit_system= db.UnitSystems.imperial,\n",
    "    gui=db.GuiConfigModel(\n",
    "        max_flood_depth=5,\n",
    "        max_aggr_dmg=1e6,\n",
    "        max_footprint_dmg=250000,\n",
    "        max_benefits=5e6,\n",
    "    ),\n",
    "    sfincs_overland=db.FloodModel(\n",
    "        name=str((root / \"sfincs\").absolute()),\n",
    "        reference=\"MSL\",\n",
    "    ),\n",
    "    fiat=str((root / \"fiat\").absolute()),\n",
    ")"
   ]
  },
  {
   "cell_type": "markdown",
   "id": "48e32de2",
   "metadata": {},
   "source": [
    "### **Step 2b**: Create a configuration file from a dictionary"
   ]
  },
  {
   "cell_type": "code",
   "execution_count": null,
   "id": "b905e34c",
   "metadata": {},
   "outputs": [],
   "source": [
    "# Create the configuration file for the database builder for a simple FloodAdapt database. \n",
    "\n",
    "# all paths should be provided with forward slashes (/)\n",
    "config = {\n",
    "\"name\": \"charleston_example1\",\n",
    "\"database_path\": \"Database\",\n",
    "\"sfincs_overland\" : { \n",
    "    \"name\":\"sfincs\",\n",
    "    \"reference\":\"MSL\"\n",
    "    },\n",
    "\"fiat\" : \"fiat\",\n",
    "\"unit_system\" :\"imperial\",\n",
    "\"gui\": {\n",
    "\"max_flood_depth\": 5,\n",
    "\"max_aggr_dmg\" : 10000000,\n",
    "\"max_footprint_dmg\": 250000,\n",
    "\"max_benefits\" : 50000000}\n",
    "}\n",
    "\n",
    "# Save the configuration file\n",
    "with open(root /\"database_builder\"/\"db_config.toml\", \"w\") as f:\n",
    "    toml.dump(config, f)"
   ]
  },
  {
   "cell_type": "markdown",
   "id": "c9912620",
   "metadata": {},
   "source": [
    "## **Step 2c**: Run the Database Builder"
   ]
  },
  {
   "cell_type": "markdown",
   "id": "ed6f119f",
   "metadata": {},
   "source": [
    "We are ready to run the Database Builder with the configuration that we just created above. First we are going to run **Option 2a** - in which we generated the configuration using the FloodAdapt classes. After we are going to run **Option 2b** - in which we manually created a configuration file from a dictionary. "
   ]
  },
  {
   "cell_type": "code",
   "execution_count": null,
   "id": "05988d0d",
   "metadata": {},
   "outputs": [],
   "source": [
    "# Run Option 2a -  DB-builder config from FloodAdapt classes\n",
    "db_build = db.DatabaseBuilder(config_model)\n",
    "db_build.build(overwrite= True)\n",
    "\n",
    "# Run Option 2b -  DB-builder config from dictionary\n",
    "config_path = root / \"output\" / \"db_config.toml\"\n",
    "config = db.ConfigModel.read(config_path)\n",
    "dbs = db.DatabaseBuilder(config)\n",
    "dbs.build(overwrite = True)"
   ]
  },
  {
   "cell_type": "markdown",
   "id": "f6b348a2",
   "metadata": {},
   "source": [
    "Now you created a complete FloodAdapt Database. You can open the databases in the GUI and explore them further. "
   ]
  },
  {
   "cell_type": "markdown",
   "id": "220a152a",
   "metadata": {},
   "source": [
    "<div>\n",
    "<img src=\"../_static/images/example_chaleston1.png\" width=\"900\"/>\n",
    "</div>"
   ]
  },
  {
   "cell_type": "markdown",
   "id": "9f78f9c2",
   "metadata": {},
   "source": [
    "## **Step 3**: Database Builder Configuration - Build an **advanced** FloodAdapt model"
   ]
  },
  {
   "cell_type": "markdown",
   "id": "5684ec6a",
   "metadata": {},
   "source": [
    "In the previous step we created a simple FloodAdapt model. In this ex step we look at the more advanced configurations and will create a comprehensive FloodAdapt model. \n",
    "\n",
    "The configuration file consists of:\n",
    "1. **Basic model parameters** to create a simple FloodAdapt database.\n",
    "2. **Advance model parameters** to create a more complex FloodAdapt database.\n",
    "\n",
    "Additionally, to the basic model parameters (see step 2), you have the option for the following additions to create a more complex model:  \n",
    "- `probabilistic_set`: The file path to a probabilistic dataset\n",
    "- `infographics`: Include infographics in output. Boolean Tue/ False\n",
    "- `return_periods`: A list of return periods. Integers or Floats\n",
    "\n",
    "*Sfincs*\n",
    "\n",
    "- `sfincs_offshore`:  A dictinary of the offshore sfincs model with the entries: file path, reference system (eg. \"MSL\") \n",
    "- `dem`: A dictinary of DEM with the entries: file path, units\n",
    "- `excluded_datums`: A list of datums <span style=\"color:red;\">double check</span>\n",
    "- `scs`: A dictinary of the SCS (Soil Conservation Service) rainfall with the entries: file path, scs type\n",
    "- `tide_gauge`: A dictinary of tide gauges with the entries: source, max_distance(dict: values, units)\n",
    "- `cyclones`: Boolean (True/False)\n",
    "- `cyclone_basin`:  <span style=\"color:red;\">double check</span>\n",
    "- `obs_point`: A list of dictionaries with the entries: name, description, lat, lon\n",
    "\n",
    "*FIAT*\n",
    "\n",
    "- `aggregation_areas`: A list of dictionaries with the entries: name, file path, field_name. Aggregates the exposure into larger spatial groups o summarize impacts on larger scale. \n",
    "- `building_footprints`:  <span style=\"color:red;\">double check</span>\n",
    "- `fiat_buildings_name`: The name of the exposure type for buildings. Default is set to **\"buildings\"**\n",
    "- `fiat_roads_name`:  The name of the exposure type for roads. Default is set to **\"roads\"**\n",
    "- `bfe`: The base flood elevation model. A list of dictionaries with the entries: name, file path, field_name.\n",
    "- `svi`: The social vulnerability index. A dictionary with the entries: file path, field_name, threshold\n",
    "- `road_width`: The width of the road. Integer or Float\n",
    "\n",
    "*NOTE!* These parameers are **additional** to the basic parameters, so don\"t forge to add these to your configuration as well!"
   ]
  },
  {
   "cell_type": "markdown",
   "id": "608a12f7",
   "metadata": {},
   "source": [
    "### **Step 3a**: Create a configuration file from the Database Builder classes"
   ]
  },
  {
   "cell_type": "code",
   "execution_count": null,
   "id": "dfe5832f",
   "metadata": {},
   "outputs": [],
   "source": [
    "config_model = db.ConfigModel(\n",
    "    name=\"charleston_example_advanced1\",\n",
    "    database_path= str((root /\"database_buider\"/\"Database\").absolute()),\n",
    "    unit_system= db.UnitSystems.imperial,\n",
    "    gui=db.GuiConfigModel(\n",
    "        max_flood_depth=5,\n",
    "        max_aggr_dmg=1e6,\n",
    "        max_footprint_dmg=250000,\n",
    "        max_benefits=5e6,\n",
    "    ),\n",
    "    infographics=True,\n",
    "    probabilistic_set=str(Path(root /  \"databasebuilder\" / \"test_set\")), #TODO fix final path\n",
    "    return_periods=[1, 2, 5, 10, 25, 50, 100],\n",
    "    sfincs_overland=db.FloodModel(\n",
    "        name=str((root / \"sfincs\").absolute()),\n",
    "        reference=\"MSL\",\n",
    "    ),\n",
    "    sfincs_offshore=db.FloodModel(\n",
    "        name=str(Path(root / \"databasebuilder\" / \"offshore\")),  #TODO fix final path\n",
    "        reference=\"MSL\",\n",
    "        vertical_offset=us.UnitfulLength(\n",
    "            value=0.33, units=us.UnitTypesLength.feet\n",
    "        )),\n",
    "    dem=db.DemModel(\n",
    "        filename=str(Path(root / \"databasebuilder\" / \"charleston_14m.tif\")),  #TODO fix final path\n",
    "        units=us.UnitTypesLength.meters,\n",
    "    ),\n",
    "    excluded_datums=[\"NAVD88\"],\n",
    "    #references=db.WaterlevelReferenceModel(\n",
    "    #    reference=\"MSL\",\n",
    "    #    datums=[\n",
    "    #        db.DatumModel(name=\"MSL\", height=us.UnitfulLength(value=0, units=us.UnitTypesLength.meters)),\n",
    "    #        db.DatumModel(name=\"NAVD88\", height=us.UnitfulLength(value=1, units=us.UnitTypesLength.meters))\n",
    "    #    ]\n",
    "    #),\n",
    "    slr_scenarios=db.SlrScenariosModel(\n",
    "        file=str(Path(root / \"databasebuilder\" / \"slr.csv\")),\n",
    "        relative_to_year=2020,\n",
    "    ),\n",
    "    scs=db.SCSModel(\n",
    "        file=str(Path(root / \"databasebuilder\" / \"scs_rainfall.csv\")),\n",
    "        type=Scstype.type3,\n",
    "    ),\n",
    "    tide_gauge=db.TideGaugeConfigModel(\n",
    "        source=db.TideGaugeSource.noaa_coops,\n",
    "        max_distance=us.UnitfulLength(\n",
    "            value=100, units=us.UnitTypesLength.miles\n",
    "        ),\n",
    "    ),\n",
    "    cyclones=True,\n",
    "    cyclone_basin=db.Basins.NA,\n",
    "    obs_point=[\n",
    "        db.ObsPointModel(\n",
    "            name=\"ashley_river\",\n",
    "            description=\"Ashley River - James Island Expy\",\n",
    "            lat=32.7765,\n",
    "            lon=-79.9543,\n",
    "        ),\n",
    "        db.ObsPointModel(\n",
    "            name=8665530,\n",
    "            description=\"Charleston Cooper River Entrance\",\n",
    "            ID=8665530,\n",
    "            lat=32.78,\n",
    "            lon=-79.9233,\n",
    "        ),\n",
    "    ],\n",
    "    fiat=str((root / \"fiat\").absolute()),\n",
    "    #aggregation_areas=[\n",
    "    #db.SpatialJoinModel(\n",
    "    #    name=\"aggr_lvl_1\",\n",
    "    #    file=str(\n",
    "    #        r\"C:\\Users\\rautenba\\repos\\Database\\charleston_test\\static\\templates\\fiat\\aggregation_areas\\aggr_lvl_1.geojson\"\n",
    "    #    ),\n",
    "    #    field_name=\"name\",\n",
    "    #),\n",
    "    #db.SpatialJoinModel(\n",
    "    #    name=\"aggr_lvl_2\",\n",
    "    #    file=str(\n",
    "    #        r\"C:\\Users\\rautenba\\repos\\Database\\charleston_test\\static\\templates\\fiat\\aggregation_areas\\aggr_lvl_2.geojson\"\n",
    "    #    ),\n",
    "    #    field_name=\"name\",\n",
    "    #),\n",
    "#],\n",
    "    building_footprints=db.FootprintsOptions.OSM,\n",
    "    fiat_buildings_name=\"buildings\",\n",
    "    fiat_roads_name=\"roads\",\n",
    "    bfe=db.SpatialJoinModel(\n",
    "        file=str(r\"C:\\Users\\rautenba\\repos\\Database\\charleston_test\\static\\bfe\\bfe.geojson\"),\n",
    "        name=\"bfe\",\n",
    "        field_name=\"bfe\",\n",
    "    ),\n",
    "    svi=db.SviConfigModel(\n",
    "        file=str(r\"C:\\Users\\rautenba\\repos\\Database\\charleston_test\\static\\templates\\fiat\\svi\\CDC_svi_2020.gpkg\"),\n",
    "        field_name=\"SVI\",\n",
    "        threshold=0.5,\n",
    "    ),\n",
    "    road_width=5,\n",
    "    )"
   ]
  },
  {
   "cell_type": "markdown",
   "id": "f1a860c7",
   "metadata": {},
   "source": [
    "### **Step 3b**: Create a configuration file from a dictionary"
   ]
  },
  {
   "cell_type": "code",
   "execution_count": null,
   "id": "86d1a4b9",
   "metadata": {},
   "outputs": [],
   "source": [
    "# Create the configuration file for the database builder for a simple FloodAdapt database. \n",
    "\n",
    "# all paths should be provided with forward slashes (/)\n",
    "config = {\"name\": \"charleston_example_advanced2\",\n",
    " \"database_path\": r\"C:\\Users\\rautenba\\OneDrive - Stichting Deltares\\Documents\\Products\\I1000642-021_FloodAdapt\\Data_notebooks\\data\\nb1_database_builder\\output\\Database\",\n",
    " \"unit_system\": \"imperial\",\n",
    " \"gui\": {\"max_flood_depth\": 5.0,\n",
    "  \"max_aggr_dmg\": 1000000.0,\n",
    "  \"max_footprint_dmg\": 250000.0,\n",
    "  \"max_benefits\": 5000000.0},\n",
    " \"infographics\": True,\n",
    " \"fiat\": r\"C:\\Users\\rautenba\\OneDrive - Stichting Deltares\\Documents\\Products\\I1000642-021_FloodAdapt\\Data_notebooks\\data\\nb1_database_builder\\fiat\",\n",
    " #\"aggregation_areas\": [{\"name\": \"aggr_lvl_1\",\n",
    " #  \"file\": r\"C:\\Users\\rautenba\\repos\\Database\\charleston_test\\static\\templates\\fiat\\aggregation_areas\\aggr_lvl_1.geojson\",\n",
    " #  \"field_name\": \"name\"},\n",
    " # {\"name\": \"aggr_lvl_2\",\n",
    " #  \"file\": r\"C:\\Users\\rautenba\\repos\\Database\\charleston_test\\static\\templates\\fiat\\aggregation_areas\\aggr_lvl_2.geojson\",\n",
    " #  \"field_name\": \"name\"}],\n",
    " \"building_footprints\": \"OSM\",\n",
    " \"fiat_buildings_name\": \"buildings\",\n",
    " \"fiat_roads_name\": \"roads\",\n",
    " \"bfe\": {\"name\": \"bfe\",\n",
    "  \"file\": r\"C:\\Users\\rautenba\\repos\\Database\\charleston_test\\static\\bfe\\bfe.geojson\",\n",
    "  \"field_name\": \"bfe\"},\n",
    " \"svi\": {\"name\": None,\n",
    "  \"file\": r\"C:\\Users\\rautenba\\repos\\Database\\charleston_test\\static\\templates\\fiat\\svi\\CDC_svi_2020.gpkg\",\n",
    "  \"field_name\": \"SVI\",\n",
    "  \"threshold\": 0.5},\n",
    " \"road_width\": 5.0,\n",
    " \"return_periods\": [1, 2, 5, 10, 25, 50, 100],\n",
    " \"sfincs_overland\": {\"name\": r\"C:\\Users\\rautenba\\OneDrive - Stichting Deltares\\Documents\\Products\\I1000642-021_FloodAdapt\\Data_notebooks\\data\\nb1_database_builder\\sfincs\",\n",
    "  \"reference\": \"MSL\",\n",
    "  \"vertical_offset\": None},\n",
    " \"sfincs_offshore\": {\"name\": r\"C:\\Users\\rautenba\\repos\\Database\\charleston_test\\static\\templates\\offshore\",\n",
    "  \"reference\": \"MSL\",\n",
    "  \"vertical_offset\": {\"value\": 0.33, \"units\":\"feet\"}},\n",
    " \"dem\": {\"filename\": r\"C:\\Users\\rautenba\\repos\\Database\\charleston_test\\static\\dem\\charleston_14m.tif\",\n",
    "  \"units\": \"meters\"},\n",
    " \"excluded_datums\": [\"NAVD88\"],\n",
    " \"slr_scenarios\": {\"file\": r\"C:\\Users\\rautenba\\repos\\Database\\charleston_test\\static\\slr\\slr.csv\",\n",
    "  \"relative_to_year\": 2020},\n",
    " \"scs\": {\"file\": r\"C:\\Users\\rautenba\\repos\\Database\\charleston_test\\static\\scs\\scs_rainfall.csv\",\n",
    "  \"type\": \"type_3\"},\n",
    " \"tide_gauge\": {\"source\":\"noaa_coops\",\n",
    "  \"description\": \"\",\n",
    "  \"max_distance\": {\"value\": 100.0, \"units\": \"miles\"}},\n",
    " \"cyclones\": True,\n",
    " \"cyclone_basin\": \"NA\",\n",
    " \"obs_point\": [{\"name\": \"ashley_river\",\n",
    "   \"description\": \"Ashley River - James Island Expy\",\n",
    "   \"lat\": 32.7765,\n",
    "   \"lon\": -79.9543},\n",
    "  {\"name\": 8665530,\n",
    "   \"description\": \"Charleston Cooper River Entrance\",\n",
    "   \"ID\": 8665530,\n",
    "   \"lat\": 32.78,\n",
    "   \"lon\": -79.9233}],\n",
    " \"probabilistic_set\": r\"C:\\Users\\rautenba\\repos\\Database\\charleston_test\\input\\events\\test_set\"}\n",
    "\n",
    "# Save the configuration file\n",
    "with open(root /\"output\"/\"db_config_advanced.toml\", \"w\") as f:\n",
    "    toml.dump(config, f)"
   ]
  },
  {
   "cell_type": "markdown",
   "id": "06f7db67",
   "metadata": {},
   "source": [
    "## **Step 3c**: Run the Database Builder"
   ]
  },
  {
   "cell_type": "markdown",
   "id": "102d30e2",
   "metadata": {},
   "source": [
    "We are ready to run the Database Builder with the configuration that we just created above. First we are going to run **Option 3a** - in which we generated the configuration using the FloodAdapt classes. After we are going to run **Option 3b** - in which we manually created a configuration file from a dictionary. "
   ]
  },
  {
   "cell_type": "code",
   "execution_count": null,
   "id": "5b946f2a",
   "metadata": {},
   "outputs": [],
   "source": [
    "# Run Option 2a -  DB-builder config from FloodAdapt classes\n",
    "db_build = db.DatabaseBuilder(config_model)\n",
    "db_build.build(overwrite= True)\n",
    "\n",
    "# Run Option 2b -  DB-builder config from dictionary\n",
    "config_path = root / \"output\" / \"db_config_advanced.toml\"\n",
    "config = db.ConfigModel.read(config_path)\n",
    "dbs = db.DatabaseBuilder(config)\n",
    "dbs.build(overwrite = True)"
   ]
  },
  {
   "cell_type": "markdown",
   "id": "c34537b5",
   "metadata": {},
   "source": [
    "Now you created a complete and advanced FloodAdapt Database. You can open the databases in the GUI and explore them further. \n",
    "\n",
    "<div>\n",
    "<img src=\"../_static/images/example_chaleston2.png\" width=\"900\"/>\n",
    "</div>\n",
    "\n",
    "### **Finished!**"
   ]
  },
  {
   "cell_type": "markdown",
   "id": "5a52d87b",
   "metadata": {},
   "source": [
    "##### **Next steps**: Work with the database and build a scenario.\n",
    "\n",
    "To learn how to set up a whole scnearios work through the following notebooks:\n",
    "1. [Simple scenario](example1.ipynb)\n",
    "2. Events\n",
    "3. Projections\n",
    "4. Measures\n",
    "...\n",
    "..\n"
   ]
  }
 ],
 "metadata": {
  "kernelspec": {
   "display_name": "docs",
   "language": "python",
   "name": "python3"
  },
  "language_info": {
   "codemirror_mode": {
    "name": "ipython",
    "version": 3
   },
   "file_extension": ".py",
   "mimetype": "text/x-python",
   "name": "python",
   "nbconvert_exporter": "python",
   "pygments_lexer": "ipython3",
   "version": "3.11.12"
  }
 },
 "nbformat": 4,
 "nbformat_minor": 5
}
