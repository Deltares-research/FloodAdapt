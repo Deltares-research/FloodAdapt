{
 "cells": [
  {
   "cell_type": "markdown",
   "id": "f3eeb3b9",
   "metadata": {},
   "source": [
    "# **Simple Scenario Example - Charleston, USA**"
   ]
  },
  {
   "cell_type": "markdown",
   "id": "b578e99e",
   "metadata": {},
   "source": [
    "In this notebook we demonstrate the **workflow** on how you can build a simple **FloodAdapt scenario** in Charleston, USA, using the **API**.  \n",
    "\n",
    "We prepared a database, which you can download from [**here**](link.com). If you worked with the [**Database-Builder notebook**](database_builder.ipynb) beforehand, you can use that database.\n"
   ]
  },
  {
   "cell_type": "markdown",
   "id": "fe7ea5e1",
   "metadata": {
    "vscode": {
     "languageId": "plaintext"
    }
   },
   "source": [
    "In this notebook we will cover the following steps:\n",
    "\n",
    "1. Create a synthetic **event** \n",
    "2. Create a **projection** - Sea level rise (SLR)\n",
    "3. Create a **measure** and **strategy** - Seawall\n",
    "4. Create and run a **scenario**\n",
    "6. Investigate the **output**\n"
   ]
  },
  {
   "cell_type": "markdown",
   "id": "1f84cb9c",
   "metadata": {
    "vscode": {
     "languageId": "plaintext"
    }
   },
   "source": [
    "## **Step 0**: 📘Import packages"
   ]
  },
  {
   "cell_type": "code",
   "execution_count": 1,
   "id": "9bc26c43",
   "metadata": {},
   "outputs": [],
   "source": [
    "# Import packages\n",
    "import contextily as cx\n",
    "from datetime import datetime\n",
    "import geopandas as gpd\n",
    "from pathlib import Path\n",
    "import rasterio\n",
    "import rasterio.plot\n",
    "\n",
    "from flood_adapt.config.sfincs import RiverModel\n",
    "from flood_adapt.dbs_classes.database import Database\n",
    "from flood_adapt.objects.events.synthetic import SyntheticEvent \n",
    "from flood_adapt.objects.forcing.discharge import DischargeConstant\n",
    "from flood_adapt.objects.forcing.forcing import ForcingType\n",
    "from flood_adapt.flood_adapt import FloodAdapt\n",
    "from flood_adapt.objects.forcing.forcing import (\n",
    "    ForcingSource,\n",
    "    ForcingType,)\n",
    "from flood_adapt.objects.forcing.rainfall import RainfallConstant\n",
    "from flood_adapt.objects.forcing.time_frame import (\n",
    "    TimeFrame,\n",
    ")\n",
    "from flood_adapt.objects.forcing.timeseries import (\n",
    "    ShapeType,\n",
    "    TimeseriesFactory,\n",
    ")\n",
    "from flood_adapt.objects.forcing.waterlevels import (\n",
    "    SurgeModel,\n",
    "    TideModel,\n",
    "    WaterlevelSynthetic,\n",
    ")\n",
    "from flood_adapt.objects.forcing.wind import WindConstant\n",
    "from flood_adapt.objects.measures.measures import (\n",
    "    Elevate,\n",
    "    FloodWall,\n",
    "    Measure,\n",
    "    MeasureType,\n",
    "    SelectionType,\n",
    "    HazardMeasure\n",
    ")\n",
    "from flood_adapt.objects.projections.projections import Projection, PhysicalProjection, SocioEconomicChange\n",
    "from flood_adapt.objects.scenarios.scenarios import Scenario\n",
    "from flood_adapt import Settings\n",
    "from flood_adapt.objects.strategies.strategies import Strategy\n",
    "from flood_adapt import unit_system as us"
   ]
  },
  {
   "cell_type": "markdown",
   "id": "c18aaad0",
   "metadata": {},
   "source": [
    "## **Step 1**: 🚀 Getting started - Initiate the database"
   ]
  },
  {
   "cell_type": "markdown",
   "id": "6e0fbef4",
   "metadata": {},
   "source": [
    "Let's start with initiating the database and `FloodAdapt` class. \n",
    "1. Initiate the database **\"Settings\"-class** by defining the **database root** and **name**\n",
    "2. Initiate the **FloodAdapt instance** by parsing the Settings().database_path"
   ]
  },
  {
   "cell_type": "code",
   "execution_count": 2,
   "id": "385634d0",
   "metadata": {},
   "outputs": [],
   "source": [
    "# Set up the settings for the database\n",
    "Settings(\n",
    "    DATABASE_ROOT=Path(\"../_data/examples\").resolve(),\n",
    "    DATABASE_NAME=\"charleston_test\"\n",
    ")\n",
    "\n",
    "# Create the FloodAdapt instance\n",
    "fa = FloodAdapt(Settings().database_path)"
   ]
  },
  {
   "cell_type": "markdown",
   "id": "eb6d41b3",
   "metadata": {},
   "source": [
    "## **Step 2**: 🌊 Events - Create a synthetic Event"
   ]
  },
  {
   "cell_type": "markdown",
   "id": "d0ff7ec2",
   "metadata": {},
   "source": [
    "Events in FloodAdapt are categorized into different forcings:\n",
    "1. **Wind**\n",
    "2. **Rainfall**\n",
    "3. **Discharge**\n",
    "4. **Water Level**\n",
    "\n",
    "If you want to learn more about the individual forcings in FloodAdapt, please go and read the section on [**Events**](https://deltares-research.github.io/FloodAdapt/4_user_guide/events/) in the FloodAdapt documentation.\n",
    "\n",
    "When creating an event we need to create an `Event` object with the following inputs:\n",
    "- `name`: The name of the event\n",
    "- `description` (optional): The description of the event\n",
    "- `time`: An object that captures the start_time and end_time\n",
    "- `forcings`: A dictionary the collects the objects for each forcing. \n",
    "    In this event example we will create an event with the following forcings:\n",
    "    - `WindConstant`: Define a value for a constant wind speed (mps) and direction (degrees)\n",
    "    - `RainfallConstant`: Define a value for a constant rainfall (mm/hr)\n",
    "    - `DischargeConstant`: Define the x and y coordinates of the discharge point of the Cooper River and a value for a constant mean discharge (cfs) in the River- and Discharge model (same value)\n",
    "    - `WaterlevelSynthetic SurgeModel`: Define a peak time (h), peak value in (m) and duration (d)\n",
    "    - `WaterlevelSynthetic TideModel`: Define the harmonic amplitude (m), harmonic period (h) and harmonic phase (h) \n",
    "\n",
    "For a complete guide on all the possible event inputs and options check out the notebook [**eventblablab**](nolink)."
   ]
  },
  {
   "cell_type": "code",
   "execution_count": 3,
   "id": "24ff3fbd",
   "metadata": {},
   "outputs": [],
   "source": [
    "# Create a synthetic event object\n",
    "attrs_event = SyntheticEvent(\n",
    "        name=\"synthetic_nearshore\",\n",
    "        description = \"This is a synthetic nearshore event\",\n",
    "        time=TimeFrame(\n",
    "            start_time=datetime(2020, 1, 1),\n",
    "            end_time=datetime(2020, 1, 2),\n",
    "        ),\n",
    "        forcings={\n",
    "            ForcingType.WIND: [\n",
    "                WindConstant(\n",
    "                    speed=us.UnitfulVelocity(value=5, units=us.UnitTypesVelocity.mps),\n",
    "                    direction=us.UnitfulDirection(\n",
    "                        value=60, units=us.UnitTypesDirection.degrees\n",
    "                    ),\n",
    "                )\n",
    "            ],\n",
    "            ForcingType.RAINFALL: [\n",
    "                RainfallConstant(\n",
    "                    intensity=us.UnitfulIntensity(\n",
    "                        value=20, units=us.UnitTypesIntensity.mm_hr\n",
    "                    )\n",
    "                )\n",
    "            ],\n",
    "            ForcingType.DISCHARGE: [\n",
    "                DischargeConstant(\n",
    "                    river=RiverModel(\n",
    "                        name=\"cooper\",\n",
    "                        description=\"Cooper River\",\n",
    "                        x_coordinate=595546.3,\n",
    "                        y_coordinate=3675590.6,\n",
    "                        mean_discharge=us.UnitfulDischarge(\n",
    "                            value=5000, units=us.UnitTypesDischarge.cfs\n",
    "                        ),\n",
    "                    ),\n",
    "                    discharge=us.UnitfulDischarge(\n",
    "                        value=5000, units=us.UnitTypesDischarge.cfs\n",
    "                    ),\n",
    "                )\n",
    "            ],\n",
    "            ForcingType.WATERLEVEL: [\n",
    "                WaterlevelSynthetic(\n",
    "                    surge=SurgeModel(\n",
    "                        timeseries=TimeseriesFactory.from_args(\n",
    "                            shape_type=ShapeType.triangle,\n",
    "                            duration=us.UnitfulTime(\n",
    "                                value=1, units=us.UnitTypesTime.days\n",
    "                            ),\n",
    "                            peak_time=us.UnitfulTime(\n",
    "                                value=8, units=us.UnitTypesTime.hours\n",
    "                            ),\n",
    "                            peak_value=us.UnitfulLength(\n",
    "                                value=1, units=us.UnitTypesLength.meters\n",
    "                            ),\n",
    "                        )\n",
    "                    ),\n",
    "                    tide=TideModel(\n",
    "                        harmonic_amplitude=us.UnitfulLength(\n",
    "                            value=1, units=us.UnitTypesLength.meters\n",
    "                        ),\n",
    "                        harmonic_period=us.UnitfulTime(\n",
    "                            value=12.4, units=us.UnitTypesTime.hours\n",
    "                        ),\n",
    "                        harmonic_phase=us.UnitfulTime(\n",
    "                            value=0, units=us.UnitTypesTime.hours\n",
    "                        ),\n",
    "                    ),\n",
    "                )\n",
    "            ],\n",
    "        },\n",
    "    )"
   ]
  },
  {
   "cell_type": "markdown",
   "id": "efafa7ba",
   "metadata": {},
   "source": [
    "#### You created your first event object!\n",
    "💾 After creating the `Event` object, we can use the API to **create** and **save** the event in the database. \n",
    "\n",
    "*Note! An event can only be created <u>once</u> under a specific name and won't be overwritten, if you try to save another event under the same name.* "
   ]
  },
  {
   "cell_type": "code",
   "execution_count": 4,
   "id": "1c3cf036",
   "metadata": {},
   "outputs": [],
   "source": [
    "# Create the event\n",
    "fa.create_event(attrs_event.model_dump(exclude_none=True))\n",
    "\n",
    "# Save the event to the database\n",
    "fa.save_event(attrs_event)"
   ]
  },
  {
   "cell_type": "markdown",
   "id": "d957ab90",
   "metadata": {},
   "source": [
    "## **Step 3**: 📈 Projections - Create a projection"
   ]
  },
  {
   "cell_type": "markdown",
   "id": "2b05001f",
   "metadata": {},
   "source": [
    "**Projections** in FloodAdapt allow us to adjust our model to future conditions such as sea level rise or/and population growth. If you want to learn more about projections in FlooAdapt please go to the section [\"Projections\"](https://deltares-research.github.io/FloodAdapt/4_user_guide/projections/) in the FloodAdapt documentation. \n",
    "\n",
    "In this example we will create a sea level rise (SLR) projection of 2ft.  \n",
    "The projections can be divided into two categories:\n",
    "1. **Physical Projections**: Sea level rise, intensified precipitation, increased storm frequency\n",
    "2. **Socio economic change**: Population growth (existing built area, new development area), economic growth\n",
    "\n",
    "When creating a projection we need to create a `Projection` object with the following inputs:\n",
    "- `name`: The name of the projection\n",
    "- `description` (optional): The description of the projection\n",
    "- `PhysicalProjection`: An object that captures the pysical projection.\n",
    "    In this example we will create the following physical projections:\n",
    "    - Sea level rise: Define the value of the `sea_level_rise` and the unit (m, ft)\n",
    "    - Subsidence: Define the value of the `subsidence` and the unit (m,ft)\n",
    "- `SocioEconomicChange`: An object that captures the socio economic change.\n",
    "    In this example we will create the following socio economic projections:\n",
    "    - None: Leave the object empty\n",
    "\n",
    "To get a deeper understanding for all the possible projections and their inputs go to the notebook [**projectionblablab**](nolink).\n"
   ]
  },
  {
   "cell_type": "code",
   "execution_count": 5,
   "id": "69258cb1",
   "metadata": {},
   "outputs": [],
   "source": [
    "# Create a projection object\n",
    "attrs_projection = Projection(\n",
    "    name=\"SLR_2ft\",\n",
    "    description = \"This is a 2ft SLR projection\",\n",
    "    physical_projection=PhysicalProjection(\n",
    "        sea_level_rise=us.UnitfulLength(value=2, units=us.UnitTypesLength.feet),\n",
    "        subsidence=us.UnitfulLength(value=1, units=us.UnitTypesLength.feet),\n",
    "    ),\n",
    "    socio_economic_change=SocioEconomicChange(),\n",
    ")"
   ]
  },
  {
   "cell_type": "markdown",
   "id": "67d52add",
   "metadata": {},
   "source": [
    "#### You created your first projection object!\n",
    "💾 After creating the `Projection` object, we can use the API to **create** and **save** the projection in the database. \n",
    "\n",
    "*Note! A projection can only be created <u>once</u> under a specific name and won't be overwritten, if you try to save another projection under the same name.* "
   ]
  },
  {
   "cell_type": "code",
   "execution_count": 6,
   "id": "d1ebc6a8",
   "metadata": {},
   "outputs": [],
   "source": [
    "# Create the projection\n",
    "fa.create_projection(attrs_projection.model_dump(exclude_none=True))\n",
    "\n",
    "# Save the projection\n",
    "fa.save_projection(attrs_projection)"
   ]
  },
  {
   "cell_type": "markdown",
   "id": "b27ba1f7",
   "metadata": {},
   "source": [
    "## **Step 4**: 🧱 Measures - Create a measure"
   ]
  },
  {
   "cell_type": "markdown",
   "id": "7b8aa165",
   "metadata": {},
   "source": [
    "**Measures** in FloodAdapt enable the user to investigate the efficiency of these mitigation measures on the spot. Measures can be hydraulic, green infrastructure or be on the building level. You can read more about measures in the section [\"Measures\"](https://deltares-research.github.io/FloodAdapt/4_user_guide/measures/) in the FloodAdapt documentation. \n",
    "\n",
    "In this example we will create a **hydraulic measure**, a sea wall of 12ft.  \n",
    "When creating a sea wall as measure we need to create a `Measure` object with the following inputs:\n",
    "- `name`: The name of the measure\n",
    "- `description` (optional): The description of the measure\n",
    "- `type`: The type of the measure. In this example a floodwall object. \n",
    "- `selection type`: The type of shape. In this example we define a polyline for the shape of the seawall \n",
    "- `polygon file`: The file path to the spatial file of the seawall\n",
    "- `elevation`: The elevation of the sea wall. Define a value and the unit (ft,m)\n"
   ]
  },
  {
   "cell_type": "code",
   "execution_count": 7,
   "id": "7411c10a",
   "metadata": {},
   "outputs": [],
   "source": [
    "# Create a measure object\n",
    "attrs_measure_phy = FloodWall(\n",
    "        name= \"Seawall_12ft\",\n",
    "        description = \"12ft Seawall\",\n",
    "        type = MeasureType.floodwall,\n",
    "        selection_type = SelectionType.polyline,\n",
    "        polygon_file = str(r\"C:\\Users\\rautenba\\repos\\Database\\charleston_full\\input\\measures\\seawall\\seawall.geojson\"),\n",
    "        elevation = us.UnitfulLength(value=12, units=us.UnitTypesLength.feet))"
   ]
  },
  {
   "cell_type": "markdown",
   "id": "bba33b31",
   "metadata": {},
   "source": [
    "#### You created your first measure object!\n",
    "💾 After creating the **measure object**, we can use the API to **create** and **save** the measure in the database. \n",
    "\n",
    "*Note! A measure can only be created <u>once</u> under a specific name and won't be overwritten, if you try to save another measure under the same name.* "
   ]
  },
  {
   "cell_type": "code",
   "execution_count": 8,
   "id": "9c7df41d",
   "metadata": {},
   "outputs": [
    {
     "ename": "ValueError",
     "evalue": "'Seawall_12ft' name is already used by another measure. Choose a different name",
     "output_type": "error",
     "traceback": [
      "\u001b[31m---------------------------------------------------------------------------\u001b[39m",
      "\u001b[31mValueError\u001b[39m                                Traceback (most recent call last)",
      "\u001b[36mCell\u001b[39m\u001b[36m \u001b[39m\u001b[32mIn[8]\u001b[39m\u001b[32m, line 5\u001b[39m\n\u001b[32m      2\u001b[39m fa.create_measure(attrs_measure_phy.model_dump(exclude_none=\u001b[38;5;28;01mTrue\u001b[39;00m), \u001b[38;5;28mtype\u001b[39m=attrs_measure_phy.type)\n\u001b[32m      4\u001b[39m \u001b[38;5;66;03m# Save the measure\u001b[39;00m\n\u001b[32m----> \u001b[39m\u001b[32m5\u001b[39m \u001b[43mfa\u001b[49m\u001b[43m.\u001b[49m\u001b[43msave_measure\u001b[49m\u001b[43m(\u001b[49m\u001b[43mattrs_measure_phy\u001b[49m\u001b[43m)\u001b[49m\n",
      "\u001b[36mFile \u001b[39m\u001b[32m~\\repos\\FloodAdapt\\flood_adapt\\flood_adapt.py:137\u001b[39m, in \u001b[36mFloodAdapt.save_measure\u001b[39m\u001b[34m(self, measure, overwrite)\u001b[39m\n\u001b[32m    124\u001b[39m \u001b[38;5;28;01mdef\u001b[39;00m\u001b[38;5;250m \u001b[39m\u001b[34msave_measure\u001b[39m(\u001b[38;5;28mself\u001b[39m, measure: Measure, overwrite: \u001b[38;5;28mbool\u001b[39m = \u001b[38;5;28;01mFalse\u001b[39;00m) -> \u001b[38;5;28;01mNone\u001b[39;00m:\n\u001b[32m    125\u001b[39m \u001b[38;5;250m    \u001b[39m\u001b[33;03m\"\"\"Save a measure object to the database.\u001b[39;00m\n\u001b[32m    126\u001b[39m \n\u001b[32m    127\u001b[39m \u001b[33;03m    Parameters\u001b[39;00m\n\u001b[32m   (...)\u001b[39m\u001b[32m    135\u001b[39m \u001b[33;03m        If the measure object is not valid.\u001b[39;00m\n\u001b[32m    136\u001b[39m \u001b[33;03m    \"\"\"\u001b[39;00m\n\u001b[32m--> \u001b[39m\u001b[32m137\u001b[39m     \u001b[38;5;28;43mself\u001b[39;49m\u001b[43m.\u001b[49m\u001b[43mdatabase\u001b[49m\u001b[43m.\u001b[49m\u001b[43mmeasures\u001b[49m\u001b[43m.\u001b[49m\u001b[43msave\u001b[49m\u001b[43m(\u001b[49m\u001b[43mmeasure\u001b[49m\u001b[43m,\u001b[49m\u001b[43m \u001b[49m\u001b[43moverwrite\u001b[49m\u001b[43m=\u001b[49m\u001b[43moverwrite\u001b[49m\u001b[43m)\u001b[49m\n",
      "\u001b[36mFile \u001b[39m\u001b[32m~\\repos\\FloodAdapt\\flood_adapt\\dbs_classes\\dbs_template.py:133\u001b[39m, in \u001b[36mDbsTemplate.save\u001b[39m\u001b[34m(self, object_model, overwrite)\u001b[39m\n\u001b[32m    111\u001b[39m \u001b[38;5;28;01mdef\u001b[39;00m\u001b[38;5;250m \u001b[39m\u001b[34msave\u001b[39m(\n\u001b[32m    112\u001b[39m     \u001b[38;5;28mself\u001b[39m,\n\u001b[32m    113\u001b[39m     object_model: T_OBJECTMODEL,\n\u001b[32m    114\u001b[39m     overwrite: \u001b[38;5;28mbool\u001b[39m = \u001b[38;5;28;01mFalse\u001b[39;00m,\n\u001b[32m    115\u001b[39m ):\n\u001b[32m    116\u001b[39m \u001b[38;5;250m    \u001b[39m\u001b[33;03m\"\"\"Save an object in the database and all associated files.\u001b[39;00m\n\u001b[32m    117\u001b[39m \n\u001b[32m    118\u001b[39m \u001b[33;03m    This saves the toml file and any additional files attached to the object.\u001b[39;00m\n\u001b[32m   (...)\u001b[39m\u001b[32m    131\u001b[39m \u001b[33;03m        Raise error if name is already in use.\u001b[39;00m\n\u001b[32m    132\u001b[39m \u001b[33;03m    \"\"\"\u001b[39;00m\n\u001b[32m--> \u001b[39m\u001b[32m133\u001b[39m     \u001b[38;5;28;43mself\u001b[39;49m\u001b[43m.\u001b[49m\u001b[43m_validate_to_save\u001b[49m\u001b[43m(\u001b[49m\u001b[43mobject_model\u001b[49m\u001b[43m,\u001b[49m\u001b[43m \u001b[49m\u001b[43moverwrite\u001b[49m\u001b[43m=\u001b[49m\u001b[43moverwrite\u001b[49m\u001b[43m)\u001b[49m\n\u001b[32m    135\u001b[39m     \u001b[38;5;66;03m# If the folder doesnt exist yet, make the folder and save the object\u001b[39;00m\n\u001b[32m    136\u001b[39m     \u001b[38;5;28;01mif\u001b[39;00m \u001b[38;5;129;01mnot\u001b[39;00m (\u001b[38;5;28mself\u001b[39m.input_path / object_model.name).exists():\n",
      "\u001b[36mFile \u001b[39m\u001b[32m~\\repos\\FloodAdapt\\flood_adapt\\dbs_classes\\dbs_template.py:295\u001b[39m, in \u001b[36mDbsTemplate._validate_to_save\u001b[39m\u001b[34m(self, object_model, overwrite)\u001b[39m\n\u001b[32m    293\u001b[39m     \u001b[38;5;28mself\u001b[39m.delete(object_model.name, toml_only=\u001b[38;5;28;01mTrue\u001b[39;00m)\n\u001b[32m    294\u001b[39m \u001b[38;5;28;01melif\u001b[39;00m \u001b[38;5;129;01mnot\u001b[39;00m overwrite \u001b[38;5;129;01mand\u001b[39;00m object_exists:\n\u001b[32m--> \u001b[39m\u001b[32m295\u001b[39m     \u001b[38;5;28;01mraise\u001b[39;00m \u001b[38;5;167;01mValueError\u001b[39;00m(\n\u001b[32m    296\u001b[39m         \u001b[33mf\u001b[39m\u001b[33m\"\u001b[39m\u001b[33m'\u001b[39m\u001b[38;5;132;01m{\u001b[39;00mobject_model.name\u001b[38;5;132;01m}\u001b[39;00m\u001b[33m'\u001b[39m\u001b[33m name is already used by another \u001b[39m\u001b[38;5;132;01m{\u001b[39;00m\u001b[38;5;28mself\u001b[39m.display_name.lower()\u001b[38;5;132;01m}\u001b[39;00m\u001b[33m. Choose a different name\u001b[39m\u001b[33m\"\u001b[39m\n\u001b[32m    297\u001b[39m     )\n",
      "\u001b[31mValueError\u001b[39m: 'Seawall_12ft' name is already used by another measure. Choose a different name"
     ]
    }
   ],
   "source": [
    "# Create the measure\n",
    "fa.create_measure(attrs_measure_phy.model_dump(exclude_none=True), type=attrs_measure_phy.type)\n",
    "\n",
    "# Save the measure\n",
    "fa.save_measure(attrs_measure_phy)"
   ]
  },
  {
   "cell_type": "markdown",
   "id": "8c108a00",
   "metadata": {},
   "source": [
    "Let's add another measure on the **building level**. We can elevate buildings in a specific area to mititgate the impact on these assets.\n",
    "\n",
    "When elevating biuldings as measure we need to create a `Measure` object with the following inputs:\n",
    "- `name`: The name of the measure\n",
    "- `description` (optional): The description of the measure\n",
    "- `type`: The type of the measure. In this example an Elevate object. \n",
    "- `selection type`: The type of shape. In this example we define a polygone for selecting the area of affected buildings \n",
    "- `polygon file`: The file path to the spatial file of the to be elevated area\n",
    "- `property type`: The type of building that sholud be elevated. Define the building type (residnetial, commercial...) of your Fiat Model you wish to elevate. In this example we want to elevate all buildings.\n",
    "- `elevation`: The elevation of the buildings. Define a value, the unit (ft,m) and the vertical reference for the elevation (datum, floodmap). "
   ]
  },
  {
   "cell_type": "code",
   "execution_count": null,
   "id": "4f905d6a",
   "metadata": {},
   "outputs": [],
   "source": [
    "# Create a measure object\n",
    "attrs_measure_elev = Elevate(\n",
    "        name= \"Elevated_homes\",\n",
    "        description = \"Elevate residential buildings\",\n",
    "        type = MeasureType.elevate_properties,\n",
    "        selection_type = SelectionType.polygon,\n",
    "        polygon_file = str(r\"C:\\Users\\rautenba\\repos\\Database\\charleston_full\\input\\measures\\raise_property_polygon\\raise_property_polygon.geojson\"),\n",
    "        property_type = \"ALL\",\n",
    "        elevation = us.UnitfulLengthRefValue(value=1, units=us.UnitTypesLength.feet, type = us.VerticalReference.floodmap))\n",
    "\n",
    "# Create the measure\n",
    "fa.create_measure(attrs_measure_elev.model_dump(exclude_none=True), type=attrs_measure_elev.type)\n",
    "\n",
    "# Save the measure\n",
    "fa.save_measure(attrs_measure_elev)"
   ]
  },
  {
   "cell_type": "markdown",
   "id": "bf3065e2",
   "metadata": {},
   "source": [
    "## **Step 5**: 🧩 Strategies - Create a strategy"
   ]
  },
  {
   "cell_type": "markdown",
   "id": "070e7fc4",
   "metadata": {},
   "source": [
    "**Strategies** in FloodAdapt are a combination of measures. When we compile multiple measures in a strategy, we first have to create all te measures we would like to use. Find out more about strategies in the section [\"Strategies\"](https://deltares-research.github.io/FloodAdapt/4_user_guide/strategy/) in the FloodAdapt documentation. \n",
    "\n",
    "In this example we will create a strategy with the measures we created above, a **sea wall** of 12ft and **elevating homes** 1ft above the floodmap reference in a specific area.  \n",
    "When creating a strategy we need to create a `Strategy` object with the following inputs:\n",
    "- `name`: The name of the strategy\n",
    "- `description` (optional): The description of the strategy\n",
    "- `measures`: A list of all the measure object names, you would like to use in that strategy. "
   ]
  },
  {
   "cell_type": "code",
   "execution_count": null,
   "id": "d5610082",
   "metadata": {},
   "outputs": [],
   "source": [
    "# Create a strategy object\n",
    "attrs_strategy = Strategy(\n",
    "        name= \"seawall_and_elev_build\",\n",
    "        description = \"Strategy with a seawall and elevation of buildings\",\n",
    "        measures = [attrs_measure_phy.name, attrs_measure_elev.name],\n",
    "        )"
   ]
  },
  {
   "cell_type": "markdown",
   "id": "9c0252b6",
   "metadata": {},
   "source": [
    "#### You created your first strategy object!\n",
    "💾 After creating the **strategy object**, we can use the API to **create** and **save** the strategy in the database. \n",
    "\n",
    "*Note! A strategy can only be created <u>once</u> under a specific name and won't be overwritten, if you try to save another strategy under the same name.* "
   ]
  },
  {
   "cell_type": "code",
   "execution_count": null,
   "id": "ca770396",
   "metadata": {},
   "outputs": [],
   "source": [
    "# Create the stategy\n",
    "fa.create_strategy(attrs_strategy .model_dump(exclude_none=True))\n",
    "\n",
    "# Save the stategy\n",
    "fa.save_strategy(attrs_strategy )"
   ]
  },
  {
   "cell_type": "markdown",
   "id": "5d60e313",
   "metadata": {},
   "source": [
    "## **Step 6**:🗺️ Create a scenario"
   ]
  },
  {
   "cell_type": "markdown",
   "id": "beeb7271",
   "metadata": {},
   "source": [
    "We reached the final step where we can put all the building blocks together to create a complete scenario!  \n",
    "A scenario is composed of:\n",
    "\n",
    "**1. Event**  \n",
    "**2. Projection**  \n",
    "**3. Strategy (Measures)**\n",
    "\n",
    "If you want to read more about the composition of scenarios, go read the [**Scenario**](https://deltares-research.github.io/FloodAdapt/4_user_guide/scenarios/)-section of the FloodAdapt documentation. \n",
    "\n",
    "In this example we will create a scenario with the event, projection and strategy we created above. \n",
    "When creating a scenario we need to create a `Scenario` object with the following inputs:\n",
    "- `name`: The name of the strategy\n",
    "- `description` (optional): The description of the scenario\n",
    "- `event`: The name of the event object \n",
    "- `projection`: The name of the projection object \n",
    "- `strategy`: The name of the strategy object "
   ]
  },
  {
   "cell_type": "code",
   "execution_count": null,
   "id": "95185c51",
   "metadata": {},
   "outputs": [],
   "source": [
    "# Create a scenario object\n",
    "scenario = Scenario(\n",
    "    name = \"slr_nearshore_seawall_elev_build\",\n",
    "    description = \"Nearshore event with SLR projection and seawall + elevated buildings strategy\",\n",
    "    event =  attrs_event.name,\n",
    "    projection =  attrs_projection.name,\n",
    "    strategy = attrs_strategy.name,\n",
    ")"
   ]
  },
  {
   "cell_type": "markdown",
   "id": "246a04f1",
   "metadata": {},
   "source": [
    "#### You created your first scenario object!\n",
    "💾 After creating the **scenario object**, we can use the API to **create** and **save** the scenario in the database. \n",
    "\n",
    "*Note! A scenario can only be created <u>once</u> under a specific name and won't be overwritten, if you try to save another scenario under the same name.* "
   ]
  },
  {
   "cell_type": "code",
   "execution_count": null,
   "id": "87bd548b",
   "metadata": {},
   "outputs": [],
   "source": [
    "# Create the scenario\n",
    "fa.create_scenario(scenario.model_dump())\n",
    "\n",
    "# Save the scenario\n",
    "fa.save_scenario(scenario)"
   ]
  },
  {
   "cell_type": "markdown",
   "id": "42855768",
   "metadata": {},
   "source": [
    "## **Final step**: Run a scenario\n",
    "\n",
    "We are ready to **run** the scenario! Simply use the **API** to run the scenario."
   ]
  },
  {
   "cell_type": "code",
   "execution_count": null,
   "id": "bb161703",
   "metadata": {},
   "outputs": [],
   "source": [
    "# Run the scenario\n",
    "fa.run_scenario(scenario.name)"
   ]
  },
  {
   "cell_type": "markdown",
   "id": "58e07e77",
   "metadata": {},
   "source": [
    "### **Finished!** \n",
    "**Congratulations** you created and ran your first FloodAdapt scenario!"
   ]
  },
  {
   "cell_type": "markdown",
   "id": "68089740",
   "metadata": {},
   "source": [
    "## **Output**: Let's inspect the output"
   ]
  },
  {
   "cell_type": "markdown",
   "id": "0d4797ef",
   "metadata": {},
   "source": [
    "#### 1. Output files\n",
    "In your scenario output folder you should see the following files:\n",
    "- **Flooding**: Folder\n",
    "- **Impacts**: Folder\n",
    "- **finished.txt**: text file\n",
    "- **Infometrics_\"*scenario_name*\".csv**: csv file of the overall infometrics\n",
    "- **Infometrics_\"*scenario_name*\"_\"*aggregation_layer*\".csv**: csv file  of the aggregated areas. You have one file per aggregation level. In this example we have two files. \n",
    "- **logfile_\"*scenario_name*\".log**: The log of the scenario run\n",
    "- **\"*scenario_name*\"_metrics.html**: A metric file of your scenario output\n",
    "\n",
    "The figure below presents a visual overview of all the output files that should be in your database after running the scenario\n",
    "<div>\n",
    "<img src=\"../_static/images/output_folder_event.png\" width=\"500\"/>\n",
    "</div>"
   ]
  },
  {
   "cell_type": "markdown",
   "id": "7a5c8fb6",
   "metadata": {},
   "source": [
    "#### **2. Floodmap** - Inspect the floodmap\n",
    "\n",
    "We can open and inspect the floodmap geotiff."
   ]
  },
  {
   "cell_type": "code",
   "execution_count": null,
   "id": "e80f229e",
   "metadata": {},
   "outputs": [],
   "source": [
    "root = Path(\"../_data/examples/charleston_test\").resolve()\n",
    "\n",
    "# Open floodmap geotiff\n",
    "data_name = root / \"output\"/ \"scenarios\" / \"slr_nearshore_seawall_elev_build\" / \"Flooding\" / \"FloodMap_slr_nearshore_seawall_elev_build.tif\"\n",
    "tiff = rasterio.open(data_name)\n",
    "\n",
    "# Plot floodmap\n",
    "rasterio.plot.show(tiff, title = \"Floodmap nearshore scenario with 2ft SLR, seawall & elevated buildings\", cmap=\"Blues\")"
   ]
  },
  {
   "cell_type": "markdown",
   "id": "f2af65c5",
   "metadata": {},
   "source": [
    "#### **3. Economic Impacts** - Inspect the economic impacts on the building level and aggregated\n",
    "\n",
    "We can plot the economic impacts on the building level and on the aggregated level."
   ]
  },
  {
   "cell_type": "code",
   "execution_count": null,
   "id": "bdee59e4",
   "metadata": {},
   "outputs": [],
   "source": [
    "## Building Impacts\n",
    "# Open building impacts\n",
    "gdf_impacts_buildings = gpd.read_file(root / \"output\" / \"scenarios\" / \"slr_nearshore_seawall_elev_build\" / \"Impacts\" / \"Impacts_building_footprints_slr_nearshore_seawall_elev_build.gpkg\")\n",
    "\n",
    "# Reproject buildings crs to Web Mercator\n",
    "gdf_impacts_buildings =gdf_impacts_buildings.to_crs(epsg=3857)\n",
    "\n",
    "# Plot building impacts\n",
    "ax = gdf_impacts_buildings.plot(figsize=(10, 10),column = \"Total Damage\",cmap=\"Reds\", legend = True, vmin= 0, vmax= 60000, legend_kwds={\"label\": \"Total Damages ($) Buildings\",\"orientation\": \"horizontal\"})\n",
    "cx.add_basemap(ax)\n",
    "ax.plot()\n",
    "\n",
    "## Aggregated Impacts\n",
    "# Open aggregated impacts\n",
    "gdf_impacts_aggr = gpd.read_file(root / \"output\" / \"scenarios\" / \"slr_nearshore_seawall_elev_build\" / \"Impacts\" / \"Impacts_aggregated_slr_nearshore_seawall_elev_build_aggr_lvl_2.gpkg\")\n",
    "\n",
    "# Reproject buildings crs to Web Mercator\n",
    "gdf_impacts_aggr = gdf_impacts_aggr.to_crs(epsg=3857)\n",
    "# Plot aggregated impacts\n",
    "ax = gdf_impacts_aggr.plot(figsize=(10, 10),column = \"TotalDamageEvent\",cmap=\"Reds\", legend = True, vmin= 0, vmax= 10000000, edgecolor=\"k\", legend_kwds={\"label\": \"Total Damages ($) per aggregatetion area\", \"orientation\": \"horizontal\"})\n",
    "cx.add_basemap(ax)\n",
    "ax.plot()"
   ]
  },
  {
   "cell_type": "markdown",
   "id": "97486347",
   "metadata": {},
   "source": [
    "#### 4. Infometrics & Infographics\n",
    "Which **infometrics** and **infographics** to generate can be defined in the infometrics andd infographics and configuration file in your database */Database/charleston_full/static/templates/infometrics/\"\"*, */Database/charleston_full/static/templates/infographics/\"\".toml*, respectively.\n",
    "\n",
    "The figure below shows the infographics of the scenario we created above. \n",
    "<div>\n",
    "<img src=\"../_static/images/example_chaleston3.png\" width=\"600\"/>\n",
    "</div>"
   ]
  }
 ],
 "metadata": {
  "kernelspec": {
   "display_name": "docs",
   "language": "python",
   "name": "python3"
  },
  "language_info": {
   "codemirror_mode": {
    "name": "ipython",
    "version": 3
   },
   "file_extension": ".py",
   "mimetype": "text/x-python",
   "name": "python",
   "nbconvert_exporter": "python",
   "pygments_lexer": "ipython3",
   "version": "3.11.12"
  }
 },
 "nbformat": 4,
 "nbformat_minor": 5
}
