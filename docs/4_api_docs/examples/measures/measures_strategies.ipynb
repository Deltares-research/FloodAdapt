{
 "cells": [
  {
   "cell_type": "markdown",
   "id": "0",
   "metadata": {},
   "source": [
    "# 📘 Example: Measures and Strategies"
   ]
  },
  {
   "cell_type": "markdown",
   "id": "1",
   "metadata": {},
   "source": [
    "In this notebook we will show you all the different options and inputs for creating different measures and how to create a strategy from the different measures. \n",
    "\n",
    "**Measures** in FloodAdapt can be categorized into **two** different categories, which we will cover all in this notebook:\n",
    "\n",
    "**1. Hazard** - Mitigate the hazard directly\n",
    "\n",
    "- Floodwall\n",
    "- Pump\n",
    "- Green Infrastructure\n",
    "\n",
    "**2. Impact**  - Mitiage the impacts of the hazard on the assets\n",
    "\n",
    "- Elevate properties \n",
    "- Buyout Properties\n",
    "- Floodproof Properties\n",
    "\n",
    "**Strategies** consist of multiple measures combined for example: ***StrategyXYZ* = *Floodwall + Elevated Homes + Pumps***\n",
    "\n",
    "If you want to learn in more detail about measures and what a strategy is, please read the sections on [**Measures**](../../../2_user_guide/strategy/index.qmd)  in the FloodAdapt GUI documentation."
   ]
  },
  {
   "cell_type": "markdown",
   "id": "2",
   "metadata": {},
   "source": [
    "## Import libraries"
   ]
  },
  {
   "cell_type": "code",
   "execution_count": null,
   "id": "3",
   "metadata": {},
   "outputs": [],
   "source": [
    "import pandas as pd\n",
    "import geopandas as gpd\n",
    "from pathlib import Path\n",
    "\n",
    "from flood_adapt import FloodAdapt, Settings\n",
    "from flood_adapt.objects import (\n",
    "    FloodProof, FloodWall, Elevate, GreenInfrastructure, Buyout, Pump, Strategy, MeasureType, SelectionType\n",
    ")\n",
    "from flood_adapt import unit_system as us"
   ]
  },
  {
   "cell_type": "markdown",
   "id": "4",
   "metadata": {},
   "source": [
    "## 🚀 **Step 1**. Reading-in the FloodAdapt database"
   ]
  },
  {
   "cell_type": "markdown",
   "id": "5",
   "metadata": {},
   "source": [
    "Let's start with initiating the database and FloodAdapt class. \n",
    "1. Initiate the database class [`Settings`](../../api_ref/Settings.qmd) by defining the `DATABASE_ROOT` and `DATABASE_NAME`.\n",
    "2. Initiate the [`FloodAdapt`](../../api_ref/FloodAdapt.qmd) class by parsing the `Settings().database_path`."
   ]
  },
  {
   "cell_type": "code",
   "execution_count": null,
   "id": "6",
   "metadata": {},
   "outputs": [],
   "source": [
    "# Define the static data folder\n",
    "STATIC_DATA_DIR = Path(\"../../_data/examples/static-data/3_Measures\").resolve()\n",
    "\n",
    "# Set up the settings for the database\n",
    "settings=Settings(\n",
    "    DATABASE_ROOT=Path(\"../../_data/examples\").resolve(),\n",
    "    DATABASE_NAME=\"charleston_test\"\n",
    ")\n",
    "\n",
    "# Create the FloodAdapt instance\n",
    "fa = FloodAdapt(settings.database_path)"
   ]
  },
  {
   "cell_type": "markdown",
   "id": "7",
   "metadata": {},
   "source": [
    "## 🌧️ **Step 2**. Create Hazard Measures\n",
    "We can divide the hazard measures into: \n",
    "1. **Hydraulic** (grey) measures -  structures such as levees, pumps, seawalls that protect infrastructure and residents\n",
    "2. **Green infrastructure** measures - integrate natural elements like parks, green roofs, and permeable pavements into city\n",
    "\n",
    "To create a hazard measure in Floodadapt we need to create a [`Measure`](../../api_ref/Measure.qmd) object. Depending on the type of measure different attributes must be parsed. \n",
    "There are **three** types of hazard measures:\n",
    "1. [**Floodwall**](../../api_ref/objects/FloodWall.qmd)\n",
    "2. [**Pump**](../../api_ref/objects/Pump.qmd)\n",
    "3. [**Green Infrastructure**](../../api_ref/objects/GreenInfrastructure.qmd)\n",
    "    The green infrastructure class can be divided into **sub-categories**:  \n",
    "    - Greening \n",
    "    - Total storage\n",
    "    - Water square\n",
    "\n",
    "Below we will create a `Measure` object for each of the three **hazard measure**."
   ]
  },
  {
   "cell_type": "markdown",
   "id": "8",
   "metadata": {},
   "source": [
    "### 🧱🌊 **Floodwall**\n",
    "When we create a [`floodwall`](../../api_ref/objects/FloodWall.qmd) object we need to specify the `elevation` attribute to capture the height of the floodwall. To define the `elevation` we need to parse a [`UnitfulLength`]() object which consists of a `value` of type float and a `unit` which can be one of the [`UnitTypesLength`](../../api_ref/UnitTypesLength.qmd). The `selection_type` describes the spatial type. This should be of `SelectionType.polyline` for a floodwall. "
   ]
  },
  {
   "cell_type": "code",
   "execution_count": null,
   "id": "9",
   "metadata": {},
   "outputs": [],
   "source": [
    "# Create a measure object for a Floodwall\n",
    "floodwall = FloodWall(\n",
    "    name=\"seawall_12ft\",\n",
    "    description=\"12ft Seawall\",\n",
    "    selection_type=SelectionType.polyline,\n",
    "    polygon_file=str(STATIC_DATA_DIR / \"seawall.geojson\"),\n",
    "    elevation=us.UnitfulLength(value=12, units=us.UnitTypesLength.feet)\n",
    ")"
   ]
  },
  {
   "cell_type": "markdown",
   "id": "10",
   "metadata": {},
   "source": [
    "### ⛽💦 **Pump**\n",
    "When we create a [`pump`](../../api_ref/objects/Pump.qmd) object we need to specify the `discharge` attribute to capture the total river discharge in the model. To define the `discharge` we need to parse a [`UnitfulLength`](../../api_ref/UnitfulLength.qmd) object which consists of a `value` of type float and a `unit` which can be one of the [`UnitTypesLength`](../../api_ref/UnitTypesLength.qmd). The `selection_type` describes the spatial type. This should be of `SelectionType.polygon` for a pump. "
   ]
  },
  {
   "cell_type": "code",
   "execution_count": null,
   "id": "11",
   "metadata": {},
   "outputs": [],
   "source": [
    "# Create a measure object for a Pump\n",
    "pump = Pump(\n",
    "    name= \"Pump\",\n",
    "    description=\"Pump\",\n",
    "    selection_type=SelectionType.polygon,\n",
    "    polygon_file=str(STATIC_DATA_DIR / \"pump.geojson\"),\n",
    "    discharge=us.UnitfulDischarge(value=1, units=us.UnitTypesDischarge.cfs)\n",
    ")"
   ]
  },
  {
   "cell_type": "markdown",
   "id": "12",
   "metadata": {},
   "source": [
    "### 🌱🖼️ **Green infrastructure**\n",
    "When we create a [`green infrastructure`](../../api_ref/objects/GreenInfrastructure.qmd) object we need to specify the `volume` attribute to capture the total storage of the green infrastructure. o define the `volume` we need to parse a [`UnitfulVolume`]() object which consists of a `value` of type float and a `unit` which can be one of the [`UnitTypesVolume`](../../api_ref/UnitTypesVolume.qmd). The `selection_type` describes the spatial type. This should be of `SelectionType.polygon` or `SelectionType.aggregation_area` for a green infrastructure. Other attributes like `height` and `percentage` are optional.  \n",
    "\n",
    "> **Note:** `GreenInfraStructure` is the only measure for which it is required to pass the specific `type` (or `sub-category` as described above) to create the object, all other measures have the correct default. "
   ]
  },
  {
   "cell_type": "code",
   "execution_count": null,
   "id": "13",
   "metadata": {},
   "outputs": [],
   "source": [
    "# Create a measure object for Green infrastructure\n",
    "greening = GreenInfrastructure(\n",
    "    name= \"green_infrastructure_storage\",\n",
    "    description=\"Storage through green infrastructure\",\n",
    "    type=MeasureType.greening,\n",
    "    selection_type=SelectionType.polygon,\n",
    "    polygon_file=str(STATIC_DATA_DIR / \"greening.geojson\"),\n",
    "    volume=us.UnitfulVolume(value=43975190.31512848, units=us.UnitTypesVolume.cf),\n",
    "    height=us.UnitfulHeight(value=3, units=us.UnitTypesLength.feet),\n",
    "    percent_area=100.0\n",
    ")\n",
    "\n",
    "total_storage = GreenInfrastructure(\n",
    "    name=  \"total_storage_aggregation_area\",\n",
    "    description=\"Total Storage through green infrastructure in aggr area\",\n",
    "    type=MeasureType.total_storage,\n",
    "    selection_type=SelectionType.aggregation_area,\n",
    "    aggregation_area_type=\"aggr_lvl_2\",\n",
    "    aggregation_area_name=\"name5\",\n",
    "    volume=us.UnitfulVolume(value=100000000.0, units=us.UnitTypesVolume.cf),\n",
    ")\n",
    "\n",
    "water_square = GreenInfrastructure(\n",
    "    name=\"w_square\",\n",
    "    description=\"Water Square\",\n",
    "    type=MeasureType.water_square,\n",
    "    selection_type=SelectionType.polygon,\n",
    "    polygon_file=str(STATIC_DATA_DIR / \"water_square.geojson\"),\n",
    "    volume=us.UnitfulVolume(value=43975190.31512848, units=us.UnitTypesVolume.cf),\n",
    "    height=us.UnitfulHeight(value=3, units=us.UnitTypesLength.feet)\n",
    ")  "
   ]
  },
  {
   "cell_type": "markdown",
   "id": "14",
   "metadata": {},
   "source": [
    "Let's have a look at some of the measures. We can for example explore the floodwall. If you want to explore another measure, update the `measure` variable in the cell below and re-run it."
   ]
  },
  {
   "cell_type": "code",
   "execution_count": null,
   "id": "15",
   "metadata": {},
   "outputs": [],
   "source": [
    "measure = floodwall # or `pump` or `greening` or `total_storage` or `water_square`\n",
    "gdf = gpd.read_file(measure.polygon_file)\n",
    "gdf.explore()"
   ]
  },
  {
   "cell_type": "markdown",
   "id": "16",
   "metadata": {},
   "source": [
    "## 💾 **Step 3**. Saving the hazard measures to the database"
   ]
  },
  {
   "cell_type": "code",
   "execution_count": null,
   "id": "17",
   "metadata": {},
   "outputs": [],
   "source": [
    "# # Save the measures to the database\n",
    "fa.save_measure(floodwall)\n",
    "fa.save_measure(pump)\n",
    "fa.save_measure(greening)\n",
    "fa.save_measure(total_storage)\n",
    "fa.save_measure(water_square)"
   ]
  },
  {
   "cell_type": "markdown",
   "id": "18",
   "metadata": {},
   "source": [
    "## 🏠 **Step 4:** Create Impact Measures\n",
    "To create a impact measure in Floodadapt we need to create a [`Measure`](../../api_ref/Measure.qmd) object. In the attributes we define which type of measure we want to apply using the `type` attribute. Depending on the type of measure different attributes must be parsed. \n",
    "There are **three** types of impact measures:\n",
    "1. [**Elevate**](../../api_ref/objects/Elevate.qmd)\n",
    "2. [**Buy out**](../../api_ref/objects/BuyOut.qmd)\n",
    "3. [**Floodproof**](../../api_ref/objects/FloodProof.qmd)\n",
    "\n",
    "We can apply measures to a specific building occupancy by defining the occupancy in the `property_type` attribute. For example, if we only want to buyout **residential** homes we can parse the building type of the residential buildings here. Make sure you parse the same string-value as you use in your Delft-FIAT model to describe that type of building. \n",
    "\n",
    "If we want to apply the measure only in a specific aggregation area, we can define this with the `aggregation_area_type`, which describes the  name of the aggregation area category, and the `aggregation_area_name`, which responds to the name of the specific aggregation area within the category.\n",
    "\n",
    "Below we will create a `Measure`-object for each **impact measure**."
   ]
  },
  {
   "cell_type": "markdown",
   "id": "19",
   "metadata": {},
   "source": [
    "### 🏠⬆️ **Elevate**\n",
    "When we create a [`Elevate`](../../api_ref/objects/Elevate.qmd) object we need to specify the `elevation` attribute to capture the height of the elevation. To define the `elevation` we need to parse a [`UnitfulLengthRefValue`]() object which consists of a `value` of type float, a `unit` which can be one of the [`UnitTypesLength`](../../api_ref/UnitTypesLength.qmd) and a vertical reference from which point the elevation should be calculated. This sholud be parsed as [`VerticalReference`]() object."
   ]
  },
  {
   "cell_type": "code",
   "execution_count": null,
   "id": "20",
   "metadata": {},
   "outputs": [],
   "source": [
    "# Create a measure object for elevating buildings\n",
    "elevate = Elevate(\n",
    "    name=\"elevate_homes_2ft\",\n",
    "    description=\"Elevate all residential buildings in aggregation area 1 by 2ft.\",\n",
    "    selection_type=SelectionType.polygon,\n",
    "    property_type=\"residential\",\n",
    "    polygon_file=str(STATIC_DATA_DIR / \"raise_property_polygon.geojson\"),\n",
    "    elevation=us.UnitfulLengthRefValue(value=2, units=us.UnitTypesLength.feet, type=us.VerticalReference.floodmap)\n",
    ")"
   ]
  },
  {
   "cell_type": "markdown",
   "id": "21",
   "metadata": {},
   "source": [
    "### 👥💰 **Buyout**\n",
    "When we create a [`Buyout`](../../api_ref/objects/BuyOut.qmd) object we need to specify the `property_type` and either provide a spatial file for the area boundaries or define the `aggregation_area_type` and `aggregation_area_name`."
   ]
  },
  {
   "cell_type": "code",
   "execution_count": null,
   "id": "22",
   "metadata": {},
   "outputs": [],
   "source": [
    "# Create a measure object for buying out buildings\n",
    "buyout = Buyout(\n",
    "    name= \"buyout_all_buildings\",\n",
    "    description=\"Buyout all buildings in a specific area.\",\n",
    "    selection_type=SelectionType.aggregation_area,\n",
    "    aggregation_area_type=\"aggr_lvl_2\",\n",
    "    aggregation_area_name=\"name5\",\n",
    "    property_type=\"ALL\",\n",
    ")"
   ]
  },
  {
   "cell_type": "markdown",
   "id": "23",
   "metadata": {},
   "source": [
    "### 🏠🌊 **Floodproof**\n",
    "When we create a [`FloodProof`](../../api_ref/objects/FloodProof.qmd) object we need to specify the `elevation` attribute to capture the height of the elevation. To define the `elevation` we need to parse a [`UnitfulLength`]() object which consists of a `value` of type float, a `unit` which can be one of the [`UnitTypesLength`](../../api_ref/UnitTypesLength.qmd)."
   ]
  },
  {
   "cell_type": "code",
   "execution_count": null,
   "id": "24",
   "metadata": {},
   "outputs": [],
   "source": [
    "# Create a measure object for flood proofing buildings\n",
    "flood_proof = FloodProof(\n",
    "    name=\"floodproof_all_com\",\n",
    "    description=\"Floodproofing all commercial buildings.\",\n",
    "    selection_type=SelectionType.all,\n",
    "    property_type=\"commercial\",\n",
    "    elevation=us.UnitfulLength(value=2, units=us.UnitTypesLength.feet)\n",
    ")"
   ]
  },
  {
   "cell_type": "markdown",
   "id": "25",
   "metadata": {},
   "source": [
    "Let's have a look at some of the measures. We can for example explore the area in which all buildings will be elevated."
   ]
  },
  {
   "cell_type": "code",
   "execution_count": null,
   "id": "26",
   "metadata": {},
   "outputs": [],
   "source": [
    "measure = elevate  # or `buyout` or `flood_proof`\n",
    "gdf = gpd.read_file(measure.polygon_file)\n",
    "gdf.explore()"
   ]
  },
  {
   "cell_type": "markdown",
   "id": "27",
   "metadata": {},
   "source": [
    "## 💾 **Step 5**. Saving the impact measures to the database"
   ]
  },
  {
   "cell_type": "code",
   "execution_count": null,
   "id": "28",
   "metadata": {},
   "outputs": [],
   "source": [
    "# Save the measures to the database\n",
    "fa.save_measure(elevate)\n",
    "fa.save_measure(buyout)\n",
    "fa.save_measure(flood_proof)"
   ]
  },
  {
   "cell_type": "markdown",
   "id": "29",
   "metadata": {},
   "source": [
    "Using the `get_measures()` method of the `FloodAdapt` class, we can check that the measures have been saved to the database."
   ]
  },
  {
   "cell_type": "code",
   "execution_count": null,
   "id": "30",
   "metadata": {},
   "outputs": [],
   "source": [
    "# Get a df with all strategies\n",
    "pd.DataFrame(fa.get_measures())"
   ]
  },
  {
   "cell_type": "markdown",
   "id": "31",
   "metadata": {},
   "source": [
    "## ✏️ **Step 6**: Copying and Editing a Measure in the database\n",
    "\n",
    "If we want to edit small parts of a measure, it is easier to copy an existing measure and edit the copy. This way we do not have to create a new measure from scratch.\n",
    "\n",
    "A measure can be copied in the database by using the `copy_measure()` method of the `FloodAdapt` class. This method takes three arguments: the name of the measure to be copied and the name and description of the new measure. Let's copy the measure we just created, having in mind that we want to make a measure for flood-proofing residential buildings."
   ]
  },
  {
   "cell_type": "code",
   "execution_count": null,
   "id": "32",
   "metadata": {},
   "outputs": [],
   "source": [
    "# Copy measure\n",
    "fa.copy_measure(\n",
    "    old_name=\"floodproof_all_com\",\n",
    "    new_name=\"floodproof_all_res\",\n",
    "    new_description=\"Floodproofing all residential buildings.\"\n",
    ")"
   ]
  },
  {
   "cell_type": "markdown",
   "id": "33",
   "metadata": {},
   "source": [
    "We can see that now a new measure with name \"floodproof_all_res\" has been created in the database. However, the actual attributes of the measure are still the same as the original measure. "
   ]
  },
  {
   "cell_type": "code",
   "execution_count": null,
   "id": "34",
   "metadata": {},
   "outputs": [],
   "source": [
    "# Inspect Measure\n",
    "floodproof_res = fa.get_measure(\"floodproof_all_res\")\n",
    "floodproof_res"
   ]
  },
  {
   "cell_type": "markdown",
   "id": "35",
   "metadata": {},
   "source": [
    "We can directly edit the relevant attributes of the measure object. In this case, we want to change the type to \"residential\"."
   ]
  },
  {
   "cell_type": "code",
   "execution_count": null,
   "id": "36",
   "metadata": {},
   "outputs": [],
   "source": [
    "# Edit attributes\n",
    "floodproof_res.property_type = \"residential\""
   ]
  },
  {
   "cell_type": "markdown",
   "id": "37",
   "metadata": {},
   "source": [
    "Then using the `save_measure()` method of the `FloodAdapt` class, we can save the changes to the database. This method takes a two arguments which are the `Measure` object and an optional boolean `overwrite`. The `name` field of the measure object provided will be used to identify which measure is going to be updated in the database, with the given Measure object attributes."
   ]
  },
  {
   "cell_type": "code",
   "execution_count": null,
   "id": "38",
   "metadata": {},
   "outputs": [],
   "source": [
    "# Save updates\n",
    "fa.save_measure(floodproof_res, overwrite=True)"
   ]
  },
  {
   "cell_type": "markdown",
   "id": "39",
   "metadata": {},
   "source": [
    "Now we can verify that the measure has been updated in the database. The property type is now \"residential\"."
   ]
  },
  {
   "cell_type": "code",
   "execution_count": null,
   "id": "40",
   "metadata": {},
   "outputs": [],
   "source": [
    "# Verify updates\n",
    "floodproof_res = fa.get_measure(\"floodproof_all_res\")\n",
    "floodproof_res.property_type"
   ]
  },
  {
   "cell_type": "markdown",
   "id": "41",
   "metadata": {},
   "source": [
    "## 🧩 **Step 6**. Create a Strategy\n",
    "**Strategies** are combinations **measures**. They allow us to run an test multiple measures in a single model run. \n",
    "\n",
    "To create a strategy we need to create a [`Strategy`](../../api_ref/Strategy.qmd) object. In the `measures` attribute we parse a list of all the names of the measures that we want to apply in that strategy.\n",
    "\n",
    "> **Note:** All measures of a strategy need to be saved in the database before you can save the strategy itself."
   ]
  },
  {
   "cell_type": "code",
   "execution_count": null,
   "id": "42",
   "metadata": {},
   "outputs": [],
   "source": [
    "# Create a strategy object\n",
    "strategy = Strategy(\n",
    "    name=\"pump_greening_flood_proof\",\n",
    "    description=\"Strategy with pump, greening and floodproofing\",\n",
    "    measures=[pump.name, greening.name, flood_proof.name],\n",
    ")\n",
    "\n",
    "# Save the strategy\n",
    "fa.save_strategy(strategy)"
   ]
  },
  {
   "cell_type": "markdown",
   "id": "43",
   "metadata": {},
   "source": [
    "Using the `get_strategies()` method of the `FloodAdapt` class, we can check that the strategies have been saved to the database."
   ]
  },
  {
   "cell_type": "code",
   "execution_count": null,
   "id": "44",
   "metadata": {},
   "outputs": [],
   "source": [
    "# Get a df with all strategies\n",
    "pd.DataFrame(fa.get_strategies())"
   ]
  },
  {
   "cell_type": "code",
   "execution_count": null,
   "id": "45",
   "metadata": {},
   "outputs": [],
   "source": [
    "# Inspect strategy\n",
    "strategy = fa.get_strategy(\"pump_greening_flood_proof\")\n",
    "strategy"
   ]
  },
  {
   "cell_type": "markdown",
   "id": "46",
   "metadata": {},
   "source": [
    "## ✏️ **Step 7**. Copying and Editing a Strategy in the database\n",
    "\n",
    "If we want to edit small parts of a strategy, it is easier to copy an existing strategy and edit the copy. This way we do not have to create a new strategy from scratch.\n",
    "\n",
    "A strategy can be copied in the database by using the `copy_strategy()` method of the `FloodAdapt` class. This method takes three arguments: the name of the strategy to be copied and the name and description of the new strategy. Let's copy the strategy we just created, having in mind that we want to remove the greening from the strategy and add a floodwall instead."
   ]
  },
  {
   "cell_type": "code",
   "execution_count": null,
   "id": "47",
   "metadata": {},
   "outputs": [],
   "source": [
    "# Copy strategy\n",
    "fa.copy_strategy(\n",
    "    old_name=\"pump_greening_flood_proof\", \n",
    "    new_name=\"pump_floodwall_flood_proof\", \n",
    "    new_description=\"Strategy with pump, flodwall and floodproofing.\",\n",
    ")"
   ]
  },
  {
   "cell_type": "markdown",
   "id": "48",
   "metadata": {},
   "source": [
    "We can see that now a new strategy with name \"pump_floodwall_flood_proof\" has been created in the database. However, the actual attributes of the strtaegy are still the same as the original srtategy. "
   ]
  },
  {
   "cell_type": "code",
   "execution_count": null,
   "id": "49",
   "metadata": {},
   "outputs": [],
   "source": [
    "# Inspect strategy2\n",
    "strategy_2 = fa.get_strategy(\"pump_floodwall_flood_proof\")\n",
    "strategy_2"
   ]
  },
  {
   "cell_type": "markdown",
   "id": "50",
   "metadata": {},
   "source": [
    "We can directly edit the relevant attributes of the measure object. In this case, we want to change the type to \"residential\"."
   ]
  },
  {
   "cell_type": "code",
   "execution_count": null,
   "id": "51",
   "metadata": {},
   "outputs": [],
   "source": [
    "strategy_2.measures.remove(greening.name)  # Remove greening\n",
    "strategy_2.measures.append(floodwall.name) # Add floodwall\n"
   ]
  },
  {
   "cell_type": "markdown",
   "id": "52",
   "metadata": {},
   "source": [
    "Then using the `save_strategy(name, overwrite=True)` method of the `FloodAdapt` class, we can save the changes to the database. This method takes a single argument which is a `Strategy` object. The `name` field of the Strategy object provided will be used to identify which strategy is going to be updated in the database, with the given Strategy object attributes."
   ]
  },
  {
   "cell_type": "code",
   "execution_count": null,
   "id": "53",
   "metadata": {},
   "outputs": [],
   "source": [
    "# Save updates\n",
    "fa.save_strategy(strategy_2, overwrite=True)"
   ]
  },
  {
   "cell_type": "markdown",
   "id": "54",
   "metadata": {},
   "source": [
    "Now we can verify that the strategy has been updated in the database."
   ]
  },
  {
   "cell_type": "code",
   "execution_count": null,
   "id": "55",
   "metadata": {},
   "outputs": [],
   "source": [
    "# Verify updates\n",
    "strategy_2 = fa.get_strategy(\"pump_floodwall_flood_proof\")\n",
    "strategy_2.measures"
   ]
  },
  {
   "cell_type": "markdown",
   "id": "56",
   "metadata": {},
   "source": [
    "## **Finished!** \n",
    "**Congratulations** you created all **measures** possible in FloodAdap and combined some of them into a **strategy**!"
   ]
  }
 ],
 "metadata": {
  "kernelspec": {
   "display_name": "docs",
   "language": "python",
   "name": "python3"
  },
  "language_info": {
   "codemirror_mode": {
    "name": "ipython",
    "version": 3
   },
   "file_extension": ".py",
   "mimetype": "text/x-python",
   "name": "python",
   "nbconvert_exporter": "python",
   "pygments_lexer": "ipython3",
   "version": "3.11.13"
  }
 },
 "nbformat": 4,
 "nbformat_minor": 5
}
