{
 "cells": [
  {
   "cell_type": "markdown",
   "id": "0",
   "metadata": {},
   "source": [
    "# 📘 Example: Creating a Historical Event in FloodAdapt\n",
    "\n",
    "This notebook demonstrates how to create a historical event using FloodAdapt. Historical events are valuable for validation, controlled testing, sensitivity analysis, and what-if scenarios based on historic events. \n",
    "\n",
    "A FloodAdapt Event consists of 2 things:\n",
    "\n",
    "- a TimeFrame describing the start and end time of the hazard simulation(s)\n",
    "- a collection of forcings to be applied to the hazard model(s)\n",
    "\n",
    "In this example, we construct a full historical event with water level, rainfall, wind, and river discharge forcings, and then save it to a FloodAdapt database."
   ]
  },
  {
   "cell_type": "markdown",
   "id": "1",
   "metadata": {},
   "source": [
    "## ⏱️ Step 1. Setup and Imports\n",
    "\n",
    "We begin by importing the required classes and modules for constructing forcings and managing event data within the flood_adapt framework."
   ]
  },
  {
   "cell_type": "code",
   "execution_count": null,
   "id": "2",
   "metadata": {},
   "outputs": [],
   "source": [
    "import flood_adapt.objects.forcing as f\n",
    "\n",
    "from pathlib import Path\n",
    "from datetime import datetime\n",
    "\n",
    "from flood_adapt.objects import HistoricalEvent, TimeFrame\n",
    "from flood_adapt import unit_system as us\n",
    "from flood_adapt import FloodAdapt, Settings\n",
    "\n",
    "# Setup FloodAdapt\n",
    "DATA_DIR = Path(\"../../../_data\").resolve()\n",
    "STATIC_DATA_DIR = Path(\"../../_data/examples/static-data\").resolve()\n",
    "settings = Settings(\n",
    "    DATABASE_ROOT=DATA_DIR / \"examples\",\n",
    "    DATABASE_NAME=\"charleston_test\"\n",
    ")\n",
    "fa = FloodAdapt(database_path=settings.database_path)"
   ]
  },
  {
   "cell_type": "markdown",
   "id": "3",
   "metadata": {},
   "source": [
    "## 🗓️ Step 2. Define the Simulation Time Frame\n",
    "\n",
    "We specify a one-day time frame for the historical event, from January 1 to January 2, 2025."
   ]
  },
  {
   "cell_type": "code",
   "execution_count": null,
   "id": "4",
   "metadata": {},
   "outputs": [],
   "source": [
    "# Create an time frame for the simulation\n",
    "start_time = datetime(year=2020, month=1, day=1)\n",
    "end_time = datetime(year=2020, month=1, day=2)\n",
    "time_frame = TimeFrame(start_time=start_time, end_time=end_time)"
   ]
  },
  {
   "cell_type": "markdown",
   "id": "5",
   "metadata": {},
   "source": [
    "## 🌊 Step 3. Define Water Level Forcing\n",
    "\n",
    "Historical water levels can be included in 3 few ways:\n",
    "\n",
    "- **Tide Gauge**: Measured water levels downloaded from [NOAA CO-OPS](https://tidesandcurrents.noaa.gov/stations.html?type=Water+Levels). The automated download is only available for stations in the US. Outside the US, water level records can be stored in the FloodAdapt database. This avoids having to import the csv for each event, see below.  \n",
    "- **CSV**: Custom water levels specified in a csv file (perhaps from a tide gauge not connected to the noaa_coops API)\n",
    "- **Model**: Generate the storm surge to be used for the overland simulation by running an offshore model. For historic events, this model uses weather re-analysis data (wind and pressure) from the [NOAA GFS model](https://www.ncei.noaa.gov/products/weather-climate-models/global-forecast). \n"
   ]
  },
  {
   "cell_type": "code",
   "execution_count": null,
   "id": "6",
   "metadata": {},
   "outputs": [],
   "source": [
    "# Recorded water levels from a CSV file\n",
    "csv_file = STATIC_DATA_DIR / \"tide.csv\"\n",
    "water_levels = f.WaterlevelCSV(path=csv_file)\n",
    "wl_df = water_levels.to_dataframe(time_frame=time_frame)\n",
    "\n",
    "# Alternative: Water levels downloaded from a tide gauge\n",
    "tide_gauge = fa.database.site.sfincs.tide_gauge\n",
    "df_tide_gauge = tide_gauge.get_waterlevels_in_time_frame(\n",
    "    time=time_frame,\n",
    ")\n",
    "water_levels_gauged = f.WaterlevelGauged()\n",
    "\n",
    "# Alternative: Water levels simulated by an offshore model\n",
    "water_levels_from_offshore = f.WaterlevelModel()\n",
    "\n",
    "# Inspect\n",
    "wl_df.plot(\n",
    "    title=\"Water Level from CSV\",\n",
    "    xlabel=\"Time\",\n",
    "    ylabel=\"Water Level (m)\",\n",
    "    legend=False,\n",
    "    figsize=(5, 2)\n",
    ")\n",
    "\n",
    "df_tide_gauge.plot(\n",
    "    title=\"Water Level from Tide Gauge\",\n",
    "    xlabel=\"Time\",\n",
    "    ylabel=\"Water Level (m)\",\n",
    "    legend=False,\n",
    "    figsize=(5, 2)\n",
    ")"
   ]
  },
  {
   "cell_type": "markdown",
   "id": "7",
   "metadata": {},
   "source": [
    "## 🧩 Step 4. Create a minimal event and modify it\n",
    "\n",
    "Given a `water level forcing`, and a `TimeFrame`, you can create the simplest possible event in FloodAdapt as shown below.\n",
    "\n",
    "In many cases, it is interesting to to investigate a combination of different forcings. In steps 5 - 9, we will show the creation of various forcings and how to add them to an event."
   ]
  },
  {
   "cell_type": "code",
   "execution_count": null,
   "id": "8",
   "metadata": {},
   "outputs": [],
   "source": [
    "simple_event = HistoricalEvent(\n",
    "    name=\"simple_event\",\n",
    "    time=time_frame,\n",
    "    forcings={\n",
    "        f.ForcingType.WATERLEVEL: [water_levels], \n",
    "        # or [water_levels_gauged], [water_levels_from_offshore]\n",
    "    }\n",
    ")"
   ]
  },
  {
   "cell_type": "markdown",
   "id": "9",
   "metadata": {},
   "source": [
    "## 🌧️ Step 5. Define Meteo Forcing\n",
    "\n",
    "Historic events have several options to define wind and rainfall, see also [Synthetic event](synthetic_event.ipynb). Additionally, FloodAdapt provides an easy connection to [NOAA GFS model re-analysis](https://www.ncei.noaa.gov/products/weather-climate-models/global-forecast) data for rainfall and wind that is automatically downloaded based on the event's 'TimeFrame'."
   ]
  },
  {
   "cell_type": "code",
   "execution_count": null,
   "id": "10",
   "metadata": {},
   "outputs": [],
   "source": [
    "meteo_dataset = f.MeteoHandler().read(time_frame)\n",
    "print(meteo_dataset) # TODO make sure the meteo files are already downloaded in the database to circumvent flaky noaa coops API calls"
   ]
  },
  {
   "cell_type": "markdown",
   "id": "11",
   "metadata": {},
   "source": [
    "### Visualizing Meteo data\n",
    "\n",
    "It can be difficult to visualize spatially varying timeseries data. So, below is a simple animation generator to do some basic data checks on the downloaded NOAA GFS data.\n",
    "\n",
    "Choose any of the available timeseries data variables and generate the animation."
   ]
  },
  {
   "cell_type": "code",
   "execution_count": null,
   "id": "12",
   "metadata": {},
   "outputs": [],
   "source": [
    "import matplotlib.pyplot as plt\n",
    "import matplotlib.animation as animation\n",
    "from IPython.display import HTML\n",
    "\n",
    "to_plot = 'press_msl' # available variables: 'wind10_u' or 'wind10_v' or 'press_msl' or 'precip'\n",
    "\n",
    "var = meteo_dataset[to_plot] \n",
    "fig, ax = plt.subplots()\n",
    "plot = var.isel(time=0).plot(ax=ax, cmap='viridis', add_colorbar=True)\n",
    "\n",
    "def update(frame):\n",
    "    ax.clear()\n",
    "    var.isel(time=frame).plot(ax=ax, cmap='viridis', add_colorbar=False)\n",
    "    ax.set_title(f'Time: {str(var.time[frame].values)}')\n",
    "\n",
    "ani = animation.FuncAnimation(fig, update, frames=len(var.time), interval=200)\n",
    "plt.close(fig)\n",
    "\n",
    "HTML(ani.to_jshtml()) # TODO look at hvplot or other options to display the animation"
   ]
  },
  {
   "cell_type": "markdown",
   "id": "13",
   "metadata": {},
   "source": [
    "## 🌬️ Step 6. Define Meteo Forcings\n",
    "\n",
    "To use the downloaded NOAA's GFS hindcast data in FloodAdapt, you need to create Meteo forcings and add them to your event.\n",
    "\n",
    "Under the hood, the meteo forcings use the MeteoHandler to download the data, and then return slices of that dataset."
   ]
  },
  {
   "cell_type": "code",
   "execution_count": null,
   "id": "14",
   "metadata": {},
   "outputs": [],
   "source": [
    "rainfall = f.RainfallMeteo()\n",
    "wind = f.WindMeteo()"
   ]
  },
  {
   "cell_type": "markdown",
   "id": "15",
   "metadata": {},
   "source": [
    "## 🏞️ Step 7. Define River Discharge Forcing\n",
    "\n",
    "Discharge is required to be defined for the pre-configured river(s). These rivers must be registered in the hazard model configuration beforehand."
   ]
  },
  {
   "cell_type": "code",
   "execution_count": null,
   "id": "16",
   "metadata": {},
   "outputs": [],
   "source": [
    "# The available rivers are defined in the hazard model when creating the database.\n",
    "# You cannot add new rivers to the model in an event\n",
    "# You can only set the discharge of each given river.\n",
    "print(f\"Number of available rivers: {len(fa.database.site.sfincs.river)}\")\n",
    "\n",
    "river = fa.database.site.sfincs.river[0]\n",
    "\n",
    "discharge_constant = f.DischargeConstant(\n",
    "    river=river,\n",
    "    discharge=us.UnitfulDischarge(value=100, units=us.UnitTypesDischarge.cms)\n",
    ")\n",
    "\n",
    "# Inspect\n",
    "df = discharge_constant.to_dataframe(time_frame=time_frame)\n",
    "df.plot(\n",
    "    title=\"Constant Discharge River\",\n",
    "    xlabel=\"Time\",\n",
    "    ylabel=\"Discharge (cms)\",\n",
    "    legend=True,\n",
    "    figsize=(5, 2)\n",
    ")"
   ]
  },
  {
   "cell_type": "markdown",
   "id": "17",
   "metadata": {},
   "source": [
    "## 🧩 Step 8. Combine Forcings and Create Event\n",
    "\n",
    "All defined forcings are collected into a single dictionary, which is used to construct a HistoricalEvent.\n",
    "\n",
    "> **NOTE**: each event can only have 1 forcing of the types: `water level`, `rainfall` and `wind`. For `discharge` however, each river is required to have a forcing associated with it."
   ]
  },
  {
   "cell_type": "code",
   "execution_count": null,
   "id": "18",
   "metadata": {},
   "outputs": [],
   "source": [
    "# Create a HistoricalEvent with the forcings and time frame\n",
    "event = HistoricalEvent(\n",
    "    name=\"example_historical_event\",\n",
    "    time=time_frame,\n",
    "    forcings={\n",
    "        f.ForcingType.WATERLEVEL: [water_levels], \n",
    "        # or one of `water_levels_gauged` or `water_levels_from_offshore`,\n",
    "        f.ForcingType.RAINFALL: [rainfall],\n",
    "        f.ForcingType.WIND: [wind],\n",
    "        f.ForcingType.DISCHARGE: [discharge_constant],\n",
    "    },\n",
    ")"
   ]
  },
  {
   "cell_type": "markdown",
   "id": "19",
   "metadata": {},
   "source": [
    "## 💾 Step 9. Save the Event to a FloodAdapt Database\n",
    "\n",
    "Finally, we save the event to a FloodAdapt database."
   ]
  },
  {
   "cell_type": "code",
   "execution_count": null,
   "id": "20",
   "metadata": {},
   "outputs": [],
   "source": [
    "# Save the event to the database\n",
    "fa.save_event(event=event)"
   ]
  }
 ],
 "metadata": {
  "kernelspec": {
   "display_name": "Python 3",
   "language": "python",
   "name": "python3"
  },
  "language_info": {
   "codemirror_mode": {
    "name": "ipython",
    "version": 3
   },
   "file_extension": ".py",
   "mimetype": "text/x-python",
   "name": "python",
   "nbconvert_exporter": "python",
   "pygments_lexer": "ipython3",
   "version": "3.11.13"
  }
 },
 "nbformat": 4,
 "nbformat_minor": 5
}
