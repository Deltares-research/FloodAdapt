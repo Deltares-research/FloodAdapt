{
 "cells": [
  {
   "cell_type": "markdown",
   "id": "0",
   "metadata": {},
   "source": [
    "# 📘 Example: Creating a Hurricane Event in FloodAdapt\n",
    "\n",
    "This notebook demonstrates how to create a hurricane event using FloodAdapt. Hurricane events are valuable for controlled testing, sensitivity analysis, and understanding the behavior of flood models under simplified or hypothetical scenarios. \n",
    "\n",
    "A FloodAdapt Event consists of 2 things:\n",
    "\n",
    "- a [`TimeFrame`](../../api_ref/TimeFrame.qmd) describing the start and end time of the hazard simulation(s)\n",
    "- a collection of forcings to be applied to the hazard model(s)\n",
    "\n",
    "In this example, we construct a full `HurricaneEvent` with `water level`, `rainfall`, `wind`, and river `discharge` forcings, and then save it to a FloodAdapt database."
   ]
  },
  {
   "cell_type": "markdown",
   "id": "1",
   "metadata": {},
   "source": [
    "## ⏱️ Step 1. Setup and Imports\n",
    "\n",
    "We begin by importing the required classes and modules for constructing hurricane forcings and managing event data within the flood_adapt framework."
   ]
  },
  {
   "cell_type": "code",
   "execution_count": null,
   "id": "2",
   "metadata": {},
   "outputs": [],
   "source": [
    "import flood_adapt.objects.forcing as f\n",
    "\n",
    "from pathlib import Path\n",
    "from datetime import datetime\n",
    "\n",
    "from flood_adapt.objects import HurricaneEvent, TimeFrame\n",
    "from flood_adapt.objects.events.hurricane import TranslationModel\n",
    "from flood_adapt import unit_system as us\n",
    "from flood_adapt import FloodAdapt, Settings\n",
    "\n",
    "# Setup FloodAdapt\n",
    "DATA_DIR = Path(\"../../../_data\").resolve()\n",
    "STATIC_DATA_DIR = DATA_DIR / \"examples\" / \"static-data\"\n",
    "settings = Settings(\n",
    "    DATABASE_ROOT=DATA_DIR / \"examples\",\n",
    "    DATABASE_NAME=\"charleston_test\"\n",
    ")\n",
    "fa = FloodAdapt(database_path=settings.database_path)"
   ]
  },
  {
   "cell_type": "markdown",
   "id": "3",
   "metadata": {},
   "source": [
    "## 🗓️ Step 2. Define the Simulation Time Frame\n",
    "\n",
    "We specify a one-day time frame for the hurricane event, from January 1 to January 2, 2025. Make sure the time frame covers the tinme specified in your hurricane track file. "
   ]
  },
  {
   "cell_type": "code",
   "execution_count": null,
   "id": "4",
   "metadata": {},
   "outputs": [],
   "source": [
    "# Create an time frame for the simulation\n",
    "start_time = datetime(year=2025, month=1, day=1)\n",
    "end_time = datetime(year=2025, month=1, day=2)\n",
    "time_frame = TimeFrame(start_time=start_time, end_time=end_time)"
   ]
  },
  {
   "cell_type": "markdown",
   "id": "5",
   "metadata": {},
   "source": [
    "## 🌊 Step 3. Define Water Level Forcing\n",
    "\n",
    "Water levels for Hurricane Events are computed by taking the Hurricane Track, and generating a pressure and wind field along its track.\n",
    "\n",
    "These fields are then used as forcing inputs to the offshore simulation, which generates the storm surge to be used for the overland simulation. So for waterlevels, we only need to specify to use the offshore model as the input, denoted with `WaterlevelModel`"
   ]
  },
  {
   "cell_type": "code",
   "execution_count": null,
   "id": "6",
   "metadata": {},
   "outputs": [],
   "source": [
    "water_levels = f.WaterlevelModel()"
   ]
  },
  {
   "cell_type": "markdown",
   "id": "7",
   "metadata": {},
   "source": [
    "## 🌧️ Step 3. Obtain a hurricane track\n",
    "\n",
    "You can include an [IBTrACS](https://www.ncei.noaa.gov/products/international-best-track-archive) hurricane database with recent and historic tracks in the FloodAdapt database. You can use any track from the database and optionally shift the track north, southh, east or west. \n",
    "\n",
    ">**NOTE:** Hurricane events are only available in FloodAdapt  when you have an offshore flood hazard model in your database that simulates the surge from the hurricane track. \n"
   ]
  },
  {
   "cell_type": "code",
   "execution_count": null,
   "id": "8",
   "metadata": {},
   "outputs": [],
   "source": [
    "# Get the cyclone database\n",
    "cyclone_db = fa.database.static.get_cyclone_track_database()\n",
    "ian_index = cyclone_db.list_names().index(\"IAN\")\n",
    "\n",
    "# Not all cyclone tracks have names, in addition to duplicate names existing, so the index is required\n",
    "track = fa.get_cyclone_track_by_index(index=ian_index) \n",
    "track_file = STATIC_DATA_DIR / \"IAN.cyc\"\n",
    "track.write_track(filename=track_file, fmt=\"ddb_cyc\")\n",
    "\n",
    "# Optionally translate the cyclone track from what is defined in the file\n",
    "translation = TranslationModel(\n",
    "    eastwest_translation=us.UnitfulLength(value=3000, units=us.UnitTypesLength.meters),\n",
    "    northsouth_translation=us.UnitfulLength(value=5000, units=us.UnitTypesLength.meters),\n",
    ")"
   ]
  },
  {
   "cell_type": "markdown",
   "id": "9",
   "metadata": {},
   "source": [
    "## 🌧️ Step 4. Define Track forcings\n",
    "\n",
    "Given a Hurricane track, the wind field is always computer from the track. You can choose to model the rainfall based on a parametric model around the hurricane track or choose any iother rainfall option. "
   ]
  },
  {
   "cell_type": "code",
   "execution_count": null,
   "id": "10",
   "metadata": {},
   "outputs": [],
   "source": [
    "# We want to include the rainfall and wind from the hurricane track\n",
    "rainfall = f.RainfallTrack(path=track_file)\n",
    "wind = f.WindTrack(path=track_file)"
   ]
  },
  {
   "cell_type": "markdown",
   "id": "11",
   "metadata": {},
   "source": [
    "## 🏞️ Step 5. Define River Discharge Forcing\n",
    "\n",
    "Discharge is defined for two pre-configured rivers in this example. These rivers must be registered in the hazard model configuration beforehand, see [Database builder]."
   ]
  },
  {
   "cell_type": "code",
   "execution_count": null,
   "id": "12",
   "metadata": {},
   "outputs": [],
   "source": [
    "# The available rivers are defined in the hazard model when creating the database.\n",
    "# You cannot add new rivers to the model in an event\n",
    "# You can only set the discharge of each given river.\n",
    "river = fa.database.site.sfincs.river[0]\n",
    "\n",
    "discharge = f.DischargeConstant(\n",
    "    river=river,\n",
    "    discharge=us.UnitfulDischarge(value=100, units=us.UnitTypesDischarge.cms)\n",
    ")\n",
    "\n",
    "# Inspect\n",
    "df = discharge.to_dataframe(time_frame=time_frame)\n",
    "df.plot(title=\"Constant Discharge River\", xlabel=\"Time\", ylabel=\"Discharge (cms)\", legend=True, figsize=(5, 2))"
   ]
  },
  {
   "cell_type": "markdown",
   "id": "13",
   "metadata": {},
   "source": [
    "## 🧩 Step 6. Combine Forcings and Create hurricane Event\n",
    "\n",
    "All defined forcings are collected into a single dictionary, which is used to construct a hurricaneEvent.\n",
    "\n",
    "> **NOTE**: each event can only have 1 forcing of the types: `water level`, `rainfall` and `wind`. For `discharge` however, each river is required to have a forcing associated with it."
   ]
  },
  {
   "cell_type": "code",
   "execution_count": null,
   "id": "14",
   "metadata": {},
   "outputs": [],
   "source": [
    "# Create a hurricaneEvent with the forcings and time frame\n",
    "event = HurricaneEvent(\n",
    "    name=\"example_hurricane_event\",\n",
    "    time=time_frame,\n",
    "    forcings = {\n",
    "        f.ForcingType.WATERLEVEL: [water_levels],\n",
    "        f.ForcingType.RAINFALL: [rainfall],\n",
    "        f.ForcingType.WIND: [wind],\n",
    "        f.ForcingType.DISCHARGE: [discharge],\n",
    "    },\n",
    "    track_name=track.name,\n",
    "    hurricane_translation=translation,\n",
    ")"
   ]
  },
  {
   "cell_type": "markdown",
   "id": "15",
   "metadata": {},
   "source": [
    "## 💾 Step 7. Save the Event to a FloodAdapt Database\n",
    "\n",
    "Finally, we save the event to a FloodAdapt database."
   ]
  },
  {
   "cell_type": "code",
   "execution_count": null,
   "id": "16",
   "metadata": {},
   "outputs": [],
   "source": [
    "# Save the event to the database\n",
    "fa.save_event(event=event)"
   ]
  }
 ],
 "metadata": {
  "kernelspec": {
   "display_name": "docs",
   "language": "python",
   "name": "python3"
  },
  "language_info": {
   "codemirror_mode": {
    "name": "ipython",
    "version": 3
   },
   "file_extension": ".py",
   "mimetype": "text/x-python",
   "name": "python",
   "nbconvert_exporter": "python",
   "pygments_lexer": "ipython3",
   "version": "3.11.13"
  }
 },
 "nbformat": 4,
 "nbformat_minor": 5
}
