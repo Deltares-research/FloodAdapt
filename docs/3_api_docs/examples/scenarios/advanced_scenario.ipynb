{
 "cells": [
  {
   "cell_type": "markdown",
   "id": "0",
   "metadata": {},
   "source": [
    "# 📘 Example: Advanced Scenario"
   ]
  },
  {
   "cell_type": "markdown",
   "id": "1",
   "metadata": {},
   "source": [
    "In this notebook we demonstrate the **workflow** on how you can build an advanced **FloodAdapt scenario** in Charleston, USA, using the **API**.  "
   ]
  },
  {
   "cell_type": "markdown",
   "id": "2",
   "metadata": {
    "vscode": {
     "languageId": "plaintext"
    }
   },
   "source": [
    "In this notebook we will cover the following steps:\n",
    "\n",
    "1. Create a synthetic **event** \n",
    "2. Create a **projection** - Sea level rise (SLR)\n",
    "3. Create a **measure** and **strategy** - Seawall\n",
    "4. Create and run a **scenario**\n",
    "6. Investigate the **output**\n"
   ]
  },
  {
   "cell_type": "markdown",
   "id": "3",
   "metadata": {
    "vscode": {
     "languageId": "plaintext"
    }
   },
   "source": [
    "## Import libraries"
   ]
  },
  {
   "cell_type": "code",
   "execution_count": null,
   "id": "4",
   "metadata": {},
   "outputs": [],
   "source": [
    "# Import packages\n",
    "import geopandas as gpd\n",
    "import rioxarray as rxr\n",
    "import matplotlib.pyplot as plt\n",
    "import contextily as cx\n",
    "\n",
    "from datetime import datetime\n",
    "from pathlib import Path\n",
    "from IPython.display import HTML\n",
    "\n",
    "from flood_adapt.objects import forcing as f\n",
    "from flood_adapt.objects import (\n",
    "    HurricaneEvent,\n",
    "    TimeFrame,\n",
    "    Elevate,\n",
    "    FloodProof,\n",
    "    FloodWall,\n",
    "    GreenInfrastructure,\n",
    "    SelectionType,\n",
    "    MeasureType,\n",
    "    Projection, \n",
    "    PhysicalProjection, \n",
    "    SocioEconomicChange,\n",
    "    Scenario, \n",
    "    Strategy, \n",
    ")\n",
    "\n",
    "from flood_adapt.objects.events.hurricane import TranslationModel\n",
    "\n",
    "from flood_adapt import FloodAdapt, Settings\n",
    "from flood_adapt import unit_system as us"
   ]
  },
  {
   "cell_type": "markdown",
   "id": "5",
   "metadata": {},
   "source": [
    "## 🚀 **Step 1**. Reading-in the FloodAdapt database"
   ]
  },
  {
   "cell_type": "markdown",
   "id": "6",
   "metadata": {},
   "source": [
    "Let's start with initiating the database and FloodAdapt class. \n",
    "1. Initiate the database class [`Settings`](../../api_ref/Settings.qmd) by defining the `DATABASE_ROOT` and `DATABASE_NAME`.\n",
    "2. Initiate the [`FloodAdapt`](../../api_ref/FloodAdapt.qmd) class by parsing the `Settings().database_path`."
   ]
  },
  {
   "cell_type": "code",
   "execution_count": null,
   "id": "7",
   "metadata": {},
   "outputs": [],
   "source": [
    "# Define the static data folder\n",
    "DATA_DIR = Path(\"../../../_data\").resolve()\n",
    "STATIC_DATA_DIR = DATA_DIR / \"examples\" / \"static-data\" / \"5_Advanced_Scenario\"\n",
    "\n",
    "# Set up the settings for the database\n",
    "settings = Settings(\n",
    "    DATABASE_ROOT=DATA_DIR / \"examples\",\n",
    "    DATABASE_NAME=\"charleston_test\",\n",
    "    FIAT_BIN_PATH=DATA_DIR / \"system\" / \"win-64\" / \"fiat\" / \"fiat.exe\",\n",
    "    SFINCS_BIN_PATH=DATA_DIR / \"system\" / \"win-64\" / \"sfincs\" / \"sfincs.exe\",\n",
    "    VALIDATE_BINARIES=True,\n",
    ")\n",
    "\n",
    "# Create the FloodAdapt instance\n",
    "fa = FloodAdapt(settings.database_path)"
   ]
  },
  {
   "cell_type": "markdown",
   "id": "8",
   "metadata": {},
   "source": [
    "## 🌊 **Step 2**. Events - Create a synthetic Event"
   ]
  },
  {
   "cell_type": "markdown",
   "id": "9",
   "metadata": {},
   "source": [
    "Events in FloodAdapt are categorized into different forcings:\n",
    "1. **Wind**\n",
    "2. **Rainfall**\n",
    "3. **Discharge**\n",
    "4. **Water Level**\n",
    "\n",
    "If you want to learn more about the individual forcings in FloodAdapt, please go and read the section on [**Events**](../../../1_user_guide/events/index.qmd) in the FloodAdapt documentation.\n",
    "\n",
    "When creating an event, we need to create an [`Event`](../../api_ref/Event.qmd) object. Depending on which type of event we create, we select a different class. In this example we create a **synthetic event**, therefore we use the [`SyntheticEvent`](../../api_ref/objects/SyntheticEvent.qmd) class. \n",
    "\n",
    "To create the `SyntheticEvent` object we use the `time` attribute to define the event duration. This should be parsed as a [`TimeFrame`](../../api_ref/TimeFrame.qmd) object. In the [`forcings`](../../api_ref/IForcing.qmd) attribute we aggregated the different forcing objects in a dictionary.  \n",
    "\n",
    "In this event example we will create an event with the following `forcings`:  \n",
    "🌬️ `WindConstant`: Define a value for a constant wind speed (mps) and direction (degrees)  \n",
    "🌧️ `RainfallConstant`: Define a value for a constant rainfall (mm/hr)  \n",
    "💦 `DischargeConstant`: Define the x and y coordinates of the discharge point of the Cooper River and a value for a constant mean discharge (cfs) in the River- and Discharge model (same value)  \n",
    "🌊 `WaterlevelSynthetic SurgeModel`: Define a peak time (h), peak value in (m) and duration (d)  \n",
    "↔️ `WaterlevelSynthetic TideModel`: Define the harmonic amplitude (m), harmonic period (h) and harmonic phase (h)  \n",
    "\n",
    "For a complete guide on all the possible event options and inputs check out the [**notebooks**](../events/index.qmd) specifically on **events**.  "
   ]
  },
  {
   "cell_type": "markdown",
   "id": "10",
   "metadata": {},
   "source": [
    "### **Step 2.1**: Create a Historical Hurricane Event\n",
    "In FloodAdapt we can re-create and edit historical hurricanes and explore their impacts with altered parameters to answer community questions e.g. what would have happened if the hurrican made landfall further south/north?\n",
    "To create a hurricane we need to do he following steps:\n",
    "1. **Set a time frame**\n",
    "2. **Define the waterlevel**\n",
    "3. **Obtain the hurricane track**\n",
    "4. **Add rainfall** \n",
    "5. **Add wind**\n",
    "6. **Add River discharge**\n",
    "\n",
    "For a detailed description on how to create a hurricane event go to the [event notebooks](../events/index.qmd)."
   ]
  },
  {
   "cell_type": "code",
   "execution_count": null,
   "id": "11",
   "metadata": {},
   "outputs": [],
   "source": [
    "# Create an time frame for the simulation\n",
    "start_time = datetime(year=2025, month=1, day=1) \n",
    "end_time = datetime(year=2025, month=1, day=2)\n",
    "time_frame = TimeFrame(start_time=start_time, end_time=end_time)\n",
    "\n",
    "# Define Water Level Forcing\n",
    "water_levels = f.WaterlevelModel()\n",
    "\n",
    "# Obtain a hurricane track\n",
    "## Get the cyclone database\n",
    "cyclone_db = fa.database.static.get_cyclone_track_database()\n",
    "ian_index = cyclone_db.list_names().index(\"IAN\")\n",
    "\n",
    "## Not all cyclone tracks have names, in addition to duplicate names existing, so it is better to use the index\n",
    "track = fa.get_cyclone_track_by_index(index=ian_index) \n",
    "track_file = STATIC_DATA_DIR / \"IAN.cyc\"\n",
    "track.write_track(filename=track_file, fmt=\"ddb_cyc\")\n",
    "\n",
    "## Optionally translate the cyclone track from what is defined in the file\n",
    "translation = TranslationModel(\n",
    "    eastwest_translation=us.UnitfulLength(value=3000, units=us.UnitTypesLength.meters),\n",
    "    northsouth_translation=us.UnitfulLength(value=5000, units=us.UnitTypesLength.meters),\n",
    ")\n",
    "\n",
    "# We want to include the rainfall and wind from the hurricane track\n",
    "rainfall = f.RainfallTrack(path=track_file)\n",
    "wind = f.WindTrack(path=track_file)\n",
    "\n",
    "# The available rivers are defined in the hazard model when creating the database.\n",
    "# You cannot add new rivers to the model in an event, you can only set the discharge of each given river.\n",
    "river = fa.database.site.sfincs.river[0]\n",
    "\n",
    "discharge = f.DischargeConstant(\n",
    "    river=river,\n",
    "    discharge=us.UnitfulDischarge(value=100, units=us.UnitTypesDischarge.cms)\n",
    ")\n",
    "\n",
    "# Inspect\n",
    "df = discharge.to_dataframe(time_frame=time_frame)\n",
    "df.plot(title=\"Constant Discharge River\", xlabel=\"Time\", ylabel=\"Discharge (cms)\", legend=True, figsize=(5, 2))"
   ]
  },
  {
   "cell_type": "markdown",
   "id": "12",
   "metadata": {},
   "source": [
    "🌪️🌀  Let's put the forcings together and create the [`HurricaneEvent`](../../api_ref/HurricaneEvent.qmd) object."
   ]
  },
  {
   "cell_type": "code",
   "execution_count": null,
   "id": "13",
   "metadata": {},
   "outputs": [],
   "source": [
    "# Create a hurricaneEvent with the forcings and time frame\n",
    "event = HurricaneEvent(\n",
    "    name=\"ian_hurricane_event\",\n",
    "    time=time_frame,\n",
    "    forcings = {\n",
    "        # The keys of the dictionary are the forcing types, and the values are lists of the corresponding forcing objects.\n",
    "        f.ForcingType.WATERLEVEL: [water_levels],\n",
    "        f.ForcingType.RAINFALL: [rainfall],\n",
    "        f.ForcingType.WIND: [wind],\n",
    "        f.ForcingType.DISCHARGE: [discharge],\n",
    "    },\n",
    "    track_name=track.name,\n",
    "    hurricane_translation=translation,\n",
    ")"
   ]
  },
  {
   "cell_type": "markdown",
   "id": "14",
   "metadata": {},
   "source": [
    "### 💾 **Step 2.1**. Saving the event to the database"
   ]
  },
  {
   "cell_type": "code",
   "execution_count": null,
   "id": "15",
   "metadata": {},
   "outputs": [],
   "source": [
    "# Save the event to the database\n",
    "fa.save_event(event)"
   ]
  },
  {
   "cell_type": "markdown",
   "id": "16",
   "metadata": {},
   "source": [
    "## 📈 **Step 3**. Projections - Create a projection"
   ]
  },
  {
   "cell_type": "markdown",
   "id": "17",
   "metadata": {},
   "source": [
    "**Projections** in FloodAdapt allow us to adjust our model to future conditions such as sea level rise or/and population growth. If you want to learn more about projections in FlooAdapt, please go to the section [Projections](../../../1_user_guide/projections/index.qmd) in the FloodAdapt documentation. \n",
    "  \n",
    "The projections can be divided into two categories:\n",
    "1. 🌊 **Physical Projections**: Sea level rise, intensified precipitation, increased storm frequency\n",
    "2. 💰 **Socio economic change**: Population growth (existing built area, new development area), economic growth\n",
    "\n",
    "When creating a projection we need to create a [`Projection`](../../api_ref/Projection.qmd) object. The `PhysicalProjection` attribute is parsed as a [`PhysicalProjection`](../../api_ref/PhysicalProjection.qmd) object which captures the physical projection such as sea lvel rise. The `SocioEconomicChange` attribute is parsed as a [`SocioEconomicChange`](../../api_ref/SocioEconomicChange.qmd) object which captures the socioeconomic projection such as population growth. It's not mandatory to parse both projections. If we only want to use one of the two types of projections we can leave the other one blank (). \n",
    "\n",
    "The attributes of the `PhysicalProjection` or `SocioEconomicChange` object define the projection. In this case we parse the attribute `sea_level_rise` to the `PhysicalProjection` object and define the value in [`UnitfulLength`](../../api_ref/UnitfulLength.qmd) and the unit in [`UnitTypesLength`](../../api_ref/UnitTypesLength.qmd).\n",
    "\n",
    "To get a deeper understanding for all the possible projections and their inputs go to the [**notebook**](../projections/projections.ipynb) specifically about **projections**.\n"
   ]
  },
  {
   "cell_type": "markdown",
   "id": "18",
   "metadata": {},
   "source": [
    "In this example we will make use of **sea level rise scenarios** for a `PhysicalProjection` and explore **population growth** as `SocioEconomicChange`. \n",
    "\n",
    "First, let's get the sea level rise scenarios from the database.  \n",
    "A FloodAdapt database can include sea level rise scenarios, describing a timeline of future sea level rise relative to a reference year. If these scenarios are available in the database the get_slr_scn_names() method will return a list of the available scenarios. To get a deeper understanding on how you can create different Projections read the [**projection**](../projections/projections.ipynb) notebook."
   ]
  },
  {
   "cell_type": "code",
   "execution_count": null,
   "id": "19",
   "metadata": {},
   "outputs": [],
   "source": [
    "# Get the Scenarios\n",
    "fa.get_slr_scn_names()\n",
    "\n",
    "# Interpolate until 2050\n",
    "fa.interp_slr(slr_scenario=\"NOAA High\", year=2060)"
   ]
  },
  {
   "cell_type": "markdown",
   "id": "20",
   "metadata": {},
   "source": [
    "Use that projection to create the [`Projection`](../../api_ref/Projection.qmd) object."
   ]
  },
  {
   "cell_type": "code",
   "execution_count": null,
   "id": "21",
   "metadata": {},
   "outputs": [],
   "source": [
    "projection = Projection(\n",
    "    name=\"proj_2060\",\n",
    "    description=\"2060 projection\", \n",
    "    physical_projection= PhysicalProjection(\n",
    "        sea_level_rise=us.UnitfulLength(value=fa.interp_slr(slr_scenario=\"NOAA High\", year=2060),\n",
    "        units=us.UnitTypesLength.feet)\n",
    "    ),\n",
    ")\n",
    "projection"
   ]
  },
  {
   "cell_type": "markdown",
   "id": "22",
   "metadata": {},
   "source": [
    "Now we can create the population growth projection. To capture population growth, we will create a new development area and pass the `population_growth_existing` and `population_growth_new`. You find a detailed explanation of these input attributes in the [FloodAdapt User Guide](../../../1_user_guide/projections/socioEconomic.qmd). "
   ]
  },
  {
   "cell_type": "markdown",
   "id": "23",
   "metadata": {},
   "source": [
    "We can have a quick look at the new development area."
   ]
  },
  {
   "cell_type": "code",
   "execution_count": null,
   "id": "24",
   "metadata": {},
   "outputs": [],
   "source": [
    "new_dev = gpd.read_file(STATIC_DATA_DIR / \"new_dev_areas.geojson\")\n",
    "new_dev.explore()"
   ]
  },
  {
   "cell_type": "markdown",
   "id": "25",
   "metadata": {},
   "source": [
    "Now we can create the [`SocioEconomicChange`](../../api_ref/SocioEconomicChange.qmd) object as part of the [`Projection`](../../api_ref/Projection.qmd) object we created above. Then we are ready to save the projection."
   ]
  },
  {
   "cell_type": "code",
   "execution_count": null,
   "id": "26",
   "metadata": {},
   "outputs": [],
   "source": [
    "# Create new development area\n",
    "projection.socio_economic_change = SocioEconomicChange(\n",
    "    population_growth_existing=10,\n",
    "    economic_growth=0,\n",
    "    population_growth_new=5,\n",
    "    new_development_shapefile=str(STATIC_DATA_DIR / \"new_dev_areas.geojson\"),\n",
    "    new_development_elevation=us.UnitfulLengthRefValue(\n",
    "        value=0.5,\n",
    "        units=us.UnitTypesLength.meters,\n",
    "        type=us.VerticalReference.datum\n",
    "    )\n",
    ")"
   ]
  },
  {
   "cell_type": "markdown",
   "id": "27",
   "metadata": {},
   "source": [
    "### 💾 **Step 3.1**. Saving the projection to the database"
   ]
  },
  {
   "cell_type": "code",
   "execution_count": null,
   "id": "28",
   "metadata": {},
   "outputs": [],
   "source": [
    "# Save projection\n",
    "fa.save_projection(projection)"
   ]
  },
  {
   "cell_type": "markdown",
   "id": "29",
   "metadata": {},
   "source": [
    "## 🧱 **Step 4**. Measures - Create a measure"
   ]
  },
  {
   "cell_type": "markdown",
   "id": "30",
   "metadata": {},
   "source": [
    "**Measures** in FloodAdapt enable the user to mititgate the event impacts and investigate their efficiency on the fly.\n",
    "\n",
    "Measures can be:\n",
    "1. 💦 **Hydraulic** measures on the hazard level\n",
    "2. 🌱 **Green infrastructure** measures on the hazard level\n",
    "3. 🏠 **Impact** measures on the building level.\n",
    "\n",
    "You can read more about measures in the section [Measures](../../../1_user_guide/measures/index.qmd) in the FloodAdapt documentation. "
   ]
  },
  {
   "cell_type": "markdown",
   "id": "31",
   "metadata": {},
   "source": [
    "💦 **Hydraulic measures**  \n",
    "In this example we will create two **hydraulic measures**, a sea wall of 12ft and a water square.\n",
    "\n",
    "🧱 To create a measure we need to create a [`Measure`](../../api_ref/Measure.qmd) object. \n",
    "In the attributes we define the measure `type` object, in the first example a [`FloodWall`](../../api_ref/objectS/FloodWall.qmd) object. Additionally to the other attributes, we need to add the `elevation` value as [`UnitfulLength`](../../api_ref/UnitfulLength.qmd) and the unit as [`UnitTypesLength`](../../api_ref/UnitTypesLength.qmd) of the sea wall."
   ]
  },
  {
   "cell_type": "code",
   "execution_count": null,
   "id": "32",
   "metadata": {},
   "outputs": [],
   "source": [
    "# Create a measure object for a seawall\n",
    "seawall = FloodWall(\n",
    "    name=\"seawall_16ft\",\n",
    "    description=\"16ft Seawall\",\n",
    "    selection_type=SelectionType.polyline,\n",
    "    polygon_file=str(STATIC_DATA_DIR / \"seawall.geojson\"),\n",
    "    elevation=us.UnitfulLength(value=16, units=us.UnitTypesLength.feet)\n",
    ")"
   ]
  },
  {
   "cell_type": "markdown",
   "id": "33",
   "metadata": {},
   "source": [
    "🟦 Next, we create the [`GreenInfrastructure`](../../api_ref/GreenInfrastructure.qmd) water square object. Instead of the `elevation` attribute we need to define the `volume` of the total storage capacity of the water square. We use the [`UnitfulVolume`](../../api_ref/UnitfulVolume.qmd) object to define the value and [`unit`](../../api_ref/UnitTypesLength.qmd) of the storage capacity. Optionally we can add the `height` of the water square to validate the total storage volume. "
   ]
  },
  {
   "cell_type": "code",
   "execution_count": null,
   "id": "34",
   "metadata": {},
   "outputs": [],
   "source": [
    "# Create a measure object for a water square\n",
    "water_square = GreenInfrastructure(\n",
    "    name=\"water_square\",\n",
    "    description=\"Water Square\",\n",
    "    type=MeasureType.water_square,\n",
    "    selection_type=SelectionType.polygon,\n",
    "    polygon_file=str(STATIC_DATA_DIR / \"water_square.geojson\"),\n",
    "    volume=us.UnitfulVolume(value=43975190.31512848, units=us.UnitTypesVolume.cf),\n",
    "    height=us.UnitfulHeight(value=3, units = us.UnitTypesLength.feet)\n",
    ")"
   ]
  },
  {
   "cell_type": "markdown",
   "id": "35",
   "metadata": {},
   "source": [
    "🏠 **Impact Measure**  \n",
    "Let's add two more measures on the **impact level**. We can for example flood proof and elevate buildings in a specific area to mititgate the impact on these assets."
   ]
  },
  {
   "cell_type": "markdown",
   "id": "36",
   "metadata": {},
   "source": [
    "⬆️ When elevating buildings we need to create a [`Elevate`](../../api_ref/objectS/Elevate.qmd) object. To specify which buildings should be elevated we choose a `selection_type` and then either provide a spatial file with the boundaries of the area or select a whole aggregation area from our model. We can also specify which building types we want the measure to be applied on by defining the `property type` attribute.  we need to use the property type (e.g. residential, commercial, ALL...) that is used in our Delft-FIAT Model.  \n",
    "To capture the magnitude of elevation of the buildings we define the `elevation` attribute. Here we provide the value, unit of type [`UnitTypesLength`](../../api_ref/UnitTypesLength.qmd), and vertical reference of type [`VerticalReference`](../../api_ref/VerticalReference.qmd) as part of the [`UnitfulLengthRefValue`]() object."
   ]
  },
  {
   "cell_type": "code",
   "execution_count": null,
   "id": "37",
   "metadata": {},
   "outputs": [],
   "source": [
    "# Create a measure object for elevating buildings\n",
    "elevate = Elevate(\n",
    "    name=\"elevated_homes_1ft\",\n",
    "    description=\"Elevate residential buildings\",\n",
    "    selection_type=SelectionType.polygon,\n",
    "    polygon_file=str(STATIC_DATA_DIR / \"raise_property_polygon.geojson\"),\n",
    "    property_type=\"ALL\",\n",
    "    elevation=us.UnitfulLengthRefValue(value=1, units=us.UnitTypesLength.feet, type=us.VerticalReference.floodmap)\n",
    ")"
   ]
  },
  {
   "cell_type": "markdown",
   "id": "38",
   "metadata": {},
   "source": [
    "🦺 When we flood proof buildings we follow similar steps as when we elevate buildings. We create a [`FloodProof`](../../api_ref/FloodProof.qmd) object where we define the same attributes as in the `Elevate` object. The only difference is here is, that we do not need to provide a `vertical_reference` for the `elevation` attribute. "
   ]
  },
  {
   "cell_type": "code",
   "execution_count": null,
   "id": "39",
   "metadata": {},
   "outputs": [],
   "source": [
    "# Create a measure object for flood proofing commercial buildings\n",
    "flood_proof = FloodProof(\n",
    "    name=\"floodproof_all_commercial\",\n",
    "    description=\"Floodproofing all commercial buildings.\",\n",
    "    selection_type=SelectionType.all,\n",
    "    property_type=\"commercial\",\n",
    "    elevation=us.UnitfulLength(value=2, units=us.UnitTypesLength.feet)\n",
    ")"
   ]
  },
  {
   "cell_type": "markdown",
   "id": "40",
   "metadata": {},
   "source": [
    "### 💾 **Step 4.1**. Saving the measure to the database"
   ]
  },
  {
   "cell_type": "code",
   "execution_count": null,
   "id": "41",
   "metadata": {},
   "outputs": [],
   "source": [
    "# Save the measure\n",
    "fa.save_measure(seawall)\n",
    "fa.save_measure(water_square)\n",
    "fa.save_measure(elevate)\n",
    "fa.save_measure(flood_proof)"
   ]
  },
  {
   "cell_type": "markdown",
   "id": "42",
   "metadata": {},
   "source": [
    "## 🧩 **Step 5**. Strategies - Create a strategy"
   ]
  },
  {
   "cell_type": "markdown",
   "id": "43",
   "metadata": {},
   "source": [
    "**Strategies** are combinations **measures**. They allow us to run an test multiple measures in a single model run. \n",
    "\n",
    "To create a strategy we need to create a [`Strategy`](../../api_ref/Strategy.qmd) object. In the `measures` attribute we parse a list of all the names of the measures that we want to apply in that strategy.\n",
    "\n",
    "In this example we will create a strategy with the measures we created above, a **sea wall** of 12ft, a **water square**, **elevating buildings** 2ft above the floodmap reference in a specific area and **flood proofing commercial buildings** up to 1 ft."
   ]
  },
  {
   "cell_type": "code",
   "execution_count": null,
   "id": "44",
   "metadata": {},
   "outputs": [],
   "source": [
    "# Create a strategy object\n",
    "strategy = Strategy(\n",
    "    name=\"seawall_greening_elev_build_floodproof_com\",\n",
    "    description=\"Strategy with a seawall, water square, elevation of buildings and floodp proofing commercial buildings\",\n",
    "    measures=[seawall.name, water_square.name, elevate.name, flood_proof.name],\n",
    ")"
   ]
  },
  {
   "cell_type": "markdown",
   "id": "45",
   "metadata": {},
   "source": [
    "### 💾 **Step 5.1**. Saving the strategy to the database"
   ]
  },
  {
   "cell_type": "code",
   "execution_count": null,
   "id": "46",
   "metadata": {},
   "outputs": [],
   "source": [
    "# Save the strategy\n",
    "fa.save_strategy(strategy)"
   ]
  },
  {
   "cell_type": "markdown",
   "id": "47",
   "metadata": {},
   "source": [
    "## 🗺️ **Step 6**. Create a scenario"
   ]
  },
  {
   "cell_type": "markdown",
   "id": "48",
   "metadata": {},
   "source": [
    "We reached the final step where we can put all the building blocks together to create a complete scenario!  \n",
    "A scenario is composed of:\n",
    "\n",
    "**1. Event**  \n",
    "**2. Projection**  \n",
    "**3. Strategy (Measures)**\n",
    "\n",
    "If you want to read more about the composition of scenarios, go read the [**Scenario**](../../../1_user_guide/scenarios/index.qmd)-section of the FloodAdapt documentation. \n",
    "\n",
    "When creating a scenario we need to create a [`Scenario`](../../api_ref/Scenario.qmd) object in which we parse the name of the `event`, `projection` and `strategy` as attributes."
   ]
  },
  {
   "cell_type": "code",
   "execution_count": null,
   "id": "49",
   "metadata": {},
   "outputs": [],
   "source": [
    "# Create a scenario object\n",
    "scenario = Scenario(\n",
    "    name=\"slr_pop_growth_seawall_water_square_elev_floodproof_build\",\n",
    "    description=\"Nearshore event with SLR and population growth projection. Strategy with a seawall, water square, elevation of buildings and floodp proofing commercial buildings.\",\n",
    "    event=event.name,\n",
    "    projection=projection.name,\n",
    "    strategy=strategy.name,\n",
    ")"
   ]
  },
  {
   "cell_type": "markdown",
   "id": "50",
   "metadata": {},
   "source": [
    "### 💾 **Step 6.1**. Saving the scenario to the database"
   ]
  },
  {
   "cell_type": "code",
   "execution_count": null,
   "id": "51",
   "metadata": {},
   "outputs": [],
   "source": [
    "# Save the scenario\n",
    "fa.save_scenario(scenario)"
   ]
  },
  {
   "cell_type": "markdown",
   "id": "52",
   "metadata": {},
   "source": [
    "## 🏃‍♀️ **Final step**: Run a scenario\n",
    "\n",
    "We are ready to **run** the scenario! Simply parse the `scenario.name` into the function `run_scenario`."
   ]
  },
  {
   "cell_type": "code",
   "execution_count": null,
   "id": "53",
   "metadata": {},
   "outputs": [],
   "source": [
    "# Run the scenario\n",
    "fa.run_scenario(scenario.name)"
   ]
  },
  {
   "cell_type": "markdown",
   "id": "54",
   "metadata": {},
   "source": [
    "## **Finished!** \n",
    "**Congratulations** you created and ran your first FloodAdapt scenario!"
   ]
  },
  {
   "cell_type": "markdown",
   "id": "55",
   "metadata": {},
   "source": [
    "## **Output**: 🕵️‍♀️ Let's inspect the output"
   ]
  },
  {
   "cell_type": "markdown",
   "id": "56",
   "metadata": {},
   "source": [
    "#### **1. Output files**\n",
    "In your scenario output folder you should see the following files:\n",
    "- **Flooding**: Folder\n",
    "- **Impacts**: Folder\n",
    "- **finished.txt**: text file\n",
    "- **Infometrics_\"*scenario_name*\".csv**: csv file of the overall infometrics\n",
    "- **Infometrics_\"*scenario_name*\"_\"*aggregation_layer*\".csv**: csv file  of the aggregated areas. You have one file per aggregation level. In this example we have two files. \n",
    "- **logfile_\"*scenario_name*\".log**: The log of the scenario run\n",
    "- **\"*scenario_name*\"_metrics.html**: A metric file of your scenario output\n",
    "\n",
    "The figure below presents a visual overview of all the output files that should be in your database after running the scenario\n",
    "<div>\n",
    "<img src=\"../_static/images/output_folder_event.png\" width=\"500\"/>\n",
    "</div>"
   ]
  },
  {
   "cell_type": "markdown",
   "id": "57",
   "metadata": {},
   "source": [
    "#### **2. Floodmap** - Inspect the floodmap\n",
    "\n",
    "We can open and inspect the floodmap geotiff."
   ]
  },
  {
   "cell_type": "code",
   "execution_count": null,
   "id": "58",
   "metadata": {},
   "outputs": [],
   "source": [
    "# Plot Floodmap geotiff\n",
    "geotiff_map = fa.get_flood_map_geotiff(scenario.name)\n",
    "raster = rxr.open_rasterio(geotiff_map, masked=True)\n",
    "\n",
    "fig, ax = plt.subplots(figsize=(10, 10))\n",
    "raster.plot(\n",
    "    ax=ax,\n",
    "    cmap=\"Blues\",\n",
    "    cbar_kwargs={\"label\": \"Flood Depth (feet)\"}\n",
    ")\n",
    "ax.set_title(f\"Flood Map - Scenario: {scenario.name}\")\n",
    "cx.add_basemap(ax, crs=raster.rio.crs)\n",
    "plt.show()"
   ]
  },
  {
   "cell_type": "markdown",
   "id": "59",
   "metadata": {},
   "source": [
    "#### **3. Economic Impacts** - Inspect the economic impacts on the building level and aggregated\n",
    "\n",
    "We can plot the economic impacts on the building level and on the aggregated level."
   ]
  },
  {
   "cell_type": "code",
   "execution_count": null,
   "id": "60",
   "metadata": {},
   "outputs": [],
   "source": [
    "gdf_building_impacts = fa.get_building_footprint_impacts(scenario.name)\n",
    "\n",
    "# Dynamic map for building impacts\n",
    "gdf_building_impacts.explore(\n",
    "    column=\"Total Damage\",\n",
    "    cmap=\"Reds\",\n",
    "    legend=True,\n",
    "    vmin=0,\n",
    "    vmax=60000,\n",
    "    legend_kwds={\"caption\": \"Total Damages ($) Buildings\"}\n",
    ")\n"
   ]
  },
  {
   "cell_type": "code",
   "execution_count": null,
   "id": "61",
   "metadata": {},
   "outputs": [],
   "source": [
    "## Aggregated Impacts\n",
    "gdf_impacts_aggr = fa.get_aggregated_impacts(scenario.name)\n",
    "gdf_aggr_lvl1 = gdf_impacts_aggr[\"Subdivision\"]\n",
    "\n",
    "# Reproject buildings crs to Web Mercator\n",
    "gdf_aggr_lvl1 = gdf_aggr_lvl1.to_crs(epsg=3857)\n",
    "\n",
    "# Dynamic map for aggregated impacts\n",
    "gdf_aggr_lvl1.explore(\n",
    "    column=\"TotalDamageEvent\",\n",
    "    cmap=\"Reds\",\n",
    "    legend=True,\n",
    "    vmin=0,\n",
    "    vmax=10000000,\n",
    "    edgecolor=\"k\",\n",
    "    legend_kwds={\"caption\": \"Total Damages ($) per aggregation area\"}\n",
    ")"
   ]
  },
  {
   "cell_type": "markdown",
   "id": "62",
   "metadata": {},
   "source": [
    "#### **4. Infometrics & Infographics**\n",
    "Which **infometrics** and **infographics** to generate can be defined in the infometrics and infographics and configuration file in your database *../Database charleston_full/static/templates/infometrics/*, *../Database/charleston_full/static/templates/infographics/\\\"xyz\".toml*, respectively.\n",
    "\n",
    "The figure below shows the infographics of the scenario we created above."
   ]
  },
  {
   "cell_type": "code",
   "execution_count": null,
   "id": "63",
   "metadata": {},
   "outputs": [],
   "source": [
    "# Display HTML infographics\n",
    "fn = fa.get_infographic(scenario.name)\n",
    "HTML(filename=fn)"
   ]
  }
 ],
 "metadata": {
  "kernelspec": {
   "display_name": "docs",
   "language": "python",
   "name": "python3"
  },
  "language_info": {
   "codemirror_mode": {
    "name": "ipython",
    "version": 3
   },
   "file_extension": ".py",
   "mimetype": "text/x-python",
   "name": "python",
   "nbconvert_exporter": "python",
   "pygments_lexer": "ipython3",
   "version": "3.11.13"
  }
 },
 "nbformat": 4,
 "nbformat_minor": 5
}
