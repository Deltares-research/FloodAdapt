{
 "cells": [
  {
   "cell_type": "markdown",
   "id": "294d7e71",
   "metadata": {},
   "source": [
    "# Database Builder Example - Charleston, USA"
   ]
  },
  {
   "cell_type": "markdown",
   "id": "bb431d9a",
   "metadata": {},
   "source": [
    "In this notebook we are going to create a complete **database** for our FloodAdapt model in Charleston, USA. \n",
    "To do so we use the in FloodAdapt integrated **Database builder**, which allows for a quick and easy database creation!\n",
    "We presume that you have already created a functioning [**Delft-FIAT**](https://github.com/Deltares/Delft-FIAT) and [**SFINCS model**](https://github.com/Deltares/SFINCS) and we'll go from there. \n"
   ]
  },
  {
   "cell_type": "markdown",
   "id": "97ce53f4",
   "metadata": {},
   "source": [
    "## **Step 0**: Import packages"
   ]
  },
  {
   "cell_type": "code",
   "execution_count": null,
   "id": "92656339",
   "metadata": {},
   "outputs": [],
   "source": [
    "# Import packages\n",
    "import geopandas as gpd\n",
    "import matplotlib.pyplot as plt\n",
    "import os\n",
    "from pathlib import Path\n",
    "from shapely.geometry import Polygon\n",
    "import toml\n",
    "\n",
    "import flood_adapt.database_builder.database_builder as db\n",
    "import flood_adapt.adapter.fiat_adapter as fiat\n",
    "from flood_adapt import unit_system as us\n",
    "\n",
    "%matplotlib inline"
   ]
  },
  {
   "cell_type": "markdown",
   "id": "9349eb11",
   "metadata": {},
   "source": [
    "## **Step 1**: Explore the Delft-FIAT model"
   ]
  },
  {
   "cell_type": "markdown",
   "id": "617bf3b3",
   "metadata": {},
   "source": [
    "The study area is in **Charleston, USA**, a coastal city on the East Coast of the United States. \n",
    "So, let's first inspect the exposure data in the **Delft-FIAT model** to get an understanding of our study area.  \n",
    "\n",
    "We initiate the **FiatAdapter** in FloodAdapt with the model root of the Delft-FIAT model and explore the exposure data in the map."
   ]
  },
  {
   "cell_type": "code",
   "execution_count": null,
   "id": "aa7c1830",
   "metadata": {},
   "outputs": [],
   "source": [
    "# Initiate the FiatAdapter class from FloodAdapt and plot the Fiat model. \n",
    "root = Path(r\".\\data\\nb1_database_builder\") # The root folder of this example\n",
    "fn_fiat = Path(root / \"fiat\") \n",
    "fa = fiat.FiatAdapter(\n",
    "    model_root =  fn_fiat\n",
    "    )\n",
    "\n",
    "# Get the geodataframe with exposure data\n",
    "gdf = fa._model.exposure.get_full_gdf(fa._model.exposure.exposure_db)\n",
    "\n",
    "# Plot the region and the secondary_object_types of the exposure data\n",
    "m = gdf.explore(column=\"secondary_object_type\", name=\"Exposure types\")\n",
    "m"
   ]
  },
  {
   "cell_type": "markdown",
   "id": "e2750e9d",
   "metadata": {},
   "source": [
    "## **Step 2**: Database Builder Configuration"
   ]
  },
  {
   "cell_type": "markdown",
   "id": "19dc1ac9",
   "metadata": {},
   "source": [
    "The database builder needs simply a **configuration file** as **input** to create the database. The configuration file is a simple text file and can be created manually. In the next steps we will show you how you can create this configuration file. \n",
    "So, now that we got an understanding of our study area and our exposure data we are ready to build our base **configuration file** for the **DatabaseBuilder**!\n",
    "\n",
    "The configuration file consists of:\n",
    "1. **Basic model parameters** to create a simple FloodAdapt database.\n",
    "2. **Advance model parameters** to create a more complex FloodAdapt database.\n",
    "\n",
    "In this step we will look at the basic model parameters.  \n",
    "- **name**: The name of the database to be created\n",
    "- **database_path**: The path where to save the database (if not provided, a database folder will be created at the location of this condig file)\n",
    "- **sfincs**: The path to the overland SFINCS model\n",
    "- **fiat**: The  path to the FIAT model\n",
    "- **unit_system**: metric or imperial  \n",
    "* [gui] The values below define the GUI variables. They are used as the maximum values to scale the mapbox layers. Same units as in the models should be used. You can adjust the values, so that they are sensible with respect to your data.\n",
    "- **max_flood_depth** = 5 \n",
    "- **max_aggr_dmg** = 10000000\n",
    "- **max_footprint_dmg** = 250000\n",
    "- **max_benefits** = 50000000\n",
    "\n",
    "You can either create the configuration file manually with a dictionary or use the integrated classes in FloodAdapt for a more streamlined approach. \n",
    "We show you both options below."
   ]
  },
  {
   "cell_type": "markdown",
   "id": "48e32de2",
   "metadata": {},
   "source": [
    "### **Step 2a**: Create a configuration file from a dictionary"
   ]
  },
  {
   "cell_type": "code",
   "execution_count": null,
   "id": "b905e34c",
   "metadata": {},
   "outputs": [],
   "source": [
    "# Create the configuration file for the database builder for a simple FloodAdapt database. \n",
    "\n",
    "# all paths should be provided with forward slashes (/)\n",
    "config = {\n",
    "\"name\": \"charleston_example1\",\n",
    "\"database_path\": \"Database\",\n",
    "\"sfincs_overland\" : { \n",
    "    \"name\":\"../../../data/nb1_database_builder/sfincs\",\n",
    "    \"reference\":\"MSL\"\n",
    "    },\n",
    "\"fiat\" : \"../../../data/nb1_database_builder/fiat\",\n",
    "\"unit_system\" :\"imperial\",\n",
    "\"gui\": {\n",
    "\"max_flood_depth\": 5,\n",
    "\"max_aggr_dmg\" : 10000000,\n",
    "\"max_footprint_dmg\": 250000,\n",
    "\"max_benefits\" : 50000000}\n",
    "}\n",
    "\n",
    "# Save the configuration file\n",
    "with open(\"./data/nb1_database_builder/output/db_config.toml\", \"w\") as f:\n",
    "    toml.dump(config, f)"
   ]
  },
  {
   "cell_type": "markdown",
   "id": "0cef3211",
   "metadata": {},
   "source": [
    "### **Step 2b**: Create a configuration file from the Database Builder classes"
   ]
  },
  {
   "cell_type": "markdown",
   "id": "b481abbc",
   "metadata": {},
   "source": [
    "**Important!**  \n",
    "The water level reference should be set to the reference of your DEM. You can create a reference system manually as shown below or fetch this information from a close-by tide gauge. This will be shown in the more advanced options. \n"
   ]
  },
  {
   "cell_type": "code",
   "execution_count": null,
   "id": "83decef7",
   "metadata": {},
   "outputs": [],
   "source": [
    "config_model = db.ConfigModel(\n",
    "    name=\"charleston_example2\",\n",
    "    database_path= str((root /\"output\"/\"Database\").absolute()),\n",
    "    unit_system= db.UnitSystems.imperial,\n",
    "    gui=db.GuiConfigModel(\n",
    "        max_flood_depth=5,\n",
    "        max_aggr_dmg=1e6,\n",
    "        max_footprint_dmg=250000,\n",
    "        max_benefits=5e6,\n",
    "    ),\n",
    "    sfincs_overland=db.FloodModel(\n",
    "        name=str((root / \"sfincs\").absolute()),\n",
    "        reference=\"MSL\",\n",
    "    ),\n",
    "    references=db.WaterlevelReferenceModel(\n",
    "        reference=\"MSL\",\n",
    "        datums=[\n",
    "            db.DatumModel(name=\"MSL\", height=us.UnitfulLength(value=0, units=us.UnitTypesLength.meters)),\n",
    "            db.DatumModel(name=\"NAVD88\", height=us.UnitfulLength(value=1, units=us.UnitTypesLength.meters))\n",
    "        ]\n",
    "    ),\n",
    "    fiat=str((root / \"fiat\").absolute()),\n",
    ")"
   ]
  },
  {
   "cell_type": "code",
   "execution_count": null,
   "id": "6738b6ca",
   "metadata": {},
   "outputs": [],
   "source": [
    "config_model"
   ]
  },
  {
   "cell_type": "markdown",
   "id": "c9912620",
   "metadata": {},
   "source": [
    "## **Step 3**: Run the Database Builder"
   ]
  },
  {
   "cell_type": "markdown",
   "id": "ed6f119f",
   "metadata": {},
   "source": [
    "We are ready to run the Database Builder with the configuration file we just created above."
   ]
  },
  {
   "cell_type": "code",
   "execution_count": null,
   "id": "05988d0d",
   "metadata": {},
   "outputs": [],
   "source": [
    "config_path = root / \"output\" / \"db_config.toml\"\n",
    "config = db.ConfigModel.read(config_path)\n",
    "dbs = db.DatabaseBuilder(config)\n",
    "dbs.build(overwrite = True)"
   ]
  },
  {
   "cell_type": "code",
   "execution_count": null,
   "id": "9f78f9c2",
   "metadata": {},
   "outputs": [],
   "source": [
    "db_build = db.DatabaseBuilder(config_model)\n",
    "db_build.build(overwrite= True)"
   ]
  }
 ],
 "metadata": {
  "kernelspec": {
   "display_name": "fa_dev",
   "language": "python",
   "name": "python3"
  },
  "language_info": {
   "codemirror_mode": {
    "name": "ipython",
    "version": 3
   },
   "file_extension": ".py",
   "mimetype": "text/x-python",
   "name": "python",
   "nbconvert_exporter": "python",
   "pygments_lexer": "ipython3",
   "version": "3.10.16"
  }
 },
 "nbformat": 4,
 "nbformat_minor": 5
}
